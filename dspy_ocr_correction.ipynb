{
  "cells": [
    {
      "cell_type": "markdown",
      "metadata": {
        "id": "view-in-github",
        "colab_type": "text"
      },
      "source": [
        "<a href=\"https://colab.research.google.com/github/TurkuNLP/textual-data-analysis-course/blob/main/dspy_ocr_correction.ipynb\" target=\"_parent\"><img src=\"https://colab.research.google.com/assets/colab-badge.svg\" alt=\"Open In Colab\"/></a>"
      ]
    },
    {
      "cell_type": "markdown",
      "id": "d5511a26-789e-4b44-a690-cb61e8ecd34e",
      "metadata": {
        "id": "d5511a26-789e-4b44-a690-cb61e8ecd34e"
      },
      "source": [
        "# DSPy\n",
        "\n",
        "* A small demonstration on the OCR post-correction task\n",
        "* On a dataset of 18th century English\n",
        "* Main metric: character error rate\n",
        "* Absolute or relative (relative measures improvement compared to baseline)"
      ]
    },
    {
      "cell_type": "markdown",
      "id": "ee6fc729-dbc8-43fb-8491-fe267bb04624",
      "metadata": {
        "id": "ee6fc729-dbc8-43fb-8491-fe267bb04624"
      },
      "source": [
        "# Config DSPy"
      ]
    },
    {
      "cell_type": "code",
      "execution_count": null,
      "id": "aa3a97f9-d637-4b84-bd3e-40a3f7e55638",
      "metadata": {
        "id": "aa3a97f9-d637-4b84-bd3e-40a3f7e55638"
      },
      "outputs": [],
      "source": [
        "import dspy\n",
        "import unicodedata\n",
        "import re\n",
        "import json\n",
        "import random\n",
        "\n",
        "#api_keys.py has a GPT4o_API_KEY variable\n",
        "from api_keys import *\n",
        "\n",
        "lm = dspy.LM('openai/gpt-4o-mini', api_key=GPT4o_API_KEY)\n",
        "dspy.configure(lm=lm)"
      ]
    },
    {
      "cell_type": "markdown",
      "id": "5b668ed9-9c95-40fc-8485-137407310cf8",
      "metadata": {
        "id": "5b668ed9-9c95-40fc-8485-137407310cf8"
      },
      "source": [
        "# Evaluation\n",
        "\n",
        "* Normalize the text (not to get overwhelmed by whitespace and newlines)\n",
        "* CER is a reasonable character error rate\n",
        "* relative rate is often used"
      ]
    },
    {
      "cell_type": "code",
      "execution_count": null,
      "id": "18fc88d9-eba9-47d1-b8ee-5b67b59b852e",
      "metadata": {
        "id": "18fc88d9-eba9-47d1-b8ee-5b67b59b852e"
      },
      "outputs": [],
      "source": [
        "def norm(s):\n",
        "    \"\"\"Basic text normalization function, removes unicode crud, also newlines etc.\"\"\"\n",
        "    s=unicodedata.normalize(\"NFKC\",s)\n",
        "    s=re.sub(r\"\\s+\",\" \",s)\n",
        "    return s\n",
        "\n",
        "def eval_cer(reference,system_out):\n",
        "    \"\"\"Character error rate evaluation.\"\"\"\n",
        "    import evaluate #This *must* be loaded here because of parallel processing, otherwise you get nasty crashes, took me forever to figure\n",
        "    cer_metric=evaluate.load(\"cer\")\n",
        "\n",
        "    # We need to avoid any danger here, so I make damn sure I never return anything <=0 or >1\n",
        "    if len(reference)<10 or len(system_out)<10:\n",
        "        m_val=0.001 #Too short, I return some safety nonzero value\n",
        "    else:\n",
        "        try:\n",
        "            c=cer_metric.compute(predictions=[system_out],references=[reference])\n",
        "        except:\n",
        "            c=0.001 #...safety value in case something crashes\n",
        "        c=min(c,1.0)\n",
        "        c=max(c,0.001) #force c into (0,1] interval\n",
        "        m_val=(1.0-c) #Make c be \"bigger is better\" (CER is smaller is better)\n",
        "    return m_val\n",
        "\n",
        "def eval_cer_absolute(reference,system_out,trace=None):\n",
        "    m_val=eval_cer(reference.denoised_text,system_out.denoised_text)\n",
        "    if trace is None:\n",
        "        return m_val #used in eval, should return a float\n",
        "    else:\n",
        "        return m_val>0.9 #used to select few shot examples, should return True/False\n",
        "\n",
        "def eval_cer_relative(reference,system_out,trace=None):\n",
        "    m_val=eval_cer(reference.denoised_text,system_out.denoised_text) #what did we get?\n",
        "    ref_val=eval_cer(reference.denoised_text,reference.noised_text) #what was there to be had?\n",
        "    #print(\"M:\",m_val,\"R:\",ref_val)\n",
        "    relative_val=(m_val-ref_val)/(1-ref_val)\n",
        "    relative_val=min(1.0,relative_val)\n",
        "    relative_val=max(0.001,relative_val)\n",
        "    if trace is None:\n",
        "        return relative_val\n",
        "    else:\n",
        "        return relative_val > 0.2 #let's call the example good if it fixes more than 20% of what was fixable"
      ]
    },
    {
      "cell_type": "markdown",
      "id": "2a3489e1-9ab9-4c50-9666-4fec72a4d2f6",
      "metadata": {
        "id": "2a3489e1-9ab9-4c50-9666-4fec72a4d2f6"
      },
      "source": [
        "# Load data\n",
        "\n",
        "* DSPy has own classes for data\n",
        "* `Example(field1=...,field2=...,field3=...).with_inputs([\"field1\",\"field3\",...])`"
      ]
    },
    {
      "cell_type": "code",
      "execution_count": null,
      "id": "4619a702-f524-4f1b-a01d-74537ded4fee",
      "metadata": {
        "id": "4619a702-f524-4f1b-a01d-74537ded4fee"
      },
      "outputs": [],
      "source": [
        "def read_data(fname):\n",
        "    \"\"\"OCR denoise data comes as dictionaries with \"input\" and \"output\" keys\"\"\"\n",
        "    with open(fname) as f:\n",
        "        samples=[json.loads(l) for l in f.readlines()]\n",
        "        samples=[dspy.Example(noised_text=norm(s[\"input\"]), denoised_text=norm(s[\"output\"])).with_inputs(\"noised_text\") for s in samples]\n",
        "    random.shuffle(samples)\n",
        "    return samples\n",
        "\n",
        "samples=read_data(\"/home/ginter/ocr-postcorrection-data/English/SEGMENTED_DOCUMENTS/en_dev_sample200.jsonl\")"
      ]
    },
    {
      "cell_type": "markdown",
      "id": "8da39a8d-7c93-4144-83ea-69be54a1f1d5",
      "metadata": {
        "id": "8da39a8d-7c93-4144-83ea-69be54a1f1d5"
      },
      "source": [
        "# Simplest DSPy program possible"
      ]
    },
    {
      "cell_type": "code",
      "execution_count": null,
      "id": "df753e6c-9d9b-4f66-9a9d-d4e86b442b82",
      "metadata": {
        "id": "df753e6c-9d9b-4f66-9a9d-d4e86b442b82"
      },
      "outputs": [],
      "source": [
        "program=dspy.Predict(\"noised_text: str -> denoised_text: str\")"
      ]
    },
    {
      "cell_type": "code",
      "execution_count": null,
      "id": "391221dd-f80c-42b2-95ef-4665c076b904",
      "metadata": {
        "id": "391221dd-f80c-42b2-95ef-4665c076b904",
        "outputId": "d3c55ded-cfd8-4821-96e7-61041229e2ef"
      },
      "outputs": [
        {
          "name": "stdout",
          "output_type": "stream",
          "text": [
            "**** Evaluate the data ****\n",
            "M: 0.8442211055276382 R: 0.8726968174204355                                                                                                                                                                           | 0/10 [00:00<?, ?it/s]\n",
            "M: 0.9901960784313726 R: 0.9786096256684492████████████▋                                                                                                                                                      | 1/10 [00:02<00:23,  2.63s/it]\n",
            "M: 0.9304029304029304 R: 0.9496336996336996█████████████████████████████▍                                                                                                                                     | 2/10 [00:05<00:22,  2.77s/it]\n",
            "M: 0.9758364312267658 R: 0.9628252788104089██████████████████████████████████████████████                                                                                                                     | 3/10 [00:07<00:18,  2.61s/it]\n",
            "M: 0.9911426040744021 R: 0.9796279893711249██████████████████████████████████████████████████████████████▊                                                                                                    | 4/10 [00:10<00:15,  2.61s/it]\n",
            "M: 0.9220404234841193 R: 0.9547641963426372████████████████████████████████████████████████████████████████████████████████                                                                                   | 5/10 [00:17<00:20,  4.01s/it]\n",
            "M: 0.967381174277726 R: 0.9273066169617894█████████████████████████████████████████████████████████████████████████████████████████████████▌                                                                  | 6/10 [00:19<00:13,  3.49s/it]\n",
            "M: 0.9762557077625571 R: 0.9744292237442922█████████████████████████████████████████████████████████████████████████████████████████████████████████████████▏                                                 | 7/10 [00:22<00:09,  3.29s/it]\n",
            "M: 0.9338235294117647 R: 0.9742647058823529█████████████████████████████████████████████████████████████████████████████████████████████████████████████████████████████████▊                                 | 8/10 [00:31<00:10,  5.10s/it]\n",
            "M: 0.9887445887445887 R: 0.9549783549783549██████████████████████████████████████████████████████████████████████████████████████████████████████████████████████████████████████████████████▍                | 9/10 [00:34<00:04,  4.35s/it]\n",
            "Average Metric: 2.83 / 10 (28.3%): 100%|█████████████████████████████████████████████████████████████████████████████████████████████████████████████████████████████████████████████████████████████████████| 10/10 [00:36<00:00,  3.65s/it]"
          ]
        },
        {
          "name": "stderr",
          "output_type": "stream",
          "text": [
            "2025/02/22 22:42:41 INFO dspy.evaluate.evaluate: Average Metric: 2.8335946806816383 / 10 (28.3%)\n"
          ]
        },
        {
          "name": "stdout",
          "output_type": "stream",
          "text": [
            "\n"
          ]
        },
        {
          "data": {
            "text/html": [
              "<div>\n",
              "<style scoped>\n",
              "    .dataframe tbody tr th:only-of-type {\n",
              "        vertical-align: middle;\n",
              "    }\n",
              "\n",
              "    .dataframe tbody tr th {\n",
              "        vertical-align: top;\n",
              "    }\n",
              "\n",
              "    .dataframe thead th {\n",
              "        text-align: right;\n",
              "    }\n",
              "</style>\n",
              "<table border=\"1\" class=\"dataframe\">\n",
              "  <thead>\n",
              "    <tr style=\"text-align: right;\">\n",
              "      <th></th>\n",
              "      <th>noised_text</th>\n",
              "      <th>example_denoised_text</th>\n",
              "      <th>pred_denoised_text</th>\n",
              "      <th>eval_cer_relative</th>\n",
              "    </tr>\n",
              "  </thead>\n",
              "  <tbody>\n",
              "    <tr>\n",
              "      <th>0</th>\n",
              "      <td>of Bothwel; 2dly, toThomas x489' lord Erskinc, ancellor of the ear...</td>\n",
              "      <td>of Bothwel; 2dly,Ibid. ad. ann. 1489. to Thomas lord Erskine, ance...</td>\n",
              "      <td>of Bothwell; secondly, to Thomas lord Erskine, chancellor of the e...</td>\n",
              "      <td>✔️ [0.001]</td>\n",
              "    </tr>\n",
              "    <tr>\n",
              "      <th>1</th>\n",
              "      <td>observing that, although he feels it impofiible to marry the lady ...</td>\n",
              "      <td>observing that, although he feels it impossible to marry the lady ...</td>\n",
              "      <td>observing that, although he feels it impossible to marry the lady ...</td>\n",
              "      <td>✔️ [0.542]</td>\n",
              "    </tr>\n",
              "    <tr>\n",
              "      <th>2</th>\n",
              "      <td>C 4 3 ) EngliJ, St. George's Eve; all which fignfy one and the fam...</td>\n",
              "      <td>English, St. George's Eve; all which signify one and the same thin...</td>\n",
              "      <td>C 4 3) English, St. George's Eve; all of which signify one and the...</td>\n",
              "      <td>✔️ [0.001]</td>\n",
              "    </tr>\n",
              "    <tr>\n",
              "      <th>3</th>\n",
              "      <td>Till left her lelplefi fate to moarre, rTglkded, lo-aing andforlor...</td>\n",
              "      <td>Till left her helpless state to mourn, Neglected, loving and forlo...</td>\n",
              "      <td>Till left her helpless fate to mourn, troubled, longing and forlor...</td>\n",
              "      <td>✔️ [0.350]</td>\n",
              "    </tr>\n",
              "    <tr>\n",
              "      <th>4</th>\n",
              "      <td>wheeled upon the rear of the pursuers, and made great havock among...</td>\n",
              "      <td>wheeled upon the rear of the pursuers, and made great havock among...</td>\n",
              "      <td>wheeled upon the rear of the pursuers, and made great havoc among ...</td>\n",
              "      <td>✔️ [0.565]</td>\n",
              "    </tr>\n",
              "  </tbody>\n",
              "</table>\n",
              "</div>"
            ],
            "text/plain": [
              "                                                             noised_text  \\\n",
              "0  of Bothwel; 2dly, toThomas x489' lord Erskinc, ancellor of the ear...   \n",
              "1  observing that, although he feels it impofiible to marry the lady ...   \n",
              "2  C 4 3 ) EngliJ, St. George's Eve; all which fignfy one and the fam...   \n",
              "3  Till left her lelplefi fate to moarre, rTglkded, lo-aing andforlor...   \n",
              "4  wheeled upon the rear of the pursuers, and made great havock among...   \n",
              "\n",
              "                                                   example_denoised_text  \\\n",
              "0  of Bothwel; 2dly,Ibid. ad. ann. 1489. to Thomas lord Erskine, ance...   \n",
              "1  observing that, although he feels it impossible to marry the lady ...   \n",
              "2  English, St. George's Eve; all which signify one and the same thin...   \n",
              "3  Till left her helpless state to mourn, Neglected, loving and forlo...   \n",
              "4  wheeled upon the rear of the pursuers, and made great havock among...   \n",
              "\n",
              "                                                      pred_denoised_text  \\\n",
              "0  of Bothwell; secondly, to Thomas lord Erskine, chancellor of the e...   \n",
              "1  observing that, although he feels it impossible to marry the lady ...   \n",
              "2  C 4 3) English, St. George's Eve; all of which signify one and the...   \n",
              "3  Till left her helpless fate to mourn, troubled, longing and forlor...   \n",
              "4  wheeled upon the rear of the pursuers, and made great havoc among ...   \n",
              "\n",
              "  eval_cer_relative  \n",
              "0        ✔️ [0.001]  \n",
              "1        ✔️ [0.542]  \n",
              "2        ✔️ [0.001]  \n",
              "3        ✔️ [0.350]  \n",
              "4        ✔️ [0.565]  "
            ]
          },
          "metadata": {},
          "output_type": "display_data"
        },
        {
          "data": {
            "text/html": [
              "\n",
              "                <div style='\n",
              "                    text-align: center;\n",
              "                    font-size: 16px;\n",
              "                    font-weight: bold;\n",
              "                    color: #555;\n",
              "                    margin: 10px 0;'>\n",
              "                    ... 5 more rows not displayed ...\n",
              "                </div>\n",
              "                "
            ],
            "text/plain": [
              "<IPython.core.display.HTML object>"
            ]
          },
          "metadata": {},
          "output_type": "display_data"
        },
        {
          "data": {
            "text/plain": [
              "28.34"
            ]
          },
          "execution_count": 23,
          "metadata": {},
          "output_type": "execute_result"
        }
      ],
      "source": [
        "print(\"**** Evaluate the data ****\")\n",
        "ev=dspy.evaluate.Evaluate(devset=samples[:10],display_progress=True,display_table=5)\n",
        "ev(program,metric=eval_cer_relative)"
      ]
    },
    {
      "cell_type": "code",
      "execution_count": null,
      "id": "b451cd47-18f3-4f0b-ae1b-0c9d9c2fed8b",
      "metadata": {
        "scrolled": true,
        "id": "b451cd47-18f3-4f0b-ae1b-0c9d9c2fed8b",
        "outputId": "a955ecf2-8cee-4343-980e-585e124242e9"
      },
      "outputs": [
        {
          "name": "stderr",
          "output_type": "stream",
          "text": [
            "2025/02/22 22:48:06 INFO dspy.teleprompt.mipro_optimizer_v2: \n",
            "RUNNING WITH THE FOLLOWING MEDIUM AUTO RUN SETTINGS:\n",
            "num_trials: 25\n",
            "minibatch: True\n",
            "num_candidates: 19\n",
            "valset size: 60\n",
            "\n"
          ]
        },
        {
          "name": "stdin",
          "output_type": "stream",
          "text": [
            "\u001b[93m\u001b[1mProjected Language Model (LM) Calls\u001b[0m\n",
            "\n",
            "Based on the parameters you have set, the maximum number of LM calls is projected as follows:\n",
            "\n",
            "\u001b[93m- Prompt Generation: \u001b[94m\u001b[1m10\u001b[0m\u001b[93m data summarizer calls + \u001b[94m\u001b[1m19\u001b[0m\u001b[93m * \u001b[94m\u001b[1m1\u001b[0m\u001b[93m lm calls in program + (\u001b[94m\u001b[1m2\u001b[0m\u001b[93m) lm calls in program-aware proposer = \u001b[94m\u001b[1m31\u001b[0m\u001b[93m prompt model calls\u001b[0m\n",
            "\u001b[93m- Program Evaluation: \u001b[94m\u001b[1m25\u001b[0m\u001b[93m examples in minibatch * \u001b[94m\u001b[1m25\u001b[0m\u001b[93m batches + \u001b[94m\u001b[1m60\u001b[0m\u001b[93m examples in val set * \u001b[94m\u001b[1m3\u001b[0m\u001b[93m full evals = \u001b[94m\u001b[1m805\u001b[0m\u001b[93m LM Program calls\u001b[0m\n",
            "\n",
            "\u001b[93m\u001b[1mEstimated Cost Calculation:\u001b[0m\n",
            "\n",
            "\u001b[93mTotal Cost = (Number of calls to task model * (Avg Input Token Length per Call * Task Model Price per Input Token + Avg Output Token Length per Call * Task Model Price per Output Token) \n",
            "            + (Number of program calls * (Avg Input Token Length per Call * Task Prompt Price per Input Token + Avg Output Token Length per Call * Prompt Model Price per Output Token).\u001b[0m\n",
            "\n",
            "For a preliminary estimate of potential costs, we recommend you perform your own calculations based on the task\n",
            "and prompt models you intend to use. If the projected costs exceed your budget or expectations, you may consider:\n",
            "\n",
            "\u001b[93m- Reducing the number of trials (`num_trials`), the size of the valset, or the number of LM calls in your program.\u001b[0m\n",
            "\u001b[93m- Using a cheaper task model to optimize the prompt.\u001b[0m\n",
            "\u001b[93m- Setting `minibatch=True` if you haven't already.\u001b[0m\n",
            "\n",
            "To proceed with the execution of this program, please confirm by typing \u001b[94m'y'\u001b[0m for yes or \u001b[94m'n'\u001b[0m for no.\n",
            "\n",
            "If you would like to bypass this confirmation step in future executions, set the \u001b[93m`requires_permission_to_run`\u001b[0m flag to \u001b[93m`False`\u001b[0m when calling compile.\n",
            "\n",
            "\u001b[93mAwaiting your input...\u001b[0m\n",
            "\n",
            "Do you wish to continue? (y/n):  y\n"
          ]
        },
        {
          "name": "stderr",
          "output_type": "stream",
          "text": [
            "2025/02/22 22:48:13 INFO dspy.teleprompt.mipro_optimizer_v2: \n",
            "==> STEP 1: BOOTSTRAP FEWSHOT EXAMPLES <==\n",
            "2025/02/22 22:48:13 INFO dspy.teleprompt.mipro_optimizer_v2: These will be used as few-shot example candidates for our program and for creating instructions.\n",
            "\n",
            "2025/02/22 22:48:13 INFO dspy.teleprompt.mipro_optimizer_v2: Bootstrapping N=19 sets of demonstrations...\n"
          ]
        },
        {
          "name": "stdout",
          "output_type": "stream",
          "text": [
            "Bootstrapping set 1/19\n",
            "Bootstrapping set 2/19\n",
            "Bootstrapping set 3/19\n"
          ]
        },
        {
          "name": "stderr",
          "output_type": "stream",
          "text": [
            "  7%|█████████████▍                                                                                                                                                                                           | 1/15 [00:09<02:18,  9.88s/it]"
          ]
        },
        {
          "name": "stdout",
          "output_type": "stream",
          "text": [
            "M: 0.8567839195979899 R: 0.8726968174204355\n"
          ]
        },
        {
          "name": "stderr",
          "output_type": "stream",
          "text": [
            " 13%|██████████████████████████▊                                                                                                                                                                              | 2/15 [00:15<01:36,  7.41s/it]"
          ]
        },
        {
          "name": "stdout",
          "output_type": "stream",
          "text": [
            "M: 0.9910873440285205 R: 0.9786096256684492\n"
          ]
        },
        {
          "name": "stderr",
          "output_type": "stream",
          "text": [
            " 20%|████████████████████████████████████████▏                                                                                                                                                                | 3/15 [00:22<01:23,  6.97s/it]"
          ]
        },
        {
          "name": "stdout",
          "output_type": "stream",
          "text": [
            "M: 0.9734432234432234 R: 0.9496336996336996\n"
          ]
        },
        {
          "name": "stderr",
          "output_type": "stream",
          "text": [
            " 27%|█████████████████████████████████████████████████████▌                                                                                                                                                   | 4/15 [00:29<01:20,  7.29s/it]"
          ]
        },
        {
          "name": "stdout",
          "output_type": "stream",
          "text": [
            "M: 0.9776951672862454 R: 0.9628252788104089\n"
          ]
        },
        {
          "name": "stderr",
          "output_type": "stream",
          "text": [
            " 33%|███████████████████████████████████████████████████████████████████                                                                                                                                      | 5/15 [00:36<01:12,  7.25s/it]"
          ]
        },
        {
          "name": "stdout",
          "output_type": "stream",
          "text": [
            "M: 0.9796279893711249 R: 0.9796279893711249\n"
          ]
        },
        {
          "name": "stderr",
          "output_type": "stream",
          "text": [
            " 40%|████████████████████████████████████████████████████████████████████████████████▍                                                                                                                        | 6/15 [00:42<01:01,  6.79s/it]"
          ]
        },
        {
          "name": "stdout",
          "output_type": "stream",
          "text": [
            "M: 0.987487969201155 R: 0.9547641963426372\n"
          ]
        },
        {
          "name": "stderr",
          "output_type": "stream",
          "text": [
            " 47%|█████████████████████████████████████████████████████████████████████████████████████████████▊                                                                                                           | 7/15 [00:49<00:56,  7.04s/it]\n"
          ]
        },
        {
          "name": "stdout",
          "output_type": "stream",
          "text": [
            "M: 0.9767008387698043 R: 0.9273066169617894\n",
            "Bootstrapped 5 full traces after 7 examples for up to 1 rounds, amounting to 7 attempts.\n",
            "Bootstrapping set 4/19\n"
          ]
        },
        {
          "name": "stderr",
          "output_type": "stream",
          "text": [
            "  7%|█████████████▍                                                                                                                                                                                           | 1/15 [00:06<01:35,  6.82s/it]"
          ]
        },
        {
          "name": "stdout",
          "output_type": "stream",
          "text": [
            "M: 0.9420955882352942 R: 0.9742647058823529\n"
          ]
        },
        {
          "name": "stderr",
          "output_type": "stream",
          "text": [
            " 13%|██████████████████████████▊                                                                                                                                                                              | 2/15 [00:13<01:29,  6.87s/it]"
          ]
        },
        {
          "name": "stdout",
          "output_type": "stream",
          "text": [
            "M: 0.9839518555667001 R: 0.954864593781344\n"
          ]
        },
        {
          "name": "stderr",
          "output_type": "stream",
          "text": [
            " 20%|████████████████████████████████████████▏                                                                                                                                                                | 3/15 [00:21<01:26,  7.22s/it]"
          ]
        },
        {
          "name": "stdout",
          "output_type": "stream",
          "text": [
            "M: 0.9771062271062271 R: 0.9496336996336996\n"
          ]
        },
        {
          "name": "stderr",
          "output_type": "stream",
          "text": [
            " 27%|█████████████████████████████████████████████████████▌                                                                                                                                                   | 4/15 [00:28<01:20,  7.34s/it]"
          ]
        },
        {
          "name": "stdout",
          "output_type": "stream",
          "text": [
            "M: 0.9757688723205965 R: 0.9273066169617894\n"
          ]
        },
        {
          "name": "stderr",
          "output_type": "stream",
          "text": [
            " 33%|███████████████████████████████████████████████████████████████████                                                                                                                                      | 5/15 [00:35<01:11,  7.13s/it]"
          ]
        },
        {
          "name": "stdout",
          "output_type": "stream",
          "text": [
            "M: 0.9911426040744021 R: 0.9796279893711249\n"
          ]
        },
        {
          "name": "stderr",
          "output_type": "stream",
          "text": [
            " 40%|████████████████████████████████████████████████████████████████████████████████▍                                                                                                                        | 6/15 [00:43<01:04,  7.17s/it]\n"
          ]
        },
        {
          "name": "stdout",
          "output_type": "stream",
          "text": [
            "M: 0.979372197309417 R: 0.9614349775784753\n",
            "Bootstrapped 5 full traces after 6 examples for up to 1 rounds, amounting to 6 attempts.\n",
            "Bootstrapping set 5/19\n"
          ]
        },
        {
          "name": "stderr",
          "output_type": "stream",
          "text": [
            "  7%|█████████████▍                                                                                                                                                                                           | 1/15 [00:05<01:18,  5.60s/it]"
          ]
        },
        {
          "name": "stdout",
          "output_type": "stream",
          "text": [
            "M: 0.8887859128822985 R: 0.8646895273401297\n"
          ]
        },
        {
          "name": "stderr",
          "output_type": "stream",
          "text": [
            " 13%|██████████████████████████▊                                                                                                                                                                              | 2/15 [00:12<01:24,  6.46s/it]\n"
          ]
        },
        {
          "name": "stdout",
          "output_type": "stream",
          "text": [
            "M: 0.9128978224455612 R: 0.8726968174204355\n",
            "Bootstrapped 1 full traces after 2 examples for up to 1 rounds, amounting to 2 attempts.\n",
            "Bootstrapping set 6/19\n"
          ]
        },
        {
          "name": "stderr",
          "output_type": "stream",
          "text": [
            "  7%|█████████████▍                                                                                                                                                                                           | 1/15 [00:08<01:54,  8.19s/it]"
          ]
        },
        {
          "name": "stdout",
          "output_type": "stream",
          "text": [
            "M: 0.9839518555667001 R: 0.954864593781344\n"
          ]
        },
        {
          "name": "stderr",
          "output_type": "stream",
          "text": [
            " 13%|██████████████████████████▊                                                                                                                                                                              | 2/15 [00:13<01:27,  6.77s/it]"
          ]
        },
        {
          "name": "stdout",
          "output_type": "stream",
          "text": [
            "M: 0.979372197309417 R: 0.9614349775784753\n"
          ]
        },
        {
          "name": "stderr",
          "output_type": "stream",
          "text": [
            " 20%|████████████████████████████████████████▏                                                                                                                                                                | 3/15 [00:20<01:20,  6.71s/it]\n"
          ]
        },
        {
          "name": "stdout",
          "output_type": "stream",
          "text": [
            "M: 0.9406858202038925 R: 0.8646895273401297\n",
            "Bootstrapped 3 full traces after 3 examples for up to 1 rounds, amounting to 3 attempts.\n",
            "Bootstrapping set 7/19\n"
          ]
        },
        {
          "name": "stderr",
          "output_type": "stream",
          "text": [
            "  7%|█████████████▍                                                                                                                                                                                           | 1/15 [00:07<01:46,  7.64s/it]"
          ]
        },
        {
          "name": "stdout",
          "output_type": "stream",
          "text": [
            "M: 0.9739910313901345 R: 0.9614349775784753\n"
          ]
        },
        {
          "name": "stderr",
          "output_type": "stream",
          "text": [
            "Using the latest cached version of the module from /home/ginter/.cache/huggingface/modules/evaluate_modules/metrics/evaluate-metric--cer/9cb90b752d5f15fb41161efdbefd13570adb3f32fa157290d8a55093c47428e1 (last modified on Tue Jun 18 17:37:43 2024) since it couldn't be found locally at evaluate-metric--cer, or remotely on the Hugging Face Hub.\n",
            " 13%|██████████████████████████▊                                                                                                                                                                              | 2/15 [00:26<02:50, 13.10s/it]\n"
          ]
        },
        {
          "name": "stdout",
          "output_type": "stream",
          "text": [
            "M: 0.9908675799086758 R: 0.9744292237442922\n",
            "Bootstrapped 2 full traces after 2 examples for up to 1 rounds, amounting to 2 attempts.\n",
            "Bootstrapping set 8/19\n"
          ]
        },
        {
          "name": "stderr",
          "output_type": "stream",
          "text": [
            "  7%|█████████████▍                                                                                                                                                                                           | 1/15 [00:05<01:23,  5.94s/it]\n"
          ]
        },
        {
          "name": "stdout",
          "output_type": "stream",
          "text": [
            "M: 0.9908675799086758 R: 0.9744292237442922\n",
            "Bootstrapped 1 full traces after 1 examples for up to 1 rounds, amounting to 1 attempts.\n",
            "Bootstrapping set 9/19\n"
          ]
        },
        {
          "name": "stderr",
          "output_type": "stream",
          "text": [
            "  7%|█████████████▍                                                                                                                                                                                           | 1/15 [00:06<01:37,  6.97s/it]"
          ]
        },
        {
          "name": "stdout",
          "output_type": "stream",
          "text": [
            "M: 0.9606227106227107 R: 0.9496336996336996\n"
          ]
        },
        {
          "name": "stderr",
          "output_type": "stream",
          "text": [
            " 13%|██████████████████████████▊                                                                                                                                                                              | 2/15 [00:13<01:26,  6.64s/it]"
          ]
        },
        {
          "name": "stdout",
          "output_type": "stream",
          "text": [
            "M: 0.9406858202038925 R: 0.8646895273401297\n"
          ]
        },
        {
          "name": "stderr",
          "output_type": "stream",
          "text": [
            " 20%|████████████████████████████████████████▏                                                                                                                                                                | 3/15 [00:19<01:15,  6.32s/it]"
          ]
        },
        {
          "name": "stdout",
          "output_type": "stream",
          "text": [
            "M: 0.9829488465396189 R: 0.954864593781344\n"
          ]
        },
        {
          "name": "stderr",
          "output_type": "stream",
          "text": [
            " 27%|█████████████████████████████████████████████████████▌                                                                                                                                                   | 4/15 [00:28<01:22,  7.48s/it]"
          ]
        },
        {
          "name": "stdout",
          "output_type": "stream",
          "text": [
            "M: 0.9855630413859481 R: 0.9547641963426372\n"
          ]
        },
        {
          "name": "stderr",
          "output_type": "stream",
          "text": [
            " 33%|███████████████████████████████████████████████████████████████████                                                                                                                                      | 5/15 [00:36<01:12,  7.25s/it]\n"
          ]
        },
        {
          "name": "stdout",
          "output_type": "stream",
          "text": [
            "M: 0.9860594795539034 R: 0.9628252788104089\n",
            "Bootstrapped 5 full traces after 5 examples for up to 1 rounds, amounting to 5 attempts.\n",
            "Bootstrapping set 10/19\n"
          ]
        },
        {
          "name": "stderr",
          "output_type": "stream",
          "text": [
            "  7%|█████████████▍                                                                                                                                                                                           | 1/15 [00:08<01:52,  8.07s/it]"
          ]
        },
        {
          "name": "stdout",
          "output_type": "stream",
          "text": [
            "M: 0.8542713567839196 R: 0.8726968174204355\n"
          ]
        },
        {
          "name": "stderr",
          "output_type": "stream",
          "text": [
            " 13%|██████████████████████████▊                                                                                                                                                                              | 2/15 [00:14<01:31,  7.01s/it]"
          ]
        },
        {
          "name": "stdout",
          "output_type": "stream",
          "text": [
            "M: 0.9950166112956811 R: 0.9941860465116279\n"
          ]
        },
        {
          "name": "stderr",
          "output_type": "stream",
          "text": [
            " 20%|████████████████████████████████████████▏                                                                                                                                                                | 3/15 [00:22<01:31,  7.61s/it]"
          ]
        },
        {
          "name": "stdout",
          "output_type": "stream",
          "text": [
            "M: 0.9908675799086758 R: 0.9744292237442922\n"
          ]
        },
        {
          "name": "stderr",
          "output_type": "stream",
          "text": [
            " 27%|█████████████████████████████████████████████████████▌                                                                                                                                                   | 4/15 [00:28<01:19,  7.24s/it]\n"
          ]
        },
        {
          "name": "stdout",
          "output_type": "stream",
          "text": [
            "M: 0.9904761904761905 R: 0.9549783549783549\n",
            "Bootstrapped 2 full traces after 4 examples for up to 1 rounds, amounting to 4 attempts.\n",
            "Bootstrapping set 11/19\n"
          ]
        },
        {
          "name": "stderr",
          "output_type": "stream",
          "text": [
            "  7%|█████████████▍                                                                                                                                                                                           | 1/15 [00:05<01:17,  5.50s/it]"
          ]
        },
        {
          "name": "stdout",
          "output_type": "stream",
          "text": [
            "M: 0.9489894128970163 R: 0.9547641963426372\n"
          ]
        },
        {
          "name": "stderr",
          "output_type": "stream",
          "text": [
            " 13%|██████████████████████████▊                                                                                                                                                                              | 2/15 [00:11<01:17,  5.96s/it]"
          ]
        },
        {
          "name": "stdout",
          "output_type": "stream",
          "text": [
            "M: 0.9808219178082191 R: 0.9744292237442922\n"
          ]
        },
        {
          "name": "stderr",
          "output_type": "stream",
          "text": [
            " 20%|████████████████████████████████████████▏                                                                                                                                                                | 3/15 [00:19<01:20,  6.70s/it]"
          ]
        },
        {
          "name": "stdout",
          "output_type": "stream",
          "text": [
            "M: 0.9795539033457249 R: 0.9628252788104089\n"
          ]
        },
        {
          "name": "stderr",
          "output_type": "stream",
          "text": [
            " 27%|█████████████████████████████████████████████████████▌                                                                                                                                                   | 4/15 [00:25<01:09,  6.33s/it]"
          ]
        },
        {
          "name": "stdout",
          "output_type": "stream",
          "text": [
            "M: 0.9739049394221808 R: 0.9273066169617894\n"
          ]
        },
        {
          "name": "stderr",
          "output_type": "stream",
          "text": [
            " 33%|███████████████████████████████████████████████████████████████████                                                                                                                                      | 5/15 [00:31<01:03,  6.31s/it]\n"
          ]
        },
        {
          "name": "stdout",
          "output_type": "stream",
          "text": [
            "M: 0.9893048128342246 R: 0.9786096256684492\n",
            "Bootstrapped 4 full traces after 5 examples for up to 1 rounds, amounting to 5 attempts.\n",
            "Bootstrapping set 12/19\n"
          ]
        },
        {
          "name": "stderr",
          "output_type": "stream",
          "text": [
            "  7%|█████████████▍                                                                                                                                                                                           | 1/15 [00:05<01:19,  5.68s/it]"
          ]
        },
        {
          "name": "stdout",
          "output_type": "stream",
          "text": [
            "M: 0.8924930491195552 R: 0.8646895273401297\n"
          ]
        },
        {
          "name": "stderr",
          "output_type": "stream",
          "text": [
            " 13%|██████████████████████████▊                                                                                                                                                                              | 2/15 [00:13<01:29,  6.89s/it]"
          ]
        },
        {
          "name": "stdout",
          "output_type": "stream",
          "text": [
            "M: 0.9770220588235294 R: 0.9742647058823529\n"
          ]
        },
        {
          "name": "stderr",
          "output_type": "stream",
          "text": [
            " 20%|████████████████████████████████████████▏                                                                                                                                                                | 3/15 [00:20<01:21,  6.78s/it]"
          ]
        },
        {
          "name": "stdout",
          "output_type": "stream",
          "text": [
            "M: 0.984982332155477 R: 0.9796819787985865\n"
          ]
        },
        {
          "name": "stderr",
          "output_type": "stream",
          "text": [
            " 27%|█████████████████████████████████████████████████████▌                                                                                                                                                   | 4/15 [00:26<01:14,  6.73s/it]"
          ]
        },
        {
          "name": "stdout",
          "output_type": "stream",
          "text": [
            "M: 0.9661172161172161 R: 0.9496336996336996\n"
          ]
        },
        {
          "name": "stderr",
          "output_type": "stream",
          "text": [
            " 33%|███████████████████████████████████████████████████████████████████                                                                                                                                      | 5/15 [00:31<01:01,  6.20s/it]"
          ]
        },
        {
          "name": "stdout",
          "output_type": "stream",
          "text": [
            "M: 0.9863013698630136 R: 0.9744292237442922\n"
          ]
        },
        {
          "name": "stderr",
          "output_type": "stream",
          "text": [
            " 40%|████████████████████████████████████████████████████████████████████████████████▍                                                                                                                        | 6/15 [00:38<00:55,  6.20s/it]"
          ]
        },
        {
          "name": "stdout",
          "output_type": "stream",
          "text": [
            "M: 0.9941860465116279 R: 0.9941860465116279\n"
          ]
        },
        {
          "name": "stderr",
          "output_type": "stream",
          "text": [
            " 47%|█████████████████████████████████████████████████████████████████████████████████████████████▊                                                                                                           | 7/15 [00:44<00:50,  6.32s/it]\n"
          ]
        },
        {
          "name": "stdout",
          "output_type": "stream",
          "text": [
            "M: 0.9928698752228164 R: 0.9786096256684492\n",
            "Bootstrapped 5 full traces after 7 examples for up to 1 rounds, amounting to 7 attempts.\n",
            "Bootstrapping set 13/19\n"
          ]
        },
        {
          "name": "stderr",
          "output_type": "stream",
          "text": [
            "  7%|█████████████▍                                                                                                                                                                                           | 1/15 [00:05<01:21,  5.84s/it]\n"
          ]
        },
        {
          "name": "stdout",
          "output_type": "stream",
          "text": [
            "M: 0.9861471861471861 R: 0.9549783549783549\n",
            "Bootstrapped 1 full traces after 1 examples for up to 1 rounds, amounting to 1 attempts.\n",
            "Bootstrapping set 14/19\n"
          ]
        },
        {
          "name": "stderr",
          "output_type": "stream",
          "text": [
            "  7%|█████████████▍                                                                                                                                                                                           | 1/15 [00:05<01:12,  5.21s/it]"
          ]
        },
        {
          "name": "stdout",
          "output_type": "stream",
          "text": [
            "M: 0.9865255052935515 R: 0.9547641963426372\n"
          ]
        },
        {
          "name": "stderr",
          "output_type": "stream",
          "text": [
            " 13%|██████████████████████████▊                                                                                                                                                                              | 2/15 [00:11<01:12,  5.58s/it]"
          ]
        },
        {
          "name": "stdout",
          "output_type": "stream",
          "text": [
            "M: 0.9462465245597775 R: 0.8646895273401297\n"
          ]
        },
        {
          "name": "stderr",
          "output_type": "stream",
          "text": [
            " 20%|████████████████████████████████████████▏                                                                                                                                                                | 3/15 [00:16<01:07,  5.60s/it]"
          ]
        },
        {
          "name": "stdout",
          "output_type": "stream",
          "text": [
            "M: 0.9908675799086758 R: 0.9744292237442922\n"
          ]
        },
        {
          "name": "stderr",
          "output_type": "stream",
          "text": [
            " 27%|█████████████████████████████████████████████████████▌                                                                                                                                                   | 4/15 [00:23<01:06,  6.00s/it]"
          ]
        },
        {
          "name": "stdout",
          "output_type": "stream",
          "text": [
            "M: 0.9958471760797342 R: 0.9941860465116279\n"
          ]
        },
        {
          "name": "stderr",
          "output_type": "stream",
          "text": [
            " 33%|███████████████████████████████████████████████████████████████████                                                                                                                                      | 5/15 [00:29<00:58,  5.84s/it]\n"
          ]
        },
        {
          "name": "stdout",
          "output_type": "stream",
          "text": [
            "M: 0.9904761904761905 R: 0.9549783549783549\n",
            "Bootstrapped 5 full traces after 5 examples for up to 1 rounds, amounting to 5 attempts.\n",
            "Bootstrapping set 15/19\n"
          ]
        },
        {
          "name": "stderr",
          "output_type": "stream",
          "text": [
            "  7%|█████████████▍                                                                                                                                                                                           | 1/15 [00:07<01:49,  7.85s/it]"
          ]
        },
        {
          "name": "stdout",
          "output_type": "stream",
          "text": [
            "M: 0.979372197309417 R: 0.9614349775784753\n"
          ]
        },
        {
          "name": "stderr",
          "output_type": "stream",
          "text": [
            " 13%|██████████████████████████▊                                                                                                                                                                              | 2/15 [00:14<01:34,  7.26s/it]"
          ]
        },
        {
          "name": "stdout",
          "output_type": "stream",
          "text": [
            "M: 0.9839518555667001 R: 0.954864593781344\n"
          ]
        },
        {
          "name": "stderr",
          "output_type": "stream",
          "text": [
            " 20%|████████████████████████████████████████▏                                                                                                                                                                | 3/15 [00:22<01:32,  7.70s/it]"
          ]
        },
        {
          "name": "stdout",
          "output_type": "stream",
          "text": [
            "M: 0.9876325088339223 R: 0.9796819787985865\n"
          ]
        },
        {
          "name": "stderr",
          "output_type": "stream",
          "text": [
            " 27%|█████████████████████████████████████████████████████▌                                                                                                                                                   | 4/15 [00:31<01:28,  8.00s/it]"
          ]
        },
        {
          "name": "stdout",
          "output_type": "stream",
          "text": [
            "M: 0.9869888475836431 R: 0.9628252788104089\n"
          ]
        },
        {
          "name": "stderr",
          "output_type": "stream",
          "text": [
            " 33%|███████████████████████████████████████████████████████████████████                                                                                                                                      | 5/15 [00:38<01:16,  7.66s/it]\n"
          ]
        },
        {
          "name": "stdout",
          "output_type": "stream",
          "text": [
            "M: 0.987487969201155 R: 0.9547641963426372\n",
            "Bootstrapped 5 full traces after 5 examples for up to 1 rounds, amounting to 5 attempts.\n",
            "Bootstrapping set 16/19\n"
          ]
        },
        {
          "name": "stderr",
          "output_type": "stream",
          "text": [
            "  7%|█████████████▍                                                                                                                                                                                           | 1/15 [00:08<01:58,  8.47s/it]"
          ]
        },
        {
          "name": "stdout",
          "output_type": "stream",
          "text": [
            "M: 0.9851301115241635 R: 0.9628252788104089\n"
          ]
        },
        {
          "name": "stderr",
          "output_type": "stream",
          "text": [
            " 13%|██████████████████████████▊                                                                                                                                                                              | 2/15 [00:20<02:13, 10.30s/it]"
          ]
        },
        {
          "name": "stdout",
          "output_type": "stream",
          "text": [
            "M: 0.978021978021978 R: 0.9496336996336996\n"
          ]
        },
        {
          "name": "stderr",
          "output_type": "stream",
          "text": [
            " 20%|████████████████████████████████████████▏                                                                                                                                                                | 3/15 [00:26<01:44,  8.73s/it]"
          ]
        },
        {
          "name": "stdout",
          "output_type": "stream",
          "text": [
            "M: 0.9757688723205965 R: 0.9273066169617894\n"
          ]
        },
        {
          "name": "stderr",
          "output_type": "stream",
          "text": [
            " 27%|█████████████████████████████████████████████████████▌                                                                                                                                                   | 4/15 [00:35<01:36,  8.75s/it]\n"
          ]
        },
        {
          "name": "stdout",
          "output_type": "stream",
          "text": [
            "M: 0.9863013698630136 R: 0.9744292237442922\n",
            "Bootstrapped 4 full traces after 4 examples for up to 1 rounds, amounting to 4 attempts.\n",
            "Bootstrapping set 17/19\n"
          ]
        },
        {
          "name": "stderr",
          "output_type": "stream",
          "text": [
            "  7%|█████████████▍                                                                                                                                                                                           | 1/15 [00:06<01:37,  6.94s/it]"
          ]
        },
        {
          "name": "stdout",
          "output_type": "stream",
          "text": [
            "M: 0.9420955882352942 R: 0.9742647058823529\n"
          ]
        },
        {
          "name": "stderr",
          "output_type": "stream",
          "text": [
            " 13%|██████████████████████████▊                                                                                                                                                                              | 2/15 [00:14<01:38,  7.55s/it]"
          ]
        },
        {
          "name": "stdout",
          "output_type": "stream",
          "text": [
            "M: 0.9911426040744021 R: 0.9796279893711249\n"
          ]
        },
        {
          "name": "stderr",
          "output_type": "stream",
          "text": [
            " 20%|████████████████████████████████████████▏                                                                                                                                                                | 3/15 [00:21<01:27,  7.29s/it]\n"
          ]
        },
        {
          "name": "stdout",
          "output_type": "stream",
          "text": [
            "M: 0.97847533632287 R: 0.9614349775784753\n",
            "Bootstrapped 2 full traces after 3 examples for up to 1 rounds, amounting to 3 attempts.\n",
            "Bootstrapping set 18/19\n"
          ]
        },
        {
          "name": "stderr",
          "output_type": "stream",
          "text": [
            "  7%|█████████████▍                                                                                                                                                                                           | 1/15 [00:06<01:27,  6.25s/it]\n"
          ]
        },
        {
          "name": "stdout",
          "output_type": "stream",
          "text": [
            "M: 0.9823420074349443 R: 0.9628252788104089\n",
            "Bootstrapped 1 full traces after 1 examples for up to 1 rounds, amounting to 1 attempts.\n",
            "Bootstrapping set 19/19\n"
          ]
        },
        {
          "name": "stderr",
          "output_type": "stream",
          "text": [
            "  7%|█████████████▍                                                                                                                                                                                           | 1/15 [00:07<01:41,  7.28s/it]\n",
            "2025/02/22 22:55:35 INFO dspy.teleprompt.mipro_optimizer_v2: \n",
            "==> STEP 2: PROPOSE INSTRUCTION CANDIDATES <==\n",
            "2025/02/22 22:55:35 INFO dspy.teleprompt.mipro_optimizer_v2: We will use the few-shot examples from the previous step, a generated dataset summary, a summary of the program code, and a randomly selected prompting tip to propose instructions.\n"
          ]
        },
        {
          "name": "stdout",
          "output_type": "stream",
          "text": [
            "M: 0.9842007434944238 R: 0.9628252788104089\n",
            "Bootstrapped 1 full traces after 1 examples for up to 1 rounds, amounting to 1 attempts.\n"
          ]
        },
        {
          "name": "stderr",
          "output_type": "stream",
          "text": [
            "2025/02/22 22:55:49 INFO dspy.teleprompt.mipro_optimizer_v2: \n",
            "Proposing instructions...\n",
            "\n",
            "2025/02/22 22:57:30 INFO dspy.teleprompt.mipro_optimizer_v2: Proposed Instructions for Predictor 0:\n",
            "\n",
            "2025/02/22 22:57:30 INFO dspy.teleprompt.mipro_optimizer_v2: 0: Given the fields `noised_text`, produce the fields `denoised_text`.\n",
            "\n",
            "2025/02/22 22:57:30 INFO dspy.teleprompt.mipro_optimizer_v2: 1: In a world where historical and literary texts are at risk of being lost to time due to typographical errors and archaic spellings, your task is to act as a guardian of language. Given the `noised_text` that contains various distortions, your mission is to meticulously restore it to its original clarity and meaning. Produce the `denoised_text` that not only corrects the errors but also preserves the essence of the text, ensuring it is both accurate and comprehensible for future generations of scholars and enthusiasts alike.\n",
            "\n",
            "2025/02/22 22:57:30 INFO dspy.teleprompt.mipro_optimizer_v2: 2: Given the field `noised_text`, which contains text that has been corrupted with typographical errors, misspellings, and other distortions, please apply the `Predict` module to generate the corresponding `denoised_text`. Ensure that the output is coherent, grammatically correct, and retains the original meaning of the text while correcting all identified errors.\n",
            "\n",
            "2025/02/22 22:57:30 INFO dspy.teleprompt.mipro_optimizer_v2: 3: Transform the provided `noised_text` into a polished and coherent `denoised_text` by correcting spelling errors, grammatical mistakes, and formatting issues while preserving the original meaning and structure of the text.\n",
            "\n",
            "2025/02/22 22:57:30 INFO dspy.teleprompt.mipro_optimizer_v2: 4: Given the `noised_text`, apply the `Predict` module to generate the `denoised_text`, ensuring to correct typographical errors, remove irrelevant information, and enhance the overall readability while retaining the original meaning.\n",
            "\n",
            "2025/02/22 22:57:30 INFO dspy.teleprompt.mipro_optimizer_v2: 5: Given the input `noised_text`, which contains various distortions including misspellings, incorrect formatting, and nonsensical phrases, please apply advanced language model techniques to analyze the text. Your task is to generate a corrected output known as `denoised_text` that is free from noise while retaining the original meaning and context as much as possible. Ensure that the output is coherent, readable, and reflective of the formal language style characteristic of 18th- or 19th-century English literature.\n",
            "\n",
            "2025/02/22 22:57:30 INFO dspy.teleprompt.mipro_optimizer_v2: 6: Analyze the provided `noised_text`, identify and correct typographical errors, misspellings, and formatting issues to generate a coherent and readable `denoised_text`. Ensure that the output maintains the original meaning and context while improving clarity and grammatical integrity.\n",
            "\n",
            "2025/02/22 22:57:30 INFO dspy.teleprompt.mipro_optimizer_v2: 7: Given the `noised_text`, apply natural language processing techniques to produce a cleaner, more coherent `denoised_text`. Ensure to correct errors in spelling, punctuation, and formatting while maintaining the original meaning and context of the text.\n",
            "\n",
            "2025/02/22 22:57:30 INFO dspy.teleprompt.mipro_optimizer_v2: 8: Given the following noised text, please produce a corrected and coherent version of the text that accurately reflects the intended content, preserving its original meaning and enhancing clarity and readability.\n",
            "\n",
            "2025/02/22 22:57:30 INFO dspy.teleprompt.mipro_optimizer_v2: 9: You are a skilled text editor and linguist. Your task is to take the provided `noised_text` and carefully analyze it to produce a clear and grammatically correct `denoised_text`. Focus on correcting misspellings, improper punctuation, and any unusual spacing. Ensure that the reconstructed text maintains the original meaning and context as much as possible.\n",
            "\n",
            "2025/02/22 22:57:30 INFO dspy.teleprompt.mipro_optimizer_v2: 10: Given the input `noised_text`, utilize the `Predict` module to generate a corresponding `denoised_text` that corrects typographical errors, removes nonsensical characters, and enhances overall readability while preserving the original meaning.\n",
            "\n",
            "2025/02/22 22:57:30 INFO dspy.teleprompt.mipro_optimizer_v2: 11: Given the input `noised_text`, apply natural language processing techniques to identify and correct spelling mistakes, grammatical inaccuracies, and nonsensical fragments. Produce a clear and coherent output as `denoised_text`.\n",
            "\n",
            "2025/02/22 22:57:30 INFO dspy.teleprompt.mipro_optimizer_v2: 12: In a high-stakes situation where historical documents are at risk of being lost or misinterpreted due to noise and corruption, your task is to take the provided `noised_text` and produce a clear, coherent `denoised_text`. This denoised output must accurately reflect the original meaning and structure of the text, preserving its scholarly value for future analysis. Ensure that the output is free from errors, nonsensical characters, or distortions, as these texts are crucial for understanding our cultural and historical heritage.\n",
            "\n",
            "2025/02/22 22:57:30 INFO dspy.teleprompt.mipro_optimizer_v2: 13: You are a skilled editor specializing in historical and literary texts. Given the field `noised_text`, your task is to produce the field `denoised_text` by correcting typographical errors, unconventional punctuation, and formatting issues while preserving the original meaning and enhancing readability.\n",
            "\n",
            "2025/02/22 22:57:30 INFO dspy.teleprompt.mipro_optimizer_v2: 14: Given the input `noised_text`, apply natural language processing techniques to analyze and correct the distortions present, producing a coherent and grammatically correct `denoised_text`.\n",
            "\n",
            "2025/02/22 22:57:30 INFO dspy.teleprompt.mipro_optimizer_v2: 15: Imagine you are a literary scholar tasked with restoring a collection of important historical texts that have suffered significant degradation over time. Your goal is to take the provided noised text, which is filled with typographical errors and nonsensical phrases, and transform it into a clear, coherent, and grammatically correct version that preserves the original meaning and intent. This restoration is crucial for future academic discourse and understanding of these texts. Given the noised text, produce the denoised text that accurately reflects the original work.\n",
            "\n",
            "2025/02/22 22:57:30 INFO dspy.teleprompt.mipro_optimizer_v2: 16: Given the input `noised_text` that contains errors and inconsistencies, apply the `Predict` module to generate a corrected version referred to as `denoised_text`. Ensure that the output text retains the original meaning while improving readability by correcting misspellings, grammatical errors, and misplaced punctuation.\n",
            "\n",
            "2025/02/22 22:57:30 INFO dspy.teleprompt.mipro_optimizer_v2: 17: Imagine you are a renowned literary editor tasked with restoring a collection of historical texts that have suffered significant degradation over time. Your mission is to transform the provided `noised_text`, filled with errors and incoherent phrases, into a polished and grammatically correct `denoised_text`. Ensure that the essence and meaning of the original text are preserved, while enhancing its clarity and readability. The accuracy of your denoising will determine the publication's success and the preservation of these important literary works. Please provide the `denoised_text` for the given `noised_text`.\n",
            "\n",
            "2025/02/22 22:57:30 INFO dspy.teleprompt.mipro_optimizer_v2: 18: Given the input `noised_text`, please generate a coherent and grammatically correct version of the text, referred to as `denoised_text`. Ensure that the output closely resembles the intended meaning of the original content while correcting any errors related to spelling, grammar, and syntax.\n",
            "\n",
            "2025/02/22 22:57:30 INFO dspy.teleprompt.mipro_optimizer_v2: \n",
            "\n",
            "2025/02/22 22:57:30 INFO dspy.teleprompt.mipro_optimizer_v2: ==> STEP 3: FINDING OPTIMAL PROMPT PARAMETERS <==\n",
            "2025/02/22 22:57:30 INFO dspy.teleprompt.mipro_optimizer_v2: We will evaluate the program over a series of trials with different combinations of instructions and few-shot examples to find the optimal combination using Bayesian Optimization.\n",
            "\n",
            "2025/02/22 22:57:30 INFO dspy.teleprompt.mipro_optimizer_v2: == Trial 1 / 28 - Full Evaluation of Default Program ==\n"
          ]
        },
        {
          "name": "stdout",
          "output_type": "stream",
          "text": [
            "M: 0.9746606334841629 R: 0.96289592760181                                                                                                                                                                             | 0/60 [00:00<?, ?it/s]\n",
            "M: 0.8537477148080439 R: 0.8756855575868373                                                                                                                                                                   | 1/60 [00:02<02:37,  2.67s/it]\n",
            "M: 0.9261511728931364 R: 0.9626411815812337                                                                                                                                                                   | 1/60 [00:02<02:37,  2.67s/it]\n",
            "M: 0.9864995178399228 R: 0.9729990356798457█▌                                                                                                                                                                 | 2/60 [00:02<02:34,  2.67s/it]\n",
            "M: 0.835970024979184 R: 0.8834304746044963████████▏                                                                                                                                                           | 4/60 [00:03<00:33,  1.68it/s]\n",
            "M: 0.7271844660194176 R: 0.5970873786407767███████▏                                                                                                                                                           | 4/60 [00:03<00:33,  1.68it/s]\n",
            "M: 0.972875226039783 R: 0.9719710669077758█████████████▋                                                                                                                                                      | 6/60 [00:03<00:20,  2.61it/s]\n",
            "M: 0.9418502202643172 R: 0.9841409691629956███████████████▍                                                                                                                                                   | 7/60 [00:05<00:41,  1.28it/s]\n",
            "M: 0.9139194139194139 R: 0.9478021978021978███████████████▍                                                                                                                                                   | 7/60 [00:05<00:41,  1.28it/s]\n",
            "M: 0.9017288444040037 R: 0.8307552320291174█████████████████████                                                                                                                                              | 9/60 [00:05<00:24,  2.04it/s]\n",
            "M: 0.9537856440511308 R: 0.943952802359882██████████████████████▉                                                                                                                                             | 9/60 [00:05<00:24,  2.04it/s]\n",
            "M: 0.9053819444444444 R: 0.9739583333333334███████████████████████████▏                                                                                                                                      | 11/60 [00:07<00:34,  1.42it/s]\n",
            "M: 0.9812206572769953 R: 0.9436619718309859██████████████████████████████                                                                                                                                    | 12/60 [00:07<00:29,  1.62it/s]\n",
            "M: 0.8279857397504456 R: 0.8074866310160428██████████████████████████████                                                                                                                                    | 12/60 [00:07<00:29,  1.62it/s]\n",
            "M: 0.8471575023299162 R: 0.9739049394221808████████████████████████████████▊                                                                                                                                 | 13/60 [00:07<00:28,  1.62it/s]\n",
            "M: 0.9242738589211619 R: 0.9398340248962656██████████████████████████████████████▎                                                                                                                           | 15/60 [00:09<00:28,  1.57it/s]\n",
            "M: 0.9258572752548656 R: 0.9295644114921223█████████████████████████████████████████                                                                                                                         | 16/60 [00:10<00:29,  1.50it/s]\n",
            "M: 0.9906367041198502 R: 0.9850187265917603███████████████████████████████████████████▊                                                                                                                      | 17/60 [00:10<00:24,  1.76it/s]\n",
            "M: 0.918552036199095 R: 0.9610859728506788███████████████████████████████████████████████▌                                                                                                                   | 18/60 [00:11<00:21,  1.92it/s]\n",
            "M: 0.7034291010194624 R: 0.9545875810936052█████████████████████████████████████████████████▎                                                                                                                | 19/60 [00:12<00:27,  1.51it/s]\n",
            "M: 0.8334825425246195 R: 0.973142345568487█████████████████████████████████████████████████████                                                                                                              | 20/60 [00:12<00:27,  1.48it/s]\n",
            "M: 0.9750430292598967 R: 0.9629948364888123██████████████████████████████████████████████████████▋                                                                                                           | 21/60 [00:13<00:21,  1.84it/s]\n",
            "M: 0.9167446211412535 R: 0.9700654817586529██████████████████████████████████████████████████████▋                                                                                                           | 21/60 [00:13<00:21,  1.84it/s]\n",
            "M: 0.899913718723037 R: 0.9447799827437446█████████████████████████████████████████████████████████████▎                                                                                                     | 23/60 [00:13<00:17,  2.09it/s]\n",
            "M: 0.9266304347826086 R: 0.9818840579710145███████████████████████████████████████████████████████████████                                                                                                   | 24/60 [00:15<00:24,  1.47it/s]\n",
            "M: 0.9668755595344674 R: 0.9507609668755596█████████████████████████████████████████████████████████████████▊                                                                                                | 25/60 [00:15<00:18,  1.87it/s]\n",
            "M: 0.9954462659380692 R: 0.982695810564663██████████████████████████████████████████████████████████████████▊                                                                                                | 25/60 [00:15<00:18,  1.87it/s]\n",
            "M: 0.9291270527225584 R: 0.9291270527225584███████████████████████████████████████████████████████████████████████▎                                                                                          | 27/60 [00:15<00:12,  2.72it/s]\n",
            "M: 0.984725050916497 R: 0.9470468431771895███████████████████████████████████████████████████████████████████████████                                                                                        | 28/60 [00:16<00:13,  2.32it/s]\n",
            "M: 0.8927875243664718 R: 0.9064327485380117████████████████████████████████████████████████████████████████████████████▊                                                                                     | 29/60 [00:17<00:20,  1.50it/s]\n",
            "M: 0.8977578475336323 R: 0.9049327354260089███████████████████████████████████████████████████████████████████████████████▌                                                                                  | 30/60 [00:17<00:16,  1.85it/s]\n",
            "M: 0.9244917715392063 R: 0.9912875121006777██████████████████████████████████████████████████████████████████████████████████▎                                                                               | 31/60 [00:18<00:17,  1.62it/s]\n",
            "M: 0.9005736137667304 R: 0.9560229445506692█████████████████████████████████████████████████████████████████████████████████████                                                                             | 32/60 [00:19<00:20,  1.37it/s]\n",
            "M: 0.9902912621359223 R: 0.9664607237422771███████████████████████████████████████████████████████████████████████████████████████▊                                                                          | 33/60 [00:20<00:16,  1.65it/s]\n",
            "M: 0.9572243346007605 R: 0.9534220532319392██████████████████████████████████████████████████████████████████████████████████████████▌                                                                       | 34/60 [00:20<00:13,  1.92it/s]\n",
            "M: 0.9922330097087378 R: 0.9601941747572815██████████████████████████████████████████████████████████████████████████████████████████▌                                                                       | 34/60 [00:20<00:13,  1.92it/s]\n",
            "M: 0.9283639883833494 R: 0.9225556631171346████████████████████████████████████████████████████████████████████████████████████████████████                                                                  | 36/60 [00:22<00:19,  1.23it/s]\n",
            "M: 0.9544159544159544 R: 0.9287749287749287████████████████████████████████████████████████████████████████████████████████████████████████                                                                  | 36/60 [00:22<00:19,  1.23it/s]\n",
            "M: 0.9942418426103646 R: 0.9760076775431862██████████████████████████████████████████████████████████████████████████████████████████████████▊                                                               | 37/60 [00:22<00:18,  1.23it/s]\n",
            "M: 0.8949771689497716 R: 0.9589041095890412████████████████████████████████████████████████████████████████████████████████████████████████████████▎                                                         | 39/60 [00:22<00:09,  2.15it/s]\n",
            "M: 0.5711805555555556 R: 0.9730902777777778███████████████████████████████████████████████████████████████████████████████████████████████████████████                                                       | 40/60 [00:24<00:13,  1.51it/s]\n",
            "M: 0.8924339106654512 R: 0.8760255241567912█████████████████████████████████████████████████████████████████████████████████████████████████████████████▊                                                    | 41/60 [00:24<00:11,  1.72it/s]\n",
            "M: 0.8615794143744454 R: 0.8837622005323869█████████████████████████████████████████████████████████████████████████████████████████████████████████████▊                                                    | 41/60 [00:24<00:11,  1.72it/s]\n",
            "M: 0.9826875515251443 R: 0.9859851607584501███████████████████████████████████████████████████████████████████████████████████████████████████████████████████▎                                              | 43/60 [00:25<00:07,  2.26it/s]\n",
            "M: 0.9828519855595668 R: 0.9765342960288809█████████████████████████████████████████████████████████████████████████████████████████████████████████████████████▉                                            | 44/60 [00:26<00:11,  1.42it/s]\n",
            "M: 0.90625 R: 0.9303571428571429):  75%|███████████████████████████████████████████████████████████████████████████████████████████████████████████████████████████▊                                         | 45/60 [00:27<00:08,  1.69it/s]\n",
            "M: 0.944015444015444 R: 0.9324324324324325████████████████████████████████████████████████████████████████████████████████████████████████████████████████████████████▌                                      | 46/60 [00:27<00:06,  2.13it/s]\n",
            "M: 0.9191304347826087 R: 0.9243478260869565██████████████████████████████████████████████████████████████████████████████████████████████████████████████████████████████▎                                   | 47/60 [00:27<00:05,  2.23it/s]\n",
            "M: 0.9230769230769231 R: 0.9104072398190045█████████████████████████████████████████████████████████████████████████████████████████████████████████████████████████████████                                 | 48/60 [00:29<00:11,  1.04it/s]\n",
            "M: 0.9845173041894353 R: 0.9735883424408015█████████████████████████████████████████████████████████████████████████████████████████████████████████████████████████████████                                 | 48/60 [00:29<00:11,  1.04it/s]\n",
            "M: 0.905587668593449 R: 0.9421965317919075███████████████████████████████████████████████████████████████████████████████████████████████████████████████████████████████████████▌                           | 50/60 [00:30<00:05,  1.68it/s]\n",
            "M: 0.9373865698729582 R: 0.9718693284936479█████████████████████████████████████████████████████████████████████████████████████████████████████████████████████████████████████████▎                        | 51/60 [00:31<00:06,  1.40it/s]\n",
            "M: 0.983435047951177 R: 0.962510897994769███████████████████████████████████████████████████████████████████████████████████████████████████████████████████████████████████████████▎                        | 51/60 [00:31<00:06,  1.40it/s]\n",
            "M: 0.9073770491803279 R: 0.978688524590164███████████████████████████████████████████████████████████████████████████████████████████████████████████████████████████████████████████████▊                   | 53/60 [00:32<00:04,  1.64it/s]\n",
            "M: 0.9010270774976658 R: 0.9551820728291317██████████████████████████████████████████████████████████████████████████████████████████████████████████████████████████████████████████████▊                   | 53/60 [00:32<00:04,  1.64it/s]\n",
            "M: 0.8343949044585988 R: 0.813466787989081█████████████████████████████████████████████████████████████████████████████████████████████████████████████████████████████████████████████████████▎             | 55/60 [00:32<00:02,  2.34it/s]\n",
            "M: 0.715929203539823 R: 0.9557522123893806█████████████████████████████████████████████████████████████████████████████████████████████████████████████████████████████████████████████████████▎             | 55/60 [00:32<00:02,  2.34it/s]\n",
            "M: 0.9091673675357443 R: 0.8915054667788057█████████████████████████████████████████████████████████████████████████████████████████████████████████████████████████████████████████████████████████▊        | 57/60 [00:33<00:01,  2.05it/s]\n",
            "M: 0.9084337349397591 R: 0.9036144578313253█████████████████████████████████████████████████████████████████████████████████████████████████████████████████████████████████████████████████████████▊        | 57/60 [00:33<00:01,  2.05it/s]\n",
            "M: 0.9202081526452732 R: 0.9505637467476149███████████████████████████████████████████████████████████████████████████████████████████████████████████████████████████████████████████████████████████████▎  | 59/60 [00:34<00:00,  2.13it/s]\n",
            "Average Metric: 9.85 / 60 (16.4%): 100%|█████████████████████████████████████████████████████████████████████████████████████████████████████████████████████████████████████████████████████████████████████| 60/60 [00:34<00:00,  1.73it/s]"
          ]
        },
        {
          "name": "stderr",
          "output_type": "stream",
          "text": [
            "2025/02/22 22:58:04 INFO dspy.evaluate.evaluate: Average Metric: 9.851780973123901 / 60 (16.4%)\n",
            "2025/02/22 22:58:04 INFO dspy.teleprompt.mipro_optimizer_v2: Default program score: 16.42\n",
            "\n",
            "/home/ginter/venv-all-2/lib/python3.12/site-packages/optuna/_experimental.py:31: ExperimentalWarning: Argument ``multivariate`` is an experimental feature. The interface can change in the future.\n",
            "  warnings.warn(\n",
            "2025/02/22 22:58:04 INFO dspy.teleprompt.mipro_optimizer_v2: == Trial 2 / 28 - Minibatch ==\n"
          ]
        },
        {
          "name": "stdout",
          "output_type": "stream",
          "text": [
            "\n",
            "M: 0.9887983706720977 R: 0.9470468431771895                                                                                                                                                                           | 0/25 [00:00<?, ?it/s]\n",
            "M: 0.9439171699741156 R: 0.9447799827437446██▋                                                                                                                                                                | 1/25 [00:05<02:05,  5.25s/it]\n",
            "M: 0.991321118611379 R: 0.9729990356798457██████████▎                                                                                                                                                         | 2/25 [00:05<00:53,  2.32s/it]\n",
            "M: 0.9407079646017699 R: 0.9557522123893806█████████▎                                                                                                                                                         | 2/25 [00:05<00:53,  2.32s/it]\n",
            "M: 0.940354147250699 R: 0.9739049394221808███████████████████████▋                                                                                                                                            | 4/25 [00:05<00:19,  1.08it/s]\n",
            "M: 0.9819672131147541 R: 0.978688524590164██████████████████████████████▍                                                                                                                                     | 5/25 [00:05<00:14,  1.42it/s]\n",
            "M: 0.9092369477911647 R: 0.9036144578313253████████████████████████████████████                                                                                                                               | 6/25 [00:06<00:11,  1.67it/s]\n",
            "M: 0.9248554913294798 R: 0.9421965317919075██████████████████████████████████████████▊                                                                                                                        | 7/25 [00:12<00:39,  2.20s/it]\n",
            "M: 0.9283639883833494 R: 0.9225556631171346█████████████████████████████████████████████████▍                                                                                                                 | 8/25 [00:12<00:28,  1.68s/it]\n",
            "M: 0.9883495145631068 R: 0.9601941747572815████████████████████████████████████████████████████████                                                                                                           | 9/25 [00:12<00:19,  1.23s/it]\n",
            "M: 0.9457013574660633 R: 0.9610859728506788███████████████████████████████████████████████████████████████                                                                                                   | 10/25 [00:13<00:13,  1.08it/s]\n",
            "M: 0.8377896613190731 R: 0.8074866310160428█████████████████████████████████████████████████████████████████████▌                                                                                            | 11/25 [00:13<00:12,  1.12it/s]\n",
            "M: 0.9341983317886933 R: 0.9295644114921223████████████████████████████████████████████████████████████████████████████▏                                                                                     | 12/25 [00:14<00:09,  1.40it/s]\n",
            "M: 0.9512448132780082 R: 0.9398340248962656██████████████████████████████████████████████████████████████████████████████████▊                                                                               | 13/25 [00:19<00:23,  1.96s/it]\n",
            "M: 0.9476145930776426 R: 0.9700654817586529█████████████████████████████████████████████████████████████████████████████████████████▍                                                                        | 14/25 [00:19<00:16,  1.54s/it]\n",
            "M: 0.9836488812392427 R: 0.9629948364888123████████████████████████████████████████████████████████████████████████████████████████████████                                                                  | 15/25 [00:19<00:11,  1.16s/it]\n",
            "M: 0.9600347523892268 R: 0.9626411815812337██████████████████████████████████████████████████████████████████████████████████████████████████████▌                                                           | 16/25 [00:20<00:08,  1.08it/s]\n",
            "M: 0.9404761904761905 R: 0.9478021978021978█████████████████████████████████████████████████████████████████████████████████████████████████████████████▏                                                    | 17/25 [00:20<00:06,  1.20it/s]\n",
            "M: 0.9794091316025068 R: 0.9507609668755596███████████████████████████████████████████████████████████████████████████████████████████████████████████████████▊                                              | 18/25 [00:22<00:07,  1.00s/it]\n",
            "M: 0.7776699029126214 R: 0.5970873786407767██████████████████████████████████████████████████████████████████████████████████████████████████████████████████████████▍                                       | 19/25 [00:24<00:08,  1.44s/it]\n",
            "M: 0.9917559769167353 R: 0.9859851607584501█████████████████████████████████████████████████████████████████████████████████████████████████████████████████████████████████                                 | 20/25 [00:25<00:06,  1.20s/it]\n",
            "M: 0.9656387665198238 R: 0.9841409691629956███████████████████████████████████████████████████████████████████████████████████████████████████████████████████████████████████████▌                          | 21/25 [00:26<00:04,  1.04s/it]\n",
            "M: 0.9177330895795247 R: 0.8756855575868373███████████████████████████████████████████████████████████████████████████████████████████████████████████████████████████████████████▌                          | 21/25 [00:26<00:04,  1.04s/it]\n",
            "M: 0.9402427637721755 R: 0.9551820728291317████████████████████████████████████████████████████████████████████████████████████████████████████████████████████████████████████████████████████▊             | 23/25 [00:27<00:01,  1.24it/s]\n",
            "M: 0.9554695062923524 R: 0.9912875121006777███████████████████████████████████████████████████████████████████████████████████████████████████████████████████████████████████████████████████████████▍      | 24/25 [00:28<00:00,  1.00it/s]\n",
            "Average Metric: 5.22 / 25 (20.9%): 100%|█████████████████████████████████████████████████████████████████████████████████████████████████████████████████████████████████████████████████████████████████████| 25/25 [00:30<00:00,  1.21s/it]"
          ]
        },
        {
          "name": "stderr",
          "output_type": "stream",
          "text": [
            "2025/02/22 22:58:35 INFO dspy.evaluate.evaluate: Average Metric: 5.223532068674834 / 25 (20.9%)\n",
            "2025/02/22 22:58:35 INFO dspy.teleprompt.mipro_optimizer_v2: Score: 20.89 on minibatch of size 25 with parameters ['Predictor 0: Instruction 12', 'Predictor 0: Few-Shot Set 7'].\n",
            "2025/02/22 22:58:35 INFO dspy.teleprompt.mipro_optimizer_v2: Minibatch scores so far: [20.89]\n",
            "2025/02/22 22:58:35 INFO dspy.teleprompt.mipro_optimizer_v2: Full eval scores so far: [16.42]\n",
            "2025/02/22 22:58:35 INFO dspy.teleprompt.mipro_optimizer_v2: Best full score so far: 16.42\n",
            "2025/02/22 22:58:35 INFO dspy.teleprompt.mipro_optimizer_v2: =========================================\n",
            "\n",
            "\n",
            "2025/02/22 22:58:35 INFO dspy.teleprompt.mipro_optimizer_v2: == Trial 3 / 28 - Minibatch ==\n"
          ]
        },
        {
          "name": "stdout",
          "output_type": "stream",
          "text": [
            "\n",
            "M: 0.9652777777777778 R: 0.9739583333333334                                                                                                                                                                           | 0/25 [00:00<?, ?it/s]\n",
            "M: 0.9902912621359223 R: 0.9601941747572815█▋                                                                                                                                                                 | 1/25 [00:06<02:31,  6.33s/it]\n",
            "M: 0.9260273972602739 R: 0.9589041095890412█████████▎                                                                                                                                                         | 2/25 [00:06<01:01,  2.67s/it]\n",
            "M: 0.9404659188955996 R: 0.9447799827437446█████████▎                                                                                                                                                         | 2/25 [00:06<01:01,  2.67s/it]\n",
            "M: 0.9894086496028244 R: 0.9664607237422771████████████████                                                                                                                                                   | 3/25 [00:06<00:58,  2.67s/it]\n",
            "M: 0.9429864253393665 R: 0.9610859728506788█████████████████████████████▍                                                                                                                                     | 5/25 [00:06<00:16,  1.20it/s]\n",
            "M: 0.9836488812392427 R: 0.9629948364888123████████████████████████████████████                                                                                                                               | 6/25 [00:07<00:17,  1.11it/s]\n",
            "M: 0.960668633235005 R: 0.943952802359882████████████████████████████████████████████▊                                                                                                                        | 7/25 [00:12<00:32,  1.80s/it]\n",
            "M: 0.994535519125683 R: 0.982695810564663████████████████████████████████████████████▊                                                                                                                        | 7/25 [00:12<00:32,  1.80s/it]\n",
            "M: 0.9749328558639212 R: 0.9507609668755596█████████████████████████████████████████████████▍                                                                                                                 | 8/25 [00:12<00:30,  1.80s/it]\n",
            "M: 0.9800904977375565 R: 0.96289592760181██████████████████████████████████████████████████████████▊                                                                                                          | 9/25 [00:12<00:28,  1.80s/it]\n",
            "M: 0.9304911955514366 R: 0.9295644114921223█████████████████████████████████████████████████████████████████████▌                                                                                            | 11/25 [00:12<00:11,  1.27it/s]\n",
            "M: 0.9205357142857142 R: 0.9303571428571429████████████████████████████████████████████████████████████████████████████▏                                                                                     | 12/25 [00:13<00:10,  1.28it/s]\n",
            "M: 0.9466791393826005 R: 0.9700654817586529██████████████████████████████████████████████████████████████████████████████████▊                                                                               | 13/25 [00:17<00:16,  1.38s/it]\n",
            "M: 0.9952015355086372 R: 0.9760076775431862██████████████████████████████████████████████████████████████████████████████████▊                                                                               | 13/25 [00:17<00:16,  1.38s/it]\n",
            "M: 0.9772079772079773 R: 0.9287749287749287████████████████████████████████████████████████████████████████████████████████████████████████                                                                  | 15/25 [00:17<00:09,  1.07it/s]\n",
            "M: 0.9819672131147541 R: 0.978688524590164███████████████████████████████████████████████████████████████████████████████████████████████████████▌                                                           | 16/25 [00:17<00:06,  1.30it/s]\n",
            "M: 0.9917559769167353 R: 0.9859851607584501█████████████████████████████████████████████████████████████████████████████████████████████████████████████▏                                                    | 17/25 [00:18<00:05,  1.44it/s]\n",
            "M: 0.9429347826086957 R: 0.9818840579710145███████████████████████████████████████████████████████████████████████████████████████████████████████████████████▊                                              | 18/25 [00:19<00:05,  1.26it/s]\n",
            "M: 0.9419167473378509 R: 0.9912875121006777██████████████████████████████████████████████████████████████████████████████████████████████████████████████████████████▍                                       | 19/25 [00:22<00:08,  1.38s/it]\n",
            "M: 0.9331501831501832 R: 0.9478021978021978█████████████████████████████████████████████████████████████████████████████████████████████████████████████████████████████████                                 | 20/25 [00:22<00:05,  1.13s/it]\n",
            "M: 0.9351251158480074 R: 0.9545875810936052█████████████████████████████████████████████████████████████████████████████████████████████████████████████████████████████████                                 | 20/25 [00:22<00:05,  1.13s/it]\n",
            "M: 0.98816029143898 R: 0.9735883424408015████████████████████████████████████████████████████████████████████████████████████████████████████████████████████████████████████████████████▏                   | 22/25 [00:22<00:02,  1.46it/s]\n",
            "M: 0.991321118611379 R: 0.9729990356798457█████████████████████████████████████████████████████████████████████████████████████████████████████████████████████████████████████████████████████▊             | 23/25 [00:23<00:01,  1.53it/s]\n",
            "M: 0.913372582001682 R: 0.8915054667788057████████████████████████████████████████████████████████████████████████████████████████████████████████████████████████████████████████████████████████████▍      | 24/25 [00:24<00:00,  1.22it/s]\n",
            "Average Metric: 7.44 / 25 (29.7%): 100%|█████████████████████████████████████████████████████████████████████████████████████████████████████████████████████████████████████████████████████████████████████| 25/25 [00:30<00:00,  1.22s/it]"
          ]
        },
        {
          "name": "stderr",
          "output_type": "stream",
          "text": [
            "2025/02/22 22:59:05 INFO dspy.evaluate.evaluate: Average Metric: 7.435842196146137 / 25 (29.7%)\n",
            "2025/02/22 22:59:05 INFO dspy.teleprompt.mipro_optimizer_v2: Score: 29.74 on minibatch of size 25 with parameters ['Predictor 0: Instruction 10', 'Predictor 0: Few-Shot Set 7'].\n",
            "2025/02/22 22:59:05 INFO dspy.teleprompt.mipro_optimizer_v2: Minibatch scores so far: [20.89, 29.74]\n",
            "2025/02/22 22:59:05 INFO dspy.teleprompt.mipro_optimizer_v2: Full eval scores so far: [16.42]\n",
            "2025/02/22 22:59:05 INFO dspy.teleprompt.mipro_optimizer_v2: Best full score so far: 16.42\n",
            "2025/02/22 22:59:05 INFO dspy.teleprompt.mipro_optimizer_v2: =========================================\n",
            "\n",
            "\n",
            "2025/02/22 22:59:05 INFO dspy.teleprompt.mipro_optimizer_v2: == Trial 4 / 28 - Minibatch ==\n"
          ]
        },
        {
          "name": "stdout",
          "output_type": "stream",
          "text": [
            "\n",
            "M: 0.9317561419472248 R: 0.8307552320291174                                                                                                                                                                           | 0/25 [00:00<?, ?it/s]\n",
            "M: 0.9906367041198502 R: 0.9850187265917603██▋                                                                                                                                                                | 1/25 [00:05<02:22,  5.92s/it]\n",
            "M: 0.9847036328871893 R: 0.9560229445506692██▋                                                                                                                                                                | 1/25 [00:05<02:22,  5.92s/it]\n",
            "M: 0.9701357466063348 R: 0.9610859728506788█████████▎                                                                                                                                                         | 2/25 [00:05<02:16,  5.92s/it]\n",
            "M: 0.9076782449725777 R: 0.8756855575868373██████████████████████▋                                                                                                                                            | 4/25 [00:06<00:24,  1.18s/it]\n",
            "M: 0.9791855203619909 R: 0.96289592760181███████████████████████████████▍                                                                                                                                     | 5/25 [00:07<00:23,  1.19s/it]\n",
            "M: 0.902461257976299 R: 0.8760255241567912█████████████████████████████████████                                                                                                                               | 6/25 [00:10<00:31,  1.65s/it]\n",
            "M: 0.960668633235005 R: 0.943952802359882████████████████████████████████████████████▊                                                                                                                        | 7/25 [00:11<00:30,  1.68s/it]\n",
            "M: 0.9884583676834295 R: 0.9859851607584501█████████████████████████████████████████████████▍                                                                                                                 | 8/25 [00:13<00:29,  1.72s/it]\n",
            "M: 0.9377700950734659 R: 0.9291270527225584████████████████████████████████████████████████████████                                                                                                           | 9/25 [00:14<00:20,  1.31s/it]\n",
            "M: 0.9491701244813278 R: 0.9398340248962656███████████████████████████████████████████████████████████████                                                                                                   | 10/25 [00:14<00:14,  1.04it/s]\n",
            "M: 0.9341723136495643 R: 0.9225556631171346█████████████████████████████████████████████████████████████████████▌                                                                                            | 11/25 [00:16<00:18,  1.36s/it]\n",
            "M: 0.9369786839666358 R: 0.9545875810936052████████████████████████████████████████████████████████████████████████████▏                                                                                     | 12/25 [00:19<00:23,  1.83s/it]\n",
            "M: 0.9366869037294016 R: 0.9505637467476149██████████████████████████████████████████████████████████████████████████████████▊                                                                               | 13/25 [00:19<00:16,  1.39s/it]\n",
            "M: 0.9535333978702807 R: 0.9912875121006777██████████████████████████████████████████████████████████████████████████████████▊                                                                               | 13/25 [00:19<00:16,  1.39s/it]\n",
            "M: 0.9893203883495145 R: 0.9601941747572815████████████████████████████████████████████████████████████████████████████████████████████████                                                                  | 15/25 [00:19<00:07,  1.27it/s]\n",
            "M: 0.9607843137254902 R: 0.9551820728291317██████████████████████████████████████████████████████████████████████████████████████████████████████▌                                                           | 16/25 [00:21<00:09,  1.02s/it]\n",
            "M: 0.913372582001682 R: 0.8915054667788057██████████████████████████████████████████████████████████████████████████████████████████████████████████████▏                                                    | 17/25 [00:25<00:14,  1.78s/it]\n",
            "M: 0.9067873303167421 R: 0.9104072398190045███████████████████████████████████████████████████████████████████████████████████████████████████████████████████▊                                              | 18/25 [00:25<00:09,  1.38s/it]\n",
            "M: 0.881100266193434 R: 0.8837622005323869███████████████████████████████████████████████████████████████████████████████████████████████████████████████████████████▍                                       | 19/25 [00:26<00:06,  1.06s/it]\n",
            "M: 0.9755434782608695 R: 0.9818840579710145██████████████████████████████████████████████████████████████████████████████████████████████████████████████████████████▍                                       | 19/25 [00:26<00:06,  1.06s/it]\n",
            "M: 0.9232142857142858 R: 0.9303571428571429███████████████████████████████████████████████████████████████████████████████████████████████████████████████████████████████████████▌                          | 21/25 [00:26<00:02,  1.51it/s]\n",
            "M: 0.9781368821292775 R: 0.9534220532319392██████████████████████████████████████████████████████████████████████████████████████████████████████████████████████████████████████████████▏                   | 22/25 [00:27<00:02,  1.35it/s]\n",
            "M: 0.8607825295723385 R: 0.813466787989081█████████████████████████████████████████████████████████████████████████████████████████████████████████████████████████████████████████████████████▊             | 23/25 [00:31<00:03,  1.63s/it]\n",
            "M: 0.9333888426311407 R: 0.8834304746044963███████████████████████████████████████████████████████████████████████████████████████████████████████████████████████████████████████████████████████████▍      | 24/25 [00:31<00:01,  1.27s/it]\n",
            "Average Metric: 5.95 / 25 (23.8%): 100%|█████████████████████████████████████████████████████████████████████████████████████████████████████████████████████████████████████████████████████████████████████| 25/25 [00:31<00:00,  1.28s/it]"
          ]
        },
        {
          "name": "stderr",
          "output_type": "stream",
          "text": [
            "2025/02/22 22:59:37 INFO dspy.evaluate.evaluate: Average Metric: 5.946058621965271 / 25 (23.8%)\n",
            "2025/02/22 22:59:37 INFO dspy.teleprompt.mipro_optimizer_v2: Score: 23.78 on minibatch of size 25 with parameters ['Predictor 0: Instruction 7', 'Predictor 0: Few-Shot Set 18'].\n",
            "2025/02/22 22:59:37 INFO dspy.teleprompt.mipro_optimizer_v2: Minibatch scores so far: [20.89, 29.74, 23.78]\n",
            "2025/02/22 22:59:37 INFO dspy.teleprompt.mipro_optimizer_v2: Full eval scores so far: [16.42]\n",
            "2025/02/22 22:59:37 INFO dspy.teleprompt.mipro_optimizer_v2: Best full score so far: 16.42\n",
            "2025/02/22 22:59:37 INFO dspy.teleprompt.mipro_optimizer_v2: =========================================\n",
            "\n",
            "\n",
            "2025/02/22 22:59:37 INFO dspy.teleprompt.mipro_optimizer_v2: == Trial 5 / 28 - Minibatch ==\n"
          ]
        },
        {
          "name": "stdout",
          "output_type": "stream",
          "text": [
            "\n",
            "M: 0.9867617107942973 R: 0.9470468431771895                                                                                                                                                                           | 0/25 [00:00<?, ?it/s]\n",
            "M: 0.9775668679896462 R: 0.9447799827437446██▋                                                                                                                                                                | 1/25 [00:05<02:00,  5.02s/it]\n",
            "M: 0.95625 R: 0.9303571428571429:   8%|█████████████▎                                                                                                                                                         | 2/25 [00:05<00:51,  2.24s/it]\n",
            "M: 0.8380345768880801 R: 0.813466787989081█████████████████                                                                                                                                                   | 3/25 [00:05<00:27,  1.27s/it]\n",
            "M: 0.96289592760181 R: 0.9610859728506788████████████████████████▋                                                                                                                                            | 4/25 [00:05<00:18,  1.16it/s]\n",
            "M: 0.8262032085561497 R: 0.8074866310160428█████████████████████████████▍                                                                                                                                     | 5/25 [00:06<00:13,  1.47it/s]\n",
            "M: 0.9709618874773139 R: 0.9718693284936479████████████████████████████████████                                                                                                                               | 6/25 [00:06<00:14,  1.34it/s]\n",
            "M: 0.9772313296903461 R: 0.9735883424408015██████████████████████████████████████████▊                                                                                                                        | 7/25 [00:10<00:32,  1.81s/it]\n",
            "M: 0.9539130434782609 R: 0.9243478260869565█████████████████████████████████████████████████▍                                                                                                                 | 8/25 [00:11<00:23,  1.40s/it]\n",
            "M: 0.9859030837004406 R: 0.9841409691629956████████████████████████████████████████████████████████                                                                                                           | 9/25 [00:12<00:19,  1.21s/it]\n",
            "M: 0.991362763915547 R: 0.9760076775431862█████████████████████████████████████████████████████████▊                                                                                                          | 9/25 [00:12<00:19,  1.21s/it]\n",
            "M: 0.9532163742690059 R: 0.9064327485380117█████████████████████████████████████████████████████████████████████▌                                                                                            | 11/25 [00:12<00:10,  1.29it/s]\n",
            "M: 0.9884583676834295 R: 0.9859851607584501████████████████████████████████████████████████████████████████████████████▏                                                                                     | 12/25 [00:13<00:09,  1.39it/s]\n",
            "M: 0.7650485436893204 R: 0.5970873786407767██████████████████████████████████████████████████████████████████████████████████▊                                                                               | 13/25 [00:16<00:15,  1.33s/it]\n",
            "M: 0.9794091316025068 R: 0.973142345568487██████████████████████████████████████████████████████████████████████████████████████████▍                                                                        | 14/25 [00:16<00:11,  1.06s/it]\n",
            "M: 0.951706910907577 R: 0.8834304746044963█████████████████████████████████████████████████████████████████████████████████████████████████                                                                  | 15/25 [00:17<00:09,  1.03it/s]\n",
            "M: 0.9587020648967551 R: 0.943952802359882███████████████████████████████████████████████████████████████████████████████████████████████████████▌                                                           | 16/25 [00:18<00:08,  1.07it/s]\n",
            "M: 0.9847036328871893 R: 0.9560229445506692█████████████████████████████████████████████████████████████████████████████████████████████████████████████▏                                                    | 17/25 [00:18<00:05,  1.36it/s]\n",
            "M: 0.968141592920354 R: 0.9557522123893806████████████████████████████████████████████████████████████████████████████████████████████████████████████████████▊                                              | 18/25 [00:18<00:04,  1.67it/s]\n",
            "M: 0.9402859545836838 R: 0.8915054667788057██████████████████████████████████████████████████████████████████████████████████████████████████████████████████████████▍                                       | 19/25 [00:21<00:07,  1.28s/it]\n",
            "M: 0.9574283231972198 R: 0.9626411815812337█████████████████████████████████████████████████████████████████████████████████████████████████████████████████████████████████                                 | 20/25 [00:22<00:05,  1.10s/it]\n",
            "M: 0.969672131147541 R: 0.978688524590164█████████████████████████████████████████████████████████████████████████████████████████████████████████████████████████████████████████▌                          | 21/25 [00:23<00:04,  1.12s/it]\n",
            "M: 0.9855203619909503 R: 0.96289592760181████████████████████████████████████████████████████████████████████████████████████████████████████████████████████████████████████████████████▏                   | 22/25 [00:23<00:02,  1.16it/s]\n",
            "M: 0.9882459312839059 R: 0.9719710669077758████████████████████████████████████████████████████████████████████████████████████████████████████████████████████████████████████████████████████▊             | 23/25 [00:25<00:02,  1.20s/it]\n",
            "M: 0.9443929564411492 R: 0.9545875810936052███████████████████████████████████████████████████████████████████████████████████████████████████████████████████████████████████████████████████████████▍      | 24/25 [00:26<00:01,  1.04s/it]\n",
            "Average Metric: 8.02 / 25 (32.1%): 100%|█████████████████████████████████████████████████████████████████████████████████████████████████████████████████████████████████████████████████████████████████████| 25/25 [00:28<00:00,  1.15s/it]"
          ]
        },
        {
          "name": "stderr",
          "output_type": "stream",
          "text": [
            "2025/02/22 23:00:06 INFO dspy.evaluate.evaluate: Average Metric: 8.022563929187084 / 25 (32.1%)\n",
            "2025/02/22 23:00:06 INFO dspy.teleprompt.mipro_optimizer_v2: Score: 32.09 on minibatch of size 25 with parameters ['Predictor 0: Instruction 15', 'Predictor 0: Few-Shot Set 2'].\n",
            "2025/02/22 23:00:06 INFO dspy.teleprompt.mipro_optimizer_v2: Minibatch scores so far: [20.89, 29.74, 23.78, 32.09]\n",
            "2025/02/22 23:00:06 INFO dspy.teleprompt.mipro_optimizer_v2: Full eval scores so far: [16.42]\n",
            "2025/02/22 23:00:06 INFO dspy.teleprompt.mipro_optimizer_v2: Best full score so far: 16.42\n",
            "2025/02/22 23:00:06 INFO dspy.teleprompt.mipro_optimizer_v2: =========================================\n",
            "\n",
            "\n",
            "2025/02/22 23:00:06 INFO dspy.teleprompt.mipro_optimizer_v2: == Trial 6 / 28 - Minibatch ==\n"
          ]
        },
        {
          "name": "stdout",
          "output_type": "stream",
          "text": [
            "\n",
            "M: 0.9480176211453745 R: 0.9841409691629956                                                                                                                                                                           | 0/25 [00:00<?, ?it/s]\n",
            "M: 0.9872495446265938 R: 0.9735883424408015█▋                                                                                                                                                                 | 1/25 [00:06<02:33,  6.38s/it]\n",
            "M: 0.8941176470588236 R: 0.9104072398190045█████████▎                                                                                                                                                         | 2/25 [00:06<01:05,  2.86s/it]\n",
            "M: 0.881100266193434 R: 0.8837622005323869█████████████████                                                                                                                                                   | 3/25 [00:06<00:35,  1.62s/it]\n",
            "M: 0.9600389863547758 R: 0.9064327485380117██████████████████████▋                                                                                                                                            | 4/25 [00:07<00:22,  1.06s/it]\n",
            "M: 0.8653321201091901 R: 0.8307552320291174█████████████████████████████▍                                                                                                                                     | 5/25 [00:07<00:14,  1.33it/s]\n",
            "M: 0.9517374517374517 R: 0.9324324324324325████████████████████████████████████                                                                                                                               | 6/25 [00:07<00:13,  1.40it/s]\n",
            "M: 0.9498657117278424 R: 0.9507609668755596██████████████████████████████████████████▊                                                                                                                        | 7/25 [00:13<00:40,  2.22s/it]\n",
            "M: 0.9773550724637681 R: 0.9818840579710145█████████████████████████████████████████████████▍                                                                                                                 | 8/25 [00:13<00:27,  1.62s/it]\n",
            "M: 0.9852430555555556 R: 0.9730902777777778█████████████████████████████████████████████████▍                                                                                                                 | 8/25 [00:13<00:27,  1.62s/it]\n",
            "M: 0.913372582001682 R: 0.8915054667788057████████████████████████████████████████████████████████████████                                                                                                   | 10/25 [00:14<00:16,  1.10s/it]\n",
            "M: 0.9598506069094305 R: 0.9551820728291317███████████████████████████████████████████████████████████████                                                                                                   | 10/25 [00:14<00:16,  1.10s/it]\n",
            "M: 0.9491701244813278 R: 0.9398340248962656████████████████████████████████████████████████████████████████████████████▏                                                                                     | 12/25 [00:15<00:09,  1.38it/s]\n",
            "M: 0.9028112449799197 R: 0.9036144578313253██████████████████████████████████████████████████████████████████████████████████▊                                                                               | 13/25 [00:18<00:17,  1.45s/it]\n",
            "M: 0.9537205081669692 R: 0.9718693284936479█████████████████████████████████████████████████████████████████████████████████████████▍                                                                        | 14/25 [00:19<00:12,  1.17s/it]\n",
            "M: 0.9876339653751031 R: 0.9859851607584501████████████████████████████████████████████████████████████████████████████████████████████████                                                                  | 15/25 [00:19<00:09,  1.08it/s]\n",
            "M: 0.9360518999073216 R: 0.9295644114921223██████████████████████████████████████████████████████████████████████████████████████████████████████▌                                                           | 16/25 [00:20<00:09,  1.01s/it]\n",
            "M: 0.959552495697074 R: 0.9629948364888123██████████████████████████████████████████████████████████████████████████████████████████████████████████████▏                                                    | 17/25 [00:20<00:06,  1.32it/s]\n",
            "M: 0.9915730337078652 R: 0.9850187265917603███████████████████████████████████████████████████████████████████████████████████████████████████████████████████▊                                              | 18/25 [00:21<00:05,  1.18it/s]\n",
            "M: 0.971945701357466 R: 0.9610859728506788███████████████████████████████████████████████████████████████████████████████████████████████████████████████████████████▍                                       | 19/25 [00:25<00:09,  1.65s/it]\n",
            "M: 0.9426229508196722 R: 0.978688524590164██████████████████████████████████████████████████████████████████████████████████████████████████████████████████████████████████                                 | 20/25 [00:28<00:09,  1.98s/it]\n",
            "M: 0.9401561144839549 R: 0.9505637467476149███████████████████████████████████████████████████████████████████████████████████████████████████████████████████████████████████████▌                          | 21/25 [00:29<00:06,  1.63s/it]\n",
            "M: 0.8885844748858447 R: 0.9589041095890412██████████████████████████████████████████████████████████████████████████████████████████████████████████████████████████████████████████████▏                   | 22/25 [00:31<00:05,  1.95s/it]\n",
            "M: 0.9358974358974359 R: 0.9478021978021978████████████████████████████████████████████████████████████████████████████████████████████████████████████████████████████████████████████████████▊             | 23/25 [00:33<00:03,  1.77s/it]\n",
            "M: 0.9825632083696599 R: 0.962510897994769████████████████████████████████████████████████████████████████████████████████████████████████████████████████████████████████████████████████████████████▍      | 24/25 [00:33<00:01,  1.46s/it]\n",
            "Average Metric: 3.97 / 25 (15.9%): 100%|█████████████████████████████████████████████████████████████████████████████████████████████████████████████████████████████████████████████████████████████████████| 25/25 [00:34<00:00,  1.38s/it]"
          ]
        },
        {
          "name": "stderr",
          "output_type": "stream",
          "text": [
            "2025/02/22 23:00:41 INFO dspy.evaluate.evaluate: Average Metric: 3.9658815885961074 / 25 (15.9%)\n",
            "2025/02/22 23:00:41 INFO dspy.teleprompt.mipro_optimizer_v2: Score: 15.86 on minibatch of size 25 with parameters ['Predictor 0: Instruction 8', 'Predictor 0: Few-Shot Set 18'].\n",
            "2025/02/22 23:00:41 INFO dspy.teleprompt.mipro_optimizer_v2: Minibatch scores so far: [20.89, 29.74, 23.78, 32.09, 15.86]\n",
            "2025/02/22 23:00:41 INFO dspy.teleprompt.mipro_optimizer_v2: Full eval scores so far: [16.42]\n",
            "2025/02/22 23:00:41 INFO dspy.teleprompt.mipro_optimizer_v2: Best full score so far: 16.42\n",
            "2025/02/22 23:00:41 INFO dspy.teleprompt.mipro_optimizer_v2: =========================================\n",
            "\n",
            "\n",
            "2025/02/22 23:00:41 INFO dspy.teleprompt.mipro_optimizer_v2: == Trial 7 / 28 - Minibatch ==\n"
          ]
        },
        {
          "name": "stdout",
          "output_type": "stream",
          "text": [
            "\n",
            "M: 0.829126213592233 R: 0.5970873786407767                                                                                                                                                                            | 0/25 [00:00<?, ?it/s]\n",
            "M: 0.9775491113189897 R: 0.9700654817586529██▋                                                                                                                                                                | 1/25 [00:06<02:28,  6.18s/it]\n",
            "M: 0.9204753199268738 R: 0.8756855575868373██▋                                                                                                                                                                | 1/25 [00:06<02:28,  6.18s/it]\n",
            "M: 0.9547206165703276 R: 0.9421965317919075████████████████                                                                                                                                                   | 3/25 [00:06<00:38,  1.75s/it]\n",
            "M: 0.943466172381835 R: 0.9295644114921223███████████████████████▋                                                                                                                                            | 4/25 [00:07<00:30,  1.44s/it]\n",
            "M: 0.9857433808553971 R: 0.9470468431771895█████████████████████████████▍                                                                                                                                     | 5/25 [00:11<00:45,  2.27s/it]\n",
            "M: 0.9419680403700589 R: 0.8915054667788057████████████████████████████████████                                                                                                                               | 6/25 [00:12<00:33,  1.74s/it]\n",
            "M: 0.9646098003629764 R: 0.9718693284936479████████████████████████████████████                                                                                                                               | 6/25 [00:12<00:33,  1.74s/it]\n",
            "M: 0.947085201793722 R: 0.9049327354260089██████████████████████████████████████████████████▍                                                                                                                 | 8/25 [00:12<00:17,  1.02s/it]\n",
            "M: 0.9548672566371681 R: 0.9557522123893806█████████████████████████████████████████████████▍                                                                                                                 | 8/25 [00:12<00:17,  1.02s/it]\n",
            "M: 0.9918032786885246 R: 0.982695810564663████████████████████████████████████████████████████████████████                                                                                                   | 10/25 [00:13<00:13,  1.15it/s]\n",
            "M: 0.9767233661593554 R: 0.973142345568487██████████████████████████████████████████████████████████████████████▌                                                                                            | 11/25 [00:17<00:20,  1.45s/it]\n",
            "M: 0.9800904977375565 R: 0.96289592760181██████████████████████████████████████████████████████████████████████████████▏                                                                                     | 12/25 [00:18<00:17,  1.34s/it]\n",
            "M: 0.9459016393442623 R: 0.978688524590164███████████████████████████████████████████████████████████████████████████████████▊                                                                               | 13/25 [00:18<00:13,  1.12s/it]\n",
            "M: 0.9686956521739131 R: 0.9243478260869565██████████████████████████████████████████████████████████████████████████████████▊                                                                               | 13/25 [00:18<00:13,  1.12s/it]\n",
            "M: 0.9837251356238698 R: 0.9719710669077758████████████████████████████████████████████████████████████████████████████████████████████████                                                                  | 15/25 [00:18<00:06,  1.50it/s]\n",
            "M: 0.967032967032967 R: 0.9478021978021978███████████████████████████████████████████████████████████████████████████████████████████████████████▌                                                           | 16/25 [00:23<00:13,  1.51s/it]\n",
            "M: 0.9845173041894353 R: 0.9735883424408015█████████████████████████████████████████████████████████████████████████████████████████████████████████████▏                                                    | 17/25 [00:25<00:13,  1.64s/it]\n",
            "M: 0.9645191409897292 R: 0.9551820728291317███████████████████████████████████████████████████████████████████████████████████████████████████████████████████▊                                              | 18/25 [00:25<00:09,  1.29s/it]\n",
            "M: 0.9477250726040658 R: 0.9912875121006777██████████████████████████████████████████████████████████████████████████████████████████████████████████████████████████▍                                       | 19/25 [00:26<00:07,  1.23s/it]\n",
            "M: 0.8253119429590018 R: 0.8074866310160428█████████████████████████████████████████████████████████████████████████████████████████████████████████████████████████████████                                 | 20/25 [00:26<00:04,  1.08it/s]\n",
            "M: 0.9295644114921223 R: 0.9545875810936052███████████████████████████████████████████████████████████████████████████████████████████████████████████████████████████████████████▌                          | 21/25 [00:28<00:04,  1.11s/it]\n",
            "M: 0.9836488812392427 R: 0.9629948364888123██████████████████████████████████████████████████████████████████████████████████████████████████████████████████████████████████████████████▏                   | 22/25 [00:30<00:03,  1.32s/it]\n",
            "M: 0.8917480035492458 R: 0.8837622005323869████████████████████████████████████████████████████████████████████████████████████████████████████████████████████████████████████████████████████▊             | 23/25 [00:32<00:03,  1.80s/it]\n",
            "M: 0.9874638379942141 R: 0.9729990356798457████████████████████████████████████████████████████████████████████████████████████████████████████████████████████████████████████████████████████▊             | 23/25 [00:33<00:03,  1.80s/it]\n",
            "Average Metric: 7.62 / 25 (30.5%): 100%|█████████████████████████████████████████████████████████████████████████████████████████████████████████████████████████████████████████████████████████████████████| 25/25 [00:33<00:00,  1.33s/it]"
          ]
        },
        {
          "name": "stderr",
          "output_type": "stream",
          "text": [
            "2025/02/22 23:01:14 INFO dspy.evaluate.evaluate: Average Metric: 7.61883624097316 / 25 (30.5%)\n",
            "2025/02/22 23:01:14 INFO dspy.teleprompt.mipro_optimizer_v2: Score: 30.48 on minibatch of size 25 with parameters ['Predictor 0: Instruction 7', 'Predictor 0: Few-Shot Set 1'].\n",
            "2025/02/22 23:01:14 INFO dspy.teleprompt.mipro_optimizer_v2: Minibatch scores so far: [20.89, 29.74, 23.78, 32.09, 15.86, 30.48]\n",
            "2025/02/22 23:01:14 INFO dspy.teleprompt.mipro_optimizer_v2: Full eval scores so far: [16.42]\n",
            "2025/02/22 23:01:14 INFO dspy.teleprompt.mipro_optimizer_v2: Best full score so far: 16.42\n",
            "2025/02/22 23:01:14 INFO dspy.teleprompt.mipro_optimizer_v2: =========================================\n",
            "\n",
            "\n",
            "2025/02/22 23:01:14 INFO dspy.teleprompt.mipro_optimizer_v2: == Trial 8 / 28 - Minibatch ==\n"
          ]
        },
        {
          "name": "stdout",
          "output_type": "stream",
          "text": [
            "\n",
            "M: 0.9770554493307839 R: 0.9560229445506692                                                                                                                                                                           | 0/25 [00:00<?, ?it/s]\n",
            "M: 0.9713541666666666 R: 0.9730902777777778██▋                                                                                                                                                                | 1/25 [00:06<02:39,  6.65s/it]\n",
            "M: 0.9304911955514366 R: 0.9295644114921223█████████▎                                                                                                                                                         | 2/25 [00:06<01:05,  2.83s/it]\n",
            "M: 0.9776247848537005 R: 0.9629948364888123████████████████                                                                                                                                                   | 3/25 [00:06<00:35,  1.61s/it]\n",
            "M: 0.9095063985374772 R: 0.8756855575868373████████████████                                                                                                                                                   | 3/25 [00:07<00:35,  1.61s/it]\n",
            "M: 0.9661172161172161 R: 0.9478021978021978██████████████████████▋                                                                                                                                            | 4/25 [00:07<00:33,  1.61s/it]\n",
            "M: 0.9621145374449339 R: 0.9841409691629956████████████████████████████████████                                                                                                                               | 6/25 [00:07<00:10,  1.76it/s]\n",
            "M: 0.9942418426103646 R: 0.9760076775431862████████████████████████████████████                                                                                                                               | 6/25 [00:12<00:10,  1.76it/s]\n",
            "M: 0.9664246823956443 R: 0.9718693284936479█████████████████████████████████████████████████▍                                                                                                                 | 8/25 [00:13<00:25,  1.50s/it]\n",
            "M: 0.9298085688240656 R: 0.8760255241567912████████████████████████████████████████████████████████                                                                                                           | 9/25 [00:13<00:19,  1.24s/it]\n",
            "M: 0.9496964440589766 R: 0.9505637467476149███████████████████████████████████████████████████████████████                                                                                                   | 10/25 [00:13<00:14,  1.02it/s]\n",
            "M: 0.99128160418483 R: 0.962510897994769████████████████████████████████████████████████████████████████████████▌                                                                                            | 11/25 [00:14<00:12,  1.09it/s]\n",
            "M: 0.960668633235005 R: 0.943952802359882██████████████████████████████████████████████████████████████████████████████▏                                                                                     | 12/25 [00:16<00:15,  1.19s/it]\n",
            "M: 0.9341983317886933 R: 0.9545875810936052██████████████████████████████████████████████████████████████████████████████████▊                                                                               | 13/25 [00:18<00:18,  1.57s/it]\n",
            "M: 0.9491701244813278 R: 0.9398340248962656██████████████████████████████████████████████████████████████████████████████████▊                                                                               | 13/25 [00:18<00:18,  1.57s/it]\n",
            "M: 0.9645191409897292 R: 0.9551820728291317████████████████████████████████████████████████████████████████████████████████████████████████                                                                  | 15/25 [00:19<00:09,  1.01it/s]\n",
            "M: 0.983754512635379 R: 0.9765342960288809███████████████████████████████████████████████████████████████████████████████████████████████████████▌                                                           | 16/25 [00:19<00:07,  1.13it/s]\n",
            "M: 0.994535519125683 R: 0.982695810564663███████████████████████████████████████████████████████████████████████████████████████████████████████████████▏                                                    | 17/25 [00:20<00:05,  1.35it/s]\n",
            "M: 0.942495126705653 R: 0.9064327485380117████████████████████████████████████████████████████████████████████████████████████████████████████████████████████▊                                              | 18/25 [00:21<00:07,  1.03s/it]\n",
            "M: 0.9884583676834295 R: 0.9859851607584501██████████████████████████████████████████████████████████████████████████████████████████████████████████████████████████▍                                       | 19/25 [00:24<00:08,  1.50s/it]\n",
            "M: 0.9897003745318352 R: 0.9850187265917603█████████████████████████████████████████████████████████████████████████████████████████████████████████████████████████████████                                 | 20/25 [00:25<00:06,  1.22s/it]\n",
            "M: 0.9561643835616438 R: 0.9589041095890412███████████████████████████████████████████████████████████████████████████████████████████████████████████████████████████████████████▌                          | 21/25 [00:25<00:03,  1.01it/s]\n",
            "M: 0.9582608695652174 R: 0.9243478260869565██████████████████████████████████████████████████████████████████████████████████████████████████████████████████████████████████████████████▏                   | 22/25 [00:26<00:02,  1.20it/s]\n",
            "M: 0.7786407766990291 R: 0.5970873786407767████████████████████████████████████████████████████████████████████████████████████████████████████████████████████████████████████████████████████▊             | 23/25 [00:27<00:01,  1.09it/s]\n",
            "M: 0.9809885931558935 R: 0.9534220532319392███████████████████████████████████████████████████████████████████████████████████████████████████████████████████████████████████████████████████████████▍      | 24/25 [00:27<00:00,  1.35it/s]\n",
            "Average Metric: 7.50 / 25 (30.0%): 100%|█████████████████████████████████████████████████████████████████████████████████████████████████████████████████████████████████████████████████████████████████████| 25/25 [00:30<00:00,  1.23s/it]"
          ]
        },
        {
          "name": "stderr",
          "output_type": "stream",
          "text": [
            "2025/02/22 23:01:45 INFO dspy.evaluate.evaluate: Average Metric: 7.495725464373096 / 25 (30.0%)\n",
            "2025/02/22 23:01:45 INFO dspy.teleprompt.mipro_optimizer_v2: Score: 29.98 on minibatch of size 25 with parameters ['Predictor 0: Instruction 7', 'Predictor 0: Few-Shot Set 12'].\n",
            "2025/02/22 23:01:45 INFO dspy.teleprompt.mipro_optimizer_v2: Minibatch scores so far: [20.89, 29.74, 23.78, 32.09, 15.86, 30.48, 29.98]\n",
            "2025/02/22 23:01:45 INFO dspy.teleprompt.mipro_optimizer_v2: Full eval scores so far: [16.42]\n",
            "2025/02/22 23:01:45 INFO dspy.teleprompt.mipro_optimizer_v2: Best full score so far: 16.42\n",
            "2025/02/22 23:01:45 INFO dspy.teleprompt.mipro_optimizer_v2: =========================================\n",
            "\n",
            "\n",
            "2025/02/22 23:01:45 INFO dspy.teleprompt.mipro_optimizer_v2: == Trial 9 / 28 - Minibatch ==\n"
          ]
        },
        {
          "name": "stdout",
          "output_type": "stream",
          "text": [
            "\n",
            "M: 0.9672977624784853 R: 0.9629948364888123                                                                                                                                                                           | 0/25 [00:00<?, ?it/s]\n",
            "M: 0.9894086496028244 R: 0.9664607237422771██▋                                                                                                                                                                | 1/25 [00:06<02:26,  6.12s/it]\n",
            "M: 0.9394987035436474 R: 0.9291270527225584█████████▎                                                                                                                                                         | 2/25 [00:08<01:24,  3.68s/it]\n",
            "M: 0.9864995178399228 R: 0.9729990356798457████████████████                                                                                                                                                   | 3/25 [00:12<01:31,  4.17s/it]\n",
            "M: 0.9332176929748482 R: 0.9505637467476149██████████████████████▋                                                                                                                                            | 4/25 [00:13<00:54,  2.59s/it]\n",
            "M: 0.9884583676834295 R: 0.9859851607584501█████████████████████████████▍                                                                                                                                     | 5/25 [00:13<00:34,  1.71s/it]\n",
            "M: 0.980819529206626 R: 0.962510897994769██████████████████████████████████████                                                                                                                               | 6/25 [00:13<00:23,  1.23s/it]\n",
            "M: 0.9745901639344262 R: 0.978688524590164███████████████████████████████████████████▊                                                                                                                        | 7/25 [00:13<00:16,  1.09it/s]\n",
            "M: 0.9623992837958818 R: 0.9507609668755596█████████████████████████████████████████████████▍                                                                                                                 | 8/25 [00:17<00:31,  1.84s/it]\n",
            "M: 0.9884836852207294 R: 0.9760076775431862████████████████████████████████████████████████████████                                                                                                           | 9/25 [00:18<00:25,  1.62s/it]\n",
            "M: 0.9080348499515973 R: 0.9225556631171346███████████████████████████████████████████████████████████████                                                                                                   | 10/25 [00:18<00:17,  1.18s/it]\n",
            "M: 0.9208695652173913 R: 0.9243478260869565█████████████████████████████████████████████████████████████████████▌                                                                                            | 11/25 [00:19<00:13,  1.05it/s]\n",
            "M: 0.9918032786885246 R: 0.982695810564663█████████████████████████████████████████████████████████████████████████████▏                                                                                     | 12/25 [00:19<00:10,  1.27it/s]\n",
            "M: 0.9781368821292775 R: 0.9534220532319392██████████████████████████████████████████████████████████████████████████████████▊                                                                               | 13/25 [00:20<00:08,  1.49it/s]\n",
            "M: 0.9285714285714286 R: 0.9303571428571429█████████████████████████████████████████████████████████████████████████████████████████▍                                                                        | 14/25 [00:24<00:18,  1.71s/it]\n",
            "M: 0.9906367041198502 R: 0.9850187265917603████████████████████████████████████████████████████████████████████████████████████████████████                                                                  | 15/25 [00:24<00:12,  1.25s/it]\n",
            "M: 0.9612334801762115 R: 0.9841409691629956████████████████████████████████████████████████████████████████████████████████████████████████                                                                  | 15/25 [00:24<00:12,  1.25s/it]\n",
            "M: 0.9791666666666666 R: 0.9730902777777778█████████████████████████████████████████████████████████████████████████████████████████████████████████████▏                                                    | 17/25 [00:25<00:07,  1.08it/s]\n",
            "M: 0.910828025477707 R: 0.8307552320291174██████████████████████████████████████████████████████████████████████████████████████████████████████████████▏                                                    | 17/25 [00:25<00:07,  1.08it/s]\n",
            "M: 0.9207828518173345 R: 0.9739049394221808██████████████████████████████████████████████████████████████████████████████████████████████████████████████████████████▍                                       | 19/25 [00:27<00:05,  1.06it/s]\n",
            "M: 0.9855203619909503 R: 0.96289592760181███████████████████████████████████████████████████████████████████████████████████████████████████████████████████████████████████                                 | 20/25 [00:29<00:06,  1.27s/it]\n",
            "M: 0.9125315391084945 R: 0.8915054667788057█████████████████████████████████████████████████████████████████████████████████████████████████████████████████████████████████                                 | 20/25 [00:29<00:06,  1.27s/it]\n",
            "M: 0.9867617107942973 R: 0.9470468431771895██████████████████████████████████████████████████████████████████████████████████████████████████████████████████████████████████████████████▏                   | 22/25 [00:29<00:02,  1.26it/s]\n",
            "M: 0.9835069444444444 R: 0.9739583333333334████████████████████████████████████████████████████████████████████████████████████████████████████████████████████████████████████████████████████▊             | 23/25 [00:30<00:01,  1.46it/s]\n",
            "M: 0.8798206278026905 R: 0.9049327354260089███████████████████████████████████████████████████████████████████████████████████████████████████████████████████████████████████████████████████████████▍      | 24/25 [00:30<00:00,  1.72it/s]\n",
            "Average Metric: 6.93 / 25 (27.7%): 100%|█████████████████████████████████████████████████████████████████████████████████████████████████████████████████████████████████████████████████████████████████████| 25/25 [00:35<00:00,  1.43s/it]"
          ]
        },
        {
          "name": "stderr",
          "output_type": "stream",
          "text": [
            "2025/02/22 23:02:21 INFO dspy.evaluate.evaluate: Average Metric: 6.9271113565145335 / 25 (27.7%)\n",
            "2025/02/22 23:02:21 INFO dspy.teleprompt.mipro_optimizer_v2: Score: 27.71 on minibatch of size 25 with parameters ['Predictor 0: Instruction 11', 'Predictor 0: Few-Shot Set 13'].\n",
            "2025/02/22 23:02:21 INFO dspy.teleprompt.mipro_optimizer_v2: Minibatch scores so far: [20.89, 29.74, 23.78, 32.09, 15.86, 30.48, 29.98, 27.71]\n",
            "2025/02/22 23:02:21 INFO dspy.teleprompt.mipro_optimizer_v2: Full eval scores so far: [16.42]\n",
            "2025/02/22 23:02:21 INFO dspy.teleprompt.mipro_optimizer_v2: Best full score so far: 16.42\n",
            "2025/02/22 23:02:21 INFO dspy.teleprompt.mipro_optimizer_v2: =========================================\n",
            "\n",
            "\n",
            "2025/02/22 23:02:21 INFO dspy.teleprompt.mipro_optimizer_v2: == Trial 10 / 28 - Minibatch ==\n"
          ]
        },
        {
          "name": "stdout",
          "output_type": "stream",
          "text": [
            "\n",
            "M: 0.8155339805825242 R: 0.5970873786407767                                                                                                                                                                           | 0/25 [00:00<?, ?it/s]\n",
            "M: 0.9225159525979946 R: 0.8760255241567912██▋                                                                                                                                                                | 1/25 [00:06<02:24,  6.01s/it]\n",
            "M: 0.9847036328871893 R: 0.9560229445506692█████████▎                                                                                                                                                         | 2/25 [00:06<00:58,  2.56s/it]\n",
            "M: 0.9655172413793104 R: 0.9718693284936479█████████▎                                                                                                                                                         | 2/25 [00:06<00:58,  2.56s/it]\n",
            "M: 0.9642857142857143 R: 0.9478021978021978██████████████████████▋                                                                                                                                            | 4/25 [00:06<00:21,  1.01s/it]\n",
            "M: 0.9174887892376682 R: 0.9049327354260089█████████████████████████████▍                                                                                                                                     | 5/25 [00:06<00:14,  1.37it/s]\n",
            "M: 0.8689717925386715 R: 0.813466787989081█████████████████████████████████████                                                                                                                               | 6/25 [00:06<00:10,  1.84it/s]\n",
            "M: 0.9416126042632067 R: 0.9545875810936052██████████████████████████████████████████▊                                                                                                                        | 7/25 [00:12<00:37,  2.10s/it]\n",
            "M: 0.9531656548135299 R: 0.9505637467476149█████████████████████████████████████████████████▍                                                                                                                 | 8/25 [00:12<00:26,  1.55s/it]\n",
            "M: 0.9213893967093236 R: 0.8756855575868373████████████████████████████████████████████████████████                                                                                                           | 9/25 [00:12<00:18,  1.14s/it]\n",
            "M: 0.991321118611379 R: 0.9729990356798457████████████████████████████████████████████████████████████████                                                                                                   | 10/25 [00:13<00:14,  1.06it/s]\n",
            "M: 0.8342245989304813 R: 0.8074866310160428█████████████████████████████████████████████████████████████████████▌                                                                                            | 11/25 [00:13<00:11,  1.27it/s]\n",
            "M: 0.9878472222222222 R: 0.9730902777777778████████████████████████████████████████████████████████████████████████████▏                                                                                     | 12/25 [00:13<00:08,  1.62it/s]\n",
            "M: 0.9544642857142858 R: 0.9303571428571429██████████████████████████████████████████████████████████████████████████████████▊                                                                               | 13/25 [00:17<00:18,  1.55s/it]\n",
            "M: 0.9917559769167353 R: 0.9859851607584501█████████████████████████████████████████████████████████████████████████████████████████▍                                                                        | 14/25 [00:17<00:13,  1.19s/it]\n",
            "M: 0.98816029143898 R: 0.9735883424408015███████████████████████████████████████████████████████████████████████████████████████████▍                                                                        | 14/25 [00:17<00:13,  1.19s/it]\n",
            "M: 0.96171802054155 R: 0.9551820728291317████████████████████████████████████████████████████████████████████████████████████████████████████████▌                                                           | 16/25 [00:18<00:07,  1.21it/s]\n",
            "M: 0.9906367041198502 R: 0.9850187265917603█████████████████████████████████████████████████████████████████████████████████████████████████████████████▏                                                    | 17/25 [00:19<00:05,  1.41it/s]\n",
            "M: 0.9856759176365264 R: 0.973142345568487████████████████████████████████████████████████████████████████████████████████████████████████████████████████████▊                                              | 18/25 [00:19<00:03,  1.76it/s]\n",
            "M: 0.953757225433526 R: 0.9421965317919075███████████████████████████████████████████████████████████████████████████████████████████████████████████████████████████▍                                       | 19/25 [00:23<00:09,  1.51s/it]\n",
            "M: 0.9481327800829875 R: 0.9398340248962656█████████████████████████████████████████████████████████████████████████████████████████████████████████████████████████████████                                 | 20/25 [00:24<00:06,  1.33s/it]\n",
            "M: 0.9822263797942001 R: 0.9700654817586529███████████████████████████████████████████████████████████████████████████████████████████████████████████████████████████████████████▌                          | 21/25 [00:24<00:04,  1.07s/it]\n",
            "M: 0.9600347523892268 R: 0.9626411815812337██████████████████████████████████████████████████████████████████████████████████████████████████████████████████████████████████████████████▏                   | 22/25 [00:24<00:02,  1.22it/s]\n",
            "M: 0.9758281110116384 R: 0.9507609668755596████████████████████████████████████████████████████████████████████████████████████████████████████████████████████████████████████████████████████▊             | 23/25 [00:25<00:01,  1.32it/s]\n",
            "M: 0.9417152373022482 R: 0.8834304746044963███████████████████████████████████████████████████████████████████████████████████████████████████████████████████████████████████████████████████████████▍      | 24/25 [00:25<00:00,  1.75it/s]\n",
            "Average Metric: 8.15 / 25 (32.6%): 100%|█████████████████████████████████████████████████████████████████████████████████████████████████████████████████████████████████████████████████████████████████████| 25/25 [00:29<00:00,  1.19s/it]"
          ]
        },
        {
          "name": "stderr",
          "output_type": "stream",
          "text": [
            "2025/02/22 23:02:51 INFO dspy.evaluate.evaluate: Average Metric: 8.154309194280662 / 25 (32.6%)\n",
            "2025/02/22 23:02:51 INFO dspy.teleprompt.mipro_optimizer_v2: Score: 32.62 on minibatch of size 25 with parameters ['Predictor 0: Instruction 5', 'Predictor 0: Few-Shot Set 4'].\n",
            "2025/02/22 23:02:51 INFO dspy.teleprompt.mipro_optimizer_v2: Minibatch scores so far: [20.89, 29.74, 23.78, 32.09, 15.86, 30.48, 29.98, 27.71, 32.62]\n",
            "2025/02/22 23:02:51 INFO dspy.teleprompt.mipro_optimizer_v2: Full eval scores so far: [16.42]\n",
            "2025/02/22 23:02:51 INFO dspy.teleprompt.mipro_optimizer_v2: Best full score so far: 16.42\n",
            "2025/02/22 23:02:51 INFO dspy.teleprompt.mipro_optimizer_v2: ==========================================\n",
            "\n",
            "\n",
            "2025/02/22 23:02:51 INFO dspy.teleprompt.mipro_optimizer_v2: ===== Trial 11 / 28 - Full Evaluation =====\n",
            "2025/02/22 23:02:51 INFO dspy.teleprompt.mipro_optimizer_v2: Doing full eval on next top averaging program (Avg Score: 32.62) from minibatch trials...\n"
          ]
        },
        {
          "name": "stdout",
          "output_type": "stream",
          "text": [
            "\n",
            "M: 0.9417152373022482 R: 0.8834304746044963                                                                                                                                                                           | 0/60 [00:00<?, ?it/s]\n",
            "M: 0.9213893967093236 R: 0.8756855575868373                                                                                                                                                                   | 1/60 [00:02<02:40,  2.72s/it]\n",
            "M: 0.991321118611379 R: 0.9729990356798457                                                                                                                                                                    | 1/60 [00:02<02:40,  2.72s/it]\n",
            "M: 0.9600347523892268 R: 0.9626411815812337████▎                                                                                                                                                              | 3/60 [00:02<00:43,  1.31it/s]\n",
            "M: 0.8155339805825242 R: 0.5970873786407767███████▏                                                                                                                                                           | 4/60 [00:03<00:30,  1.83it/s]\n",
            "M: 0.9481327800829875 R: 0.9398340248962656█████████▉                                                                                                                                                         | 5/60 [00:03<00:22,  2.42it/s]\n",
            "M: 0.9873303167420815 R: 0.96289592760181██████████████▋                                                                                                                                                      | 6/60 [00:05<01:01,  1.14s/it]\n",
            "M: 0.9642857142857143 R: 0.9478021978021978████████████▋                                                                                                                                                      | 6/60 [00:05<01:01,  1.14s/it]\n",
            "M: 0.9906367041198502 R: 0.9850187265917603██████████████████▎                                                                                                                                                | 8/60 [00:08<01:01,  1.18s/it]\n",
            "M: 0.9837251356238698 R: 0.9719710669077758██████████████████▎                                                                                                                                                | 8/60 [00:08<01:01,  1.18s/it]\n",
            "M: 0.9417652411282984 R: 0.8307552320291174████████████████████████▌                                                                                                                                         | 10/60 [00:09<00:44,  1.13it/s]\n",
            "M: 0.9784037558685446 R: 0.9436619718309859████████████████████████▌                                                                                                                                         | 10/60 [00:09<00:44,  1.13it/s]\n",
            "M: 0.8342245989304813 R: 0.8074866310160428██████████████████████████████                                                                                                                                    | 12/60 [00:09<00:30,  1.56it/s]\n",
            "M: 0.9682819383259912 R: 0.9841409691629956████████████████████████████████▊                                                                                                                                 | 13/60 [00:10<00:33,  1.39it/s]\n",
            "M: 0.9856759176365264 R: 0.973142345568487████████████████████████████████████▌                                                                                                                              | 14/60 [00:12<00:44,  1.03it/s]\n",
            "M: 0.95968534906588 R: 0.943952802359882█████████████████████████████████████████▎                                                                                                                           | 15/60 [00:13<00:43,  1.04it/s]\n",
            "M: 0.9822263797942001 R: 0.9700654817586529█████████████████████████████████████████                                                                                                                         | 16/60 [00:13<00:35,  1.25it/s]\n",
            "M: 0.9412861136999068 R: 0.9739049394221808███████████████████████████████████████████▊                                                                                                                      | 17/60 [00:14<00:37,  1.14it/s]\n",
            "M: 0.9351251158480074 R: 0.9295644114921223██████████████████████████████████████████████▌                                                                                                                   | 18/60 [00:15<00:34,  1.20it/s]\n",
            "M: 0.9416126042632067 R: 0.9545875810936052█████████████████████████████████████████████████▎                                                                                                                | 19/60 [00:15<00:27,  1.51it/s]\n",
            "M: 0.9921875 R: 0.9739583333333334  33%|███████████████████████████████████████████████████████                                                                                                              | 20/60 [00:16<00:25,  1.58it/s]\n",
            "M: 0.9758281110116384 R: 0.9507609668755596██████████████████████████████████████████████████████▋                                                                                                           | 21/60 [00:16<00:21,  1.82it/s]\n",
            "M: 0.9782805429864253 R: 0.9610859728506788█████████████████████████████████████████████████████████▍                                                                                                        | 22/60 [00:18<00:38,  1.02s/it]\n",
            "M: 0.9845094664371773 R: 0.9629948364888123████████████████████████████████████████████████████████████▎                                                                                                     | 23/60 [00:19<00:29,  1.26it/s]\n",
            "M: 0.9377700950734659 R: 0.9291270527225584███████████████████████████████████████████████████████████████                                                                                                   | 24/60 [00:20<00:34,  1.04it/s]\n",
            "M: 0.9791666666666666 R: 0.9818840579710145█████████████████████████████████████████████████████████████████▊                                                                                                | 25/60 [00:21<00:29,  1.18it/s]\n",
            "M: 0.9767040552200172 R: 0.9447799827437446████████████████████████████████████████████████████████████████████▌                                                                                             | 26/60 [00:21<00:26,  1.28it/s]\n",
            "M: 0.994535519125683 R: 0.982695810564663█████████████████████████████████████████████████████████████████████████▎                                                                                          | 27/60 [00:22<00:23,  1.40it/s]\n",
            "M: 0.9719264278799613 R: 0.9912875121006777██████████████████████████████████████████████████████████████████████████▌                                                                                       | 28/60 [00:24<00:38,  1.21s/it]\n",
            "M: 0.9877800407331976 R: 0.9470468431771895█████████████████████████████████████████████████████████████████████████████▎                                                                                    | 29/60 [00:25<00:30,  1.02it/s]\n",
            "M: 0.9942418426103646 R: 0.9760076775431862████████████████████████████████████████████████████████████████████████████████                                                                                  | 30/60 [00:26<00:33,  1.10s/it]\n",
            "M: 0.9174887892376682 R: 0.9049327354260089██████████████████████████████████████████████████████████████████████████████████▋                                                                               | 31/60 [00:26<00:26,  1.10it/s]\n",
            "M: 0.9847036328871893 R: 0.9560229445506692██████████████████████████████████████████████████████████████████████████████████▋                                                                               | 31/60 [00:26<00:26,  1.10it/s]\n",
            "M: 0.9902912621359223 R: 0.9664607237422771████████████████████████████████████████████████████████████████████████████████████████▏                                                                         | 33/60 [00:27<00:19,  1.41it/s]\n",
            "M: 0.9532163742690059 R: 0.9064327485380117██████████████████████████████████████████████████████████████████████████████████████████▉                                                                       | 34/60 [00:27<00:14,  1.76it/s]\n",
            "M: 0.9878472222222222 R: 0.9730902777777778█████████████████████████████████████████████████████████████████████████████████████████████▋                                                                    | 35/60 [00:28<00:13,  1.90it/s]\n",
            "M: 0.9561643835616438 R: 0.9589041095890412████████████████████████████████████████████████████████████████████████████████████████████████▍                                                                 | 36/60 [00:29<00:16,  1.47it/s]\n",
            "M: 0.9128751210067764 R: 0.9225556631171346███████████████████████████████████████████████████████████████████████████████████████████████████▏                                                              | 37/60 [00:32<00:31,  1.36s/it]\n",
            "M: 0.970532319391635 R: 0.9534220532319392██████████████████████████████████████████████████████████████████████████████████████████████████████▊                                                            | 38/60 [00:33<00:28,  1.30s/it]\n",
            "M: 0.9883495145631068 R: 0.9601941747572815████████████████████████████████████████████████████████████████████████████████████████████████████████▌                                                         | 39/60 [00:34<00:22,  1.08s/it]\n",
            "M: 0.9225159525979946 R: 0.8760255241567912███████████████████████████████████████████████████████████████████████████████████████████████████████████▎                                                      | 40/60 [00:34<00:16,  1.22it/s]\n",
            "M: 0.9527027027027027 R: 0.9324324324324325██████████████████████████████████████████████████████████████████████████████████████████████████████████████                                                    | 41/60 [00:35<00:15,  1.25it/s]\n",
            "M: 0.953757225433526 R: 0.9421965317919075█████████████████████████████████████████████████████████████████████████████████████████████████████████████████▊                                                 | 42/60 [00:35<00:11,  1.51it/s]\n",
            "M: 0.9917559769167353 R: 0.9859851607584501███████████████████████████████████████████████████████████████████████████████████████████████████████████████████▌                                              | 43/60 [00:36<00:10,  1.65it/s]\n",
            "M: 0.9544642857142858 R: 0.9303571428571429██████████████████████████████████████████████████████████████████████████████████████████████████████████████████████▎                                           | 44/60 [00:36<00:11,  1.43it/s]\n",
            "M: 0.9655172413793104 R: 0.9718693284936479█████████████████████████████████████████████████████████████████████████████████████████████████████████████████████████                                         | 45/60 [00:37<00:10,  1.43it/s]\n",
            "M: 0.9810066476733144 R: 0.9287749287749287███████████████████████████████████████████████████████████████████████████████████████████████████████████████████████████▋                                      | 46/60 [00:38<00:10,  1.37it/s]\n",
            "M: 0.8961845607808341 R: 0.8837622005323869███████████████████████████████████████████████████████████████████████████████████████████████████████████████████████████▋                                      | 46/60 [00:38<00:10,  1.37it/s]\n",
            "M: 0.98816029143898 R: 0.9735883424408015███████████████████████████████████████████████████████████████████████████████████████████████████████████████████████████████████▏                                | 48/60 [00:40<00:10,  1.17it/s]\n",
            "M: 0.9711191335740073 R: 0.9765342960288809███████████████████████████████████████████████████████████████████████████████████████████████████████████████████████████████████▉                              | 49/60 [00:40<00:07,  1.47it/s]\n",
            "M: 0.96171802054155 R: 0.9551820728291317████████████████████████████████████████████████████████████████████████████████████████████████████████████████████████████████████████▋                           | 50/60 [00:40<00:05,  1.73it/s]\n",
            "M: 0.8689717925386715 R: 0.813466787989081██████████████████████████████████████████████████████████████████████████████████████████████████████████████████████████████████████████▍                        | 51/60 [00:42<00:08,  1.09it/s]\n",
            "M: 0.9895379250217959 R: 0.962510897994769█████████████████████████████████████████████████████████████████████████████████████████████████████████████████████████████████████████████▏                     | 52/60 [00:43<00:06,  1.29it/s]\n",
            "M: 0.897737556561086 R: 0.9104072398190045███████████████████████████████████████████████████████████████████████████████████████████████████████████████████████████████████████████████▊                   | 53/60 [00:43<00:04,  1.44it/s]\n",
            "M: 0.96 R: 0.92434782608695656.3%):  90%|███████████████████████████████████████████████████████████████████████████████████████████████████████████████████████████████████████████████████▌                | 54/60 [00:45<00:05,  1.02it/s]\n",
            "M: 0.9819672131147541 R: 0.978688524590164█████████████████████████████████████████████████████████████████████████████████████████████████████████████████████████████████████████████████████▎             | 55/60 [00:46<00:05,  1.03s/it]\n",
            "M: 0.9531656548135299 R: 0.9505637467476149███████████████████████████████████████████████████████████████████████████████████████████████████████████████████████████████████████████████████████           | 56/60 [00:47<00:03,  1.08it/s]\n",
            "M: 0.9411269974768713 R: 0.8915054667788057█████████████████████████████████████████████████████████████████████████████████████████████████████████████████████████████████████████████████████████▊        | 57/60 [00:47<00:02,  1.23it/s]\n",
            "M: 0.9743362831858408 R: 0.9557522123893806████████████████████████████████████████████████████████████████████████████████████████████████████████████████████████████████████████████████████████████▌     | 58/60 [00:48<00:01,  1.18it/s]\n",
            "M: 0.9108433734939759 R: 0.9036144578313253███████████████████████████████████████████████████████████████████████████████████████████████████████████████████████████████████████████████████████████████▎  | 59/60 [00:48<00:00,  1.51it/s]\n",
            "Average Metric: 21.23 / 60 (35.4%): 100%|████████████████████████████████████████████████████████████████████████████████████████████████████████████████████████████████████████████████████████████████████| 60/60 [00:49<00:00,  1.20it/s]"
          ]
        },
        {
          "name": "stderr",
          "output_type": "stream",
          "text": [
            "2025/02/22 23:03:40 INFO dspy.evaluate.evaluate: Average Metric: 21.233002700719076 / 60 (35.4%)\n",
            "2025/02/22 23:03:40 INFO dspy.teleprompt.mipro_optimizer_v2: \u001b[92mNew best full eval score!\u001b[0m Score: 35.39\n",
            "2025/02/22 23:03:40 INFO dspy.teleprompt.mipro_optimizer_v2: Full eval scores so far: [16.42, 35.39]\n",
            "2025/02/22 23:03:40 INFO dspy.teleprompt.mipro_optimizer_v2: Best full score so far: 35.39\n",
            "2025/02/22 23:03:40 INFO dspy.teleprompt.mipro_optimizer_v2: =======================\n",
            "2025/02/22 23:03:40 INFO dspy.teleprompt.mipro_optimizer_v2: \n",
            "\n",
            "2025/02/22 23:03:40 INFO dspy.teleprompt.mipro_optimizer_v2: == Trial 12 / 28 - Minibatch ==\n"
          ]
        },
        {
          "name": "stdout",
          "output_type": "stream",
          "text": [
            "\n",
            "M: 0.964189794091316 R: 0.9507609668755596                                                                                                                                                                            | 0/25 [00:00<?, ?it/s]\n",
            "M: 0.990409764603313 R: 0.962510897994769████▋                                                                                                                                                                | 1/25 [00:05<02:14,  5.59s/it]\n",
            "M: 0.98816029143898 R: 0.9735883424408015███████████▎                                                                                                                                                         | 2/25 [00:06<00:59,  2.60s/it]\n",
            "M: 0.9921875 R: 0.9739583333333334  8%|█████████████▎                                                                                                                                                         | 2/25 [00:06<00:59,  2.60s/it]\n",
            "M: 0.989443378119002 R: 0.9760076775431862███████████████████████▋                                                                                                                                            | 4/25 [00:06<00:21,  1.01s/it]\n",
            "M: 0.8598726114649682 R: 0.813466787989081███████████████████████▋                                                                                                                                            | 4/25 [00:06<00:21,  1.01s/it]\n",
            "M: 0.8952972493345164 R: 0.8837622005323869████████████████████████████████████                                                                                                                               | 6/25 [00:06<00:11,  1.71it/s]\n",
            "M: 0.9665158371040724 R: 0.9610859728506788██████████████████████████████████████████▊                                                                                                                        | 7/25 [00:11<00:30,  1.69s/it]\n",
            "M: 0.9525114155251142 R: 0.9589041095890412██████████████████████████████████████████▊                                                                                                                        | 7/25 [00:11<00:30,  1.69s/it]\n",
            "M: 0.9626411815812337 R: 0.9626411815812337████████████████████████████████████████████████████████                                                                                                           | 9/25 [00:11<00:16,  1.02s/it]\n",
            "M: 0.9882459312839059 R: 0.9719710669077758███████████████████████████████████████████████████████████████                                                                                                   | 10/25 [00:11<00:12,  1.22it/s]\n",
            "M: 0.9624542124542125 R: 0.9478021978021978█████████████████████████████████████████████████████████████████████▌                                                                                            | 11/25 [00:12<00:12,  1.08it/s]\n",
            "M: 0.9293320425943853 R: 0.9225556631171346████████████████████████████████████████████████████████████████████████████▏                                                                                     | 12/25 [00:13<00:09,  1.37it/s]\n",
            "M: 0.902461257976299 R: 0.8760255241567912███████████████████████████████████████████████████████████████████████████████████▊                                                                               | 13/25 [00:16<00:18,  1.52s/it]\n",
            "M: 0.9887640449438202 R: 0.9850187265917603█████████████████████████████████████████████████████████████████████████████████████████▍                                                                        | 14/25 [00:17<00:13,  1.21s/it]\n",
            "M: 0.9917559769167353 R: 0.9859851607584501████████████████████████████████████████████████████████████████████████████████████████████████                                                                  | 15/25 [00:17<00:08,  1.11it/s]\n",
            "M: 0.96875 R: 0.9730902777777778):  60%|███████████████████████████████████████████████████████████████████████████████████████████████████                                                                  | 15/25 [00:17<00:08,  1.11it/s]\n",
            "M: 0.9273542600896861 R: 0.9049327354260089█████████████████████████████████████████████████████████████████████████████████████████████████████████████▏                                                    | 17/25 [00:18<00:06,  1.30it/s]\n",
            "M: 0.9655797101449275 R: 0.9818840579710145███████████████████████████████████████████████████████████████████████████████████████████████████████████████████▊                                              | 18/25 [00:18<00:04,  1.62it/s]\n",
            "M: 0.9522417153996101 R: 0.9064327485380117██████████████████████████████████████████████████████████████████████████████████████████████████████████████████████████▍                                       | 19/25 [00:22<00:09,  1.54s/it]\n",
            "M: 0.9646017699115044 R: 0.9557522123893806██████████████████████████████████████████████████████████████████████████████████████████████████████████████████████████▍                                       | 19/25 [00:22<00:09,  1.54s/it]\n",
            "M: 0.9642857142857143 R: 0.9324324324324325███████████████████████████████████████████████████████████████████████████████████████████████████████████████████████████████████████▌                          | 21/25 [00:23<00:03,  1.09it/s]\n",
            "M: 0.9092369477911647 R: 0.9036144578313253██████████████████████████████████████████████████████████████████████████████████████████████████████████████████████████████████████████████▏                   | 22/25 [00:23<00:02,  1.32it/s]\n",
            "M: 0.9496964440589766 R: 0.9505637467476149████████████████████████████████████████████████████████████████████████████████████████████████████████████████████████████████████████████████████▊             | 23/25 [00:24<00:01,  1.22it/s]\n",
            "M: 0.950207468879668 R: 0.9398340248962656████████████████████████████████████████████████████████████████████████████████████████████████████████████████████████████████████████████████████████████▍      | 24/25 [00:24<00:00,  1.39it/s]\n",
            "Average Metric: 6.77 / 25 (27.1%): 100%|█████████████████████████████████████████████████████████████████████████████████████████████████████████████████████████████████████████████████████████████████████| 25/25 [00:30<00:00,  1.24s/it]"
          ]
        },
        {
          "name": "stderr",
          "output_type": "stream",
          "text": [
            "2025/02/22 23:04:11 INFO dspy.evaluate.evaluate: Average Metric: 6.77264447339586 / 25 (27.1%)\n",
            "2025/02/22 23:04:11 INFO dspy.teleprompt.mipro_optimizer_v2: Score: 27.09 on minibatch of size 25 with parameters ['Predictor 0: Instruction 5', 'Predictor 0: Few-Shot Set 16'].\n",
            "2025/02/22 23:04:11 INFO dspy.teleprompt.mipro_optimizer_v2: Minibatch scores so far: [20.89, 29.74, 23.78, 32.09, 15.86, 30.48, 29.98, 27.71, 32.62, 27.09]\n",
            "2025/02/22 23:04:11 INFO dspy.teleprompt.mipro_optimizer_v2: Full eval scores so far: [16.42, 35.39]\n",
            "2025/02/22 23:04:11 INFO dspy.teleprompt.mipro_optimizer_v2: Best full score so far: 35.39\n",
            "2025/02/22 23:04:11 INFO dspy.teleprompt.mipro_optimizer_v2: ==========================================\n",
            "\n",
            "\n",
            "2025/02/22 23:04:11 INFO dspy.teleprompt.mipro_optimizer_v2: == Trial 13 / 28 - Minibatch ==\n"
          ]
        },
        {
          "name": "stdout",
          "output_type": "stream",
          "text": [
            "\n",
            "M: 0.9711191335740073 R: 0.9765342960288809                                                                                                                                                                           | 0/25 [00:00<?, ?it/s]\n",
            "M: 0.9767040552200172 R: 0.9447799827437446█▋                                                                                                                                                                 | 1/25 [00:02<00:59,  2.46s/it]\n",
            "M: 0.9856759176365264 R: 0.973142345568487██████████▎                                                                                                                                                         | 2/25 [00:02<00:24,  1.07s/it]\n",
            "M: 0.96171802054155 R: 0.9551820728291317██████████████████                                                                                                                                                   | 3/25 [00:02<00:14,  1.55it/s]\n",
            "M: 0.9642857142857143 R: 0.9478021978021978████████████████                                                                                                                                                   | 3/25 [00:02<00:14,  1.55it/s]\n",
            "M: 0.9877800407331976 R: 0.9470468431771895██████████████████████▋                                                                                                                                            | 4/25 [00:02<00:13,  1.55it/s]\n",
            "M: 0.9128751210067764 R: 0.9225556631171346████████████████████████████████████                                                                                                                               | 6/25 [00:02<00:05,  3.75it/s]\n",
            "M: 0.9225159525979946 R: 0.8760255241567912██████████████████████████████████████████▊                                                                                                                        | 7/25 [00:04<00:12,  1.47it/s]\n",
            "M: 0.9810066476733144 R: 0.9287749287749287██████████████████████████████████████████▊                                                                                                                        | 7/25 [00:04<00:12,  1.47it/s]\n",
            "M: 0.9682819383259912 R: 0.9841409691629956█████████████████████████████████████████████████▍                                                                                                                 | 8/25 [00:04<00:11,  1.47it/s]\n",
            "M: 0.9902912621359223 R: 0.9664607237422771███████████████████████████████████████████████████████████████                                                                                                   | 10/25 [00:05<00:05,  2.79it/s]\n",
            "M: 0.9532163742690059 R: 0.9064327485380117███████████████████████████████████████████████████████████████                                                                                                   | 10/25 [00:05<00:05,  2.79it/s]\n",
            "M: 0.9544642857142858 R: 0.9303571428571429████████████████████████████████████████████████████████████████████████████▏                                                                                     | 12/25 [00:05<00:03,  3.81it/s]\n",
            "M: 0.96 R: 0.9243478260869565.0%):  48%|███████████████████████████████████████████████████████████████████████████████▏                                                                                     | 12/25 [00:07<00:03,  3.81it/s]\n",
            "M: 0.9845094664371773 R: 0.9629948364888123█████████████████████████████████████████████████████████████████████████████████████████▍                                                                        | 14/25 [00:07<00:05,  1.85it/s]\n",
            "M: 0.9412861136999068 R: 0.9739049394221808█████████████████████████████████████████████████████████████████████████████████████████▍                                                                        | 14/25 [00:07<00:05,  1.85it/s]\n",
            "M: 0.9377700950734659 R: 0.9291270527225584██████████████████████████████████████████████████████████████████████████████████████████████████████▌                                                           | 16/25 [00:07<00:03,  2.56it/s]\n",
            "M: 0.9174887892376682 R: 0.9049327354260089██████████████████████████████████████████████████████████████████████████████████████████████████████▌                                                           | 16/25 [00:07<00:03,  2.56it/s]\n",
            "M: 0.9847036328871893 R: 0.9560229445506692███████████████████████████████████████████████████████████████████████████████████████████████████████████████████▊                                              | 18/25 [00:08<00:02,  2.53it/s]\n",
            "M: 0.8155339805825242 R: 0.5970873786407767██████████████████████████████████████████████████████████████████████████████████████████████████████████████████████████▍                                       | 19/25 [00:09<00:03,  1.90it/s]\n",
            "M: 0.9411269974768713 R: 0.8915054667788057█████████████████████████████████████████████████████████████████████████████████████████████████████████████████████████████████                                 | 20/25 [00:09<00:02,  2.13it/s]\n",
            "M: 0.991321118611379 R: 0.9729990356798457██████████████████████████████████████████████████████████████████████████████████████████████████████████████████████████████████                                 | 20/25 [00:09<00:02,  2.13it/s]\n",
            "M: 0.9906367041198502 R: 0.9850187265917603██████████████████████████████████████████████████████████████████████████████████████████████████████████████████████████████████████████████▏                   | 22/25 [00:09<00:01,  2.96it/s]\n",
            "M: 0.9942418426103646 R: 0.9760076775431862████████████████████████████████████████████████████████████████████████████████████████████████████████████████████████████████████████████████████▊             | 23/25 [00:10<00:00,  3.11it/s]\n",
            "M: 0.9822263797942001 R: 0.9700654817586529███████████████████████████████████████████████████████████████████████████████████████████████████████████████████████████████████████████████████████████▍      | 24/25 [00:11<00:00,  2.34it/s]\n",
            "Average Metric: 10.12 / 25 (40.5%): 100%|████████████████████████████████████████████████████████████████████████████████████████████████████████████████████████████████████████████████████████████████████| 25/25 [00:11<00:00,  2.11it/s]"
          ]
        },
        {
          "name": "stderr",
          "output_type": "stream",
          "text": [
            "2025/02/22 23:04:23 INFO dspy.evaluate.evaluate: Average Metric: 10.122873503454215 / 25 (40.5%)\n",
            "2025/02/22 23:04:23 INFO dspy.teleprompt.mipro_optimizer_v2: Score: 40.49 on minibatch of size 25 with parameters ['Predictor 0: Instruction 5', 'Predictor 0: Few-Shot Set 4'].\n",
            "2025/02/22 23:04:23 INFO dspy.teleprompt.mipro_optimizer_v2: Minibatch scores so far: [20.89, 29.74, 23.78, 32.09, 15.86, 30.48, 29.98, 27.71, 32.62, 27.09, 40.49]\n",
            "2025/02/22 23:04:23 INFO dspy.teleprompt.mipro_optimizer_v2: Full eval scores so far: [16.42, 35.39]\n",
            "2025/02/22 23:04:23 INFO dspy.teleprompt.mipro_optimizer_v2: Best full score so far: 35.39\n",
            "2025/02/22 23:04:23 INFO dspy.teleprompt.mipro_optimizer_v2: ==========================================\n",
            "\n",
            "\n",
            "2025/02/22 23:04:23 INFO dspy.teleprompt.mipro_optimizer_v2: == Trial 14 / 28 - Minibatch ==\n"
          ]
        },
        {
          "name": "stdout",
          "output_type": "stream",
          "text": [
            "\n",
            "M: 0.9894273127753304 R: 0.9841409691629956                                                                                                                                                                           | 0/25 [00:00<?, ?it/s]\n",
            "M: 0.9626352015732547 R: 0.943952802359882███▋                                                                                                                                                                | 1/25 [00:05<02:11,  5.47s/it]\n",
            "M: 0.9778688524590164 R: 0.978688524590164███▋                                                                                                                                                                | 1/25 [00:05<02:11,  5.47s/it]\n",
            "M: 0.9462272333044233 R: 0.9505637467476149████████████████                                                                                                                                                   | 3/25 [00:05<00:33,  1.50s/it]\n",
            "M: 0.8653321201091901 R: 0.813466787989081███████████████████████▋                                                                                                                                            | 4/25 [00:06<00:23,  1.12s/it]\n",
            "M: 0.8009708737864077 R: 0.5970873786407767██████████████████████▋                                                                                                                                            | 4/25 [00:06<00:23,  1.12s/it]\n",
            "M: 0.9875239923224568 R: 0.9760076775431862████████████████████████████████████                                                                                                                               | 6/25 [00:07<00:15,  1.20it/s]\n",
            "M: 0.9887640449438202 R: 0.9850187265917603██████████████████████████████████████████▊                                                                                                                        | 7/25 [00:11<00:31,  1.74s/it]\n",
            "M: 0.9301025163094129 R: 0.9739049394221808██████████████████████████████████████████▊                                                                                                                        | 7/25 [00:11<00:31,  1.74s/it]\n",
            "M: 0.9802816901408451 R: 0.9436619718309859████████████████████████████████████████████████████████                                                                                                           | 9/25 [00:11<00:16,  1.02s/it]\n",
            "M: 0.95625 R: 0.9303571428571429):  40%|██████████████████████████████████████████████████████████████████                                                                                                   | 10/25 [00:11<00:12,  1.22it/s]\n",
            "M: 0.9775491113189897 R: 0.9700654817586529█████████████████████████████████████████████████████████████████████▌                                                                                            | 11/25 [00:12<00:09,  1.46it/s]\n",
            "M: 0.9740376007162042 R: 0.973142345568487█████████████████████████████████████████████████████████████████████████████▏                                                                                     | 12/25 [00:13<00:10,  1.26it/s]\n",
            "M: 0.9624542124542125 R: 0.9478021978021978██████████████████████████████████████████████████████████████████████████████████▊                                                                               | 13/25 [00:17<00:22,  1.87s/it]\n",
            "M: 0.9243391066545124 R: 0.8760255241567912█████████████████████████████████████████████████████████████████████████████████████████▍                                                                        | 14/25 [00:18<00:15,  1.42s/it]\n",
            "M: 0.8279857397504456 R: 0.8074866310160428████████████████████████████████████████████████████████████████████████████████████████████████                                                                  | 15/25 [00:18<00:10,  1.08s/it]\n",
            "M: 0.9002904162633107 R: 0.9225556631171346██████████████████████████████████████████████████████████████████████████████████████████████████████▌                                                           | 16/25 [00:19<00:09,  1.08s/it]\n",
            "M: 0.9132530120481928 R: 0.9036144578313253█████████████████████████████████████████████████████████████████████████████████████████████████████████████▏                                                    | 17/25 [00:19<00:07,  1.14it/s]\n",
            "M: 0.9351771823681936 R: 0.9291270527225584███████████████████████████████████████████████████████████████████████████████████████████████████████████████████▊                                              | 18/25 [00:20<00:04,  1.43it/s]\n",
            "M: 0.9416126042632067 R: 0.9295644114921223██████████████████████████████████████████████████████████████████████████████████████████████████████████████████████████▍                                       | 19/25 [00:23<00:09,  1.57s/it]\n",
            "M: 0.9836488812392427 R: 0.9629948364888123█████████████████████████████████████████████████████████████████████████████████████████████████████████████████████████████████                                 | 20/25 [00:24<00:05,  1.20s/it]\n",
            "M: 0.967680608365019 R: 0.9534220532319392████████████████████████████████████████████████████████████████████████████████████████████████████████████████████████████████████████▌                          | 21/25 [00:25<00:04,  1.18s/it]\n",
            "M: 0.9836065573770492 R: 0.9447799827437446██████████████████████████████████████████████████████████████████████████████████████████████████████████████████████████████████████████████▏                   | 22/25 [00:25<00:02,  1.04it/s]\n",
            "M: 0.971945701357466 R: 0.9610859728506788█████████████████████████████████████████████████████████████████████████████████████████████████████████████████████████████████████████████████████▊             | 23/25 [00:25<00:01,  1.30it/s]\n",
            "M: 0.9326660600545951 R: 0.8307552320291174███████████████████████████████████████████████████████████████████████████████████████████████████████████████████████████████████████████████████████████▍      | 24/25 [00:26<00:00,  1.24it/s]\n",
            "Average Metric: 7.07 / 25 (28.3%): 100%|█████████████████████████████████████████████████████████████████████████████████████████████████████████████████████████████████████████████████████████████████████| 25/25 [00:31<00:00,  1.24s/it]"
          ]
        },
        {
          "name": "stderr",
          "output_type": "stream",
          "text": [
            "2025/02/22 23:04:54 INFO dspy.evaluate.evaluate: Average Metric: 7.071782641065669 / 25 (28.3%)\n",
            "2025/02/22 23:04:54 INFO dspy.teleprompt.mipro_optimizer_v2: Score: 28.29 on minibatch of size 25 with parameters ['Predictor 0: Instruction 5', 'Predictor 0: Few-Shot Set 10'].\n",
            "2025/02/22 23:04:54 INFO dspy.teleprompt.mipro_optimizer_v2: Minibatch scores so far: [20.89, 29.74, 23.78, 32.09, 15.86, 30.48, 29.98, 27.71, 32.62, 27.09, 40.49, 28.29]\n",
            "2025/02/22 23:04:54 INFO dspy.teleprompt.mipro_optimizer_v2: Full eval scores so far: [16.42, 35.39]\n",
            "2025/02/22 23:04:54 INFO dspy.teleprompt.mipro_optimizer_v2: Best full score so far: 35.39\n",
            "2025/02/22 23:04:54 INFO dspy.teleprompt.mipro_optimizer_v2: ==========================================\n",
            "\n",
            "\n",
            "2025/02/22 23:04:54 INFO dspy.teleprompt.mipro_optimizer_v2: == Trial 15 / 28 - Minibatch ==\n"
          ]
        },
        {
          "name": "stdout",
          "output_type": "stream",
          "text": [
            "\n",
            "M: 0.9762357414448669 R: 0.9534220532319392                                                                                                                                                                           | 0/25 [00:00<?, ?it/s]\n",
            "M: 0.9547206165703276 R: 0.9421965317919075██▋                                                                                                                                                                | 1/25 [00:05<02:11,  5.50s/it]\n",
            "M: 0.9076782449725777 R: 0.8756855575868373█████████▎                                                                                                                                                         | 2/25 [00:05<00:56,  2.47s/it]\n",
            "M: 0.9684115523465704 R: 0.9765342960288809████████████████                                                                                                                                                   | 3/25 [00:06<00:33,  1.50s/it]\n",
            "M: 0.9470954356846473 R: 0.9398340248962656████████████████                                                                                                                                                   | 3/25 [00:06<00:33,  1.50s/it]\n",
            "M: 0.95968534906588 R: 0.943952802359882████████████████████████████████▍                                                                                                                                     | 5/25 [00:06<00:13,  1.46it/s]\n",
            "M: 0.9874638379942141 R: 0.9729990356798457████████████████████████████████████                                                                                                                               | 6/25 [00:08<00:18,  1.02it/s]\n",
            "M: 0.9819004524886877 R: 0.96289592760181████████████████████████████████████████████▊                                                                                                                        | 7/25 [00:11<00:29,  1.63s/it]\n",
            "M: 0.880708294501398 R: 0.9739049394221808██████████████████████████████████████████████████▍                                                                                                                 | 8/25 [00:11<00:20,  1.21s/it]\n",
            "M: 0.9745901639344262 R: 0.978688524590164█████████████████████████████████████████████████████████                                                                                                           | 9/25 [00:11<00:15,  1.03it/s]\n",
            "M: 0.952212389380531 R: 0.9557522123893806█████████████████████████████████████████████████████████▊                                                                                                          | 9/25 [00:11<00:15,  1.03it/s]\n",
            "M: 0.9876339653751031 R: 0.9859851607584501█████████████████████████████████████████████████████████████████████▌                                                                                            | 11/25 [00:11<00:07,  1.78it/s]\n",
            "M: 0.9810671256454389 R: 0.9629948364888123████████████████████████████████████████████████████████████████████████████▏                                                                                     | 12/25 [00:13<00:11,  1.15it/s]\n",
            "M: 0.9607142857142857 R: 0.9303571428571429██████████████████████████████████████████████████████████████████████████████████▊                                                                               | 13/25 [00:18<00:22,  1.92s/it]\n",
            "M: 0.9496964440589766 R: 0.9505637467476149█████████████████████████████████████████████████████████████████████████████████████████▍                                                                        | 14/25 [00:18<00:16,  1.45s/it]\n",
            "M: 0.9208992506244796 R: 0.8834304746044963████████████████████████████████████████████████████████████████████████████████████████████████                                                                  | 15/25 [00:19<00:10,  1.09s/it]\n",
            "M: 0.9486931268151017 R: 0.9912875121006777██████████████████████████████████████████████████████████████████████████████████████████████████████▌                                                           | 16/25 [00:19<00:07,  1.14it/s]\n",
            "M: 0.9629955947136564 R: 0.9841409691629956██████████████████████████████████████████████████████████████████████████████████████████████████████▌                                                           | 16/25 [00:19<00:07,  1.14it/s]\n",
            "M: 0.9801553062985332 R: 0.9447799827437446███████████████████████████████████████████████████████████████████████████████████████████████████████████████████▊                                              | 18/25 [00:20<00:05,  1.26it/s]\n",
            "M: 0.9918032786885246 R: 0.982695810564663███████████████████████████████████████████████████████████████████████████████████████████████████████████████████████████▍                                       | 19/25 [00:24<00:09,  1.55s/it]\n",
            "M: 0.9624542124542125 R: 0.9478021978021978██████████████████████████████████████████████████████████████████████████████████████████████████████████████████████████▍                                       | 19/25 [00:24<00:09,  1.55s/it]\n",
            "M: 0.9895833333333334 R: 0.9739583333333334███████████████████████████████████████████████████████████████████████████████████████████████████████████████████████████████████████▌                          | 21/25 [00:24<00:03,  1.02it/s]\n",
            "M: 0.9123287671232877 R: 0.9589041095890412██████████████████████████████████████████████████████████████████████████████████████████████████████████████████████████████████████████████▏                   | 22/25 [00:25<00:02,  1.11it/s]\n",
            "M: 0.9772313296903461 R: 0.9735883424408015████████████████████████████████████████████████████████████████████████████████████████████████████████████████████████████████████████████████████▊             | 23/25 [00:26<00:01,  1.27it/s]\n",
            "M: 0.9792043399638336 R: 0.9719710669077758████████████████████████████████████████████████████████████████████████████████████████████████████████████████████████████████████████████████████▊             | 23/25 [00:26<00:01,  1.27it/s]\n",
            "Average Metric: 6.23 / 25 (24.9%): 100%|█████████████████████████████████████████████████████████████████████████████████████████████████████████████████████████████████████████████████████████████████████| 25/25 [00:31<00:00,  1.26s/it]"
          ]
        },
        {
          "name": "stderr",
          "output_type": "stream",
          "text": [
            "2025/02/22 23:05:26 INFO dspy.evaluate.evaluate: Average Metric: 6.2280995970785975 / 25 (24.9%)\n",
            "2025/02/22 23:05:26 INFO dspy.teleprompt.mipro_optimizer_v2: Score: 24.91 on minibatch of size 25 with parameters ['Predictor 0: Instruction 17', 'Predictor 0: Few-Shot Set 5'].\n",
            "2025/02/22 23:05:26 INFO dspy.teleprompt.mipro_optimizer_v2: Minibatch scores so far: [20.89, 29.74, 23.78, 32.09, 15.86, 30.48, 29.98, 27.71, 32.62, 27.09, 40.49, 28.29, 24.91]\n",
            "2025/02/22 23:05:26 INFO dspy.teleprompt.mipro_optimizer_v2: Full eval scores so far: [16.42, 35.39]\n",
            "2025/02/22 23:05:26 INFO dspy.teleprompt.mipro_optimizer_v2: Best full score so far: 35.39\n",
            "2025/02/22 23:05:26 INFO dspy.teleprompt.mipro_optimizer_v2: ==========================================\n",
            "\n",
            "\n",
            "2025/02/22 23:05:26 INFO dspy.teleprompt.mipro_optimizer_v2: == Trial 16 / 28 - Minibatch ==\n"
          ]
        },
        {
          "name": "stdout",
          "output_type": "stream",
          "text": [
            "\n",
            "M: 0.9232876712328767 R: 0.9589041095890412                                                                                                                                                                           | 0/25 [00:00<?, ?it/s]\n",
            "M: 0.9551656920077973 R: 0.9064327485380117█▋                                                                                                                                                                 | 1/25 [00:05<02:01,  5.06s/it]\n",
            "M: 0.9455488331892826 R: 0.9291270527225584██▋                                                                                                                                                                | 1/25 [00:05<02:01,  5.06s/it]\n",
            "M: 0.9836065573770492 R: 0.9447799827437446████████████████                                                                                                                                                   | 3/25 [00:05<00:29,  1.35s/it]\n",
            "M: 0.8935226264418811 R: 0.8837622005323869████████████████                                                                                                                                                   | 3/25 [00:05<00:29,  1.35s/it]\n",
            "M: 0.9754098360655737 R: 0.978688524590164██████████████████████████████▍                                                                                                                                     | 5/25 [00:05<00:14,  1.38it/s]\n",
            "M: 0.9603097773475314 R: 0.9225556631171346████████████████████████████████████                                                                                                                               | 6/25 [00:05<00:11,  1.64it/s]\n",
            "M: 0.9197812215132178 R: 0.8760255241567912██████████████████████████████████████████▊                                                                                                                        | 7/25 [00:10<00:31,  1.74s/it]\n",
            "M: 0.9810671256454389 R: 0.9629948364888123█████████████████████████████████████████████████▍                                                                                                                 | 8/25 [00:10<00:22,  1.34s/it]\n",
            "M: 0.9906367041198502 R: 0.9850187265917603█████████████████████████████████████████████████▍                                                                                                                 | 8/25 [00:10<00:22,  1.34s/it]\n",
            "M: 0.9607142857142857 R: 0.9303571428571429███████████████████████████████████████████████████████████████                                                                                                   | 10/25 [00:10<00:11,  1.30it/s]\n",
            "M: 0.9540329575021682 R: 0.9505637467476149███████████████████████████████████████████████████████████████                                                                                                   | 10/25 [00:10<00:11,  1.30it/s]\n",
            "M: 0.9219730941704036 R: 0.9049327354260089████████████████████████████████████████████████████████████████████████████▏                                                                                     | 12/25 [00:11<00:07,  1.79it/s]\n",
            "Average Metric: 0.00 / 5 (0.0%):  80%|██████████████████████████████████████████████████████████████████████████████████████████████████████████████████████████████████████▍                                 | 4/5 [31:38<07:54, 474.75s/it]\n",
            "M: 0.9419680403700589 R: 0.8915054667788057\n",
            "M: 0.9609035621198957 R: 0.9626411815812337██████████████████████████████████████████████████████████████████████████████████▊                                                                               | 13/25 [00:16<00:17,  1.47s/it]\n",
            "M: 0.9435850773430391 R: 0.8307552320291174████████████████████████████████████████████████████████████████████████████████████████████████                                                                  | 15/25 [00:16<00:09,  1.05it/s]\n",
            "M: 0.9818355640535373 R: 0.9560229445506692████████████████████████████████████████████████████████████████████████████████████████████████                                                                  | 15/25 [00:16<00:09,  1.05it/s]\n",
            "M: 0.9710407239819004 R: 0.9610859728506788█████████████████████████████████████████████████████████████████████████████████████████████████████████████▏                                                    | 17/25 [00:16<00:05,  1.40it/s]\n",
            "M: 0.9810066476733144 R: 0.9287749287749287███████████████████████████████████████████████████████████████████████████████████████████████████████████████████▊                                              | 18/25 [00:18<00:05,  1.24it/s]\n",
            "M: 0.9397590361445783 R: 0.9295644114921223██████████████████████████████████████████████████████████████████████████████████████████████████████████████████████████▍                                       | 19/25 [00:21<00:08,  1.37s/it]\n",
            "M: 0.982094897045658 R: 0.973142345568487████████████████████████████████████████████████████████████████████████████████████████████████████████████████████████████▍                                       | 19/25 [00:21<00:08,  1.37s/it]\n",
            "M: 0.9942418426103646 R: 0.9760076775431862███████████████████████████████████████████████████████████████████████████████████████████████████████████████████████████████████████▌                          | 21/25 [00:21<00:03,  1.14it/s]\n",
            "M: 0.9927140255009107 R: 0.982695810564663███████████████████████████████████████████████████████████████████████████████████████████████████████████████████████████████████████████████▏                   | 22/25 [00:21<00:02,  1.37it/s]\n",
            "M: 0.9547206165703276 R: 0.9421965317919075████████████████████████████████████████████████████████████████████████████████████████████████████████████████████████████████████████████████████▊             | 23/25 [00:22<00:01,  1.42it/s]\n",
            "M: 0.9774305555555556 R: 0.9730902777777778███████████████████████████████████████████████████████████████████████████████████████████████████████████████████████████████████████████████████████████▍      | 24/25 [00:24<00:00,  1.05it/s]\n",
            "Average Metric: 8.83 / 25 (35.3%): 100%|█████████████████████████████████████████████████████████████████████████████████████████████████████████████████████████████████████████████████████████████████████| 25/25 [00:28<00:00,  1.12s/it]"
          ]
        },
        {
          "name": "stderr",
          "output_type": "stream",
          "text": [
            "2025/02/22 23:05:54 INFO dspy.evaluate.evaluate: Average Metric: 8.834627830466225 / 25 (35.3%)\n",
            "2025/02/22 23:05:54 INFO dspy.teleprompt.mipro_optimizer_v2: Score: 35.34 on minibatch of size 25 with parameters ['Predictor 0: Instruction 2', 'Predictor 0: Few-Shot Set 5'].\n",
            "2025/02/22 23:05:54 INFO dspy.teleprompt.mipro_optimizer_v2: Minibatch scores so far: [20.89, 29.74, 23.78, 32.09, 15.86, 30.48, 29.98, 27.71, 32.62, 27.09, 40.49, 28.29, 24.91, 35.34]\n",
            "2025/02/22 23:05:54 INFO dspy.teleprompt.mipro_optimizer_v2: Full eval scores so far: [16.42, 35.39]\n",
            "2025/02/22 23:05:54 INFO dspy.teleprompt.mipro_optimizer_v2: Best full score so far: 35.39\n",
            "2025/02/22 23:05:54 INFO dspy.teleprompt.mipro_optimizer_v2: ==========================================\n",
            "\n",
            "\n",
            "2025/02/22 23:05:54 INFO dspy.teleprompt.mipro_optimizer_v2: == Trial 17 / 28 - Minibatch ==\n"
          ]
        },
        {
          "name": "stdout",
          "output_type": "stream",
          "text": [
            "\n",
            "M: 0.991321118611379 R: 0.9729990356798457                                                                                                                                                                            | 0/25 [00:00<?, ?it/s]\n",
            "M: 0.9781420765027322 R: 0.9735883424408015██▋                                                                                                                                                                | 1/25 [00:05<02:08,  5.35s/it]\n",
            "M: 0.9802065404475043 R: 0.9629948364888123██▋                                                                                                                                                                | 1/25 [00:05<02:08,  5.35s/it]\n",
            "M: 0.9894273127753304 R: 0.9841409691629956█████████▎                                                                                                                                                         | 2/25 [00:05<02:03,  5.35s/it]\n",
            "M: 0.969147005444646 R: 0.9718693284936479███████████████████████▋                                                                                                                                            | 4/25 [00:05<00:22,  1.05s/it]\n",
            "M: 0.9648014440433212 R: 0.9765342960288809██████████████████████▋                                                                                                                                            | 4/25 [00:05<00:22,  1.05s/it]\n",
            "M: 0.9079307201458523 R: 0.8760255241567912████████████████████████████████████                                                                                                                               | 6/25 [00:05<00:12,  1.55it/s]\n",
            "M: 0.9479768786127167 R: 0.9421965317919075████████████████████████████████████                                                                                                                               | 6/25 [00:10<00:12,  1.55it/s]\n",
            "M: 0.9598214285714286 R: 0.9303571428571429█████████████████████████████████████████████████▍                                                                                                                 | 8/25 [00:10<00:22,  1.30s/it]\n",
            "M: 0.9412861136999068 R: 0.9739049394221808█████████████████████████████████████████████████▍                                                                                                                 | 8/25 [00:10<00:22,  1.30s/it]\n",
            "M: 0.8244206773618539 R: 0.8074866310160428███████████████████████████████████████████████████████████████                                                                                                   | 10/25 [00:10<00:13,  1.12it/s]\n",
            "M: 0.9810181190681622 R: 0.9447799827437446█████████████████████████████████████████████████████████████████████▌                                                                                            | 11/25 [00:11<00:13,  1.05it/s]\n",
            "M: 0.9377700950734659 R: 0.9291270527225584█████████████████████████████████████████████████████████████████████▌                                                                                            | 11/25 [00:11<00:13,  1.05it/s]\n",
            "M: 0.9796708615682478 R: 0.9912875121006777██████████████████████████████████████████████████████████████████████████████████▊                                                                               | 13/25 [00:15<00:15,  1.29s/it]\n",
            "M: 0.9392173189009159 R: 0.8834304746044963██████████████████████████████████████████████████████████████████████████████████▊                                                                               | 13/25 [00:15<00:15,  1.29s/it]\n",
            "M: 0.9532163742690059 R: 0.9064327485380117████████████████████████████████████████████████████████████████████████████████████████████████                                                                  | 15/25 [00:16<00:09,  1.02it/s]\n",
            "M: 0.987794245858762 R: 0.962510897994769████████████████████████████████████████████████████████████████████████████████████████████████████████▌                                                           | 16/25 [00:16<00:07,  1.16it/s]\n",
            "M: 0.967948717948718 R: 0.9478021978021978██████████████████████████████████████████████████████████████████████████████████████████████████████████████▏                                                    | 17/25 [00:17<00:06,  1.15it/s]\n",
            "M: 0.9522983521248916 R: 0.9505637467476149███████████████████████████████████████████████████████████████████████████████████████████████████████████████████▊                                              | 18/25 [00:21<00:10,  1.45s/it]\n",
            "M: 0.8970718722271518 R: 0.8837622005323869██████████████████████████████████████████████████████████████████████████████████████████████████████████████████████████▍                                       | 19/25 [00:21<00:07,  1.20s/it]\n",
            "M: 0.9784037558685446 R: 0.9436619718309859██████████████████████████████████████████████████████████████████████████████████████████████████████████████████████████▍                                       | 19/25 [00:21<00:07,  1.20s/it]\n",
            "M: 0.9764705882352941 R: 0.9610859728506788███████████████████████████████████████████████████████████████████████████████████████████████████████████████████████████████████████▌                          | 21/25 [00:22<00:03,  1.22it/s]\n",
            "M: 0.994535519125683 R: 0.982695810564663████████████████████████████████████████████████████████████████████████████████████████████████████████████████████████████████████████████████▏                   | 22/25 [00:22<00:02,  1.27it/s]\n",
            "M: 0.9911738746690203 R: 0.9664607237422771████████████████████████████████████████████████████████████████████████████████████████████████████████████████████████████████████████████████████▊             | 23/25 [00:26<00:02,  1.48s/it]\n",
            "M: 0.9076782449725777 R: 0.8756855575868373███████████████████████████████████████████████████████████████████████████████████████████████████████████████████████████████████████████████████████████▍      | 24/25 [00:27<00:01,  1.46s/it]\n",
            "Average Metric: 8.18 / 25 (32.7%): 100%|█████████████████████████████████████████████████████████████████████████████████████████████████████████████████████████████████████████████████████████████████████| 25/25 [00:29<00:00,  1.17s/it]"
          ]
        },
        {
          "name": "stderr",
          "output_type": "stream",
          "text": [
            "2025/02/22 23:06:23 INFO dspy.evaluate.evaluate: Average Metric: 8.178996439033337 / 25 (32.7%)\n",
            "2025/02/22 23:06:23 INFO dspy.teleprompt.mipro_optimizer_v2: Score: 32.72 on minibatch of size 25 with parameters ['Predictor 0: Instruction 5', 'Predictor 0: Few-Shot Set 5'].\n",
            "2025/02/22 23:06:23 INFO dspy.teleprompt.mipro_optimizer_v2: Minibatch scores so far: [20.89, 29.74, 23.78, 32.09, 15.86, 30.48, 29.98, 27.71, 32.62, 27.09, 40.49, 28.29, 24.91, 35.34, 32.72]\n",
            "2025/02/22 23:06:23 INFO dspy.teleprompt.mipro_optimizer_v2: Full eval scores so far: [16.42, 35.39]\n",
            "2025/02/22 23:06:23 INFO dspy.teleprompt.mipro_optimizer_v2: Best full score so far: 35.39\n",
            "2025/02/22 23:06:23 INFO dspy.teleprompt.mipro_optimizer_v2: ==========================================\n",
            "\n",
            "\n",
            "2025/02/22 23:06:23 INFO dspy.teleprompt.mipro_optimizer_v2: == Trial 18 / 28 - Minibatch ==\n"
          ]
        },
        {
          "name": "stdout",
          "output_type": "stream",
          "text": [
            "\n",
            "M: 0.9319664492078286 R: 0.9739049394221808                                                                                                                                                                           | 0/25 [00:00<?, ?it/s]\n",
            "M: 0.9764492753623188 R: 0.9818840579710145█▋                                                                                                                                                                 | 1/25 [00:05<02:13,  5.54s/it]\n",
            "M: 0.994535519125683 R: 0.982695810564663███▋                                                                                                                                                                 | 1/25 [00:05<02:13,  5.54s/it]\n",
            "M: 0.9809954751131221 R: 0.96289592760181██████████████████                                                                                                                                                   | 3/25 [00:06<00:39,  1.81s/it]\n",
            "M: 0.9812909260991581 R: 0.9700654817586529██████████████████████▋                                                                                                                                            | 4/25 [00:06<00:25,  1.23s/it]\n",
            "M: 0.9906367041198502 R: 0.9850187265917603█████████████████████████████▍                                                                                                                                     | 5/25 [00:07<00:18,  1.07it/s]\n",
            "M: 0.9904513888888888 R: 0.9730902777777778████████████████████████████████████                                                                                                                               | 6/25 [00:08<00:19,  1.03s/it]\n",
            "M: 0.9749328558639212 R: 0.973142345568487███████████████████████████████████████████▊                                                                                                                        | 7/25 [00:11<00:29,  1.65s/it]\n",
            "M: 0.9857433808553971 R: 0.9470468431771895█████████████████████████████████████████████████▍                                                                                                                 | 8/25 [00:17<00:51,  3.02s/it]\n",
            "M: 0.9417652411282984 R: 0.8307552320291174████████████████████████████████████████████████████████                                                                                                           | 9/25 [00:21<00:52,  3.29s/it]\n",
            "M: 0.9893203883495145 R: 0.9601941747572815███████████████████████████████████████████████████████████████                                                                                                   | 10/25 [00:24<00:47,  3.16s/it]\n",
            "M: 0.9887152777777778 R: 0.9739583333333334█████████████████████████████████████████████████████████████████████▌                                                                                            | 11/25 [00:24<00:33,  2.40s/it]\n",
            "M: 0.9213893967093236 R: 0.8756855575868373████████████████████████████████████████████████████████████████████████████▏                                                                                     | 12/25 [00:24<00:22,  1.71s/it]\n",
            "M: 0.9884583676834295 R: 0.9859851607584501██████████████████████████████████████████████████████████████████████████████████▊                                                                               | 13/25 [00:25<00:16,  1.39s/it]\n",
            "M: 0.7495145631067961 R: 0.5970873786407767█████████████████████████████████████████████████████████████████████████████████████████▍                                                                        | 14/25 [00:29<00:22,  2.03s/it]\n",
            "M: 0.9747899159663865 R: 0.9551820728291317████████████████████████████████████████████████████████████████████████████████████████████████                                                                  | 15/25 [00:30<00:18,  1.86s/it]\n",
            "M: 0.9114155251141552 R: 0.9589041095890412████████████████████████████████████████████████████████████████████████████████████████████████                                                                  | 15/25 [00:30<00:18,  1.86s/it]\n",
            "M: 0.885201793721973 R: 0.9049327354260089██████████████████████████████████████████████████████████████████████████████████████████████████████████████▏                                                    | 17/25 [00:30<00:08,  1.08s/it]\n",
            "M: 0.9755868544600939 R: 0.9436619718309859███████████████████████████████████████████████████████████████████████████████████████████████████████████████████▊                                              | 18/25 [00:32<00:09,  1.31s/it]\n",
            "M: 0.9477250726040658 R: 0.9912875121006777██████████████████████████████████████████████████████████████████████████████████████████████████████████████████████████▍                                       | 19/25 [00:34<00:07,  1.31s/it]\n",
            "M: 0.9535714285714285 R: 0.9303571428571429█████████████████████████████████████████████████████████████████████████████████████████████████████████████████████████████████                                 | 20/25 [00:35<00:06,  1.39s/it]\n",
            "M: 0.9612334801762115 R: 0.9841409691629956███████████████████████████████████████████████████████████████████████████████████████████████████████████████████████████████████████▌                          | 21/25 [00:36<00:05,  1.30s/it]\n",
            "M: 0.969672131147541 R: 0.978688524590164████████████████████████████████████████████████████████████████████████████████████████████████████████████████████████████████████████████████▏                   | 22/25 [00:37<00:03,  1.00s/it]\n",
            "M: 0.9184188393608074 R: 0.8915054667788057████████████████████████████████████████████████████████████████████████████████████████████████████████████████████████████████████████████████████▊             | 23/25 [00:37<00:01,  1.25it/s]\n",
            "M: 0.9522417153996101 R: 0.9064327485380117███████████████████████████████████████████████████████████████████████████████████████████████████████████████████████████████████████████████████████████▍      | 24/25 [00:38<00:00,  1.08it/s]\n",
            "Average Metric: 8.32 / 25 (33.3%): 100%|█████████████████████████████████████████████████████████████████████████████████████████████████████████████████████████████████████████████████████████████████████| 25/25 [00:39<00:00,  1.56s/it]"
          ]
        },
        {
          "name": "stderr",
          "output_type": "stream",
          "text": [
            "2025/02/22 23:07:03 INFO dspy.evaluate.evaluate: Average Metric: 8.323476803265587 / 25 (33.3%)\n",
            "2025/02/22 23:07:03 INFO dspy.teleprompt.mipro_optimizer_v2: Score: 33.29 on minibatch of size 25 with parameters ['Predictor 0: Instruction 14', 'Predictor 0: Few-Shot Set 4'].\n",
            "2025/02/22 23:07:03 INFO dspy.teleprompt.mipro_optimizer_v2: Minibatch scores so far: [20.89, 29.74, 23.78, 32.09, 15.86, 30.48, 29.98, 27.71, 32.62, 27.09, 40.49, 28.29, 24.91, 35.34, 32.72, 33.29]\n",
            "2025/02/22 23:07:03 INFO dspy.teleprompt.mipro_optimizer_v2: Full eval scores so far: [16.42, 35.39]\n",
            "2025/02/22 23:07:03 INFO dspy.teleprompt.mipro_optimizer_v2: Best full score so far: 35.39\n",
            "2025/02/22 23:07:03 INFO dspy.teleprompt.mipro_optimizer_v2: ==========================================\n",
            "\n",
            "\n",
            "2025/02/22 23:07:03 INFO dspy.teleprompt.mipro_optimizer_v2: == Trial 19 / 28 - Minibatch ==\n"
          ]
        },
        {
          "name": "stdout",
          "output_type": "stream",
          "text": [
            "\n",
            "M: 0.9406858202038925 R: 0.9295644114921223                                                                                                                                                                           | 0/25 [00:00<?, ?it/s]\n",
            "M: 0.9255605381165919 R: 0.9049327354260089██▋                                                                                                                                                                | 1/25 [00:06<02:30,  6.28s/it]\n",
            "M: 0.9233971690258118 R: 0.8834304746044963██▋                                                                                                                                                                | 1/25 [00:06<02:30,  6.28s/it]\n",
            "M: 0.8935226264418811 R: 0.8837622005323869████████████████                                                                                                                                                   | 3/25 [00:06<00:37,  1.70s/it]\n",
            "M: 0.967032967032967 R: 0.9478021978021978███████████████████████▋                                                                                                                                            | 4/25 [00:06<00:25,  1.22s/it]\n",
            "M: 0.9444911690496215 R: 0.8915054667788057█████████████████████████████▍                                                                                                                                     | 5/25 [00:06<00:17,  1.13it/s]\n",
            "M: 0.9766136576239476 R: 0.9700654817586529████████████████████████████████████                                                                                                                               | 6/25 [00:07<00:13,  1.38it/s]\n",
            "M: 0.9042844120328167 R: 0.8760255241567912██████████████████████████████████████████▊                                                                                                                        | 7/25 [00:12<00:39,  2.22s/it]\n",
            "M: 0.9819672131147541 R: 0.978688524590164███████████████████████████████████████████▊                                                                                                                        | 7/25 [00:12<00:39,  2.22s/it]\n",
            "M: 0.983754512635379 R: 0.9765342960288809█████████████████████████████████████████████████████████                                                                                                           | 9/25 [00:13<00:19,  1.21s/it]\n",
            "M: 0.9891500904159132 R: 0.9719710669077758███████████████████████████████████████████████████████████████                                                                                                   | 10/25 [00:13<00:15,  1.05s/it]\n",
            "M: 0.9836065573770492 R: 0.9447799827437446███████████████████████████████████████████████████████████████                                                                                                   | 10/25 [00:13<00:15,  1.05s/it]\n",
            "M: 0.9915730337078652 R: 0.9850187265917603████████████████████████████████████████████████████████████████████████████▏                                                                                     | 12/25 [00:18<00:20,  1.58s/it]\n",
            "M: 0.9831858407079646 R: 0.9557522123893806██████████████████████████████████████████████████████████████████████████████████▊                                                                               | 13/25 [00:18<00:15,  1.30s/it]\n",
            "M: 0.9877800407331976 R: 0.9470468431771895█████████████████████████████████████████████████████████████████████████████████████████▍                                                                        | 14/25 [00:18<00:11,  1.05s/it]\n",
            "M: 0.9865711727842436 R: 0.973142345568487█████████████████████████████████████████████████████████████████████████████████████████████████                                                                  | 15/25 [00:19<00:09,  1.07it/s]\n",
            "M: 0.9686956521739131 R: 0.9243478260869565██████████████████████████████████████████████████████████████████████████████████████████████████████▌                                                           | 16/25 [00:19<00:06,  1.40it/s]\n",
            "M: 0.9536679536679536 R: 0.9324324324324325█████████████████████████████████████████████████████████████████████████████████████████████████████████████▏                                                    | 17/25 [00:20<00:05,  1.52it/s]\n",
            "M: 0.9172690763052209 R: 0.9036144578313253███████████████████████████████████████████████████████████████████████████████████████████████████████████████████▊                                              | 18/25 [00:23<00:10,  1.55s/it]\n",
            "M: 0.9610136452241715 R: 0.9064327485380117██████████████████████████████████████████████████████████████████████████████████████████████████████████████████████████▍                                       | 19/25 [00:24<00:07,  1.20s/it]\n",
            "M: 0.9809954751131221 R: 0.9610859728506788██████████████████████████████████████████████████████████████████████████████████████████████████████████████████████████▍                                       | 19/25 [00:24<00:07,  1.20s/it]\n",
            "M: 0.9457889641819942 R: 0.9225556631171346███████████████████████████████████████████████████████████████████████████████████████████████████████████████████████████████████████▌                          | 21/25 [00:25<00:03,  1.21it/s]\n",
            "M: 0.9952015355086372 R: 0.9760076775431862██████████████████████████████████████████████████████████████████████████████████████████████████████████████████████████████████████████████▏                   | 22/25 [00:25<00:02,  1.44it/s]\n",
            "M: 0.991321118611379 R: 0.9729990356798457█████████████████████████████████████████████████████████████████████████████████████████████████████████████████████████████████████████████████████▊             | 23/25 [00:25<00:01,  1.59it/s]\n",
            "M: 0.9847036328871893 R: 0.9560229445506692███████████████████████████████████████████████████████████████████████████████████████████████████████████████████████████████████████████████████████████▍      | 24/25 [00:29<00:01,  1.53s/it]\n",
            "Average Metric: 10.78 / 25 (43.1%): 100%|████████████████████████████████████████████████████████████████████████████████████████████████████████████████████████████████████████████████████████████████████| 25/25 [00:31<00:00,  1.27s/it]"
          ]
        },
        {
          "name": "stderr",
          "output_type": "stream",
          "text": [
            "2025/02/22 23:07:35 INFO dspy.evaluate.evaluate: Average Metric: 10.777350115553768 / 25 (43.1%)\n",
            "2025/02/22 23:07:35 INFO dspy.teleprompt.mipro_optimizer_v2: Score: 43.11 on minibatch of size 25 with parameters ['Predictor 0: Instruction 1', 'Predictor 0: Few-Shot Set 6'].\n",
            "2025/02/22 23:07:35 INFO dspy.teleprompt.mipro_optimizer_v2: Minibatch scores so far: [20.89, 29.74, 23.78, 32.09, 15.86, 30.48, 29.98, 27.71, 32.62, 27.09, 40.49, 28.29, 24.91, 35.34, 32.72, 33.29, 43.11]\n",
            "2025/02/22 23:07:35 INFO dspy.teleprompt.mipro_optimizer_v2: Full eval scores so far: [16.42, 35.39]\n",
            "2025/02/22 23:07:35 INFO dspy.teleprompt.mipro_optimizer_v2: Best full score so far: 35.39\n",
            "2025/02/22 23:07:35 INFO dspy.teleprompt.mipro_optimizer_v2: ==========================================\n",
            "\n",
            "\n",
            "2025/02/22 23:07:35 INFO dspy.teleprompt.mipro_optimizer_v2: == Trial 20 / 28 - Minibatch ==\n"
          ]
        },
        {
          "name": "stdout",
          "output_type": "stream",
          "text": [
            "\n",
            "M: 0.98816029143898 R: 0.9735883424408015                                                                                                                                                                             | 0/25 [00:00<?, ?it/s]\n",
            "M: 0.9867617107942973 R: 0.9470468431771895██▋                                                                                                                                                                | 1/25 [00:04<01:59,  5.00s/it]\n",
            "M: 0.9496611810261375 R: 0.9225556631171346█████████▎                                                                                                                                                         | 2/25 [00:05<00:51,  2.22s/it]\n",
            "M: 0.8680618744313011 R: 0.813466787989081██████████▎                                                                                                                                                         | 2/25 [00:05<00:51,  2.22s/it]\n",
            "M: 0.9917559769167353 R: 0.9859851607584501██████████████████████▋                                                                                                                                            | 4/25 [00:05<00:18,  1.14it/s]\n",
            "M: 0.9864253393665159 R: 0.96289592760181███████████████████████████████▍                                                                                                                                     | 5/25 [00:05<00:13,  1.43it/s]\n",
            "M: 0.9627949183303085 R: 0.9718693284936479████████████████████████████████████                                                                                                                               | 6/25 [00:06<00:12,  1.52it/s]\n",
            "M: 0.9836065573770492 R: 0.9447799827437446██████████████████████████████████████████▊                                                                                                                        | 7/25 [00:10<00:31,  1.76s/it]\n",
            "M: 0.9616071428571429 R: 0.9303571428571429█████████████████████████████████████████████████▍                                                                                                                 | 8/25 [00:10<00:22,  1.34s/it]\n",
            "M: 0.9443929564411492 R: 0.9545875810936052█████████████████████████████████████████████████▍                                                                                                                 | 8/25 [00:11<00:22,  1.34s/it]\n",
            "M: 0.9283930058284763 R: 0.8834304746044963███████████████████████████████████████████████████████████████                                                                                                   | 10/25 [00:11<00:12,  1.21it/s]\n",
            "M: 0.99128160418483 R: 0.962510897994769████████████████████████████████████████████████████████████████████████▌                                                                                            | 11/25 [00:12<00:12,  1.15it/s]\n",
            "M: 0.9444949954504095 R: 0.8307552320291174████████████████████████████████████████████████████████████████████████████▏                                                                                     | 12/25 [00:13<00:13,  1.00s/it]\n",
            "M: 0.9761061946902655 R: 0.9557522123893806██████████████████████████████████████████████████████████████████████████████████▊                                                                               | 13/25 [00:16<00:17,  1.44s/it]\n",
            "M: 0.9904513888888888 R: 0.9730902777777778██████████████████████████████████████████████████████████████████████████████████▊                                                                               | 13/25 [00:16<00:17,  1.44s/it]\n",
            "M: 0.9837476099426387 R: 0.9560229445506692████████████████████████████████████████████████████████████████████████████████████████████████                                                                  | 15/25 [00:16<00:08,  1.18it/s]\n",
            "M: 0.9810066476733144 R: 0.9287749287749287██████████████████████████████████████████████████████████████████████████████████████████████████████▌                                                           | 16/25 [00:17<00:07,  1.19it/s]\n",
            "M: 0.9891500904159132 R: 0.9719710669077758█████████████████████████████████████████████████████████████████████████████████████████████████████████████▏                                                    | 17/25 [00:18<00:06,  1.22it/s]\n",
            "M: 0.9488416988416989 R: 0.9324324324324325███████████████████████████████████████████████████████████████████████████████████████████████████████████████████▊                                              | 18/25 [00:20<00:07,  1.11s/it]\n",
            "M: 0.9747899159663865 R: 0.9551820728291317██████████████████████████████████████████████████████████████████████████████████████████████████████████████████████████▍                                       | 19/25 [00:21<00:07,  1.29s/it]\n",
            "M: 0.90150842945874 R: 0.8837622005323869███████████████████████████████████████████████████████████████████████████████████████████████████████████████████████████████████                                 | 20/25 [00:22<00:05,  1.06s/it]\n",
            "M: 0.9902912621359223 R: 0.9664607237422771███████████████████████████████████████████████████████████████████████████████████████████████████████████████████████████████████████▌                          | 21/25 [00:22<00:03,  1.05it/s]\n",
            "M: 0.9793427230046948 R: 0.9436619718309859██████████████████████████████████████████████████████████████████████████████████████████████████████████████████████████████████████████████▎                   | 22/25 [00:23<00:02,  1.35it/s]\n",
            "M: 0.9549002601908065 R: 0.9505637467476149████████████████████████████████████████████████████████████████████████████████████████████████████████████████████████████████████████████████████▉             | 23/25 [00:26<00:02,  1.47s/it]\n",
            "M: 0.9512670565302144 R: 0.9064327485380117███████████████████████████████████████████████████████████████████████████████████████████████████████████████████████████████████████████████████████████▍      | 24/25 [00:28<00:01,  1.50s/it]\n",
            "Average Metric: 11.79 / 25 (47.2%): 100%|████████████████████████████████████████████████████████████████████████████████████████████████████████████████████████████████████████████████████████████████████| 25/25 [00:32<00:00,  1.28s/it]"
          ]
        },
        {
          "name": "stderr",
          "output_type": "stream",
          "text": [
            "2025/02/22 23:08:07 INFO dspy.evaluate.evaluate: Average Metric: 11.794967362444588 / 25 (47.2%)\n",
            "2025/02/22 23:08:07 INFO dspy.teleprompt.mipro_optimizer_v2: Score: 47.18 on minibatch of size 25 with parameters ['Predictor 0: Instruction 1', 'Predictor 0: Few-Shot Set 4'].\n",
            "2025/02/22 23:08:07 INFO dspy.teleprompt.mipro_optimizer_v2: Minibatch scores so far: [20.89, 29.74, 23.78, 32.09, 15.86, 30.48, 29.98, 27.71, 32.62, 27.09, 40.49, 28.29, 24.91, 35.34, 32.72, 33.29, 43.11, 47.18]\n",
            "2025/02/22 23:08:07 INFO dspy.teleprompt.mipro_optimizer_v2: Full eval scores so far: [16.42, 35.39]\n",
            "2025/02/22 23:08:07 INFO dspy.teleprompt.mipro_optimizer_v2: Best full score so far: 35.39\n",
            "2025/02/22 23:08:07 INFO dspy.teleprompt.mipro_optimizer_v2: ==========================================\n",
            "\n",
            "\n",
            "2025/02/22 23:08:07 INFO dspy.teleprompt.mipro_optimizer_v2: ===== Trial 21 / 28 - Full Evaluation =====\n",
            "2025/02/22 23:08:07 INFO dspy.teleprompt.mipro_optimizer_v2: Doing full eval on next top averaging program (Avg Score: 47.18) from minibatch trials...\n"
          ]
        },
        {
          "name": "stdout",
          "output_type": "stream",
          "text": [
            "\n",
            "M: 0.9283930058284763 R: 0.8834304746044963                                                                                                                                                                           | 0/60 [00:00<?, ?it/s]\n",
            "M: 0.9864253393665159 R: 0.96289592760181▊                                                                                                                                                                    | 1/60 [00:02<02:18,  2.34s/it]\n",
            "M: 0.9609035621198957 R: 0.9626411815812337█▌                                                                                                                                                                 | 2/60 [00:02<01:03,  1.10s/it]\n",
            "M: 0.9277879341864717 R: 0.8756855575868373████▎                                                                                                                                                              | 3/60 [00:05<01:43,  1.82s/it]\n",
            "M: 0.9793427230046948 R: 0.9436619718309859███████▏                                                                                                                                                           | 4/60 [00:05<01:10,  1.26s/it]\n",
            "M: 0.7621359223300971 R: 0.5970873786407767█████████▉                                                                                                                                                         | 5/60 [00:06<00:58,  1.06s/it]\n",
            "M: 0.991321118611379 R: 0.9729990356798457█████████████▋                                                                                                                                                      | 6/60 [00:06<00:46,  1.17it/s]\n",
            "M: 0.9656387665198238 R: 0.9841409691629956███████████████▍                                                                                                                                                   | 7/60 [00:07<00:36,  1.45it/s]\n",
            "M: 0.9891500904159132 R: 0.9719710669077758██████████████████▎                                                                                                                                                | 8/60 [00:08<00:47,  1.09it/s]\n",
            "M: 0.9444949954504095 R: 0.8307552320291174█████████████████████                                                                                                                                              | 9/60 [00:08<00:37,  1.37it/s]\n",
            "M: 0.950207468879668 R: 0.9398340248962656██████████████████████▉                                                                                                                                             | 9/60 [00:08<00:37,  1.37it/s]\n",
            "M: 0.9906367041198502 R: 0.9850187265917603███████████████████████████▏                                                                                                                                      | 11/60 [00:12<01:03,  1.30s/it]\n",
            "M: 0.9661172161172161 R: 0.9478021978021978██████████████████████████████                                                                                                                                    | 12/60 [00:13<00:53,  1.12s/it]\n",
            "M: 0.9636184857423795 R: 0.943952802359882█████████████████████████████████▊                                                                                                                                 | 13/60 [00:13<00:41,  1.13it/s]\n",
            "M: 0.9921875 R: 0.9739583333333334  23%|██████████████████████████████████████▌                                                                                                                              | 14/60 [00:14<00:38,  1.19it/s]\n",
            "M: 0.8333333333333334 R: 0.8074866310160428██████████████████████████████████████▎                                                                                                                           | 15/60 [00:14<00:29,  1.51it/s]\n",
            "M: 0.9468779123951537 R: 0.9739049394221808█████████████████████████████████████████                                                                                                                         | 16/60 [00:17<00:53,  1.21s/it]\n",
            "M: 0.9360518999073216 R: 0.9295644114921223███████████████████████████████████████████▊                                                                                                                      | 17/60 [00:18<00:52,  1.23s/it]\n",
            "M: 0.9443929564411492 R: 0.9545875810936052██████████████████████████████████████████████▌                                                                                                                   | 18/60 [00:19<00:46,  1.10s/it]\n",
            "M: 0.9865711727842436 R: 0.973142345568487██████████████████████████████████████████████████▎                                                                                                                | 19/60 [00:19<00:34,  1.20it/s]\n",
            "M: 0.9782805429864253 R: 0.9610859728506788█████████████████████████████████████████████████▎                                                                                                                | 19/60 [00:19<00:34,  1.20it/s]\n",
            "M: 0.9836065573770492 R: 0.9447799827437446██████████████████████████████████████████████████████▋                                                                                                           | 21/60 [00:20<00:29,  1.34it/s]\n",
            "M: 0.9836488812392427 R: 0.9629948364888123█████████████████████████████████████████████████████████▍                                                                                                        | 22/60 [00:23<00:47,  1.24s/it]\n",
            "M: 0.9472774416594641 R: 0.9291270527225584████████████████████████████████████████████████████████████▎                                                                                                     | 23/60 [00:24<00:41,  1.13s/it]\n",
            "M: 0.9791666666666666 R: 0.9818840579710145███████████████████████████████████████████████████████████████                                                                                                   | 24/60 [00:25<00:37,  1.05s/it]\n",
            "M: 0.9794091316025068 R: 0.9507609668755596█████████████████████████████████████████████████████████████████▊                                                                                                | 25/60 [00:25<00:29,  1.19it/s]\n",
            "M: 0.9822263797942001 R: 0.9700654817586529████████████████████████████████████████████████████████████████████▌                                                                                             | 26/60 [00:25<00:23,  1.47it/s]\n",
            "M: 0.9867617107942973 R: 0.9470468431771895███████████████████████████████████████████████████████████████████████▊                                                                                          | 27/60 [00:25<00:17,  1.86it/s]\n",
            "M: 0.9902912621359223 R: 0.9664607237422771██████████████████████████████████████████████████████████████████████████▌                                                                                       | 28/60 [00:27<00:29,  1.09it/s]\n",
            "M: 0.9512670565302144 R: 0.9064327485380117█████████████████████████████████████████████████████████████████████████████▎                                                                                    | 29/60 [00:27<00:22,  1.38it/s]\n",
            "M: 0.9954462659380692 R: 0.982695810564663█████████████████████████████████████████████████████████████████████████████████                                                                                  | 30/60 [00:28<00:19,  1.54it/s]\n",
            "M: 0.978702807357212 R: 0.9912875121006777███████████████████████████████████████████████████████████████████████████████████▋                                                                               | 31/60 [00:29<00:24,  1.18it/s]\n",
            "M: 0.9837476099426387 R: 0.9560229445506692██████████████████████████████████████████████████████████████████████████████████▋                                                                               | 31/60 [00:29<00:24,  1.18it/s]\n",
            "M: 0.9952015355086372 R: 0.9760076775431862████████████████████████████████████████████████████████████████████████████████████████▏                                                                         | 33/60 [00:30<00:15,  1.75it/s]\n",
            "M: 0.9904513888888888 R: 0.9730902777777778██████████████████████████████████████████████████████████████████████████████████████████▉                                                                       | 34/60 [00:30<00:12,  2.03it/s]\n",
            "M: 0.9810066476733144 R: 0.9287749287749287█████████████████████████████████████████████████████████████████████████████████████████████▋                                                                    | 35/60 [00:32<00:19,  1.27it/s]\n",
            "M: 0.9183856502242153 R: 0.9049327354260089████████████████████████████████████████████████████████████████████████████████████████████████▍                                                                 | 36/60 [00:32<00:18,  1.27it/s]\n",
            "M: 0.9800380228136882 R: 0.9534220532319392███████████████████████████████████████████████████████████████████████████████████████████████████▏                                                              | 37/60 [00:33<00:15,  1.45it/s]\n",
            "M: 0.9496611810261375 R: 0.9225556631171346█████████████████████████████████████████████████████████████████████████████████████████████████████▊                                                            | 38/60 [00:33<00:13,  1.63it/s]\n",
            "M: 0.9488416988416989 R: 0.9324324324324325████████████████████████████████████████████████████████████████████████████████████████████████████████▌                                                         | 39/60 [00:34<00:13,  1.55it/s]\n",
            "M: 0.9534246575342465 R: 0.9589041095890412███████████████████████████████████████████████████████████████████████████████████████████████████████████▎                                                      | 40/60 [00:35<00:12,  1.55it/s]\n",
            "M: 0.9912621359223301 R: 0.9601941747572815██████████████████████████████████████████████████████████████████████████████████████████████████████████████                                                    | 41/60 [00:35<00:10,  1.75it/s]\n",
            "M: 0.90150842945874 R: 0.8837622005323869██████████████████████████████████████████████████████████████████████████████████████████████████████████████████▊                                                 | 42/60 [00:36<00:11,  1.62it/s]\n",
            "M: 0.9917559769167353 R: 0.9859851607584501███████████████████████████████████████████████████████████████████████████████████████████████████████████████████▌                                              | 43/60 [00:36<00:10,  1.55it/s]\n",
            "M: 0.9616071428571429 R: 0.9303571428571429██████████████████████████████████████████████████████████████████████████████████████████████████████████████████████▎                                           | 44/60 [00:37<00:08,  1.79it/s]\n",
            "M: 0.9197812215132178 R: 0.8760255241567912█████████████████████████████████████████████████████████████████████████████████████████████████████████████████████████                                         | 45/60 [00:37<00:07,  2.03it/s]\n",
            "M: 0.9627949183303085 R: 0.9718693284936479███████████████████████████████████████████████████████████████████████████████████████████████████████████████████████████▋                                      | 46/60 [00:39<00:11,  1.23it/s]\n",
            "M: 0.99128160418483 R: 0.962510897994769|█████████████████████████████████████████████████████████████████████████████████████████████████████████████████████████████▋                                      | 46/60 [00:39<00:11,  1.23it/s]\n",
            "M: 0.9547206165703276 R: 0.9421965317919075█████████████████████████████████████████████████████████████████████████████████████████████████████████████████████████████████▏                                | 48/60 [00:39<00:06,  1.91it/s]\n",
            "M: 0.9747899159663865 R: 0.9551820728291317███████████████████████████████████████████████████████████████████████████████████████████████████████████████████████████████████▉                              | 49/60 [00:40<00:05,  1.91it/s]\n",
            "M: 0.98816029143898 R: 0.9735883424408015████████████████████████████████████████████████████████████████████████████████████████████████████████████████████████████████████████▋                           | 50/60 [00:41<00:08,  1.20it/s]\n",
            "M: 0.983754512635379 R: 0.9765342960288809██████████████████████████████████████████████████████████████████████████████████████████████████████████████████████████████████████████▍                        | 51/60 [00:41<00:05,  1.52it/s]\n",
            "M: 0.9158371040723982 R: 0.9104072398190045████████████████████████████████████████████████████████████████████████████████████████████████████████████████████████████████████████████▏                     | 52/60 [00:42<00:04,  1.85it/s]\n",
            "M: 0.8680618744313011 R: 0.813466787989081███████████████████████████████████████████████████████████████████████████████████████████████████████████████████████████████████████████████▊                   | 53/60 [00:44<00:06,  1.02it/s]\n",
            "M: 0.9761061946902655 R: 0.9557522123893806██████████████████████████████████████████████████████████████████████████████████████████████████████████████████████████████████████████████▊                   | 53/60 [00:44<00:06,  1.02it/s]\n",
            "M: 0.9721739130434782 R: 0.9243478260869565████████████████████████████████████████████████████████████████████████████████████████████████████████████████████████████████████████████████████▎             | 55/60 [00:44<00:03,  1.63it/s]\n",
            "M: 0.9819672131147541 R: 0.978688524590164████████████████████████████████████████████████████████████████████████████████████████████████████████████████████████████████████████████████████████           | 56/60 [00:45<00:02,  1.42it/s]\n",
            "M: 0.9549002601908065 R: 0.9505637467476149█████████████████████████████████████████████████████████████████████████████████████████████████████████████████████████████████████████████████████████▊        | 57/60 [00:46<00:02,  1.42it/s]\n",
            "M: 0.9461732548359967 R: 0.8915054667788057████████████████████████████████████████████████████████████████████████████████████████████████████████████████████████████████████████████████████████████▌     | 58/60 [00:46<00:01,  1.71it/s]\n",
            "M: 0.9092369477911647 R: 0.9036144578313253███████████████████████████████████████████████████████████████████████████████████████████████████████████████████████████████████████████████████████████████▎  | 59/60 [00:47<00:00,  1.30it/s]\n",
            "Average Metric: 23.54 / 60 (39.2%): 100%|████████████████████████████████████████████████████████████████████████████████████████████████████████████████████████████████████████████████████████████████████| 60/60 [00:50<00:00,  1.19it/s]"
          ]
        },
        {
          "name": "stderr",
          "output_type": "stream",
          "text": [
            "2025/02/22 23:08:57 INFO dspy.evaluate.evaluate: Average Metric: 23.544406927756388 / 60 (39.2%)\n",
            "2025/02/22 23:08:57 INFO dspy.teleprompt.mipro_optimizer_v2: \u001b[92mNew best full eval score!\u001b[0m Score: 39.24\n",
            "2025/02/22 23:08:57 INFO dspy.teleprompt.mipro_optimizer_v2: Full eval scores so far: [16.42, 35.39, 39.24]\n",
            "2025/02/22 23:08:57 INFO dspy.teleprompt.mipro_optimizer_v2: Best full score so far: 39.24\n",
            "2025/02/22 23:08:57 INFO dspy.teleprompt.mipro_optimizer_v2: =======================\n",
            "2025/02/22 23:08:57 INFO dspy.teleprompt.mipro_optimizer_v2: \n",
            "\n",
            "2025/02/22 23:08:57 INFO dspy.teleprompt.mipro_optimizer_v2: == Trial 22 / 28 - Minibatch ==\n"
          ]
        },
        {
          "name": "stdout",
          "output_type": "stream",
          "text": [
            "\n",
            "M: 0.981199641897941 R: 0.973142345568487                                                                                                                                                                             | 0/25 [00:00<?, ?it/s]\n",
            "M: 0.8881987577639752 R: 0.8837622005323869██▋                                                                                                                                                                | 1/25 [00:05<02:17,  5.71s/it]\n",
            "M: 0.9852430555555556 R: 0.9730902777777778██▋                                                                                                                                                                | 1/25 [00:05<02:17,  5.71s/it]\n",
            "M: 0.9545014520813165 R: 0.9912875121006777████████████████                                                                                                                                                   | 3/25 [00:05<00:33,  1.54s/it]\n",
            "M: 0.9884583676834295 R: 0.9859851607584501██████████████████████▋                                                                                                                                            | 4/25 [00:06<00:23,  1.11s/it]\n",
            "M: 0.7475728155339806 R: 0.5970873786407767██████████████████████▋                                                                                                                                            | 4/25 [00:06<00:23,  1.11s/it]\n",
            "M: 0.919634703196347 R: 0.9589041095890412█████████████████████████████████████                                                                                                                               | 6/25 [00:08<00:22,  1.21s/it]\n",
            "M: 0.9791855203619909 R: 0.96289592760181████████████████████████████████████████████▊                                                                                                                        | 7/25 [00:11<00:27,  1.53s/it]\n",
            "M: 0.8444040036396725 R: 0.813466787989081██████████████████████████████████████████████████▍                                                                                                                 | 8/25 [00:11<00:21,  1.26s/it]\n",
            "M: 0.9245107176141659 R: 0.9739049394221808█████████████████████████████████████████████████▍                                                                                                                 | 8/25 [00:11<00:21,  1.26s/it]\n",
            "M: 0.9618874773139746 R: 0.9718693284936479███████████████████████████████████████████████████████████████                                                                                                   | 10/25 [00:12<00:11,  1.26it/s]\n",
            "M: 0.9781368821292775 R: 0.9534220532319392███████████████████████████████████████████████████████████████                                                                                                   | 10/25 [00:12<00:11,  1.26it/s]\n",
            "M: 0.9144676979071884 R: 0.8307552320291174████████████████████████████████████████████████████████████████████████████▏                                                                                     | 12/25 [00:15<00:15,  1.16s/it]\n",
            "M: 0.9385964912280702 R: 0.9064327485380117██████████████████████████████████████████████████████████████████████████████████▊                                                                               | 13/25 [00:16<00:13,  1.16s/it]\n",
            "M: 0.9470945359930616 R: 0.9505637467476149█████████████████████████████████████████████████████████████████████████████████████████▍                                                                        | 14/25 [00:17<00:10,  1.06it/s]\n",
            "M: 0.9304911955514366 R: 0.9295644114921223████████████████████████████████████████████████████████████████████████████████████████████████                                                                  | 15/25 [00:17<00:07,  1.29it/s]\n",
            "M: 0.933271547729379 R: 0.9545875810936052███████████████████████████████████████████████████████████████████████████████████████████████████████▌                                                           | 16/25 [00:17<00:05,  1.58it/s]\n",
            "M: 0.9175777964676198 R: 0.8915054667788057█████████████████████████████████████████████████████████████████████████████████████████████████████████████▏                                                    | 17/25 [00:17<00:04,  1.85it/s]\n",
            "M: 0.9147982062780269 R: 0.9049327354260089███████████████████████████████████████████████████████████████████████████████████████████████████████████████████▊                                              | 18/25 [00:21<00:10,  1.46s/it]\n",
            "M: 0.9455488331892826 R: 0.9291270527225584██████████████████████████████████████████████████████████████████████████████████████████████████████████████████████████▍                                       | 19/25 [00:22<00:06,  1.14s/it]\n",
            "M: 0.9633699633699634 R: 0.9478021978021978█████████████████████████████████████████████████████████████████████████████████████████████████████████████████████████████████                                 | 20/25 [00:22<00:04,  1.17it/s]\n",
            "M: 0.9819494584837545 R: 0.9765342960288809███████████████████████████████████████████████████████████████████████████████████████████████████████████████████████████████████████▌                          | 21/25 [00:22<00:03,  1.33it/s]\n",
            "M: 0.9638009049773756 R: 0.9610859728506788██████████████████████████████████████████████████████████████████████████████████████████████████████████████████████████████████████████████▏                   | 22/25 [00:24<00:02,  1.01it/s]\n",
            "M: 0.98005698005698 R: 0.9287749287749287██████████████████████████████████████████████████████████████████████████████████████████████████████████████████████████████████████████████████████▊             | 23/25 [00:24<00:01,  1.33it/s]\n",
            "M: 0.98816029143898 R: 0.9735883424408015█████████████████████████████████████████████████████████████████████████████████████████████████████████████████████████████████████████████████████████████▍      | 24/25 [00:26<00:01,  1.28s/it]\n",
            "Average Metric: 5.78 / 25 (23.1%): 100%|█████████████████████████████████████████████████████████████████████████████████████████████████████████████████████████████████████████████████████████████████████| 25/25 [00:28<00:00,  1.16s/it]"
          ]
        },
        {
          "name": "stderr",
          "output_type": "stream",
          "text": [
            "2025/02/22 23:09:26 INFO dspy.evaluate.evaluate: Average Metric: 5.779064654719313 / 25 (23.1%)\n",
            "2025/02/22 23:09:26 INFO dspy.teleprompt.mipro_optimizer_v2: Score: 23.12 on minibatch of size 25 with parameters ['Predictor 0: Instruction 6', 'Predictor 0: Few-Shot Set 6'].\n",
            "2025/02/22 23:09:26 INFO dspy.teleprompt.mipro_optimizer_v2: Minibatch scores so far: [20.89, 29.74, 23.78, 32.09, 15.86, 30.48, 29.98, 27.71, 32.62, 27.09, 40.49, 28.29, 24.91, 35.34, 32.72, 33.29, 43.11, 47.18, 23.12]\n",
            "2025/02/22 23:09:26 INFO dspy.teleprompt.mipro_optimizer_v2: Full eval scores so far: [16.42, 35.39, 39.24]\n",
            "2025/02/22 23:09:26 INFO dspy.teleprompt.mipro_optimizer_v2: Best full score so far: 39.24\n",
            "2025/02/22 23:09:26 INFO dspy.teleprompt.mipro_optimizer_v2: ==========================================\n",
            "\n",
            "\n",
            "2025/02/22 23:09:26 INFO dspy.teleprompt.mipro_optimizer_v2: == Trial 23 / 28 - Minibatch ==\n"
          ]
        },
        {
          "name": "stdout",
          "output_type": "stream",
          "text": [
            "\n",
            "M: 0.9461732548359967 R: 0.8915054667788057                                                                                                                                                                           | 0/25 [00:00<?, ?it/s]\n",
            "M: 0.9782805429864253 R: 0.9610859728506788██▋                                                                                                                                                                | 1/25 [00:02<00:58,  2.42s/it]\n",
            "M: 0.9158371040723982 R: 0.9104072398190045██▋                                                                                                                                                                | 1/25 [00:02<00:58,  2.42s/it]\n",
            "M: 0.9864253393665159 R: 0.96289592760181███████████▎                                                                                                                                                         | 2/25 [00:02<00:55,  2.42s/it]\n",
            "M: 0.9867617107942973 R: 0.9470468431771895██████████████████████▋                                                                                                                                            | 4/25 [00:02<00:10,  1.95it/s]\n",
            "M: 0.9443929564411492 R: 0.9545875810936052██████████████████████▋                                                                                                                                            | 4/25 [00:02<00:10,  1.95it/s]\n",
            "M: 0.90150842945874 R: 0.8837622005323869██████████████████████████████████████                                                                                                                               | 6/25 [00:02<00:06,  2.87it/s]\n",
            "M: 0.9656387665198238 R: 0.9841409691629956██████████████████████████████████████████▊                                                                                                                        | 7/25 [00:04<00:12,  1.49it/s]\n",
            "M: 0.9865711727842436 R: 0.973142345568487███████████████████████████████████████████▊                                                                                                                        | 7/25 [00:04<00:12,  1.49it/s]\n",
            "M: 0.9534246575342465 R: 0.9589041095890412████████████████████████████████████████████████████████                                                                                                           | 9/25 [00:04<00:06,  2.31it/s]\n",
            "M: 0.9822263797942001 R: 0.9700654817586529████████████████████████████████████████████████████████▊                                                                                                          | 9/25 [00:04<00:06,  2.31it/s]\n",
            "M: 0.9468779123951537 R: 0.9739049394221808█████████████████████████████████████████████████████████████████████▌                                                                                            | 11/25 [00:05<00:04,  2.94it/s]\n",
            "M: 0.991321118611379 R: 0.9729990356798457█████████████████████████████████████████████████████████████████████████████▏                                                                                     | 12/25 [00:05<00:03,  3.40it/s]\n",
            "M: 0.9912621359223301 R: 0.9601941747572815██████████████████████████████████████████████████████████████████████████████████▊                                                                               | 13/25 [00:06<00:07,  1.67it/s]\n",
            "M: 0.9092369477911647 R: 0.9036144578313253█████████████████████████████████████████████████████████████████████████████████████████▍                                                                        | 14/25 [00:07<00:05,  1.89it/s]\n",
            "M: 0.9627949183303085 R: 0.9718693284936479█████████████████████████████████████████████████████████████████████████████████████████▍                                                                        | 14/25 [00:07<00:05,  1.89it/s]\n",
            "M: 0.9794091316025068 R: 0.9507609668755596██████████████████████████████████████████████████████████████████████████████████████████████████████▌                                                           | 16/25 [00:07<00:03,  2.52it/s]\n",
            "M: 0.9283930058284763 R: 0.8834304746044963██████████████████████████████████████████████████████████████████████████████████████████████████████▌                                                           | 16/25 [00:07<00:03,  2.52it/s]\n",
            "M: 0.9836065573770492 R: 0.9447799827437446███████████████████████████████████████████████████████████████████████████████████████████████████████████████████▊                                              | 18/25 [00:07<00:02,  3.28it/s]\n",
            "M: 0.8333333333333334 R: 0.8074866310160428██████████████████████████████████████████████████████████████████████████████████████████████████████████████████████████▍                                       | 19/25 [00:09<00:03,  1.95it/s]\n",
            "M: 0.978702807357212 R: 0.9912875121006777██████████████████████████████████████████████████████████████████████████████████████████████████████████████████████████████████                                 | 20/25 [00:09<00:02,  2.20it/s]\n",
            "M: 0.98816029143898 R: 0.9735883424408015███████████████████████████████████████████████████████████████████████████████████████████████████████████████████████████████████                                 | 20/25 [00:09<00:02,  2.20it/s]\n",
            "M: 0.9791666666666666 R: 0.9818840579710145██████████████████████████████████████████████████████████████████████████████████████████████████████████████████████████████████████████████▏                   | 22/25 [00:09<00:01,  2.98it/s]\n",
            "M: 0.9810066476733144 R: 0.9287749287749287████████████████████████████████████████████████████████████████████████████████████████████████████████████████████████████████████████████████████▊             | 23/25 [00:10<00:00,  3.15it/s]\n",
            "M: 0.9512670565302144 R: 0.9064327485380117████████████████████████████████████████████████████████████████████████████████████████████████████████████████████████████████████████████████████▊             | 23/25 [00:10<00:00,  3.15it/s]\n",
            "Average Metric: 8.54 / 25 (34.2%): 100%|█████████████████████████████████████████████████████████████████████████████████████████████████████████████████████████████████████████████████████████████████████| 25/25 [00:11<00:00,  2.17it/s]"
          ]
        },
        {
          "name": "stderr",
          "output_type": "stream",
          "text": [
            "2025/02/22 23:09:38 INFO dspy.evaluate.evaluate: Average Metric: 8.542944023408765 / 25 (34.2%)\n",
            "2025/02/22 23:09:38 INFO dspy.teleprompt.mipro_optimizer_v2: Score: 34.17 on minibatch of size 25 with parameters ['Predictor 0: Instruction 1', 'Predictor 0: Few-Shot Set 4'].\n",
            "2025/02/22 23:09:38 INFO dspy.teleprompt.mipro_optimizer_v2: Minibatch scores so far: [20.89, 29.74, 23.78, 32.09, 15.86, 30.48, 29.98, 27.71, 32.62, 27.09, 40.49, 28.29, 24.91, 35.34, 32.72, 33.29, 43.11, 47.18, 23.12, 34.17]\n",
            "2025/02/22 23:09:38 INFO dspy.teleprompt.mipro_optimizer_v2: Full eval scores so far: [16.42, 35.39, 39.24]\n",
            "2025/02/22 23:09:38 INFO dspy.teleprompt.mipro_optimizer_v2: Best full score so far: 39.24\n",
            "2025/02/22 23:09:38 INFO dspy.teleprompt.mipro_optimizer_v2: ==========================================\n",
            "\n",
            "\n",
            "2025/02/22 23:09:38 INFO dspy.teleprompt.mipro_optimizer_v2: == Trial 24 / 28 - Minibatch ==\n"
          ]
        },
        {
          "name": "stdout",
          "output_type": "stream",
          "text": [
            "\n",
            "M: 0.9673202614379085 R: 0.9551820728291317                                                                                                                                                                           | 0/25 [00:00<?, ?it/s]\n",
            "M: 0.9609035621198957 R: 0.9626411815812337██▋                                                                                                                                                                | 1/25 [00:05<02:17,  5.75s/it]\n",
            "M: 0.9849765258215962 R: 0.9436619718309859█████████▎                                                                                                                                                         | 2/25 [00:05<00:56,  2.47s/it]\n",
            "M: 0.9472247497725205 R: 0.8307552320291174████████████████                                                                                                                                                   | 3/25 [00:06<00:30,  1.40s/it]\n",
            "M: 0.9616519174041298 R: 0.943952802359882█████████████████                                                                                                                                                   | 3/25 [00:06<00:30,  1.40s/it]\n",
            "M: 0.9527938342967245 R: 0.9421965317919075█████████████████████████████▍                                                                                                                                     | 5/25 [00:06<00:14,  1.34it/s]\n",
            "M: 0.9233971690258118 R: 0.8834304746044963████████████████████████████████████                                                                                                                               | 6/25 [00:07<00:13,  1.42it/s]\n",
            "M: 0.9686956521739131 R: 0.9243478260869565██████████████████████████████████████████▊                                                                                                                        | 7/25 [00:08<00:14,  1.26it/s]\n",
            "M: 0.9042844120328167 R: 0.8760255241567912█████████████████████████████████████████████████▍                                                                                                                 | 8/25 [00:08<00:12,  1.34it/s]\n",
            "M: 0.9865711727842436 R: 0.973142345568487█████████████████████████████████████████████████████████                                                                                                           | 9/25 [00:09<00:11,  1.37it/s]\n",
            "M: 0.9791855203619909 R: 0.96289592760181█████████████████████████████████████████████████████████████████                                                                                                   | 10/25 [00:10<00:12,  1.21it/s]\n",
            "M: 0.9877800407331976 R: 0.9470468431771895█████████████████████████████████████████████████████████████████████▌                                                                                            | 11/25 [00:11<00:12,  1.17it/s]\n",
            "M: 0.9232876712328767 R: 0.9589041095890412████████████████████████████████████████████████████████████████████████████▏                                                                                     | 12/25 [00:11<00:09,  1.37it/s]\n",
            "M: 0.986922406277245 R: 0.962510897994769████████████████████████████████████████████████████████████████████████████████████▊                                                                               | 13/25 [00:12<00:06,  1.73it/s]\n",
            "M: 0.983754512635379 R: 0.9765342960288809██████████████████████████████████████████████████████████████████████████████████████████▍                                                                        | 14/25 [00:12<00:06,  1.62it/s]\n",
            "M: 0.991321118611379 R: 0.9729990356798457█████████████████████████████████████████████████████████████████████████████████████████████████                                                                  | 15/25 [00:13<00:05,  1.99it/s]\n",
            "M: 0.7611650485436894 R: 0.5970873786407767██████████████████████████████████████████████████████████████████████████████████████████████████████▌                                                           | 16/25 [00:13<00:05,  1.70it/s]\n",
            "M: 0.9831858407079646 R: 0.9557522123893806█████████████████████████████████████████████████████████████████████████████████████████████████████████████▏                                                    | 17/25 [00:14<00:05,  1.60it/s]\n",
            "M: 0.9536679536679536 R: 0.9324324324324325███████████████████████████████████████████████████████████████████████████████████████████████████████████████████▊                                              | 18/25 [00:14<00:03,  1.98it/s]\n",
            "M: 0.9406858202038925 R: 0.9295644114921223██████████████████████████████████████████████████████████████████████████████████████████████████████████████████████████▍                                       | 19/25 [00:15<00:03,  1.97it/s]\n",
            "M: 0.9819672131147541 R: 0.978688524590164██████████████████████████████████████████████████████████████████████████████████████████████████████████████████████████████████                                 | 20/25 [00:15<00:02,  1.80it/s]\n",
            "M: 0.9845111326234269 R: 0.9912875121006777███████████████████████████████████████████████████████████████████████████████████████████████████████████████████████████████████████▌                          | 21/25 [00:16<00:02,  1.46it/s]\n",
            "M: 0.9457889641819942 R: 0.9225556631171346██████████████████████████████████████████████████████████████████████████████████████████████████████████████████████████████████████████████▏                   | 22/25 [00:17<00:01,  1.72it/s]\n",
            "M: 0.92579185520362 R: 0.9104072398190045██████████████████████████████████████████████████████████████████████████████████████████████████████████████████████████████████████████████████████▊             | 23/25 [00:17<00:00,  2.23it/s]\n",
            "M: 0.9903083700440528 R: 0.9841409691629956███████████████████████████████████████████████████████████████████████████████████████████████████████████████████████████████████████████████████████████▍      | 24/25 [00:19<00:00,  1.16it/s]\n",
            "Average Metric: 9.21 / 25 (36.8%): 100%|█████████████████████████████████████████████████████████████████████████████████████████████████████████████████████████████████████████████████████████████████████| 25/25 [00:20<00:00,  1.24it/s]"
          ]
        },
        {
          "name": "stderr",
          "output_type": "stream",
          "text": [
            "2025/02/22 23:09:58 INFO dspy.evaluate.evaluate: Average Metric: 9.211010000253177 / 25 (36.8%)\n",
            "2025/02/22 23:09:58 INFO dspy.teleprompt.mipro_optimizer_v2: Score: 36.84 on minibatch of size 25 with parameters ['Predictor 0: Instruction 1', 'Predictor 0: Few-Shot Set 6'].\n",
            "2025/02/22 23:09:58 INFO dspy.teleprompt.mipro_optimizer_v2: Minibatch scores so far: [20.89, 29.74, 23.78, 32.09, 15.86, 30.48, 29.98, 27.71, 32.62, 27.09, 40.49, 28.29, 24.91, 35.34, 32.72, 33.29, 43.11, 47.18, 23.12, 34.17, 36.84]\n",
            "2025/02/22 23:09:58 INFO dspy.teleprompt.mipro_optimizer_v2: Full eval scores so far: [16.42, 35.39, 39.24]\n",
            "2025/02/22 23:09:58 INFO dspy.teleprompt.mipro_optimizer_v2: Best full score so far: 39.24\n",
            "2025/02/22 23:09:58 INFO dspy.teleprompt.mipro_optimizer_v2: ==========================================\n",
            "\n",
            "\n",
            "2025/02/22 23:09:58 INFO dspy.teleprompt.mipro_optimizer_v2: == Trial 25 / 28 - Minibatch ==\n"
          ]
        },
        {
          "name": "stdout",
          "output_type": "stream",
          "text": [
            "\n",
            "M: 0.9177153920619555 R: 0.9225556631171346                                                                                                                                                                           | 0/25 [00:00<?, ?it/s]\n",
            "M: 0.9496964440589766 R: 0.9505637467476149█▋                                                                                                                                                                 | 1/25 [00:05<02:09,  5.40s/it]\n",
            "M: 0.9377700950734659 R: 0.9291270527225584████████▍                                                                                                                                                          | 2/25 [00:05<00:53,  2.31s/it]\n",
            "M: 0.9887640449438202 R: 0.9850187265917603████████▍                                                                                                                                                          | 2/25 [00:05<00:53,  2.31s/it]\n",
            "M: 0.8835041938490215 R: 0.9739049394221808█████████████████████▉                                                                                                                                             | 4/25 [00:05<00:20,  1.04it/s]\n",
            "M: 0.8342245989304813 R: 0.8074866310160428████████████████████████████▌                                                                                                                                      | 5/25 [00:06<00:15,  1.27it/s]\n",
            "M: 0.9884583676834295 R: 0.9859851607584501███████████████████████████████████▎                                                                                                                               | 6/25 [00:06<00:13,  1.40it/s]\n",
            "M: 0.9258188824662813 R: 0.9421965317919075██████████████████████████████████████████                                                                                                                         | 7/25 [00:11<00:33,  1.86s/it]\n",
            "M: 0.9638989169675091 R: 0.9765342960288809████████████████████████████████████████████████▊                                                                                                                  | 8/25 [00:11<00:22,  1.35s/it]\n",
            "M: 0.8695652173913043 R: 0.8837622005323869███████████████████████████████████████████████████████▍                                                                                                           | 9/25 [00:11<00:15,  1.00it/s]\n",
            "M: 0.9745901639344262 R: 0.978688524590164█████████████████████████████████████████████████████████                                                                                                           | 9/25 [00:11<00:15,  1.00it/s]\n",
            "M: 0.9902912621359223 R: 0.9664607237422771█████████████████████████████████████████████████████████████████████                                                                                             | 11/25 [00:12<00:10,  1.31it/s]\n",
            "M: 0.9292493528904228 R: 0.9447799827437446█████████████████████████████████████████████████████████████████████▌                                                                                            | 11/25 [00:12<00:10,  1.31it/s]\n",
            "M: 0.902283105022831 R: 0.9589041095890412███████████████████████████████████████████████████████████████████████████████████▊                                                                               | 13/25 [00:17<00:17,  1.45s/it]\n",
            "M: 0.9741873804971319 R: 0.9560229445506692█████████████████████████████████████████████████████████████████████████████████████████▍                                                                        | 14/25 [00:17<00:12,  1.16s/it]\n",
            "M: 0.9825632083696599 R: 0.962510897994769██████████████████████████████████████████████████████████████████████████████████████████▍                                                                        | 14/25 [00:17<00:12,  1.16s/it]\n",
            "M: 0.9258572752548656 R: 0.9295644114921223██████████████████████████████████████████████████████████████████████████████████████████████████████▌                                                           | 16/25 [00:18<00:07,  1.16it/s]\n",
            "M: 0.9170464904284412 R: 0.8760255241567912██████████████████████████████████████████████████████████████████████████████████████████████████████▌                                                           | 16/25 [00:18<00:07,  1.16it/s]\n",
            "M: 0.9826388888888888 R: 0.9739583333333334███████████████████████████████████████████████████████████████████████████████████████████████████████████████████▊                                              | 18/25 [00:19<00:04,  1.50it/s]\n",
            "M: 0.9942418426103646 R: 0.9760076775431862██████████████████████████████████████████████████████████████████████████████████████████████████████████████████████████▍                                       | 19/25 [00:22<00:07,  1.31s/it]\n",
            "M: 0.963294538943599 R: 0.9507609668755596███████████████████████████████████████████████████████████████████████████████████████████████████████████████████████████▍                                       | 19/25 [00:23<00:07,  1.31s/it]\n",
            "M: 0.913372582001682 R: 0.8915054667788057████████████████████████████████████████████████████████████████████████████████████████████████████████████████████████████████████████▌                          | 21/25 [00:23<00:03,  1.11it/s]\n",
            "M: 0.9809954751131221 R: 0.96289592760181████████████████████████████████████████████████████████████████████████████████████████████████████████████████████████████████████████████████▏                   | 22/25 [00:24<00:02,  1.18it/s]\n",
            "M: 0.9278260869565218 R: 0.9243478260869565████████████████████████████████████████████████████████████████████████████████████████████████████████████████████████████████████████████████████▊             | 23/25 [00:24<00:01,  1.29it/s]\n",
            "M: 0.9828209764918626 R: 0.9719710669077758███████████████████████████████████████████████████████████████████████████████████████████████████████████████████████████████████████████████████████████▍      | 24/25 [00:25<00:00,  1.28it/s]\n",
            "Average Metric: 5.16 / 25 (20.6%): 100%|█████████████████████████████████████████████████████████████████████████████████████████████████████████████████████████████████████████████████████████████████████| 25/25 [00:30<00:00,  1.20s/it]"
          ]
        },
        {
          "name": "stderr",
          "output_type": "stream",
          "text": [
            "2025/02/22 23:10:28 INFO dspy.evaluate.evaluate: Average Metric: 5.156954403770397 / 25 (20.6%)\n",
            "2025/02/22 23:10:28 INFO dspy.teleprompt.mipro_optimizer_v2: Score: 20.63 on minibatch of size 25 with parameters ['Predictor 0: Instruction 4', 'Predictor 0: Few-Shot Set 9'].\n",
            "2025/02/22 23:10:28 INFO dspy.teleprompt.mipro_optimizer_v2: Minibatch scores so far: [20.89, 29.74, 23.78, 32.09, 15.86, 30.48, 29.98, 27.71, 32.62, 27.09, 40.49, 28.29, 24.91, 35.34, 32.72, 33.29, 43.11, 47.18, 23.12, 34.17, 36.84, 20.63]\n",
            "2025/02/22 23:10:28 INFO dspy.teleprompt.mipro_optimizer_v2: Full eval scores so far: [16.42, 35.39, 39.24]\n",
            "2025/02/22 23:10:28 INFO dspy.teleprompt.mipro_optimizer_v2: Best full score so far: 39.24\n",
            "2025/02/22 23:10:28 INFO dspy.teleprompt.mipro_optimizer_v2: ==========================================\n",
            "\n",
            "\n",
            "2025/02/22 23:10:28 INFO dspy.teleprompt.mipro_optimizer_v2: == Trial 26 / 28 - Minibatch ==\n"
          ]
        },
        {
          "name": "stdout",
          "output_type": "stream",
          "text": [
            "\n",
            "  0%|                                                                                                                                                                                                                 | 0/25 [00:00<?, ?it/s]"
          ]
        },
        {
          "name": "stderr",
          "output_type": "stream",
          "text": [
            "2025/02/22 23:10:29 ERROR dspy.utils.parallelizer: Error processing item Example({'noised_text': \"And the Reverend Do.for Rule, a Divine'of great Candor and Learning, and Principal of the College of Edinburgh, has fdated this Obligation very diftiu&ly, as follows, What we ae bound to by the Covenant, is net to Reform them, but tb concur with them, when lawfully called, to advance Reformation5 Ad it is far from our Thought, to go beyond that Boundary, in being con- cern'd in their Affairs, we wiJh their Reformation, bitt leave the mana- ging of it to themselves. Dotor Rule's second Vindication of the hurch of Scotland, P. 16. Now I think nothing is more clear, than that there is all the Room in the World for the Church of Scotland to concur in a Na- tional Reformation, notwithstanding the Union 5 Nay, they will be better Qualifyed for it, now than ever; in so far as they will, I hope, always have the Affi(tance of all Good Men in the South, both Diflenters, and Church Men, to Encourage them. As to the Civil Power of Church Men, or in English, the Bishops Voting in the Parliament, and its being declared against in the Co- vcnant; I will not Dispute the Suggestion, whether it be against\", 'denoised_text': \"And the Reverend Doctor Rule, a Divine of great Candor and Learning, and Principal of the College of Edinburgh, has stated this Obligation very distiuctly, as follows,What we are bound to by the Covenant, is not to Reform them, but to concur with them, when lawfully called, to advance Reformation; And it is far from our Thought, to go beyond that Boundary, in being con-cern'd in their Affairs, we wish their Reformation, but leave the mana-ging of it to themselves. Doctor Rule's second Vindication of the Church of Scotland, P. 16. Now I think nothing is more clear, than that there is all the Room in the World for the Church of Scotland to concur in a Na-tional Reformation, notwithstanding the Union; Nay, they will be better Qualifyed for it, now than ever; in so far as they will, I hope, always have the Assistance of all Good Men in the South, both Dissenters, and Church Men, to Encourage them. As to the Civil Power of Church Men, or in English, the Bishops Voting in the Parliament, and its being declared against in the Co-venant; I will not Dispute the Suggestion, whether it be against\"}) (input_keys={'noised_text'}): litellm.APIError: APIError: OpenAIException - <html>\n",
            "<head><title>502 Bad Gateway</title></head>\n",
            "<body>\n",
            "<center><h1>502 Bad Gateway</h1></center>\n",
            "<hr><center>cloudflare</center>\n",
            "</body>\n",
            "</html>. Set `provide_traceback=True` to see the stack trace.\n"
          ]
        },
        {
          "name": "stdout",
          "output_type": "stream",
          "text": [
            "M: 0.9893203883495145 R: 0.9601941747572815                                                                                                                                                                   | 1/25 [00:01<00:24,  1.00s/it]\n",
            "M: 0.95 R: 0.93035714285714292%):   8%|█████████████▎                                                                                                                                                         | 2/25 [00:06<01:25,  3.71s/it]\n",
            "M: 0.9661172161172161 R: 0.9478021978021978█████████▎                                                                                                                                                         | 2/25 [00:06<01:25,  3.71s/it]\n",
            "M: 0.9418032786885246 R: 0.978688524590164███████████████████████▋                                                                                                                                            | 4/25 [00:08<00:39,  1.88s/it]\n",
            "M: 0.9040219378427787 R: 0.8756855575868373██████████████████████▋                                                                                                                                            | 4/25 [00:08<00:39,  1.88s/it]\n",
            "M: 0.970216606498195 R: 0.9765342960288809█████████████████████████████████████                                                                                                                               | 6/25 [00:08<00:20,  1.06s/it]\n",
            "M: 0.9470954356846473 R: 0.9398340248962656████████████████████████████████████                                                                                                                               | 6/25 [00:08<00:20,  1.06s/it]\n",
            "M: 0.9755868544600939 R: 0.9436619718309859█████████████████████████████████████████████████▍                                                                                                                 | 8/25 [00:12<00:24,  1.45s/it]\n",
            "M: 0.9932821497120922 R: 0.9760076775431862████████████████████████████████████████████████████████                                                                                                           | 9/25 [00:14<00:24,  1.54s/it]\n",
            "M: 0.9626517273576097 R: 0.9551820728291317██████████████████████████████████████████████████████████████▍                                                                                                   | 10/25 [00:15<00:20,  1.37s/it]\n",
            "M: 0.9841129744042365 R: 0.9664607237422771█████████████████████████████████████████████████████████████████████▌                                                                                            | 11/25 [00:15<00:15,  1.13s/it]\n",
            "M: 0.9656387665198238 R: 0.9841409691629956████████████████████████████████████████████████████████████████████████████▏                                                                                     | 12/25 [00:18<00:19,  1.52s/it]\n",
            "M: 0.98005698005698 R: 0.9287749287749287████████████████████████████████████████████████████████████████████████████████████▊                                                                               | 13/25 [00:18<00:14,  1.23s/it]\n",
            "M: 0.982695810564663 R: 0.9735883424408015██████████████████████████████████████████████████████████████████████████████████████████▍                                                                        | 14/25 [00:21<00:18,  1.72s/it]\n",
            "M: 0.9489704565801254 R: 0.9507609668755596████████████████████████████████████████████████████████████████████████████████████████████████                                                                  | 15/25 [00:22<00:15,  1.54s/it]\n",
            "M: 0.9847036328871893 R: 0.9560229445506692██████████████████████████████████████████████████████████████████████████████████████████████████████▌                                                           | 16/25 [00:24<00:13,  1.49s/it]\n",
            "M: 0.9692028985507246 R: 0.9818840579710145█████████████████████████████████████████████████████████████████████████████████████████████████████████████▏                                                    | 17/25 [00:25<00:12,  1.58s/it]\n",
            "M: 0.9314179796107507 R: 0.9545875810936052█████████████████████████████████████████████████████████████████████████████████████████████████████████████▏                                                    | 17/25 [00:25<00:12,  1.58s/it]\n",
            "M: 0.9887152777777778 R: 0.9739583333333334██████████████████████████████████████████████████████████████████████████████████████████████████████████████████████████▍                                       | 19/25 [00:27<00:07,  1.30s/it]\n",
            "M: 0.9535283993115319 R: 0.9629948364888123█████████████████████████████████████████████████████████████████████████████████████████████████████████████████████████████████                                 | 20/25 [00:31<00:09,  1.84s/it]\n",
            "M: 0.8342245989304813 R: 0.8074866310160428███████████████████████████████████████████████████████████████████████████████████████████████████████████████████████████████████████▌                          | 21/25 [00:31<00:05,  1.45s/it]\n",
            "M: 0.957391304347826 R: 0.9243478260869565███████████████████████████████████████████████████████████████████████████████████████████████████████████████████████████████████████████████▏                   | 22/25 [00:31<00:03,  1.09s/it]\n",
            "M: 0.910665451230629 R: 0.8760255241567912█████████████████████████████████████████████████████████████████████████████████████████████████████████████████████████████████████████████████████▊             | 23/25 [00:32<00:02,  1.01s/it]\n",
            "M: 0.9420849420849421 R: 0.9324324324324325███████████████████████████████████████████████████████████████████████████████████████████████████████████████████████████████████████████████████████████▍      | 24/25 [00:34<00:01,  1.26s/it]\n",
            "Average Metric: 6.98 / 24 (29.1%): 100%|█████████████████████████████████████████████████████████████████████████████████████████████████████████████████████████████████████████████████████████████████████| 25/25 [00:34<00:00,  1.40s/it]"
          ]
        },
        {
          "name": "stderr",
          "output_type": "stream",
          "text": [
            "2025/02/22 23:11:03 INFO dspy.evaluate.evaluate: Average Metric: 6.981523318121285 / 25 (27.9%)\n",
            "2025/02/22 23:11:03 INFO dspy.teleprompt.mipro_optimizer_v2: Score: 27.93 on minibatch of size 25 with parameters ['Predictor 0: Instruction 18', 'Predictor 0: Few-Shot Set 15'].\n",
            "2025/02/22 23:11:03 INFO dspy.teleprompt.mipro_optimizer_v2: Minibatch scores so far: [20.89, 29.74, 23.78, 32.09, 15.86, 30.48, 29.98, 27.71, 32.62, 27.09, 40.49, 28.29, 24.91, 35.34, 32.72, 33.29, 43.11, 47.18, 23.12, 34.17, 36.84, 20.63, 27.93]\n",
            "2025/02/22 23:11:03 INFO dspy.teleprompt.mipro_optimizer_v2: Full eval scores so far: [16.42, 35.39, 39.24]\n",
            "2025/02/22 23:11:03 INFO dspy.teleprompt.mipro_optimizer_v2: Best full score so far: 39.24\n",
            "2025/02/22 23:11:03 INFO dspy.teleprompt.mipro_optimizer_v2: ==========================================\n",
            "\n",
            "\n",
            "2025/02/22 23:11:03 INFO dspy.teleprompt.mipro_optimizer_v2: == Trial 27 / 28 - Minibatch ==\n"
          ]
        },
        {
          "name": "stdout",
          "output_type": "stream",
          "text": [
            "\n",
            "M: 0.7660194174757282 R: 0.5970873786407767                                                                                                                                                                           | 0/25 [00:00<?, ?it/s]\n",
            "M: 0.9656387665198238 R: 0.9841409691629956██▋                                                                                                                                                                | 1/25 [00:05<02:10,  5.45s/it]\n",
            "M: 0.9505637467476149 R: 0.9505637467476149█████████▎                                                                                                                                                         | 2/25 [00:05<00:55,  2.40s/it]\n",
            "M: 0.9791855203619909 R: 0.96289592760181██████████████████                                                                                                                                                   | 3/25 [00:05<00:31,  1.43s/it]\n",
            "M: 0.9448209099709584 R: 0.9225556631171346██████████████████████▋                                                                                                                                            | 4/25 [00:06<00:22,  1.08s/it]\n",
            "M: 0.9707964601769912 R: 0.9557522123893806█████████████████████████████▍                                                                                                                                     | 5/25 [00:06<00:15,  1.31it/s]\n",
            "M: 0.9251141552511416 R: 0.9589041095890412████████████████████████████████████                                                                                                                               | 6/25 [00:07<00:12,  1.52it/s]\n",
            "M: 0.9455488331892826 R: 0.9291270527225584██████████████████████████████████████████▊                                                                                                                        | 7/25 [00:11<00:30,  1.72s/it]\n",
            "M: 0.9952015355086372 R: 0.9760076775431862█████████████████████████████████████████████████▍                                                                                                                 | 8/25 [00:11<00:20,  1.22s/it]\n",
            "M: 0.9570494864612512 R: 0.9551820728291317█████████████████████████████████████████████████▍                                                                                                                 | 8/25 [00:11<00:20,  1.22s/it]\n",
            "M: 0.946911196911197 R: 0.9324324324324325████████████████████████████████████████████████████████████████                                                                                                   | 10/25 [00:12<00:13,  1.15it/s]\n",
            "M: 0.820855614973262 R: 0.8074866310160428██████████████████████████████████████████████████████████████████████▌                                                                                            | 11/25 [00:12<00:09,  1.45it/s]\n",
            "M: 0.9556840077071291 R: 0.9421965317919075████████████████████████████████████████████████████████████████████████████▏                                                                                     | 12/25 [00:14<00:14,  1.13s/it]\n",
            "M: 0.9818355640535373 R: 0.9560229445506692██████████████████████████████████████████████████████████████████████████████████▊                                                                               | 13/25 [00:16<00:15,  1.28s/it]\n",
            "M: 0.9545014520813165 R: 0.9912875121006777█████████████████████████████████████████████████████████████████████████████████████████▍                                                                        | 14/25 [00:16<00:11,  1.04s/it]\n",
            "M: 0.990409764603313 R: 0.962510897994769███████████████████████████████████████████████████████████████████████████████████████████▍                                                                        | 14/25 [00:16<00:11,  1.04s/it]\n",
            "M: 0.9819672131147541 R: 0.978688524590164███████████████████████████████████████████████████████████████████████████████████████████████████████▌                                                           | 16/25 [00:17<00:06,  1.39it/s]\n",
            "M: 0.9068273092369478 R: 0.9036144578313253█████████████████████████████████████████████████████████████████████████████████████████████████████████████▏                                                    | 17/25 [00:17<00:05,  1.54it/s]\n",
            "M: 0.9589285714285715 R: 0.9303571428571429███████████████████████████████████████████████████████████████████████████████████████████████████████████████████▊                                              | 18/25 [00:20<00:08,  1.16s/it]\n",
            "M: 0.9394221808014911 R: 0.9739049394221808██████████████████████████████████████████████████████████████████████████████████████████████████████████████████████████▍                                       | 19/25 [00:21<00:06,  1.13s/it]\n",
            "M: 0.9904513888888888 R: 0.9730902777777778█████████████████████████████████████████████████████████████████████████████████████████████████████████████████████████████████                                 | 20/25 [00:22<00:04,  1.00it/s]\n",
            "M: 0.9344858962693358 R: 0.8307552320291174███████████████████████████████████████████████████████████████████████████████████████████████████████████████████████████████████████▌                          | 21/25 [00:23<00:04,  1.09s/it]\n",
            "M: 0.9499536607970342 R: 0.9545875810936052██████████████████████████████████████████████████████████████████████████████████████████████████████████████████████████████████████████████▏                   | 22/25 [00:23<00:02,  1.11it/s]\n",
            "M: 0.9194570135746606 R: 0.9104072398190045████████████████████████████████████████████████████████████████████████████████████████████████████████████████████████████████████████████████████▊             | 23/25 [00:25<00:01,  1.01it/s]\n",
            "M: 0.93255620316403 R: 0.8834304746044963█████████████████████████████████████████████████████████████████████████████████████████████████████████████████████████████████████████████████████████████▍      | 24/25 [00:26<00:01,  1.01s/it]\n",
            "Average Metric: 6.79 / 25 (27.2%): 100%|█████████████████████████████████████████████████████████████████████████████████████████████████████████████████████████████████████████████████████████████████████| 25/25 [00:28<00:00,  1.12s/it]"
          ]
        },
        {
          "name": "stderr",
          "output_type": "stream",
          "text": [
            "2025/02/22 23:11:31 INFO dspy.evaluate.evaluate: Average Metric: 6.791320628735322 / 25 (27.2%)\n",
            "2025/02/22 23:11:31 INFO dspy.teleprompt.mipro_optimizer_v2: Score: 27.17 on minibatch of size 25 with parameters ['Predictor 0: Instruction 1', 'Predictor 0: Few-Shot Set 11'].\n",
            "2025/02/22 23:11:31 INFO dspy.teleprompt.mipro_optimizer_v2: Minibatch scores so far: [20.89, 29.74, 23.78, 32.09, 15.86, 30.48, 29.98, 27.71, 32.62, 27.09, 40.49, 28.29, 24.91, 35.34, 32.72, 33.29, 43.11, 47.18, 23.12, 34.17, 36.84, 20.63, 27.93, 27.17]\n",
            "2025/02/22 23:11:31 INFO dspy.teleprompt.mipro_optimizer_v2: Full eval scores so far: [16.42, 35.39, 39.24]\n",
            "2025/02/22 23:11:31 INFO dspy.teleprompt.mipro_optimizer_v2: Best full score so far: 39.24\n",
            "2025/02/22 23:11:31 INFO dspy.teleprompt.mipro_optimizer_v2: ==========================================\n",
            "\n",
            "\n",
            "2025/02/22 23:11:31 INFO dspy.teleprompt.mipro_optimizer_v2: ===== Trial 28 / 28 - Full Evaluation =====\n",
            "2025/02/22 23:11:31 INFO dspy.teleprompt.mipro_optimizer_v2: Doing full eval on next top averaging program (Avg Score: 39.975) from minibatch trials...\n"
          ]
        },
        {
          "name": "stdout",
          "output_type": "stream",
          "text": [
            "\n",
            "M: 0.9233971690258118 R: 0.8834304746044963                                                                                                                                                                           | 0/60 [00:00<?, ?it/s]\n",
            "M: 0.991321118611379 R: 0.9729990356798457                                                                                                                                                                    | 1/60 [00:02<02:20,  2.39s/it]\n",
            "M: 0.7611650485436894 R: 0.5970873786407767                                                                                                                                                                   | 1/60 [00:02<02:20,  2.39s/it]\n",
            "M: 0.9791855203619909 R: 0.96289592760181██████▎                                                                                                                                                              | 3/60 [00:02<00:37,  1.52it/s]\n",
            "M: 0.9609035621198957 R: 0.9626411815812337████▎                                                                                                                                                              | 3/60 [00:02<00:37,  1.52it/s]\n",
            "M: 0.9903083700440528 R: 0.9841409691629956█████████▉                                                                                                                                                         | 5/60 [00:02<00:19,  2.84it/s]\n",
            "M: 0.9849765258215962 R: 0.9436619718309859█████████▉                                                                                                                                                         | 5/60 [00:04<00:19,  2.84it/s]\n",
            "M: 0.9472247497725205 R: 0.8307552320291174███████████████▍                                                                                                                                                   | 7/60 [00:04<00:32,  1.61it/s]\n",
            "M: 0.9891500904159132 R: 0.9719710669077758██████████████████▎                                                                                                                                                | 8/60 [00:04<00:28,  1.80it/s]\n",
            "M: 0.9104204753199269 R: 0.8756855575868373██████████████████▎                                                                                                                                                | 8/60 [00:04<00:28,  1.80it/s]\n",
            "M: 0.9915730337078652 R: 0.9850187265917603████████████████████████▌                                                                                                                                         | 10/60 [00:05<00:26,  1.92it/s]\n",
            "M: 0.967032967032967 R: 0.9478021978021978████████████████████████████▏                                                                                                                                      | 11/60 [00:06<00:29,  1.66it/s]\n",
            "M: 0.9616519174041298 R: 0.943952802359882███████████████████████████████                                                                                                                                    | 12/60 [00:06<00:23,  2.05it/s]\n",
            "M: 0.9512448132780082 R: 0.9398340248962656████████████████████████████████▊                                                                                                                                 | 13/60 [00:07<00:19,  2.46it/s]\n",
            "M: 0.9406858202038925 R: 0.9295644114921223███████████████████████████████████▌                                                                                                                              | 14/60 [00:07<00:23,  1.95it/s]\n",
            "M: 0.9865711727842436 R: 0.973142345568487███████████████████████████████████████▎                                                                                                                           | 15/60 [00:09<00:31,  1.41it/s]\n",
            "M: 0.9766136576239476 R: 0.9700654817586529██████████████████████████████████████▎                                                                                                                           | 15/60 [00:09<00:31,  1.41it/s]\n",
            "M: 0.9809954751131221 R: 0.9610859728506788███████████████████████████████████████████▊                                                                                                                      | 17/60 [00:09<00:25,  1.71it/s]\n",
            "M: 0.8190730837789661 R: 0.8074866310160428██████████████████████████████████████████████▌                                                                                                                   | 18/60 [00:11<00:31,  1.34it/s]\n",
            "M: 0.9921875 R: 0.9739583333333334  32%|████████████████████████████████████████████████████▎                                                                                                                | 19/60 [00:11<00:28,  1.42it/s]\n",
            "M: 0.9459459459459459 R: 0.9739049394221808████████████████████████████████████████████████████                                                                                                              | 20/60 [00:11<00:22,  1.79it/s]\n",
            "M: 0.9836065573770492 R: 0.9447799827437446██████████████████████████████████████████████████████▋                                                                                                           | 21/60 [00:12<00:17,  2.25it/s]\n",
            "M: 0.9453197405004634 R: 0.9545875810936052█████████████████████████████████████████████████████████▍                                                                                                        | 22/60 [00:14<00:35,  1.07it/s]\n",
            "M: 0.9802065404475043 R: 0.9629948364888123█████████████████████████████████████████████████████████▍                                                                                                        | 22/60 [00:14<00:35,  1.07it/s]\n",
            "M: 0.9490060501296457 R: 0.9291270527225584███████████████████████████████████████████████████████████████                                                                                                   | 24/60 [00:15<00:26,  1.34it/s]\n",
            "M: 0.9845111326234269 R: 0.9912875121006777█████████████████████████████████████████████████████████████████▊                                                                                                | 25/60 [00:16<00:27,  1.29it/s]\n",
            "M: 0.9719202898550725 R: 0.9818840579710145████████████████████████████████████████████████████████████████████▌                                                                                             | 26/60 [00:16<00:26,  1.30it/s]\n",
            "M: 0.9952015355086372 R: 0.9760076775431862███████████████████████████████████████████████████████████████████████▎                                                                                          | 27/60 [00:17<00:19,  1.68it/s]\n",
            "M: 0.9749328558639212 R: 0.9507609668755596██████████████████████████████████████████████████████████████████████████▌                                                                                       | 28/60 [00:17<00:17,  1.81it/s]\n",
            "M: 0.9877800407331976 R: 0.9470468431771895█████████████████████████████████████████████████████████████████████████████▎                                                                                    | 29/60 [00:17<00:15,  1.98it/s]\n",
            "M: 0.9610136452241715 R: 0.9064327485380117████████████████████████████████████████████████████████████████████████████████                                                                                  | 30/60 [00:18<00:16,  1.82it/s]\n",
            "M: 0.9255605381165919 R: 0.9049327354260089██████████████████████████████████████████████████████████████████████████████████▋                                                                               | 31/60 [00:19<00:17,  1.68it/s]\n",
            "M: 0.9847036328871893 R: 0.9560229445506692█████████████████████████████████████████████████████████████████████████████████████▍                                                                            | 32/60 [00:19<00:15,  1.82it/s]\n",
            "M: 0.9232876712328767 R: 0.9589041095890412████████████████████████████████████████████████████████████████████████████████████████▏                                                                         | 33/60 [00:20<00:14,  1.90it/s]\n",
            "M: 0.9894086496028244 R: 0.9664607237422771██████████████████████████████████████████████████████████████████████████████████████████▉                                                                       | 34/60 [00:21<00:19,  1.33it/s]\n",
            "M: 0.9809885931558935 R: 0.9534220532319392█████████████████████████████████████████████████████████████████████████████████████████████▋                                                                    | 35/60 [00:21<00:16,  1.54it/s]\n",
            "M: 0.9457889641819942 R: 0.9225556631171346████████████████████████████████████████████████████████████████████████████████████████████████▍                                                                 | 36/60 [00:23<00:23,  1.03it/s]\n",
            "M: 0.9904513888888888 R: 0.9730902777777778███████████████████████████████████████████████████████████████████████████████████████████████████▏                                                              | 37/60 [00:24<00:20,  1.12it/s]\n",
            "M: 0.9954462659380692 R: 0.982695810564663██████████████████████████████████████████████████████████████████████████████████████████████████████▊                                                            | 38/60 [00:25<00:20,  1.09it/s]\n",
            "M: 0.9536679536679536 R: 0.9324324324324325█████████████████████████████████████████████████████████████████████████████████████████████████████▊                                                            | 38/60 [00:25<00:20,  1.09it/s]\n",
            "M: 0.9922330097087378 R: 0.9601941747572815███████████████████████████████████████████████████████████████████████████████████████████████████████████▎                                                      | 40/60 [00:25<00:12,  1.62it/s]\n",
            "M: 0.9042844120328167 R: 0.8760255241567912██████████████████████████████████████████████████████████████████████████████████████████████████████████████                                                    | 41/60 [00:26<00:11,  1.64it/s]\n",
            "M: 0.9810066476733144 R: 0.9287749287749287████████████████████████████████████████████████████████████████████████████████████████████████████████████████▊                                                 | 42/60 [00:26<00:08,  2.07it/s]\n",
            "M: 0.8935226264418811 R: 0.8837622005323869███████████████████████████████████████████████████████████████████████████████████████████████████████████████████▌                                              | 43/60 [00:26<00:07,  2.41it/s]\n",
            "M: 0.9527938342967245 R: 0.9421965317919075██████████████████████████████████████████████████████████████████████████████████████████████████████████████████████▎                                           | 44/60 [00:27<00:08,  1.94it/s]\n",
            "M: 0.983754512635379 R: 0.9765342960288809██████████████████████████████████████████████████████████████████████████████████████████████████████████████████████████                                         | 45/60 [00:27<00:06,  2.42it/s]\n",
            "M: 0.986922406277245 R: 0.962510897994769█████████████████████████████████████████████████████████████████████████████████████████████████████████████████████████████▋                                      | 46/60 [00:28<00:08,  1.67it/s]\n",
            "M: 0.92579185520362 R: 0.9104072398190045████████████████████████████████████████████████████████████████████████████████████████████████████████████████████████████████▍                                   | 47/60 [00:29<00:10,  1.26it/s]\n",
            "M: 0.9686956521739131 R: 0.9243478260869565██████████████████████████████████████████████████████████████████████████████████████████████████████████████████████████████▍                                   | 47/60 [00:29<00:10,  1.26it/s]\n",
            "M: 0.9673202614379085 R: 0.9551820728291317███████████████████████████████████████████████████████████████████████████████████████████████████████████████████████████████████▉                              | 49/60 [00:31<00:07,  1.46it/s]\n",
            "M: 0.9917559769167353 R: 0.9859851607584501██████████████████████████████████████████████████████████████████████████████████████████████████████████████████████████████████████▋                           | 50/60 [00:32<00:08,  1.17it/s]\n",
            "M: 0.9718693284936479 R: 0.9718693284936479█████████████████████████████████████████████████████████████████████████████████████████████████████████████████████████████████████████▍                        | 51/60 [00:32<00:06,  1.48it/s]\n",
            "M: 0.9571428571428572 R: 0.9303571428571429████████████████████████████████████████████████████████████████████████████████████████████████████████████████████████████████████████████▏                     | 52/60 [00:33<00:04,  1.66it/s]\n",
            "M: 0.9819672131147541 R: 0.978688524590164█████████████████████████████████████████████████████████████████████████████████████████████████████████████████████████████████████████████▏                     | 52/60 [00:33<00:04,  1.66it/s]\n",
            "M: 0.9444911690496215 R: 0.8915054667788057█████████████████████████████████████████████████████████████████████████████████████████████████████████████████████████████████████████████████▌                | 54/60 [00:33<00:02,  2.48it/s]\n",
            "M: 0.9172690763052209 R: 0.9036144578313253████████████████████████████████████████████████████████████████████████████████████████████████████████████████████████████████████████████████████▎             | 55/60 [00:34<00:03,  1.51it/s]\n",
            "M: 0.9831858407079646 R: 0.9557522123893806███████████████████████████████████████████████████████████████████████████████████████████████████████████████████████████████████████████████████████           | 56/60 [00:35<00:02,  1.66it/s]\n",
            "M: 0.8635122838944496 R: 0.813466787989081██████████████████████████████████████████████████████████████████████████████████████████████████████████████████████████████████████████████████████████▊        | 57/60 [00:35<00:01,  1.90it/s]\n",
            "M: 0.95836947094536 R: 0.9505637467476149██████████████████████████████████████████████████████████████████████████████████████████████████████████████████████████████████████████████████████████████▌     | 58/60 [00:37<00:02,  1.04s/it]\n",
            "M: 0.98816029143898 R: 0.9735883424408015█████████████████████████████████████████████████████████████████████████████████████████████████████████████████████████████████████████████████████████████████▎  | 59/60 [00:44<00:02,  2.58s/it]\n",
            "Average Metric: 23.47 / 60 (39.1%): 100%|████████████████████████████████████████████████████████████████████████████████████████████████████████████████████████████████████████████████████████████████████| 60/60 [00:44<00:00,  1.34it/s]"
          ]
        },
        {
          "name": "stderr",
          "output_type": "stream",
          "text": [
            "2025/02/22 23:12:16 INFO dspy.evaluate.evaluate: Average Metric: 23.47015277352771 / 60 (39.1%)\n",
            "2025/02/22 23:12:16 INFO dspy.teleprompt.mipro_optimizer_v2: Full eval scores so far: [16.42, 35.39, 39.24, 39.12]\n",
            "2025/02/22 23:12:16 INFO dspy.teleprompt.mipro_optimizer_v2: Best full score so far: 39.24\n",
            "2025/02/22 23:12:16 INFO dspy.teleprompt.mipro_optimizer_v2: =======================\n",
            "2025/02/22 23:12:16 INFO dspy.teleprompt.mipro_optimizer_v2: \n",
            "\n",
            "2025/02/22 23:12:16 INFO dspy.teleprompt.mipro_optimizer_v2: Returning best identified program with score 39.24!\n"
          ]
        },
        {
          "name": "stdout",
          "output_type": "stream",
          "text": [
            "\n"
          ]
        }
      ],
      "source": [
        "teleprompter = dspy.teleprompt.MIPROv2(metric=eval_cer_relative,auto=\"medium\")\n",
        "program=dspy.Predict(\"noised_text: str -> denoised_text: str\")\n",
        "optimized_program = teleprompter.compile(program.deepcopy(),trainset=samples[:75],max_bootstrapped_demos=5,max_labeled_demos=5)\n",
        "optimized_program.save(\"./mp_optimized_v4/\", save_program=True)"
      ]
    },
    {
      "cell_type": "code",
      "execution_count": null,
      "id": "55d984d7-d225-4244-9563-b9ff0ccccca5",
      "metadata": {
        "id": "55d984d7-d225-4244-9563-b9ff0ccccca5",
        "outputId": "39711211-4f64-4371-c4e8-ed10d0674f81"
      },
      "outputs": [
        {
          "data": {
            "text/plain": [
              "Predict(StringSignature(noised_text -> denoised_text\n",
              "    instructions='In a world where historical and literary texts are at risk of being lost to time due to typographical errors and archaic spellings, your task is to act as a guardian of language. Given the `noised_text` that contains various distortions, your mission is to meticulously restore it to its original clarity and meaning. Produce the `denoised_text` that not only corrects the errors but also preserves the essence of the text, ensuring it is both accurate and comprehensible for future generations of scholars and enthusiasts alike.'\n",
              "    noised_text = Field(annotation=str required=True json_schema_extra={'__dspy_field_type': 'input', 'prefix': 'Noised Text:', 'desc': '${noised_text}'})\n",
              "    denoised_text = Field(annotation=str required=True json_schema_extra={'__dspy_field_type': 'output', 'prefix': 'Denoised Text:', 'desc': '${denoised_text}'})\n",
              "))"
            ]
          },
          "execution_count": 26,
          "metadata": {},
          "output_type": "execute_result"
        }
      ],
      "source": [
        "optimized_program"
      ]
    },
    {
      "cell_type": "code",
      "execution_count": null,
      "id": "2ce1f21c-e2e5-4a37-bcb3-6d12d4f629e8",
      "metadata": {
        "id": "2ce1f21c-e2e5-4a37-bcb3-6d12d4f629e8",
        "outputId": "34093844-84d1-403f-dad2-9df32d89861c"
      },
      "outputs": [
        {
          "name": "stdout",
          "output_type": "stream",
          "text": [
            "Average Metric: 2.83 / 10 (28.3%): 100%|█████████████████████████████████████████████████████████████████████████████████████████████████████████████████████████████████████████████████████████████████████| 10/10 [00:27<00:00,  2.76s/it]"
          ]
        },
        {
          "name": "stderr",
          "output_type": "stream",
          "text": [
            "2025/02/22 23:17:58 INFO dspy.evaluate.evaluate: Average Metric: 2.8335946806816383 / 10 (28.3%)\n"
          ]
        },
        {
          "name": "stdout",
          "output_type": "stream",
          "text": [
            "\n"
          ]
        },
        {
          "data": {
            "text/html": [
              "<div>\n",
              "<style scoped>\n",
              "    .dataframe tbody tr th:only-of-type {\n",
              "        vertical-align: middle;\n",
              "    }\n",
              "\n",
              "    .dataframe tbody tr th {\n",
              "        vertical-align: top;\n",
              "    }\n",
              "\n",
              "    .dataframe thead th {\n",
              "        text-align: right;\n",
              "    }\n",
              "</style>\n",
              "<table border=\"1\" class=\"dataframe\">\n",
              "  <thead>\n",
              "    <tr style=\"text-align: right;\">\n",
              "      <th></th>\n",
              "      <th>noised_text</th>\n",
              "      <th>example_denoised_text</th>\n",
              "      <th>pred_denoised_text</th>\n",
              "      <th>eval_cer_relative</th>\n",
              "    </tr>\n",
              "  </thead>\n",
              "  <tbody>\n",
              "    <tr>\n",
              "      <th>0</th>\n",
              "      <td>of Bothwel; 2dly, toThomas x489' lord Erskinc, ancellor of the ear...</td>\n",
              "      <td>of Bothwel; 2dly,Ibid. ad. ann. 1489. to Thomas lord Erskine, ance...</td>\n",
              "      <td>of Bothwell; secondly, to Thomas lord Erskine, chancellor of the e...</td>\n",
              "      <td>✔️ [0.001]</td>\n",
              "    </tr>\n",
              "    <tr>\n",
              "      <th>1</th>\n",
              "      <td>observing that, although he feels it impofiible to marry the lady ...</td>\n",
              "      <td>observing that, although he feels it impossible to marry the lady ...</td>\n",
              "      <td>observing that, although he feels it impossible to marry the lady ...</td>\n",
              "      <td>✔️ [0.542]</td>\n",
              "    </tr>\n",
              "    <tr>\n",
              "      <th>2</th>\n",
              "      <td>C 4 3 ) EngliJ, St. George's Eve; all which fignfy one and the fam...</td>\n",
              "      <td>English, St. George's Eve; all which signify one and the same thin...</td>\n",
              "      <td>C 4 3) English, St. George's Eve; all of which signify one and the...</td>\n",
              "      <td>✔️ [0.001]</td>\n",
              "    </tr>\n",
              "    <tr>\n",
              "      <th>3</th>\n",
              "      <td>Till left her lelplefi fate to moarre, rTglkded, lo-aing andforlor...</td>\n",
              "      <td>Till left her helpless state to mourn, Neglected, loving and forlo...</td>\n",
              "      <td>Till left her helpless fate to mourn, troubled, longing and forlor...</td>\n",
              "      <td>✔️ [0.350]</td>\n",
              "    </tr>\n",
              "    <tr>\n",
              "      <th>4</th>\n",
              "      <td>wheeled upon the rear of the pursuers, and made great havock among...</td>\n",
              "      <td>wheeled upon the rear of the pursuers, and made great havock among...</td>\n",
              "      <td>wheeled upon the rear of the pursuers, and made great havoc among ...</td>\n",
              "      <td>✔️ [0.565]</td>\n",
              "    </tr>\n",
              "  </tbody>\n",
              "</table>\n",
              "</div>"
            ],
            "text/plain": [
              "                                                             noised_text  \\\n",
              "0  of Bothwel; 2dly, toThomas x489' lord Erskinc, ancellor of the ear...   \n",
              "1  observing that, although he feels it impofiible to marry the lady ...   \n",
              "2  C 4 3 ) EngliJ, St. George's Eve; all which fignfy one and the fam...   \n",
              "3  Till left her lelplefi fate to moarre, rTglkded, lo-aing andforlor...   \n",
              "4  wheeled upon the rear of the pursuers, and made great havock among...   \n",
              "\n",
              "                                                   example_denoised_text  \\\n",
              "0  of Bothwel; 2dly,Ibid. ad. ann. 1489. to Thomas lord Erskine, ance...   \n",
              "1  observing that, although he feels it impossible to marry the lady ...   \n",
              "2  English, St. George's Eve; all which signify one and the same thin...   \n",
              "3  Till left her helpless state to mourn, Neglected, loving and forlo...   \n",
              "4  wheeled upon the rear of the pursuers, and made great havock among...   \n",
              "\n",
              "                                                      pred_denoised_text  \\\n",
              "0  of Bothwell; secondly, to Thomas lord Erskine, chancellor of the e...   \n",
              "1  observing that, although he feels it impossible to marry the lady ...   \n",
              "2  C 4 3) English, St. George's Eve; all of which signify one and the...   \n",
              "3  Till left her helpless fate to mourn, troubled, longing and forlor...   \n",
              "4  wheeled upon the rear of the pursuers, and made great havoc among ...   \n",
              "\n",
              "  eval_cer_relative  \n",
              "0        ✔️ [0.001]  \n",
              "1        ✔️ [0.542]  \n",
              "2        ✔️ [0.001]  \n",
              "3        ✔️ [0.350]  \n",
              "4        ✔️ [0.565]  "
            ]
          },
          "metadata": {},
          "output_type": "display_data"
        },
        {
          "data": {
            "text/html": [
              "\n",
              "                <div style='\n",
              "                    text-align: center;\n",
              "                    font-size: 16px;\n",
              "                    font-weight: bold;\n",
              "                    color: #555;\n",
              "                    margin: 10px 0;'>\n",
              "                    ... 5 more rows not displayed ...\n",
              "                </div>\n",
              "                "
            ],
            "text/plain": [
              "<IPython.core.display.HTML object>"
            ]
          },
          "metadata": {},
          "output_type": "display_data"
        },
        {
          "name": "stdout",
          "output_type": "stream",
          "text": [
            "Initial 28.34\n",
            "Average Metric: 5.54 / 10 (55.4%): 100%|█████████████████████████████████████████████████████████████████████████████████████████████████████████████████████████████████████████████████████████████████████| 10/10 [01:01<00:00,  6.18s/it]"
          ]
        },
        {
          "name": "stderr",
          "output_type": "stream",
          "text": [
            "2025/02/22 23:19:00 INFO dspy.evaluate.evaluate: Average Metric: 5.536892423625517 / 10 (55.4%)\n"
          ]
        },
        {
          "name": "stdout",
          "output_type": "stream",
          "text": [
            "\n"
          ]
        },
        {
          "data": {
            "text/html": [
              "<div>\n",
              "<style scoped>\n",
              "    .dataframe tbody tr th:only-of-type {\n",
              "        vertical-align: middle;\n",
              "    }\n",
              "\n",
              "    .dataframe tbody tr th {\n",
              "        vertical-align: top;\n",
              "    }\n",
              "\n",
              "    .dataframe thead th {\n",
              "        text-align: right;\n",
              "    }\n",
              "</style>\n",
              "<table border=\"1\" class=\"dataframe\">\n",
              "  <thead>\n",
              "    <tr style=\"text-align: right;\">\n",
              "      <th></th>\n",
              "      <th>noised_text</th>\n",
              "      <th>example_denoised_text</th>\n",
              "      <th>pred_denoised_text</th>\n",
              "      <th>eval_cer_relative</th>\n",
              "    </tr>\n",
              "  </thead>\n",
              "  <tbody>\n",
              "    <tr>\n",
              "      <th>0</th>\n",
              "      <td>of Bothwel; 2dly, toThomas x489' lord Erskinc, ancellor of the ear...</td>\n",
              "      <td>of Bothwel; 2dly,Ibid. ad. ann. 1489. to Thomas lord Erskine, ance...</td>\n",
              "      <td>of Bothwell; 2dly, to Thomas lord Erskine, chancellor of the earl ...</td>\n",
              "      <td>✔️ [0.336]</td>\n",
              "    </tr>\n",
              "    <tr>\n",
              "      <th>1</th>\n",
              "      <td>observing that, although he feels it impofiible to marry the lady ...</td>\n",
              "      <td>observing that, although he feels it impossible to marry the lady ...</td>\n",
              "      <td>observing that, although he feels it impossible to marry the lady ...</td>\n",
              "      <td>✔️ [0.500]</td>\n",
              "    </tr>\n",
              "    <tr>\n",
              "      <th>2</th>\n",
              "      <td>C 4 3 ) EngliJ, St. George's Eve; all which fignfy one and the fam...</td>\n",
              "      <td>English, St. George's Eve; all which signify one and the same thin...</td>\n",
              "      <td>English, St. George's Eve; all which signify one and the same thin...</td>\n",
              "      <td>✔️ [0.764]</td>\n",
              "    </tr>\n",
              "    <tr>\n",
              "      <th>3</th>\n",
              "      <td>Till left her lelplefi fate to moarre, rTglkded, lo-aing andforlor...</td>\n",
              "      <td>Till left her helpless state to mourn, Neglected, loving and forlo...</td>\n",
              "      <td>Till left her helpless fate to mourn, troubled, longing and forlor...</td>\n",
              "      <td>✔️ [0.625]</td>\n",
              "    </tr>\n",
              "    <tr>\n",
              "      <th>4</th>\n",
              "      <td>wheeled upon the rear of the pursuers, and made great havock among...</td>\n",
              "      <td>wheeled upon the rear of the pursuers, and made great havock among...</td>\n",
              "      <td>wheeled upon the rear of the pursuers, and made great havoc among ...</td>\n",
              "      <td>✔️ [0.565]</td>\n",
              "    </tr>\n",
              "  </tbody>\n",
              "</table>\n",
              "</div>"
            ],
            "text/plain": [
              "                                                             noised_text  \\\n",
              "0  of Bothwel; 2dly, toThomas x489' lord Erskinc, ancellor of the ear...   \n",
              "1  observing that, although he feels it impofiible to marry the lady ...   \n",
              "2  C 4 3 ) EngliJ, St. George's Eve; all which fignfy one and the fam...   \n",
              "3  Till left her lelplefi fate to moarre, rTglkded, lo-aing andforlor...   \n",
              "4  wheeled upon the rear of the pursuers, and made great havock among...   \n",
              "\n",
              "                                                   example_denoised_text  \\\n",
              "0  of Bothwel; 2dly,Ibid. ad. ann. 1489. to Thomas lord Erskine, ance...   \n",
              "1  observing that, although he feels it impossible to marry the lady ...   \n",
              "2  English, St. George's Eve; all which signify one and the same thin...   \n",
              "3  Till left her helpless state to mourn, Neglected, loving and forlo...   \n",
              "4  wheeled upon the rear of the pursuers, and made great havock among...   \n",
              "\n",
              "                                                      pred_denoised_text  \\\n",
              "0  of Bothwell; 2dly, to Thomas lord Erskine, chancellor of the earl ...   \n",
              "1  observing that, although he feels it impossible to marry the lady ...   \n",
              "2  English, St. George's Eve; all which signify one and the same thin...   \n",
              "3  Till left her helpless fate to mourn, troubled, longing and forlor...   \n",
              "4  wheeled upon the rear of the pursuers, and made great havoc among ...   \n",
              "\n",
              "  eval_cer_relative  \n",
              "0        ✔️ [0.336]  \n",
              "1        ✔️ [0.500]  \n",
              "2        ✔️ [0.764]  \n",
              "3        ✔️ [0.625]  \n",
              "4        ✔️ [0.565]  "
            ]
          },
          "metadata": {},
          "output_type": "display_data"
        },
        {
          "data": {
            "text/html": [
              "\n",
              "                <div style='\n",
              "                    text-align: center;\n",
              "                    font-size: 16px;\n",
              "                    font-weight: bold;\n",
              "                    color: #555;\n",
              "                    margin: 10px 0;'>\n",
              "                    ... 5 more rows not displayed ...\n",
              "                </div>\n",
              "                "
            ],
            "text/plain": [
              "<IPython.core.display.HTML object>"
            ]
          },
          "metadata": {},
          "output_type": "display_data"
        },
        {
          "name": "stdout",
          "output_type": "stream",
          "text": [
            "Improved 55.37\n"
          ]
        }
      ],
      "source": [
        "print(\"Initial\",ev(program,metric=eval_cer_relative))\n",
        "print(\"Improved\",ev(optimized_program,metric=eval_cer_relative))\n"
      ]
    },
    {
      "cell_type": "markdown",
      "id": "46900617-d282-4c1c-b882-b544b1af4a61",
      "metadata": {
        "id": "46900617-d282-4c1c-b882-b544b1af4a61"
      },
      "source": [
        "**Sweet! That worked!**\n",
        "\n",
        "# Simpler optimizer\n",
        "\n",
        "* Let's try an optimizer which only tries to come up with good few_shot examples"
      ]
    },
    {
      "cell_type": "code",
      "execution_count": null,
      "id": "00cb07ff-24e9-4dd2-8860-e2d923366301",
      "metadata": {
        "id": "00cb07ff-24e9-4dd2-8860-e2d923366301",
        "outputId": "24d1ab93-8841-47cf-e060-fcfc5516a3b0"
      },
      "outputs": [
        {
          "name": "stderr",
          "output_type": "stream",
          "text": [
            "  0%|                                                                                                                                                                                                                 | 0/75 [00:00<?, ?it/s]"
          ]
        },
        {
          "name": "stdout",
          "output_type": "stream",
          "text": [
            "Average Metric: 0.00 / 5 (0.0%):  80%|████████████████████████████████████████████████████████████████████████████████████████████████████████████████████████████████████                                 | 4/5 [1:08:32<17:08, 1028.14s/it]\n"
          ]
        },
        {
          "name": "stderr",
          "output_type": "stream",
          "text": [
            " 28%|████████████████████████████████████████████████████████                                                                                                                                                | 21/75 [13:30<34:44, 38.60s/it]"
          ]
        },
        {
          "name": "stdout",
          "output_type": "stream",
          "text": [
            "Bootstrapped 8 full traces after 21 examples for up to 10 rounds, amounting to 139 attempts.\n"
          ]
        },
        {
          "name": "stderr",
          "output_type": "stream",
          "text": [
            "\n"
          ]
        }
      ],
      "source": [
        "optimizer = dspy.teleprompt.BootstrapFewShot(\n",
        "    metric=eval_cer_relative,\n",
        "    max_bootstrapped_demos=8,\n",
        "    max_labeled_demos=0,\n",
        "    max_rounds=10,\n",
        ")\n",
        "program=dspy.Predict(\"noised_text: str -> denoised_text: str\")\n",
        "optimized_program_bsfs = optimizer.compile(program.deepcopy(),trainset=samples[:75])\n",
        "optimized_program_bsfs.save(\"./mp_optimized_BSFS_v1/\", save_program=True)"
      ]
    },
    {
      "cell_type": "code",
      "execution_count": null,
      "id": "f9a27698-1726-4416-ae7e-ea9925d139c9",
      "metadata": {
        "id": "f9a27698-1726-4416-ae7e-ea9925d139c9",
        "outputId": "4ebbfbe7-2fbb-4cb6-f276-94ea835b1617"
      },
      "outputs": [
        {
          "name": "stdout",
          "output_type": "stream",
          "text": [
            "Predict(StringSignature(noised_text -> denoised_text\n",
            "    instructions='Given the fields `noised_text`, produce the fields `denoised_text`.'\n",
            "    noised_text = Field(annotation=str required=True json_schema_extra={'__dspy_field_type': 'input', 'prefix': 'Noised Text:', 'desc': '${noised_text}'})\n",
            "    denoised_text = Field(annotation=str required=True json_schema_extra={'__dspy_field_type': 'output', 'prefix': 'Denoised Text:', 'desc': '${denoised_text}'})\n",
            "))\n",
            "Average Metric: 3.73 / 10 (37.3%): 100%|█████████████████████████████████████████████████████████████████████████████████████████████████████████████████████████████████████████████████████████████████████| 10/10 [01:07<00:00,  6.74s/it]"
          ]
        },
        {
          "name": "stderr",
          "output_type": "stream",
          "text": [
            "2025/02/23 00:01:57 INFO dspy.evaluate.evaluate: Average Metric: 3.728672425631721 / 10 (37.3%)\n"
          ]
        },
        {
          "name": "stdout",
          "output_type": "stream",
          "text": [
            "\n"
          ]
        },
        {
          "data": {
            "text/html": [
              "<div>\n",
              "<style scoped>\n",
              "    .dataframe tbody tr th:only-of-type {\n",
              "        vertical-align: middle;\n",
              "    }\n",
              "\n",
              "    .dataframe tbody tr th {\n",
              "        vertical-align: top;\n",
              "    }\n",
              "\n",
              "    .dataframe thead th {\n",
              "        text-align: right;\n",
              "    }\n",
              "</style>\n",
              "<table border=\"1\" class=\"dataframe\">\n",
              "  <thead>\n",
              "    <tr style=\"text-align: right;\">\n",
              "      <th></th>\n",
              "      <th>noised_text</th>\n",
              "      <th>example_denoised_text</th>\n",
              "      <th>pred_denoised_text</th>\n",
              "      <th>eval_cer_relative</th>\n",
              "    </tr>\n",
              "  </thead>\n",
              "  <tbody>\n",
              "    <tr>\n",
              "      <th>0</th>\n",
              "      <td>of Bothwel; 2dly, toThomas x489' lord Erskinc, ancellor of the ear...</td>\n",
              "      <td>of Bothwel; 2dly,Ibid. ad. ann. 1489. to Thomas lord Erskine, ance...</td>\n",
              "      <td>of Bothwell; 2dly, to Thomas lord Erskine, chancellor of the earl ...</td>\n",
              "      <td>✔️ [0.001]</td>\n",
              "    </tr>\n",
              "    <tr>\n",
              "      <th>1</th>\n",
              "      <td>observing that, although he feels it impofiible to marry the lady ...</td>\n",
              "      <td>observing that, although he feels it impossible to marry the lady ...</td>\n",
              "      <td>observing that, although he feels it impossible to marry the lady ...</td>\n",
              "      <td>✔️ [0.542]</td>\n",
              "    </tr>\n",
              "    <tr>\n",
              "      <th>2</th>\n",
              "      <td>C 4 3 ) EngliJ, St. George's Eve; all which fignfy one and the fam...</td>\n",
              "      <td>English, St. George's Eve; all which signify one and the same thin...</td>\n",
              "      <td>C 4 3) English, St. George's Eve; all which signify one and the sa...</td>\n",
              "      <td>✔️ [0.291]</td>\n",
              "    </tr>\n",
              "    <tr>\n",
              "      <th>3</th>\n",
              "      <td>Till left her lelplefi fate to moarre, rTglkded, lo-aing andforlor...</td>\n",
              "      <td>Till left her helpless state to mourn, Neglected, loving and forlo...</td>\n",
              "      <td>Till left her helpless fate to mourn, troubled, longing and forlor...</td>\n",
              "      <td>✔️ [0.350]</td>\n",
              "    </tr>\n",
              "    <tr>\n",
              "      <th>4</th>\n",
              "      <td>wheeled upon the rear of the pursuers, and made great havock among...</td>\n",
              "      <td>wheeled upon the rear of the pursuers, and made great havock among...</td>\n",
              "      <td>wheeled upon the rear of the pursuers, and made great havoc among ...</td>\n",
              "      <td>✔️ [0.565]</td>\n",
              "    </tr>\n",
              "  </tbody>\n",
              "</table>\n",
              "</div>"
            ],
            "text/plain": [
              "                                                             noised_text  \\\n",
              "0  of Bothwel; 2dly, toThomas x489' lord Erskinc, ancellor of the ear...   \n",
              "1  observing that, although he feels it impofiible to marry the lady ...   \n",
              "2  C 4 3 ) EngliJ, St. George's Eve; all which fignfy one and the fam...   \n",
              "3  Till left her lelplefi fate to moarre, rTglkded, lo-aing andforlor...   \n",
              "4  wheeled upon the rear of the pursuers, and made great havock among...   \n",
              "\n",
              "                                                   example_denoised_text  \\\n",
              "0  of Bothwel; 2dly,Ibid. ad. ann. 1489. to Thomas lord Erskine, ance...   \n",
              "1  observing that, although he feels it impossible to marry the lady ...   \n",
              "2  English, St. George's Eve; all which signify one and the same thin...   \n",
              "3  Till left her helpless state to mourn, Neglected, loving and forlo...   \n",
              "4  wheeled upon the rear of the pursuers, and made great havock among...   \n",
              "\n",
              "                                                      pred_denoised_text  \\\n",
              "0  of Bothwell; 2dly, to Thomas lord Erskine, chancellor of the earl ...   \n",
              "1  observing that, although he feels it impossible to marry the lady ...   \n",
              "2  C 4 3) English, St. George's Eve; all which signify one and the sa...   \n",
              "3  Till left her helpless fate to mourn, troubled, longing and forlor...   \n",
              "4  wheeled upon the rear of the pursuers, and made great havoc among ...   \n",
              "\n",
              "  eval_cer_relative  \n",
              "0        ✔️ [0.001]  \n",
              "1        ✔️ [0.542]  \n",
              "2        ✔️ [0.291]  \n",
              "3        ✔️ [0.350]  \n",
              "4        ✔️ [0.565]  "
            ]
          },
          "metadata": {},
          "output_type": "display_data"
        },
        {
          "data": {
            "text/html": [
              "\n",
              "                <div style='\n",
              "                    text-align: center;\n",
              "                    font-size: 16px;\n",
              "                    font-weight: bold;\n",
              "                    color: #555;\n",
              "                    margin: 10px 0;'>\n",
              "                    ... 5 more rows not displayed ...\n",
              "                </div>\n",
              "                "
            ],
            "text/plain": [
              "<IPython.core.display.HTML object>"
            ]
          },
          "metadata": {},
          "output_type": "display_data"
        },
        {
          "name": "stdout",
          "output_type": "stream",
          "text": [
            "Improved 37.29\n"
          ]
        }
      ],
      "source": [
        "\n",
        "print(optimized_program_bsfs)\n",
        "print(\"Improved\",ev(optimized_program_bsfs,metric=eval_cer_relative))"
      ]
    },
    {
      "cell_type": "code",
      "execution_count": null,
      "id": "c4c5466c-8a0d-4dcf-8248-bc6c68702b54",
      "metadata": {
        "id": "c4c5466c-8a0d-4dcf-8248-bc6c68702b54",
        "outputId": "0bc873b5-15a3-49f9-ceaf-0837f1d61e90"
      },
      "outputs": [
        {
          "name": "stdout",
          "output_type": "stream",
          "text": [
            "[Example({'augmented': True, 'noised_text': 'observing that, although he feels it impofiible to marry the lady himself, he cannot endure the thought of her living for another. This new\\'misfortune finks the father to the ground, upon which he is left to die on one fide of the fiage, while the lady flands flatue-ftruck with grief on the other. Neither of these objeets go to the heart of our hero. On the contrary, he intimates that there is no way left to pacify his fears on this curious point of delicacy, but the death of this beloved mistress. Hereupon the poet makes her obligingly take the hint by throwing herself into an attitude to receive the blow from the hand of her lover; who, how- ever, rather hesitates about it, upon which the lady presents her beautiful bosom (all heroines you know miiri be beautiful) to any of the robbers; none of whom can be found to Scar that whiter in of her\\'s \"Than monumental alabalter.\" when men, who live by pillage and murder, are thus tender-hearted, I am justified in apply- ing the quotation; though, I should confider myself as having a sufficient sanction on the determined laws of the drama, to enrol amongst their', 'denoised_text': 'observing that, although he feels it impossible to marry the lady himself, he cannot endure the thought of her living for another. This new misfortune sinks the father to the ground, upon which he is left to die on one side of the stage, while the lady stands statue-struck with grief on the other. Neither of these objects go to the heart of our hero. On the contrary, he intimates that there is no way left to pacify his fears on this curious point of delicacy, but the death of this beloved mistress. Hereupon the poet makes her obligingly take the hint by throwing herself into an attitude to receive the blow from the hand of her lover; who, however, rather hesitates about it, upon which the lady presents her beautiful bosom (all heroines you know must be beautiful) to any of the robbers; none of whom can be found to scar that whiteness of hers \"Than monumental alabaster.\" when men, who live by pillage and murder, are thus tender-hearted, I am justified in applying the quotation; though, I should consider myself as having a sufficient sanction on the determined laws of the drama, to enroll amongst their'}) (input_keys=None), Example({'augmented': True, 'noised_text': \"Till left her lelplefi fate to moarre, rTglkded, lo-aing andforlorn, Sefind, -while grief her bom flings, As -cell as darts the god has wings. But who is this the Duke brings with him-oh, 'tis the village nymph, he so much doats on. I mut observe them. [Exlt. SCE NE IV. Enter Phillis andDuke. Duoe. Well, what think you of the court, does it delight you, Phillis? Phil. It is the feat of wonders: every thing changes charater here; the men are quite different; I met one who is the lord of the manor in our neighbourhood, a very proud gentleman amongfr us, he carries his head so high and so fierce, and threatens folks with his cane in the country if they do but look upon him; here he was bowing and scraping and cringing like a spaniel. WVhy are they so complaisant here, these great folks who terrify and domineer over us in the country? Does the court make them so much better? No, 1 believe, if they do any good here, 'tis only to get a right to do something bad elsewhere. Duke. I hear you with pleasure; did not the brilliancy and politeness of the court furprize\", 'denoised_text': \"Till left her helpless fate to mourn, troubled, longing and forlorn, she finds, -while grief her bosom flings, As well as darts the god has wings. But who is this the Duke brings with him - oh, 'tis the village nymph, he so much dotes on. I must observe them. [Exit. SCENE IV. Enter Phillis and Duke. Duke. Well, what think you of the court, does it delight you, Phillis? Phil. It is the seat of wonders: everything changes character here; the men are quite different; I met one who is the lord of the manor in our neighborhood, a very proud gentleman among us, he carries his head so high and so fierce, and threatens folks with his cane in the country if they do but look upon him; here he was bowing and scraping and cringing like a spaniel. Why are they so complaisant here, these great folks who terrify and domineer over us in the country? Does the court make them so much better? No, I believe, if they do any good here, 'tis only to get a right to do something bad elsewhere. Duke. I hear you with pleasure; did not the brilliancy and politeness of the court surprise\"}) (input_keys=None), Example({'augmented': True, 'noised_text': 'wheeled upon the rear of the pursuers, and made great havock among them. After the royalists had a little recovered from their fur- prize, they made a vigorous fland; and both fides, for a time, flood gazing at each other, without sufficient courage to renew the attack, They all night lay under arms, and next morn- ing found themselves in fight of each other; this had been the time for the king to have struck a decisive blow; he loft the opportunity, and both fides separated with equal loss. Five thousand men are said to have been found dead on the field of battle. It would be tedious, and no way inftrudtive, to enter into the marchings, and countermarch- ings of these undisciplined and ill conduced armies: war was a new trade to the English, as they had not seen an hostile engagement in the island for near a century before. The queen came to re-inforce the royal party; flhe had brought soldiers and ammunition from Holland, and immediately departed to furnish more. But the parliament, who knew its own strength, was no way discouraged. Their de- mands seemed to encreafe in proportion to their loftcs; and as they were', 'denoised_text': 'wheeled upon the rear of the pursuers, and made great havoc among them. After the royalists had a little recovered from their surprise, they made a vigorous stand; and both sides, for a time, stood gazing at each other, without sufficient courage to renew the attack. They all night lay under arms, and next morning found themselves in sight of each other; this had been the time for the king to have struck a decisive blow; he lost the opportunity, and both sides separated with equal loss. Five thousand men are said to have been found dead on the field of battle. It would be tedious, and no way instructive, to enter into the marchings, and countermarchings of these undisciplined and ill-conducted armies: war was a new trade to the English, as they had not seen a hostile engagement in the island for near a century before. The queen came to reinforce the royal party; she had brought soldiers and ammunition from Holland, and immediately departed to furnish more. But the parliament, who knew its own strength, was no way discouraged. Their demands seemed to increase in proportion to their losses; and as they were'}) (input_keys=None), Example({'augmented': True, 'noised_text': \"of Guilt and Misery. This Confli& of Pations-is raiied with a great deal of Art, as the Opening of his Speech to the Sun is very bold and noble. O thou that with fuJrpaling Glory crown'Z -Look from thy file Dominion lilkc the God Of this new World, at whoJe Sight all the Stars Bide their diininijh'd Heads, to thee I call 'st witl, no fnrendl Voice, and add thy Name 0 Sun, to tell thee bow I hate thy Beams Thar bring to my 'emembrince frim what Stcte I fell, how glorious once above thy Sphere. T H I S Speech is, I think, the finest that is afczi bed. to Satan in the whole Poem. The Evil, Spiit afterwards proceeds to make his' Discoveries con :cetning our.-firf Parents, and to learn -after what Manner they may be befl attacked.- His bonnding overthe Walls of Paradisj; his fitting.in the Shapt of a Cormorant upon the Tree of Life, which flood in the Center of it, and over-topped all the other Trees -of tfe Garden;'his alighting adong the Heid of Animals, which are so beautifully rc- presented as playing about .damr and Erve; toge- ther with his transforming himself into\", 'denoised_text': \"of Guilt and Misery. This Conflict of Passions is raised with a great deal of Art, as the Opening of his Speech to the Sun is very bold and noble. O thou that with unparalleled Glory crown'd - Look from thy high Dominion like the God of this new World, at whose Sight all the Stars hide their diminished Heads, to thee I call with no friendly Voice, and add thy Name O Sun, to tell thee how I hate thy Beams that bring to my remembrance from what State I fell, how glorious once above thy Sphere. THIS Speech is, I think, the finest that is ascribed to Satan in the whole Poem. The Evil Spirit afterwards proceeds to make his Discoveries concerning our first Parents, and to learn after what Manner they may be best attacked. His bounding over the Walls of Paradise, his sitting in the Shape of a Cormorant upon the Tree of Life, which stood in the Center of it, and over-topped all the other Trees of the Garden; his alighting along the Head of Animals, which are so beautifully represented as playing about Adam and Eve; together with his transforming himself into\"}) (input_keys=None), Example({'augmented': True, 'noised_text': \"' included, like illions of their fellow-fubje&s, ri ' the general system of repreentation, involves such an accumulation of absurdity, as nothing but the ' ihew of patriotism would palliate.'- His last de- fignation of the class of men whom he means to ftig- matife, is the following:-' That man is not a pa- c triot, who denies his governors their due praise, ' and who conceals from the public the benefits which ' they receive. Those, therefore, can lay no claim to this illustrious appellation, who impute want of ' public spirit to the late parliament; an assembly of 'men, whom, notwithstanding ome fluctuations of ' counsel, and ome weakness of agency, the nation 'must always remember with gratitude, since it is indebted to them for a very ample concession in the ' resignation of protetions, and a wife and honest attempt to improve the constitution, in the newjudi- cature instituted to try eleEions.' Johnson publilhed also in 1775, a pamphlet intitled, 'Taxation no Tyranny,' an answer to the resolutions and address of the American congress ; in which, as the ground of his argument, he assumes as felf-evident, the following proposition: ' In all the ' parts of\", 'denoised_text': \"'Included, like millions of their fellow-subjects, in the general system of representation, involves such an accumulation of absurdity, as nothing but the show of patriotism would palliate.' His last designation of the class of men whom he means to stigmatize is the following: 'That man is not a patriot, who denies his governors their due praise, and who conceals from the public the benefits which they receive. Those, therefore, can lay no claim to this illustrious appellation, who impute want of public spirit to the late parliament; an assembly of men, whom, notwithstanding some fluctuations of counsel, and some weakness of agency, the nation must always remember with gratitude, since it is indebted to them for a very ample concession in the resignation of protections, and a wise and honest attempt to improve the constitution, in the new judicature instituted to try elections.' Johnson published also in 1775, a pamphlet entitled, 'Taxation no Tyranny,' an answer to the resolutions and address of the American congress; in which, as the ground of his argument, he assumes as self-evident, the following proposition: 'In all the parts of\"}) (input_keys=None), Example({'augmented': True, 'noised_text': 'was put in fee of the whale estate of Cranston, in his uncle\\'s life- time, which appears from a charter under the great feal, containing an entail, terrarult ba- Chart.inpub. roni: de Cranf1on, &c. &\\'c. &c. viz. i To, archiv. \"and in favours of John lord Cranflon, in lifrent, and to Wiliiam, master of Cran- \" fton (only lawful son of the deceaft James \" manler of Cranllon, brother german to \\' the said John) in fee and heritage, and the \" heirs-male of his body; wlich failing, to \" Henry Cranlson, brother gernan to tile \"said lord, and the heirs-male of his body; \" which failing, to Thomas Cranfito, also \" brother germian to the slid lord, and the \" lheirs-male of llis body; which failing, to George Cranftoll of Glen, descended of fir \" Thomas Cranlton of thllt ilk, and the heirs- \"male of his body; which all failing, to \" the said John lord Cralnfton his nearest \"heirs-mlale whatfoimver, bearing the name \" and arms of Cranflon. Also the office of \" coroer of the lhire of Roxburgh, &c.\" dated 7th Janulary, 1638. lie was a man of great honour, loyalty, and integrity, and adhered firmly to', 'denoised_text': 'was put in fee of the whale estate of Cranston, in his uncle\\'s lifetime, which appears from a charter under the great seal, containing an entail, terrarum de Cranston, &c. viz. \"and in favours of John lord Cranston, in lifrent, and to William, master of Cranston (only lawful son of the deceased James master of Cranston, brother german to the said John) in fee and heritage, and the heirs-male of his body; which failing, to Henry Cranston, brother german to the said lord, and the heirs-male of his body; which failing, to Thomas Cranston, also brother german to the said lord, and the heirs-male of his body; which failing, to George Cranston of Glen, descended of Sir Thomas Cranston of that ilk, and the heirs-male of his body; which all failing, to the said John lord Cranston his nearest heirs-male whatsoever, bearing the name and arms of Cranston. Also the office of coroner of the shire of Roxburgh, &c.\" dated 7th January, 1638. He was a man of great honour, loyalty, and integrity, and adhered firmly to'}) (input_keys=None), Example({'augmented': True, 'noised_text': \"Icannot, my Lord, accept the favour. Altho' I had given myl'elf up to dcfpair of obtaining the happi- neclsto which I once aspired; yet I was not willing to quita city that this family had made dear to me, with the precipitation of a man conlctious of milbehaviour. I thank you for the permission I had to attend you all ini full alirnbly. May God prosper you, my Lord; and may you be invested with the firit honours of that church which mult be adorned by to worthy a heart; It wi!l be ms glorv, when I am in my native place, or wherC-ever 1 am, to remember that I was once thought not unworthy ofa rank in a family so cfipeta- hie. Let me, my Lord, be intitlcd to your kind re- membrance. He pulled out his handkerchief. My Lord, said l;e, to his father; Mv Lord, to the G(enral; Grandifon nmutf not go !-, nd fat down with emotion. Lady Sforza wept: Laurana feermed moved: The two young Lords Sebaftino and Juliano, were grc..tly affected. I then aldrefled myself to the Marquis, who fat undetermined, as to speech: My venerable Lord, forgive me, that my address was not\", 'denoised_text': 'I cannot, my Lord, accept the favor. Although I had given myself up to despair of obtaining the happiness to which I once aspired; yet I was not willing to quit a city that this family had made dear to me, with the precipitation of a man conscious of misbehavior. I thank you for the permission I had to attend you all in full assembly. May God prosper you, my Lord; and may you be invested with the first honors of that church which must be adorned by so worthy a heart; It will be my glory, when I am in my native place, or wherever I am, to remember that I was once thought not unworthy of a rank in a family so capable. Let me, my Lord, be entitled to your kind remembrance. He pulled out his handkerchief. My Lord, said he, to his father; My Lord, to the General; Grandison must not go! and sat down with emotion. Lady Sforza wept: Laurana seemed moved: The two young Lords Sebastino and Juliano were greatly affected. I then addressed myself to the Marquis, who sat undetermined, as to speech: My venerable Lord, forgive me, that my address was not'}) (input_keys=None), Example({'augmented': True, 'noised_text': \"infinite concern, that on this occasion, inflead of glorying in so favourable an opportunity to display my merits, I am obliged to' make it my chief en- deavour to wipe off a most infamous aspersion that has been thrown on my chara&er, no less than the charge of being a Counterfeit and an Impostor. It is hard for' a man on his death-bed' to be put upon the proof of the reality of his existence, and though I am alive and merry, of which I hope you are all fully convinced, yet I cannot brook the thought that TERR.E-FILIUS, should be ac- counted a kind of Bastard Prodution, (or as the lawyers term it) NULLIUS FILIUS; and that it should be in the power of Envy or Malice to make a blot in my escutcheon. I do not doubt, how- ever, of being able to blazon my title, and to prove that I am neither an Usurper nor a Pretender. It is true, indeed, that most of my ancestors were the most noted manufa&urers of Scandal, and great wholesale dealers in Libel and Scandalum Magnatóm; and that in this glorious occupation they nobly sustained all the pains and inconve- niences\", 'denoised_text': 'infinite concern, that on this occasion, instead of glorying in so favorable an opportunity to display my merits, I am obliged to make it my chief endeavor to wipe off a most infamous aspersion that has been thrown on my character, no less than the charge of being a Counterfeit and an Impostor. It is hard for a man on his deathbed to be put upon the proof of the reality of his existence, and though I am alive and merry, of which I hope you are all fully convinced, yet I cannot brook the thought that TERR.E-FILIUS should be accounted a kind of Bastard Production, (or as the lawyers term it) NULLIUS FILIUS; and that it should be in the power of Envy or Malice to make a blot in my escutcheon. I do not doubt, however, of being able to blazon my title, and to prove that I am neither an Usurper nor a Pretender. It is true, indeed, that most of my ancestors were the most noted manufacturers of Scandal, and great wholesale dealers in Libel and Scandalum Magnatóm; and that in this glorious occupation they nobly sustained all the pains and inconveniences'}) (input_keys=None)]\n"
          ]
        }
      ],
      "source": [
        "print(optimized_program_bsfs.demos)"
      ]
    }
  ],
  "metadata": {
    "kernelspec": {
      "display_name": "Python 3 (ipykernel)",
      "language": "python",
      "name": "python3"
    },
    "language_info": {
      "codemirror_mode": {
        "name": "ipython",
        "version": 3
      },
      "file_extension": ".py",
      "mimetype": "text/x-python",
      "name": "python",
      "nbconvert_exporter": "python",
      "pygments_lexer": "ipython3",
      "version": "3.12.7"
    },
    "colab": {
      "provenance": [],
      "include_colab_link": true
    }
  },
  "nbformat": 4,
  "nbformat_minor": 5
}