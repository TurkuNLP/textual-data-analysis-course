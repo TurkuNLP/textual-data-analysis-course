{
  "nbformat": 4,
  "nbformat_minor": 0,
  "metadata": {
    "kernelspec": {
      "display_name": "Python 3",
      "language": "python",
      "name": "python3"
    },
    "language_info": {
      "codemirror_mode": {
        "name": "ipython",
        "version": 3
      },
      "file_extension": ".py",
      "mimetype": "text/x-python",
      "name": "python",
      "nbconvert_exporter": "python",
      "pygments_lexer": "ipython3",
      "version": "3.5.2"
    },
    "colab": {
      "provenance": [],
      "include_colab_link": true
    },
    "widgets": {
      "application/vnd.jupyter.widget-state+json": {
        "2ed3b52ebc89457b8c9059c367dc2d34": {
          "model_module": "@jupyter-widgets/controls",
          "model_name": "HBoxModel",
          "model_module_version": "1.5.0",
          "state": {
            "_dom_classes": [],
            "_model_module": "@jupyter-widgets/controls",
            "_model_module_version": "1.5.0",
            "_model_name": "HBoxModel",
            "_view_count": null,
            "_view_module": "@jupyter-widgets/controls",
            "_view_module_version": "1.5.0",
            "_view_name": "HBoxView",
            "box_style": "",
            "children": [
              "IPY_MODEL_be9afb73124146639853126a32dbc1a2",
              "IPY_MODEL_a995caecd2c84748bf392d9ffb93c7dc",
              "IPY_MODEL_a3a5d30da1bf401793c77532e49cd292"
            ],
            "layout": "IPY_MODEL_9f93e6d46b55435b865d72595362f225"
          }
        },
        "be9afb73124146639853126a32dbc1a2": {
          "model_module": "@jupyter-widgets/controls",
          "model_name": "HTMLModel",
          "model_module_version": "1.5.0",
          "state": {
            "_dom_classes": [],
            "_model_module": "@jupyter-widgets/controls",
            "_model_module_version": "1.5.0",
            "_model_name": "HTMLModel",
            "_view_count": null,
            "_view_module": "@jupyter-widgets/controls",
            "_view_module_version": "1.5.0",
            "_view_name": "HTMLView",
            "description": "",
            "description_tooltip": null,
            "layout": "IPY_MODEL_c00209e0cd40424b8aa070064471e6f5",
            "placeholder": "​",
            "style": "IPY_MODEL_a8a8160d21204366a78c3dbb46aa0609",
            "value": "Downloading (…)lve/main/config.json: 100%"
          }
        },
        "a995caecd2c84748bf392d9ffb93c7dc": {
          "model_module": "@jupyter-widgets/controls",
          "model_name": "FloatProgressModel",
          "model_module_version": "1.5.0",
          "state": {
            "_dom_classes": [],
            "_model_module": "@jupyter-widgets/controls",
            "_model_module_version": "1.5.0",
            "_model_name": "FloatProgressModel",
            "_view_count": null,
            "_view_module": "@jupyter-widgets/controls",
            "_view_module_version": "1.5.0",
            "_view_name": "ProgressView",
            "bar_style": "success",
            "description": "",
            "description_tooltip": null,
            "layout": "IPY_MODEL_4a3ff6305611436d86c044cedba774eb",
            "max": 1150,
            "min": 0,
            "orientation": "horizontal",
            "style": "IPY_MODEL_869f103d6a814285a1d53cb7a19ec254",
            "value": 1150
          }
        },
        "a3a5d30da1bf401793c77532e49cd292": {
          "model_module": "@jupyter-widgets/controls",
          "model_name": "HTMLModel",
          "model_module_version": "1.5.0",
          "state": {
            "_dom_classes": [],
            "_model_module": "@jupyter-widgets/controls",
            "_model_module_version": "1.5.0",
            "_model_name": "HTMLModel",
            "_view_count": null,
            "_view_module": "@jupyter-widgets/controls",
            "_view_module_version": "1.5.0",
            "_view_name": "HTMLView",
            "description": "",
            "description_tooltip": null,
            "layout": "IPY_MODEL_9d863c608a614c80bf0dc28c0df31277",
            "placeholder": "​",
            "style": "IPY_MODEL_e69494e54d914846b7eefad2b0ceca67",
            "value": " 1.15k/1.15k [00:00&lt;00:00, 31.7kB/s]"
          }
        },
        "9f93e6d46b55435b865d72595362f225": {
          "model_module": "@jupyter-widgets/base",
          "model_name": "LayoutModel",
          "model_module_version": "1.2.0",
          "state": {
            "_model_module": "@jupyter-widgets/base",
            "_model_module_version": "1.2.0",
            "_model_name": "LayoutModel",
            "_view_count": null,
            "_view_module": "@jupyter-widgets/base",
            "_view_module_version": "1.2.0",
            "_view_name": "LayoutView",
            "align_content": null,
            "align_items": null,
            "align_self": null,
            "border": null,
            "bottom": null,
            "display": null,
            "flex": null,
            "flex_flow": null,
            "grid_area": null,
            "grid_auto_columns": null,
            "grid_auto_flow": null,
            "grid_auto_rows": null,
            "grid_column": null,
            "grid_gap": null,
            "grid_row": null,
            "grid_template_areas": null,
            "grid_template_columns": null,
            "grid_template_rows": null,
            "height": null,
            "justify_content": null,
            "justify_items": null,
            "left": null,
            "margin": null,
            "max_height": null,
            "max_width": null,
            "min_height": null,
            "min_width": null,
            "object_fit": null,
            "object_position": null,
            "order": null,
            "overflow": null,
            "overflow_x": null,
            "overflow_y": null,
            "padding": null,
            "right": null,
            "top": null,
            "visibility": null,
            "width": null
          }
        },
        "c00209e0cd40424b8aa070064471e6f5": {
          "model_module": "@jupyter-widgets/base",
          "model_name": "LayoutModel",
          "model_module_version": "1.2.0",
          "state": {
            "_model_module": "@jupyter-widgets/base",
            "_model_module_version": "1.2.0",
            "_model_name": "LayoutModel",
            "_view_count": null,
            "_view_module": "@jupyter-widgets/base",
            "_view_module_version": "1.2.0",
            "_view_name": "LayoutView",
            "align_content": null,
            "align_items": null,
            "align_self": null,
            "border": null,
            "bottom": null,
            "display": null,
            "flex": null,
            "flex_flow": null,
            "grid_area": null,
            "grid_auto_columns": null,
            "grid_auto_flow": null,
            "grid_auto_rows": null,
            "grid_column": null,
            "grid_gap": null,
            "grid_row": null,
            "grid_template_areas": null,
            "grid_template_columns": null,
            "grid_template_rows": null,
            "height": null,
            "justify_content": null,
            "justify_items": null,
            "left": null,
            "margin": null,
            "max_height": null,
            "max_width": null,
            "min_height": null,
            "min_width": null,
            "object_fit": null,
            "object_position": null,
            "order": null,
            "overflow": null,
            "overflow_x": null,
            "overflow_y": null,
            "padding": null,
            "right": null,
            "top": null,
            "visibility": null,
            "width": null
          }
        },
        "a8a8160d21204366a78c3dbb46aa0609": {
          "model_module": "@jupyter-widgets/controls",
          "model_name": "DescriptionStyleModel",
          "model_module_version": "1.5.0",
          "state": {
            "_model_module": "@jupyter-widgets/controls",
            "_model_module_version": "1.5.0",
            "_model_name": "DescriptionStyleModel",
            "_view_count": null,
            "_view_module": "@jupyter-widgets/base",
            "_view_module_version": "1.2.0",
            "_view_name": "StyleView",
            "description_width": ""
          }
        },
        "4a3ff6305611436d86c044cedba774eb": {
          "model_module": "@jupyter-widgets/base",
          "model_name": "LayoutModel",
          "model_module_version": "1.2.0",
          "state": {
            "_model_module": "@jupyter-widgets/base",
            "_model_module_version": "1.2.0",
            "_model_name": "LayoutModel",
            "_view_count": null,
            "_view_module": "@jupyter-widgets/base",
            "_view_module_version": "1.2.0",
            "_view_name": "LayoutView",
            "align_content": null,
            "align_items": null,
            "align_self": null,
            "border": null,
            "bottom": null,
            "display": null,
            "flex": null,
            "flex_flow": null,
            "grid_area": null,
            "grid_auto_columns": null,
            "grid_auto_flow": null,
            "grid_auto_rows": null,
            "grid_column": null,
            "grid_gap": null,
            "grid_row": null,
            "grid_template_areas": null,
            "grid_template_columns": null,
            "grid_template_rows": null,
            "height": null,
            "justify_content": null,
            "justify_items": null,
            "left": null,
            "margin": null,
            "max_height": null,
            "max_width": null,
            "min_height": null,
            "min_width": null,
            "object_fit": null,
            "object_position": null,
            "order": null,
            "overflow": null,
            "overflow_x": null,
            "overflow_y": null,
            "padding": null,
            "right": null,
            "top": null,
            "visibility": null,
            "width": null
          }
        },
        "869f103d6a814285a1d53cb7a19ec254": {
          "model_module": "@jupyter-widgets/controls",
          "model_name": "ProgressStyleModel",
          "model_module_version": "1.5.0",
          "state": {
            "_model_module": "@jupyter-widgets/controls",
            "_model_module_version": "1.5.0",
            "_model_name": "ProgressStyleModel",
            "_view_count": null,
            "_view_module": "@jupyter-widgets/base",
            "_view_module_version": "1.2.0",
            "_view_name": "StyleView",
            "bar_color": null,
            "description_width": ""
          }
        },
        "9d863c608a614c80bf0dc28c0df31277": {
          "model_module": "@jupyter-widgets/base",
          "model_name": "LayoutModel",
          "model_module_version": "1.2.0",
          "state": {
            "_model_module": "@jupyter-widgets/base",
            "_model_module_version": "1.2.0",
            "_model_name": "LayoutModel",
            "_view_count": null,
            "_view_module": "@jupyter-widgets/base",
            "_view_module_version": "1.2.0",
            "_view_name": "LayoutView",
            "align_content": null,
            "align_items": null,
            "align_self": null,
            "border": null,
            "bottom": null,
            "display": null,
            "flex": null,
            "flex_flow": null,
            "grid_area": null,
            "grid_auto_columns": null,
            "grid_auto_flow": null,
            "grid_auto_rows": null,
            "grid_column": null,
            "grid_gap": null,
            "grid_row": null,
            "grid_template_areas": null,
            "grid_template_columns": null,
            "grid_template_rows": null,
            "height": null,
            "justify_content": null,
            "justify_items": null,
            "left": null,
            "margin": null,
            "max_height": null,
            "max_width": null,
            "min_height": null,
            "min_width": null,
            "object_fit": null,
            "object_position": null,
            "order": null,
            "overflow": null,
            "overflow_x": null,
            "overflow_y": null,
            "padding": null,
            "right": null,
            "top": null,
            "visibility": null,
            "width": null
          }
        },
        "e69494e54d914846b7eefad2b0ceca67": {
          "model_module": "@jupyter-widgets/controls",
          "model_name": "DescriptionStyleModel",
          "model_module_version": "1.5.0",
          "state": {
            "_model_module": "@jupyter-widgets/controls",
            "_model_module_version": "1.5.0",
            "_model_name": "DescriptionStyleModel",
            "_view_count": null,
            "_view_module": "@jupyter-widgets/base",
            "_view_module_version": "1.2.0",
            "_view_name": "StyleView",
            "description_width": ""
          }
        },
        "cad39a260923480c9ffac6283ccae81b": {
          "model_module": "@jupyter-widgets/controls",
          "model_name": "HBoxModel",
          "model_module_version": "1.5.0",
          "state": {
            "_dom_classes": [],
            "_model_module": "@jupyter-widgets/controls",
            "_model_module_version": "1.5.0",
            "_model_name": "HBoxModel",
            "_view_count": null,
            "_view_module": "@jupyter-widgets/controls",
            "_view_module_version": "1.5.0",
            "_view_name": "HBoxView",
            "box_style": "",
            "children": [
              "IPY_MODEL_896432a98e244bf485c60a3837fd4381",
              "IPY_MODEL_cb16363f804645d1aaa048d433996ef6",
              "IPY_MODEL_42900964426c4c7eaaafc19529c6a319"
            ],
            "layout": "IPY_MODEL_407a510da46841f5a39f923b0ed660ac"
          }
        },
        "896432a98e244bf485c60a3837fd4381": {
          "model_module": "@jupyter-widgets/controls",
          "model_name": "HTMLModel",
          "model_module_version": "1.5.0",
          "state": {
            "_dom_classes": [],
            "_model_module": "@jupyter-widgets/controls",
            "_model_module_version": "1.5.0",
            "_model_name": "HTMLModel",
            "_view_count": null,
            "_view_module": "@jupyter-widgets/controls",
            "_view_module_version": "1.5.0",
            "_view_name": "HTMLView",
            "description": "",
            "description_tooltip": null,
            "layout": "IPY_MODEL_f6e95f5da1124d448b798da7234acbd9",
            "placeholder": "​",
            "style": "IPY_MODEL_5c467694b3234fe98d5d36ee1beb4782",
            "value": "Downloading (…)&quot;pytorch_model.bin&quot;;: 100%"
          }
        },
        "cb16363f804645d1aaa048d433996ef6": {
          "model_module": "@jupyter-widgets/controls",
          "model_name": "FloatProgressModel",
          "model_module_version": "1.5.0",
          "state": {
            "_dom_classes": [],
            "_model_module": "@jupyter-widgets/controls",
            "_model_module_version": "1.5.0",
            "_model_name": "FloatProgressModel",
            "_view_count": null,
            "_view_module": "@jupyter-widgets/controls",
            "_view_module_version": "1.5.0",
            "_view_name": "ProgressView",
            "bar_style": "success",
            "description": "",
            "description_tooltip": null,
            "layout": "IPY_MODEL_fee8eab8b15a42dd9853f6767e81abdf",
            "max": 495837677,
            "min": 0,
            "orientation": "horizontal",
            "style": "IPY_MODEL_f9d4bfe48cc04593b9a3af7d1d62995f",
            "value": 495837677
          }
        },
        "42900964426c4c7eaaafc19529c6a319": {
          "model_module": "@jupyter-widgets/controls",
          "model_name": "HTMLModel",
          "model_module_version": "1.5.0",
          "state": {
            "_dom_classes": [],
            "_model_module": "@jupyter-widgets/controls",
            "_model_module_version": "1.5.0",
            "_model_name": "HTMLModel",
            "_view_count": null,
            "_view_module": "@jupyter-widgets/controls",
            "_view_module_version": "1.5.0",
            "_view_name": "HTMLView",
            "description": "",
            "description_tooltip": null,
            "layout": "IPY_MODEL_3780159242fd43449ad8da9c3c122f6c",
            "placeholder": "​",
            "style": "IPY_MODEL_6dcfa67601954b238f89ea6ad18914af",
            "value": " 496M/496M [00:08&lt;00:00, 59.8MB/s]"
          }
        },
        "407a510da46841f5a39f923b0ed660ac": {
          "model_module": "@jupyter-widgets/base",
          "model_name": "LayoutModel",
          "model_module_version": "1.2.0",
          "state": {
            "_model_module": "@jupyter-widgets/base",
            "_model_module_version": "1.2.0",
            "_model_name": "LayoutModel",
            "_view_count": null,
            "_view_module": "@jupyter-widgets/base",
            "_view_module_version": "1.2.0",
            "_view_name": "LayoutView",
            "align_content": null,
            "align_items": null,
            "align_self": null,
            "border": null,
            "bottom": null,
            "display": null,
            "flex": null,
            "flex_flow": null,
            "grid_area": null,
            "grid_auto_columns": null,
            "grid_auto_flow": null,
            "grid_auto_rows": null,
            "grid_column": null,
            "grid_gap": null,
            "grid_row": null,
            "grid_template_areas": null,
            "grid_template_columns": null,
            "grid_template_rows": null,
            "height": null,
            "justify_content": null,
            "justify_items": null,
            "left": null,
            "margin": null,
            "max_height": null,
            "max_width": null,
            "min_height": null,
            "min_width": null,
            "object_fit": null,
            "object_position": null,
            "order": null,
            "overflow": null,
            "overflow_x": null,
            "overflow_y": null,
            "padding": null,
            "right": null,
            "top": null,
            "visibility": null,
            "width": null
          }
        },
        "f6e95f5da1124d448b798da7234acbd9": {
          "model_module": "@jupyter-widgets/base",
          "model_name": "LayoutModel",
          "model_module_version": "1.2.0",
          "state": {
            "_model_module": "@jupyter-widgets/base",
            "_model_module_version": "1.2.0",
            "_model_name": "LayoutModel",
            "_view_count": null,
            "_view_module": "@jupyter-widgets/base",
            "_view_module_version": "1.2.0",
            "_view_name": "LayoutView",
            "align_content": null,
            "align_items": null,
            "align_self": null,
            "border": null,
            "bottom": null,
            "display": null,
            "flex": null,
            "flex_flow": null,
            "grid_area": null,
            "grid_auto_columns": null,
            "grid_auto_flow": null,
            "grid_auto_rows": null,
            "grid_column": null,
            "grid_gap": null,
            "grid_row": null,
            "grid_template_areas": null,
            "grid_template_columns": null,
            "grid_template_rows": null,
            "height": null,
            "justify_content": null,
            "justify_items": null,
            "left": null,
            "margin": null,
            "max_height": null,
            "max_width": null,
            "min_height": null,
            "min_width": null,
            "object_fit": null,
            "object_position": null,
            "order": null,
            "overflow": null,
            "overflow_x": null,
            "overflow_y": null,
            "padding": null,
            "right": null,
            "top": null,
            "visibility": null,
            "width": null
          }
        },
        "5c467694b3234fe98d5d36ee1beb4782": {
          "model_module": "@jupyter-widgets/controls",
          "model_name": "DescriptionStyleModel",
          "model_module_version": "1.5.0",
          "state": {
            "_model_module": "@jupyter-widgets/controls",
            "_model_module_version": "1.5.0",
            "_model_name": "DescriptionStyleModel",
            "_view_count": null,
            "_view_module": "@jupyter-widgets/base",
            "_view_module_version": "1.2.0",
            "_view_name": "StyleView",
            "description_width": ""
          }
        },
        "fee8eab8b15a42dd9853f6767e81abdf": {
          "model_module": "@jupyter-widgets/base",
          "model_name": "LayoutModel",
          "model_module_version": "1.2.0",
          "state": {
            "_model_module": "@jupyter-widgets/base",
            "_model_module_version": "1.2.0",
            "_model_name": "LayoutModel",
            "_view_count": null,
            "_view_module": "@jupyter-widgets/base",
            "_view_module_version": "1.2.0",
            "_view_name": "LayoutView",
            "align_content": null,
            "align_items": null,
            "align_self": null,
            "border": null,
            "bottom": null,
            "display": null,
            "flex": null,
            "flex_flow": null,
            "grid_area": null,
            "grid_auto_columns": null,
            "grid_auto_flow": null,
            "grid_auto_rows": null,
            "grid_column": null,
            "grid_gap": null,
            "grid_row": null,
            "grid_template_areas": null,
            "grid_template_columns": null,
            "grid_template_rows": null,
            "height": null,
            "justify_content": null,
            "justify_items": null,
            "left": null,
            "margin": null,
            "max_height": null,
            "max_width": null,
            "min_height": null,
            "min_width": null,
            "object_fit": null,
            "object_position": null,
            "order": null,
            "overflow": null,
            "overflow_x": null,
            "overflow_y": null,
            "padding": null,
            "right": null,
            "top": null,
            "visibility": null,
            "width": null
          }
        },
        "f9d4bfe48cc04593b9a3af7d1d62995f": {
          "model_module": "@jupyter-widgets/controls",
          "model_name": "ProgressStyleModel",
          "model_module_version": "1.5.0",
          "state": {
            "_model_module": "@jupyter-widgets/controls",
            "_model_module_version": "1.5.0",
            "_model_name": "ProgressStyleModel",
            "_view_count": null,
            "_view_module": "@jupyter-widgets/base",
            "_view_module_version": "1.2.0",
            "_view_name": "StyleView",
            "bar_color": null,
            "description_width": ""
          }
        },
        "3780159242fd43449ad8da9c3c122f6c": {
          "model_module": "@jupyter-widgets/base",
          "model_name": "LayoutModel",
          "model_module_version": "1.2.0",
          "state": {
            "_model_module": "@jupyter-widgets/base",
            "_model_module_version": "1.2.0",
            "_model_name": "LayoutModel",
            "_view_count": null,
            "_view_module": "@jupyter-widgets/base",
            "_view_module_version": "1.2.0",
            "_view_name": "LayoutView",
            "align_content": null,
            "align_items": null,
            "align_self": null,
            "border": null,
            "bottom": null,
            "display": null,
            "flex": null,
            "flex_flow": null,
            "grid_area": null,
            "grid_auto_columns": null,
            "grid_auto_flow": null,
            "grid_auto_rows": null,
            "grid_column": null,
            "grid_gap": null,
            "grid_row": null,
            "grid_template_areas": null,
            "grid_template_columns": null,
            "grid_template_rows": null,
            "height": null,
            "justify_content": null,
            "justify_items": null,
            "left": null,
            "margin": null,
            "max_height": null,
            "max_width": null,
            "min_height": null,
            "min_width": null,
            "object_fit": null,
            "object_position": null,
            "order": null,
            "overflow": null,
            "overflow_x": null,
            "overflow_y": null,
            "padding": null,
            "right": null,
            "top": null,
            "visibility": null,
            "width": null
          }
        },
        "6dcfa67601954b238f89ea6ad18914af": {
          "model_module": "@jupyter-widgets/controls",
          "model_name": "DescriptionStyleModel",
          "model_module_version": "1.5.0",
          "state": {
            "_model_module": "@jupyter-widgets/controls",
            "_model_module_version": "1.5.0",
            "_model_name": "DescriptionStyleModel",
            "_view_count": null,
            "_view_module": "@jupyter-widgets/base",
            "_view_module_version": "1.2.0",
            "_view_name": "StyleView",
            "description_width": ""
          }
        },
        "4d276c30e6664015bfc6a990ad42c044": {
          "model_module": "@jupyter-widgets/controls",
          "model_name": "HBoxModel",
          "model_module_version": "1.5.0",
          "state": {
            "_dom_classes": [],
            "_model_module": "@jupyter-widgets/controls",
            "_model_module_version": "1.5.0",
            "_model_name": "HBoxModel",
            "_view_count": null,
            "_view_module": "@jupyter-widgets/controls",
            "_view_module_version": "1.5.0",
            "_view_name": "HBoxView",
            "box_style": "",
            "children": [
              "IPY_MODEL_705f2f6abdb04a0da172dcdafcbbdbd0",
              "IPY_MODEL_40520d483c4b43dc95024a0dfdaf7ea1",
              "IPY_MODEL_4a11a716d6c0462d9e6063dda32f87c0"
            ],
            "layout": "IPY_MODEL_98ab0f7400a844af801510ec897d5235"
          }
        },
        "705f2f6abdb04a0da172dcdafcbbdbd0": {
          "model_module": "@jupyter-widgets/controls",
          "model_name": "HTMLModel",
          "model_module_version": "1.5.0",
          "state": {
            "_dom_classes": [],
            "_model_module": "@jupyter-widgets/controls",
            "_model_module_version": "1.5.0",
            "_model_name": "HTMLModel",
            "_view_count": null,
            "_view_module": "@jupyter-widgets/controls",
            "_view_module_version": "1.5.0",
            "_view_name": "HTMLView",
            "description": "",
            "description_tooltip": null,
            "layout": "IPY_MODEL_250775d074d5494da4c77d4a82161d35",
            "placeholder": "​",
            "style": "IPY_MODEL_d19294373aff405b99a05eae98521876",
            "value": "Downloading (…)okenizer_config.json: 100%"
          }
        },
        "40520d483c4b43dc95024a0dfdaf7ea1": {
          "model_module": "@jupyter-widgets/controls",
          "model_name": "FloatProgressModel",
          "model_module_version": "1.5.0",
          "state": {
            "_dom_classes": [],
            "_model_module": "@jupyter-widgets/controls",
            "_model_module_version": "1.5.0",
            "_model_name": "FloatProgressModel",
            "_view_count": null,
            "_view_module": "@jupyter-widgets/controls",
            "_view_module_version": "1.5.0",
            "_view_name": "ProgressView",
            "bar_style": "success",
            "description": "",
            "description_tooltip": null,
            "layout": "IPY_MODEL_0e548f32ba6c415288aa9bebff0ae245",
            "max": 367,
            "min": 0,
            "orientation": "horizontal",
            "style": "IPY_MODEL_c1d917fc041b46d3bf817fe4ed5e5a3d",
            "value": 367
          }
        },
        "4a11a716d6c0462d9e6063dda32f87c0": {
          "model_module": "@jupyter-widgets/controls",
          "model_name": "HTMLModel",
          "model_module_version": "1.5.0",
          "state": {
            "_dom_classes": [],
            "_model_module": "@jupyter-widgets/controls",
            "_model_module_version": "1.5.0",
            "_model_name": "HTMLModel",
            "_view_count": null,
            "_view_module": "@jupyter-widgets/controls",
            "_view_module_version": "1.5.0",
            "_view_name": "HTMLView",
            "description": "",
            "description_tooltip": null,
            "layout": "IPY_MODEL_b15dd901738c413da7440a8302cd4f41",
            "placeholder": "​",
            "style": "IPY_MODEL_e0f9b487247243789a398024cf85004a",
            "value": " 367/367 [00:00&lt;00:00, 11.4kB/s]"
          }
        },
        "98ab0f7400a844af801510ec897d5235": {
          "model_module": "@jupyter-widgets/base",
          "model_name": "LayoutModel",
          "model_module_version": "1.2.0",
          "state": {
            "_model_module": "@jupyter-widgets/base",
            "_model_module_version": "1.2.0",
            "_model_name": "LayoutModel",
            "_view_count": null,
            "_view_module": "@jupyter-widgets/base",
            "_view_module_version": "1.2.0",
            "_view_name": "LayoutView",
            "align_content": null,
            "align_items": null,
            "align_self": null,
            "border": null,
            "bottom": null,
            "display": null,
            "flex": null,
            "flex_flow": null,
            "grid_area": null,
            "grid_auto_columns": null,
            "grid_auto_flow": null,
            "grid_auto_rows": null,
            "grid_column": null,
            "grid_gap": null,
            "grid_row": null,
            "grid_template_areas": null,
            "grid_template_columns": null,
            "grid_template_rows": null,
            "height": null,
            "justify_content": null,
            "justify_items": null,
            "left": null,
            "margin": null,
            "max_height": null,
            "max_width": null,
            "min_height": null,
            "min_width": null,
            "object_fit": null,
            "object_position": null,
            "order": null,
            "overflow": null,
            "overflow_x": null,
            "overflow_y": null,
            "padding": null,
            "right": null,
            "top": null,
            "visibility": null,
            "width": null
          }
        },
        "250775d074d5494da4c77d4a82161d35": {
          "model_module": "@jupyter-widgets/base",
          "model_name": "LayoutModel",
          "model_module_version": "1.2.0",
          "state": {
            "_model_module": "@jupyter-widgets/base",
            "_model_module_version": "1.2.0",
            "_model_name": "LayoutModel",
            "_view_count": null,
            "_view_module": "@jupyter-widgets/base",
            "_view_module_version": "1.2.0",
            "_view_name": "LayoutView",
            "align_content": null,
            "align_items": null,
            "align_self": null,
            "border": null,
            "bottom": null,
            "display": null,
            "flex": null,
            "flex_flow": null,
            "grid_area": null,
            "grid_auto_columns": null,
            "grid_auto_flow": null,
            "grid_auto_rows": null,
            "grid_column": null,
            "grid_gap": null,
            "grid_row": null,
            "grid_template_areas": null,
            "grid_template_columns": null,
            "grid_template_rows": null,
            "height": null,
            "justify_content": null,
            "justify_items": null,
            "left": null,
            "margin": null,
            "max_height": null,
            "max_width": null,
            "min_height": null,
            "min_width": null,
            "object_fit": null,
            "object_position": null,
            "order": null,
            "overflow": null,
            "overflow_x": null,
            "overflow_y": null,
            "padding": null,
            "right": null,
            "top": null,
            "visibility": null,
            "width": null
          }
        },
        "d19294373aff405b99a05eae98521876": {
          "model_module": "@jupyter-widgets/controls",
          "model_name": "DescriptionStyleModel",
          "model_module_version": "1.5.0",
          "state": {
            "_model_module": "@jupyter-widgets/controls",
            "_model_module_version": "1.5.0",
            "_model_name": "DescriptionStyleModel",
            "_view_count": null,
            "_view_module": "@jupyter-widgets/base",
            "_view_module_version": "1.2.0",
            "_view_name": "StyleView",
            "description_width": ""
          }
        },
        "0e548f32ba6c415288aa9bebff0ae245": {
          "model_module": "@jupyter-widgets/base",
          "model_name": "LayoutModel",
          "model_module_version": "1.2.0",
          "state": {
            "_model_module": "@jupyter-widgets/base",
            "_model_module_version": "1.2.0",
            "_model_name": "LayoutModel",
            "_view_count": null,
            "_view_module": "@jupyter-widgets/base",
            "_view_module_version": "1.2.0",
            "_view_name": "LayoutView",
            "align_content": null,
            "align_items": null,
            "align_self": null,
            "border": null,
            "bottom": null,
            "display": null,
            "flex": null,
            "flex_flow": null,
            "grid_area": null,
            "grid_auto_columns": null,
            "grid_auto_flow": null,
            "grid_auto_rows": null,
            "grid_column": null,
            "grid_gap": null,
            "grid_row": null,
            "grid_template_areas": null,
            "grid_template_columns": null,
            "grid_template_rows": null,
            "height": null,
            "justify_content": null,
            "justify_items": null,
            "left": null,
            "margin": null,
            "max_height": null,
            "max_width": null,
            "min_height": null,
            "min_width": null,
            "object_fit": null,
            "object_position": null,
            "order": null,
            "overflow": null,
            "overflow_x": null,
            "overflow_y": null,
            "padding": null,
            "right": null,
            "top": null,
            "visibility": null,
            "width": null
          }
        },
        "c1d917fc041b46d3bf817fe4ed5e5a3d": {
          "model_module": "@jupyter-widgets/controls",
          "model_name": "ProgressStyleModel",
          "model_module_version": "1.5.0",
          "state": {
            "_model_module": "@jupyter-widgets/controls",
            "_model_module_version": "1.5.0",
            "_model_name": "ProgressStyleModel",
            "_view_count": null,
            "_view_module": "@jupyter-widgets/base",
            "_view_module_version": "1.2.0",
            "_view_name": "StyleView",
            "bar_color": null,
            "description_width": ""
          }
        },
        "b15dd901738c413da7440a8302cd4f41": {
          "model_module": "@jupyter-widgets/base",
          "model_name": "LayoutModel",
          "model_module_version": "1.2.0",
          "state": {
            "_model_module": "@jupyter-widgets/base",
            "_model_module_version": "1.2.0",
            "_model_name": "LayoutModel",
            "_view_count": null,
            "_view_module": "@jupyter-widgets/base",
            "_view_module_version": "1.2.0",
            "_view_name": "LayoutView",
            "align_content": null,
            "align_items": null,
            "align_self": null,
            "border": null,
            "bottom": null,
            "display": null,
            "flex": null,
            "flex_flow": null,
            "grid_area": null,
            "grid_auto_columns": null,
            "grid_auto_flow": null,
            "grid_auto_rows": null,
            "grid_column": null,
            "grid_gap": null,
            "grid_row": null,
            "grid_template_areas": null,
            "grid_template_columns": null,
            "grid_template_rows": null,
            "height": null,
            "justify_content": null,
            "justify_items": null,
            "left": null,
            "margin": null,
            "max_height": null,
            "max_width": null,
            "min_height": null,
            "min_width": null,
            "object_fit": null,
            "object_position": null,
            "order": null,
            "overflow": null,
            "overflow_x": null,
            "overflow_y": null,
            "padding": null,
            "right": null,
            "top": null,
            "visibility": null,
            "width": null
          }
        },
        "e0f9b487247243789a398024cf85004a": {
          "model_module": "@jupyter-widgets/controls",
          "model_name": "DescriptionStyleModel",
          "model_module_version": "1.5.0",
          "state": {
            "_model_module": "@jupyter-widgets/controls",
            "_model_module_version": "1.5.0",
            "_model_name": "DescriptionStyleModel",
            "_view_count": null,
            "_view_module": "@jupyter-widgets/base",
            "_view_module_version": "1.2.0",
            "_view_name": "StyleView",
            "description_width": ""
          }
        },
        "5e7d7d4206a94e39aade93fffb0616e4": {
          "model_module": "@jupyter-widgets/controls",
          "model_name": "HBoxModel",
          "model_module_version": "1.5.0",
          "state": {
            "_dom_classes": [],
            "_model_module": "@jupyter-widgets/controls",
            "_model_module_version": "1.5.0",
            "_model_name": "HBoxModel",
            "_view_count": null,
            "_view_module": "@jupyter-widgets/controls",
            "_view_module_version": "1.5.0",
            "_view_name": "HBoxView",
            "box_style": "",
            "children": [
              "IPY_MODEL_c6c9b22e8bbe47e683b01e027bde1def",
              "IPY_MODEL_3f9fab749d18418c9883bf4838e6596c",
              "IPY_MODEL_a85a0fb11f54403cb01dffbb34a3792a"
            ],
            "layout": "IPY_MODEL_fc5a4d4bbfce4f64b9d229c9183b6255"
          }
        },
        "c6c9b22e8bbe47e683b01e027bde1def": {
          "model_module": "@jupyter-widgets/controls",
          "model_name": "HTMLModel",
          "model_module_version": "1.5.0",
          "state": {
            "_dom_classes": [],
            "_model_module": "@jupyter-widgets/controls",
            "_model_module_version": "1.5.0",
            "_model_name": "HTMLModel",
            "_view_count": null,
            "_view_module": "@jupyter-widgets/controls",
            "_view_module_version": "1.5.0",
            "_view_name": "HTMLView",
            "description": "",
            "description_tooltip": null,
            "layout": "IPY_MODEL_3db9e85432f64b868ca05013f9b81fe6",
            "placeholder": "​",
            "style": "IPY_MODEL_e768b99bb28c49cfb5fae317c7f40f83",
            "value": "Downloading (…)solve/main/vocab.txt: 100%"
          }
        },
        "3f9fab749d18418c9883bf4838e6596c": {
          "model_module": "@jupyter-widgets/controls",
          "model_name": "FloatProgressModel",
          "model_module_version": "1.5.0",
          "state": {
            "_dom_classes": [],
            "_model_module": "@jupyter-widgets/controls",
            "_model_module_version": "1.5.0",
            "_model_name": "FloatProgressModel",
            "_view_count": null,
            "_view_module": "@jupyter-widgets/controls",
            "_view_module_version": "1.5.0",
            "_view_name": "ProgressView",
            "bar_style": "success",
            "description": "",
            "description_tooltip": null,
            "layout": "IPY_MODEL_176cdc0e877a46429e5021768096a051",
            "max": 424343,
            "min": 0,
            "orientation": "horizontal",
            "style": "IPY_MODEL_6a7d5317a6af4701a829421b947341fe",
            "value": 424343
          }
        },
        "a85a0fb11f54403cb01dffbb34a3792a": {
          "model_module": "@jupyter-widgets/controls",
          "model_name": "HTMLModel",
          "model_module_version": "1.5.0",
          "state": {
            "_dom_classes": [],
            "_model_module": "@jupyter-widgets/controls",
            "_model_module_version": "1.5.0",
            "_model_name": "HTMLModel",
            "_view_count": null,
            "_view_module": "@jupyter-widgets/controls",
            "_view_module_version": "1.5.0",
            "_view_name": "HTMLView",
            "description": "",
            "description_tooltip": null,
            "layout": "IPY_MODEL_b89cfc8fe1c745988b4417b7244f088d",
            "placeholder": "​",
            "style": "IPY_MODEL_0b5193fc3458488b8c24a778587daffb",
            "value": " 424k/424k [00:00&lt;00:00, 4.28MB/s]"
          }
        },
        "fc5a4d4bbfce4f64b9d229c9183b6255": {
          "model_module": "@jupyter-widgets/base",
          "model_name": "LayoutModel",
          "model_module_version": "1.2.0",
          "state": {
            "_model_module": "@jupyter-widgets/base",
            "_model_module_version": "1.2.0",
            "_model_name": "LayoutModel",
            "_view_count": null,
            "_view_module": "@jupyter-widgets/base",
            "_view_module_version": "1.2.0",
            "_view_name": "LayoutView",
            "align_content": null,
            "align_items": null,
            "align_self": null,
            "border": null,
            "bottom": null,
            "display": null,
            "flex": null,
            "flex_flow": null,
            "grid_area": null,
            "grid_auto_columns": null,
            "grid_auto_flow": null,
            "grid_auto_rows": null,
            "grid_column": null,
            "grid_gap": null,
            "grid_row": null,
            "grid_template_areas": null,
            "grid_template_columns": null,
            "grid_template_rows": null,
            "height": null,
            "justify_content": null,
            "justify_items": null,
            "left": null,
            "margin": null,
            "max_height": null,
            "max_width": null,
            "min_height": null,
            "min_width": null,
            "object_fit": null,
            "object_position": null,
            "order": null,
            "overflow": null,
            "overflow_x": null,
            "overflow_y": null,
            "padding": null,
            "right": null,
            "top": null,
            "visibility": null,
            "width": null
          }
        },
        "3db9e85432f64b868ca05013f9b81fe6": {
          "model_module": "@jupyter-widgets/base",
          "model_name": "LayoutModel",
          "model_module_version": "1.2.0",
          "state": {
            "_model_module": "@jupyter-widgets/base",
            "_model_module_version": "1.2.0",
            "_model_name": "LayoutModel",
            "_view_count": null,
            "_view_module": "@jupyter-widgets/base",
            "_view_module_version": "1.2.0",
            "_view_name": "LayoutView",
            "align_content": null,
            "align_items": null,
            "align_self": null,
            "border": null,
            "bottom": null,
            "display": null,
            "flex": null,
            "flex_flow": null,
            "grid_area": null,
            "grid_auto_columns": null,
            "grid_auto_flow": null,
            "grid_auto_rows": null,
            "grid_column": null,
            "grid_gap": null,
            "grid_row": null,
            "grid_template_areas": null,
            "grid_template_columns": null,
            "grid_template_rows": null,
            "height": null,
            "justify_content": null,
            "justify_items": null,
            "left": null,
            "margin": null,
            "max_height": null,
            "max_width": null,
            "min_height": null,
            "min_width": null,
            "object_fit": null,
            "object_position": null,
            "order": null,
            "overflow": null,
            "overflow_x": null,
            "overflow_y": null,
            "padding": null,
            "right": null,
            "top": null,
            "visibility": null,
            "width": null
          }
        },
        "e768b99bb28c49cfb5fae317c7f40f83": {
          "model_module": "@jupyter-widgets/controls",
          "model_name": "DescriptionStyleModel",
          "model_module_version": "1.5.0",
          "state": {
            "_model_module": "@jupyter-widgets/controls",
            "_model_module_version": "1.5.0",
            "_model_name": "DescriptionStyleModel",
            "_view_count": null,
            "_view_module": "@jupyter-widgets/base",
            "_view_module_version": "1.2.0",
            "_view_name": "StyleView",
            "description_width": ""
          }
        },
        "176cdc0e877a46429e5021768096a051": {
          "model_module": "@jupyter-widgets/base",
          "model_name": "LayoutModel",
          "model_module_version": "1.2.0",
          "state": {
            "_model_module": "@jupyter-widgets/base",
            "_model_module_version": "1.2.0",
            "_model_name": "LayoutModel",
            "_view_count": null,
            "_view_module": "@jupyter-widgets/base",
            "_view_module_version": "1.2.0",
            "_view_name": "LayoutView",
            "align_content": null,
            "align_items": null,
            "align_self": null,
            "border": null,
            "bottom": null,
            "display": null,
            "flex": null,
            "flex_flow": null,
            "grid_area": null,
            "grid_auto_columns": null,
            "grid_auto_flow": null,
            "grid_auto_rows": null,
            "grid_column": null,
            "grid_gap": null,
            "grid_row": null,
            "grid_template_areas": null,
            "grid_template_columns": null,
            "grid_template_rows": null,
            "height": null,
            "justify_content": null,
            "justify_items": null,
            "left": null,
            "margin": null,
            "max_height": null,
            "max_width": null,
            "min_height": null,
            "min_width": null,
            "object_fit": null,
            "object_position": null,
            "order": null,
            "overflow": null,
            "overflow_x": null,
            "overflow_y": null,
            "padding": null,
            "right": null,
            "top": null,
            "visibility": null,
            "width": null
          }
        },
        "6a7d5317a6af4701a829421b947341fe": {
          "model_module": "@jupyter-widgets/controls",
          "model_name": "ProgressStyleModel",
          "model_module_version": "1.5.0",
          "state": {
            "_model_module": "@jupyter-widgets/controls",
            "_model_module_version": "1.5.0",
            "_model_name": "ProgressStyleModel",
            "_view_count": null,
            "_view_module": "@jupyter-widgets/base",
            "_view_module_version": "1.2.0",
            "_view_name": "StyleView",
            "bar_color": null,
            "description_width": ""
          }
        },
        "b89cfc8fe1c745988b4417b7244f088d": {
          "model_module": "@jupyter-widgets/base",
          "model_name": "LayoutModel",
          "model_module_version": "1.2.0",
          "state": {
            "_model_module": "@jupyter-widgets/base",
            "_model_module_version": "1.2.0",
            "_model_name": "LayoutModel",
            "_view_count": null,
            "_view_module": "@jupyter-widgets/base",
            "_view_module_version": "1.2.0",
            "_view_name": "LayoutView",
            "align_content": null,
            "align_items": null,
            "align_self": null,
            "border": null,
            "bottom": null,
            "display": null,
            "flex": null,
            "flex_flow": null,
            "grid_area": null,
            "grid_auto_columns": null,
            "grid_auto_flow": null,
            "grid_auto_rows": null,
            "grid_column": null,
            "grid_gap": null,
            "grid_row": null,
            "grid_template_areas": null,
            "grid_template_columns": null,
            "grid_template_rows": null,
            "height": null,
            "justify_content": null,
            "justify_items": null,
            "left": null,
            "margin": null,
            "max_height": null,
            "max_width": null,
            "min_height": null,
            "min_width": null,
            "object_fit": null,
            "object_position": null,
            "order": null,
            "overflow": null,
            "overflow_x": null,
            "overflow_y": null,
            "padding": null,
            "right": null,
            "top": null,
            "visibility": null,
            "width": null
          }
        },
        "0b5193fc3458488b8c24a778587daffb": {
          "model_module": "@jupyter-widgets/controls",
          "model_name": "DescriptionStyleModel",
          "model_module_version": "1.5.0",
          "state": {
            "_model_module": "@jupyter-widgets/controls",
            "_model_module_version": "1.5.0",
            "_model_name": "DescriptionStyleModel",
            "_view_count": null,
            "_view_module": "@jupyter-widgets/base",
            "_view_module_version": "1.2.0",
            "_view_name": "StyleView",
            "description_width": ""
          }
        },
        "fb45a934616e44868cbb1f6e69d273df": {
          "model_module": "@jupyter-widgets/controls",
          "model_name": "HBoxModel",
          "model_module_version": "1.5.0",
          "state": {
            "_dom_classes": [],
            "_model_module": "@jupyter-widgets/controls",
            "_model_module_version": "1.5.0",
            "_model_name": "HBoxModel",
            "_view_count": null,
            "_view_module": "@jupyter-widgets/controls",
            "_view_module_version": "1.5.0",
            "_view_name": "HBoxView",
            "box_style": "",
            "children": [
              "IPY_MODEL_02266ff10d434e83a7015eafa7ee451e",
              "IPY_MODEL_5fcd4a832b1a40d7a15436e4251b89d6",
              "IPY_MODEL_6f824d7cf5ea4e1cb20cc5ca2711212c"
            ],
            "layout": "IPY_MODEL_d363cc42eb2542989520dd4673eb2fc2"
          }
        },
        "02266ff10d434e83a7015eafa7ee451e": {
          "model_module": "@jupyter-widgets/controls",
          "model_name": "HTMLModel",
          "model_module_version": "1.5.0",
          "state": {
            "_dom_classes": [],
            "_model_module": "@jupyter-widgets/controls",
            "_model_module_version": "1.5.0",
            "_model_name": "HTMLModel",
            "_view_count": null,
            "_view_module": "@jupyter-widgets/controls",
            "_view_module_version": "1.5.0",
            "_view_name": "HTMLView",
            "description": "",
            "description_tooltip": null,
            "layout": "IPY_MODEL_88927fc7f8834ca6b735ed677bb8c7d6",
            "placeholder": "​",
            "style": "IPY_MODEL_5f4e34d01cd34ee29eac2c001a5436ce",
            "value": "Downloading (…)/main/tokenizer.json: 100%"
          }
        },
        "5fcd4a832b1a40d7a15436e4251b89d6": {
          "model_module": "@jupyter-widgets/controls",
          "model_name": "FloatProgressModel",
          "model_module_version": "1.5.0",
          "state": {
            "_dom_classes": [],
            "_model_module": "@jupyter-widgets/controls",
            "_model_module_version": "1.5.0",
            "_model_name": "FloatProgressModel",
            "_view_count": null,
            "_view_module": "@jupyter-widgets/controls",
            "_view_module_version": "1.5.0",
            "_view_name": "ProgressView",
            "bar_style": "success",
            "description": "",
            "description_tooltip": null,
            "layout": "IPY_MODEL_901f0db5ea9b446ca050e96d99280536",
            "max": 1217656,
            "min": 0,
            "orientation": "horizontal",
            "style": "IPY_MODEL_f419142360a64a08971592daafa80b96",
            "value": 1217656
          }
        },
        "6f824d7cf5ea4e1cb20cc5ca2711212c": {
          "model_module": "@jupyter-widgets/controls",
          "model_name": "HTMLModel",
          "model_module_version": "1.5.0",
          "state": {
            "_dom_classes": [],
            "_model_module": "@jupyter-widgets/controls",
            "_model_module_version": "1.5.0",
            "_model_name": "HTMLModel",
            "_view_count": null,
            "_view_module": "@jupyter-widgets/controls",
            "_view_module_version": "1.5.0",
            "_view_name": "HTMLView",
            "description": "",
            "description_tooltip": null,
            "layout": "IPY_MODEL_396bd7e4a44847fabb4da955f4c571c9",
            "placeholder": "​",
            "style": "IPY_MODEL_7fb5995817544251bfe12399e4baedc5",
            "value": " 1.22M/1.22M [00:00&lt;00:00, 8.47MB/s]"
          }
        },
        "d363cc42eb2542989520dd4673eb2fc2": {
          "model_module": "@jupyter-widgets/base",
          "model_name": "LayoutModel",
          "model_module_version": "1.2.0",
          "state": {
            "_model_module": "@jupyter-widgets/base",
            "_model_module_version": "1.2.0",
            "_model_name": "LayoutModel",
            "_view_count": null,
            "_view_module": "@jupyter-widgets/base",
            "_view_module_version": "1.2.0",
            "_view_name": "LayoutView",
            "align_content": null,
            "align_items": null,
            "align_self": null,
            "border": null,
            "bottom": null,
            "display": null,
            "flex": null,
            "flex_flow": null,
            "grid_area": null,
            "grid_auto_columns": null,
            "grid_auto_flow": null,
            "grid_auto_rows": null,
            "grid_column": null,
            "grid_gap": null,
            "grid_row": null,
            "grid_template_areas": null,
            "grid_template_columns": null,
            "grid_template_rows": null,
            "height": null,
            "justify_content": null,
            "justify_items": null,
            "left": null,
            "margin": null,
            "max_height": null,
            "max_width": null,
            "min_height": null,
            "min_width": null,
            "object_fit": null,
            "object_position": null,
            "order": null,
            "overflow": null,
            "overflow_x": null,
            "overflow_y": null,
            "padding": null,
            "right": null,
            "top": null,
            "visibility": null,
            "width": null
          }
        },
        "88927fc7f8834ca6b735ed677bb8c7d6": {
          "model_module": "@jupyter-widgets/base",
          "model_name": "LayoutModel",
          "model_module_version": "1.2.0",
          "state": {
            "_model_module": "@jupyter-widgets/base",
            "_model_module_version": "1.2.0",
            "_model_name": "LayoutModel",
            "_view_count": null,
            "_view_module": "@jupyter-widgets/base",
            "_view_module_version": "1.2.0",
            "_view_name": "LayoutView",
            "align_content": null,
            "align_items": null,
            "align_self": null,
            "border": null,
            "bottom": null,
            "display": null,
            "flex": null,
            "flex_flow": null,
            "grid_area": null,
            "grid_auto_columns": null,
            "grid_auto_flow": null,
            "grid_auto_rows": null,
            "grid_column": null,
            "grid_gap": null,
            "grid_row": null,
            "grid_template_areas": null,
            "grid_template_columns": null,
            "grid_template_rows": null,
            "height": null,
            "justify_content": null,
            "justify_items": null,
            "left": null,
            "margin": null,
            "max_height": null,
            "max_width": null,
            "min_height": null,
            "min_width": null,
            "object_fit": null,
            "object_position": null,
            "order": null,
            "overflow": null,
            "overflow_x": null,
            "overflow_y": null,
            "padding": null,
            "right": null,
            "top": null,
            "visibility": null,
            "width": null
          }
        },
        "5f4e34d01cd34ee29eac2c001a5436ce": {
          "model_module": "@jupyter-widgets/controls",
          "model_name": "DescriptionStyleModel",
          "model_module_version": "1.5.0",
          "state": {
            "_model_module": "@jupyter-widgets/controls",
            "_model_module_version": "1.5.0",
            "_model_name": "DescriptionStyleModel",
            "_view_count": null,
            "_view_module": "@jupyter-widgets/base",
            "_view_module_version": "1.2.0",
            "_view_name": "StyleView",
            "description_width": ""
          }
        },
        "901f0db5ea9b446ca050e96d99280536": {
          "model_module": "@jupyter-widgets/base",
          "model_name": "LayoutModel",
          "model_module_version": "1.2.0",
          "state": {
            "_model_module": "@jupyter-widgets/base",
            "_model_module_version": "1.2.0",
            "_model_name": "LayoutModel",
            "_view_count": null,
            "_view_module": "@jupyter-widgets/base",
            "_view_module_version": "1.2.0",
            "_view_name": "LayoutView",
            "align_content": null,
            "align_items": null,
            "align_self": null,
            "border": null,
            "bottom": null,
            "display": null,
            "flex": null,
            "flex_flow": null,
            "grid_area": null,
            "grid_auto_columns": null,
            "grid_auto_flow": null,
            "grid_auto_rows": null,
            "grid_column": null,
            "grid_gap": null,
            "grid_row": null,
            "grid_template_areas": null,
            "grid_template_columns": null,
            "grid_template_rows": null,
            "height": null,
            "justify_content": null,
            "justify_items": null,
            "left": null,
            "margin": null,
            "max_height": null,
            "max_width": null,
            "min_height": null,
            "min_width": null,
            "object_fit": null,
            "object_position": null,
            "order": null,
            "overflow": null,
            "overflow_x": null,
            "overflow_y": null,
            "padding": null,
            "right": null,
            "top": null,
            "visibility": null,
            "width": null
          }
        },
        "f419142360a64a08971592daafa80b96": {
          "model_module": "@jupyter-widgets/controls",
          "model_name": "ProgressStyleModel",
          "model_module_version": "1.5.0",
          "state": {
            "_model_module": "@jupyter-widgets/controls",
            "_model_module_version": "1.5.0",
            "_model_name": "ProgressStyleModel",
            "_view_count": null,
            "_view_module": "@jupyter-widgets/base",
            "_view_module_version": "1.2.0",
            "_view_name": "StyleView",
            "bar_color": null,
            "description_width": ""
          }
        },
        "396bd7e4a44847fabb4da955f4c571c9": {
          "model_module": "@jupyter-widgets/base",
          "model_name": "LayoutModel",
          "model_module_version": "1.2.0",
          "state": {
            "_model_module": "@jupyter-widgets/base",
            "_model_module_version": "1.2.0",
            "_model_name": "LayoutModel",
            "_view_count": null,
            "_view_module": "@jupyter-widgets/base",
            "_view_module_version": "1.2.0",
            "_view_name": "LayoutView",
            "align_content": null,
            "align_items": null,
            "align_self": null,
            "border": null,
            "bottom": null,
            "display": null,
            "flex": null,
            "flex_flow": null,
            "grid_area": null,
            "grid_auto_columns": null,
            "grid_auto_flow": null,
            "grid_auto_rows": null,
            "grid_column": null,
            "grid_gap": null,
            "grid_row": null,
            "grid_template_areas": null,
            "grid_template_columns": null,
            "grid_template_rows": null,
            "height": null,
            "justify_content": null,
            "justify_items": null,
            "left": null,
            "margin": null,
            "max_height": null,
            "max_width": null,
            "min_height": null,
            "min_width": null,
            "object_fit": null,
            "object_position": null,
            "order": null,
            "overflow": null,
            "overflow_x": null,
            "overflow_y": null,
            "padding": null,
            "right": null,
            "top": null,
            "visibility": null,
            "width": null
          }
        },
        "7fb5995817544251bfe12399e4baedc5": {
          "model_module": "@jupyter-widgets/controls",
          "model_name": "DescriptionStyleModel",
          "model_module_version": "1.5.0",
          "state": {
            "_model_module": "@jupyter-widgets/controls",
            "_model_module_version": "1.5.0",
            "_model_name": "DescriptionStyleModel",
            "_view_count": null,
            "_view_module": "@jupyter-widgets/base",
            "_view_module_version": "1.2.0",
            "_view_name": "StyleView",
            "description_width": ""
          }
        },
        "c570b38ed1314529a133c9176621b4e2": {
          "model_module": "@jupyter-widgets/controls",
          "model_name": "HBoxModel",
          "model_module_version": "1.5.0",
          "state": {
            "_dom_classes": [],
            "_model_module": "@jupyter-widgets/controls",
            "_model_module_version": "1.5.0",
            "_model_name": "HBoxModel",
            "_view_count": null,
            "_view_module": "@jupyter-widgets/controls",
            "_view_module_version": "1.5.0",
            "_view_name": "HBoxView",
            "box_style": "",
            "children": [
              "IPY_MODEL_9791fc08122942f78d833351bd249ace",
              "IPY_MODEL_b49a1f29cab341d3b04a24adabcbf220",
              "IPY_MODEL_822a9b9ebc5646cfabcc71b6f48a6c27"
            ],
            "layout": "IPY_MODEL_a3ec1984b7684d09a2848ce51aacf90b"
          }
        },
        "9791fc08122942f78d833351bd249ace": {
          "model_module": "@jupyter-widgets/controls",
          "model_name": "HTMLModel",
          "model_module_version": "1.5.0",
          "state": {
            "_dom_classes": [],
            "_model_module": "@jupyter-widgets/controls",
            "_model_module_version": "1.5.0",
            "_model_name": "HTMLModel",
            "_view_count": null,
            "_view_module": "@jupyter-widgets/controls",
            "_view_module_version": "1.5.0",
            "_view_name": "HTMLView",
            "description": "",
            "description_tooltip": null,
            "layout": "IPY_MODEL_603c758a09ec42a8afc45b4768c9e96a",
            "placeholder": "​",
            "style": "IPY_MODEL_8eabb580617e44c4ab84d7d12830a861",
            "value": "Downloading (…)cial_tokens_map.json: 100%"
          }
        },
        "b49a1f29cab341d3b04a24adabcbf220": {
          "model_module": "@jupyter-widgets/controls",
          "model_name": "FloatProgressModel",
          "model_module_version": "1.5.0",
          "state": {
            "_dom_classes": [],
            "_model_module": "@jupyter-widgets/controls",
            "_model_module_version": "1.5.0",
            "_model_name": "FloatProgressModel",
            "_view_count": null,
            "_view_module": "@jupyter-widgets/controls",
            "_view_module_version": "1.5.0",
            "_view_name": "ProgressView",
            "bar_style": "success",
            "description": "",
            "description_tooltip": null,
            "layout": "IPY_MODEL_72bb90a88e9846cfa365afc8ec406033",
            "max": 125,
            "min": 0,
            "orientation": "horizontal",
            "style": "IPY_MODEL_f8451ef1a1a34eb188326450521f7a2b",
            "value": 125
          }
        },
        "822a9b9ebc5646cfabcc71b6f48a6c27": {
          "model_module": "@jupyter-widgets/controls",
          "model_name": "HTMLModel",
          "model_module_version": "1.5.0",
          "state": {
            "_dom_classes": [],
            "_model_module": "@jupyter-widgets/controls",
            "_model_module_version": "1.5.0",
            "_model_name": "HTMLModel",
            "_view_count": null,
            "_view_module": "@jupyter-widgets/controls",
            "_view_module_version": "1.5.0",
            "_view_name": "HTMLView",
            "description": "",
            "description_tooltip": null,
            "layout": "IPY_MODEL_7c43daabb91c4aaa990b9efb656e1d1a",
            "placeholder": "​",
            "style": "IPY_MODEL_51b0844d5102475aac66fe1457654cac",
            "value": " 125/125 [00:00&lt;00:00, 5.38kB/s]"
          }
        },
        "a3ec1984b7684d09a2848ce51aacf90b": {
          "model_module": "@jupyter-widgets/base",
          "model_name": "LayoutModel",
          "model_module_version": "1.2.0",
          "state": {
            "_model_module": "@jupyter-widgets/base",
            "_model_module_version": "1.2.0",
            "_model_name": "LayoutModel",
            "_view_count": null,
            "_view_module": "@jupyter-widgets/base",
            "_view_module_version": "1.2.0",
            "_view_name": "LayoutView",
            "align_content": null,
            "align_items": null,
            "align_self": null,
            "border": null,
            "bottom": null,
            "display": null,
            "flex": null,
            "flex_flow": null,
            "grid_area": null,
            "grid_auto_columns": null,
            "grid_auto_flow": null,
            "grid_auto_rows": null,
            "grid_column": null,
            "grid_gap": null,
            "grid_row": null,
            "grid_template_areas": null,
            "grid_template_columns": null,
            "grid_template_rows": null,
            "height": null,
            "justify_content": null,
            "justify_items": null,
            "left": null,
            "margin": null,
            "max_height": null,
            "max_width": null,
            "min_height": null,
            "min_width": null,
            "object_fit": null,
            "object_position": null,
            "order": null,
            "overflow": null,
            "overflow_x": null,
            "overflow_y": null,
            "padding": null,
            "right": null,
            "top": null,
            "visibility": null,
            "width": null
          }
        },
        "603c758a09ec42a8afc45b4768c9e96a": {
          "model_module": "@jupyter-widgets/base",
          "model_name": "LayoutModel",
          "model_module_version": "1.2.0",
          "state": {
            "_model_module": "@jupyter-widgets/base",
            "_model_module_version": "1.2.0",
            "_model_name": "LayoutModel",
            "_view_count": null,
            "_view_module": "@jupyter-widgets/base",
            "_view_module_version": "1.2.0",
            "_view_name": "LayoutView",
            "align_content": null,
            "align_items": null,
            "align_self": null,
            "border": null,
            "bottom": null,
            "display": null,
            "flex": null,
            "flex_flow": null,
            "grid_area": null,
            "grid_auto_columns": null,
            "grid_auto_flow": null,
            "grid_auto_rows": null,
            "grid_column": null,
            "grid_gap": null,
            "grid_row": null,
            "grid_template_areas": null,
            "grid_template_columns": null,
            "grid_template_rows": null,
            "height": null,
            "justify_content": null,
            "justify_items": null,
            "left": null,
            "margin": null,
            "max_height": null,
            "max_width": null,
            "min_height": null,
            "min_width": null,
            "object_fit": null,
            "object_position": null,
            "order": null,
            "overflow": null,
            "overflow_x": null,
            "overflow_y": null,
            "padding": null,
            "right": null,
            "top": null,
            "visibility": null,
            "width": null
          }
        },
        "8eabb580617e44c4ab84d7d12830a861": {
          "model_module": "@jupyter-widgets/controls",
          "model_name": "DescriptionStyleModel",
          "model_module_version": "1.5.0",
          "state": {
            "_model_module": "@jupyter-widgets/controls",
            "_model_module_version": "1.5.0",
            "_model_name": "DescriptionStyleModel",
            "_view_count": null,
            "_view_module": "@jupyter-widgets/base",
            "_view_module_version": "1.2.0",
            "_view_name": "StyleView",
            "description_width": ""
          }
        },
        "72bb90a88e9846cfa365afc8ec406033": {
          "model_module": "@jupyter-widgets/base",
          "model_name": "LayoutModel",
          "model_module_version": "1.2.0",
          "state": {
            "_model_module": "@jupyter-widgets/base",
            "_model_module_version": "1.2.0",
            "_model_name": "LayoutModel",
            "_view_count": null,
            "_view_module": "@jupyter-widgets/base",
            "_view_module_version": "1.2.0",
            "_view_name": "LayoutView",
            "align_content": null,
            "align_items": null,
            "align_self": null,
            "border": null,
            "bottom": null,
            "display": null,
            "flex": null,
            "flex_flow": null,
            "grid_area": null,
            "grid_auto_columns": null,
            "grid_auto_flow": null,
            "grid_auto_rows": null,
            "grid_column": null,
            "grid_gap": null,
            "grid_row": null,
            "grid_template_areas": null,
            "grid_template_columns": null,
            "grid_template_rows": null,
            "height": null,
            "justify_content": null,
            "justify_items": null,
            "left": null,
            "margin": null,
            "max_height": null,
            "max_width": null,
            "min_height": null,
            "min_width": null,
            "object_fit": null,
            "object_position": null,
            "order": null,
            "overflow": null,
            "overflow_x": null,
            "overflow_y": null,
            "padding": null,
            "right": null,
            "top": null,
            "visibility": null,
            "width": null
          }
        },
        "f8451ef1a1a34eb188326450521f7a2b": {
          "model_module": "@jupyter-widgets/controls",
          "model_name": "ProgressStyleModel",
          "model_module_version": "1.5.0",
          "state": {
            "_model_module": "@jupyter-widgets/controls",
            "_model_module_version": "1.5.0",
            "_model_name": "ProgressStyleModel",
            "_view_count": null,
            "_view_module": "@jupyter-widgets/base",
            "_view_module_version": "1.2.0",
            "_view_name": "StyleView",
            "bar_color": null,
            "description_width": ""
          }
        },
        "7c43daabb91c4aaa990b9efb656e1d1a": {
          "model_module": "@jupyter-widgets/base",
          "model_name": "LayoutModel",
          "model_module_version": "1.2.0",
          "state": {
            "_model_module": "@jupyter-widgets/base",
            "_model_module_version": "1.2.0",
            "_model_name": "LayoutModel",
            "_view_count": null,
            "_view_module": "@jupyter-widgets/base",
            "_view_module_version": "1.2.0",
            "_view_name": "LayoutView",
            "align_content": null,
            "align_items": null,
            "align_self": null,
            "border": null,
            "bottom": null,
            "display": null,
            "flex": null,
            "flex_flow": null,
            "grid_area": null,
            "grid_auto_columns": null,
            "grid_auto_flow": null,
            "grid_auto_rows": null,
            "grid_column": null,
            "grid_gap": null,
            "grid_row": null,
            "grid_template_areas": null,
            "grid_template_columns": null,
            "grid_template_rows": null,
            "height": null,
            "justify_content": null,
            "justify_items": null,
            "left": null,
            "margin": null,
            "max_height": null,
            "max_width": null,
            "min_height": null,
            "min_width": null,
            "object_fit": null,
            "object_position": null,
            "order": null,
            "overflow": null,
            "overflow_x": null,
            "overflow_y": null,
            "padding": null,
            "right": null,
            "top": null,
            "visibility": null,
            "width": null
          }
        },
        "51b0844d5102475aac66fe1457654cac": {
          "model_module": "@jupyter-widgets/controls",
          "model_name": "DescriptionStyleModel",
          "model_module_version": "1.5.0",
          "state": {
            "_model_module": "@jupyter-widgets/controls",
            "_model_module_version": "1.5.0",
            "_model_name": "DescriptionStyleModel",
            "_view_count": null,
            "_view_module": "@jupyter-widgets/base",
            "_view_module_version": "1.2.0",
            "_view_name": "StyleView",
            "description_width": ""
          }
        }
      }
    }
  },
  "cells": [
    {
      "cell_type": "markdown",
      "metadata": {
        "id": "view-in-github",
        "colab_type": "text"
      },
      "source": [
        "<a href=\"https://colab.research.google.com/github/TurkuNLP/textual-data-analysis-course/blob/main/relation_extraction.ipynb\" target=\"_parent\"><img src=\"https://colab.research.google.com/assets/colab-badge.svg\" alt=\"Open In Colab\"/></a>"
      ]
    },
    {
      "cell_type": "markdown",
      "metadata": {
        "id": "bQmbmobBUQrU"
      },
      "source": [
        "# Relation extraction\n",
        "\n",
        "This notebook presents different approaches to relation extraction."
      ]
    },
    {
      "cell_type": "markdown",
      "source": [
        "---\n",
        "\n",
        "Start by setting up the usual libraries and loading a named entity recognition pipeline."
      ],
      "metadata": {
        "id": "BYWJSyY6EhHx"
      }
    },
    {
      "cell_type": "code",
      "source": [
        "!pip install --quiet transformers"
      ],
      "metadata": {
        "colab": {
          "base_uri": "https://localhost:8080/"
        },
        "id": "D3MDs0hPElZI",
        "outputId": "1a73d502-422e-4af6-ff26-270815940dc2"
      },
      "execution_count": 1,
      "outputs": [
        {
          "output_type": "stream",
          "name": "stdout",
          "text": [
            "\u001b[2K     \u001b[90m━━━━━━━━━━━━━━━━━━━━━━━━━━━━━━━━━━━━━━━━\u001b[0m \u001b[32m6.3/6.3 MB\u001b[0m \u001b[31m38.4 MB/s\u001b[0m eta \u001b[36m0:00:00\u001b[0m\n",
            "\u001b[2K     \u001b[90m━━━━━━━━━━━━━━━━━━━━━━━━━━━━━━━━━━━━━━\u001b[0m \u001b[32m190.3/190.3 KB\u001b[0m \u001b[31m14.7 MB/s\u001b[0m eta \u001b[36m0:00:00\u001b[0m\n",
            "\u001b[2K     \u001b[90m━━━━━━━━━━━━━━━━━━━━━━━━━━━━━━━━━━━━━━━━\u001b[0m \u001b[32m7.6/7.6 MB\u001b[0m \u001b[31m61.5 MB/s\u001b[0m eta \u001b[36m0:00:00\u001b[0m\n",
            "\u001b[?25h"
          ]
        }
      ]
    },
    {
      "cell_type": "code",
      "source": [
        "import transformers"
      ],
      "metadata": {
        "id": "o2s1NyqdEnr5"
      },
      "execution_count": 3,
      "outputs": []
    },
    {
      "cell_type": "markdown",
      "source": [
        "(**Note**: the model we use here is intended for teaching purposes. It not been carefully optimized, and is not recommeded for any serious use.)"
      ],
      "metadata": {
        "id": "EBfNVclrEqKF"
      }
    },
    {
      "cell_type": "code",
      "source": [
        "pipe = transformers.pipeline(\n",
        "    'ner',\n",
        "    'spyysalo/example-turku-ner-model',\n",
        "    aggregation_strategy='simple',\n",
        ")"
      ],
      "metadata": {
        "colab": {
          "base_uri": "https://localhost:8080/",
          "height": 209,
          "referenced_widgets": [
            "2ed3b52ebc89457b8c9059c367dc2d34",
            "be9afb73124146639853126a32dbc1a2",
            "a995caecd2c84748bf392d9ffb93c7dc",
            "a3a5d30da1bf401793c77532e49cd292",
            "9f93e6d46b55435b865d72595362f225",
            "c00209e0cd40424b8aa070064471e6f5",
            "a8a8160d21204366a78c3dbb46aa0609",
            "4a3ff6305611436d86c044cedba774eb",
            "869f103d6a814285a1d53cb7a19ec254",
            "9d863c608a614c80bf0dc28c0df31277",
            "e69494e54d914846b7eefad2b0ceca67",
            "cad39a260923480c9ffac6283ccae81b",
            "896432a98e244bf485c60a3837fd4381",
            "cb16363f804645d1aaa048d433996ef6",
            "42900964426c4c7eaaafc19529c6a319",
            "407a510da46841f5a39f923b0ed660ac",
            "f6e95f5da1124d448b798da7234acbd9",
            "5c467694b3234fe98d5d36ee1beb4782",
            "fee8eab8b15a42dd9853f6767e81abdf",
            "f9d4bfe48cc04593b9a3af7d1d62995f",
            "3780159242fd43449ad8da9c3c122f6c",
            "6dcfa67601954b238f89ea6ad18914af",
            "4d276c30e6664015bfc6a990ad42c044",
            "705f2f6abdb04a0da172dcdafcbbdbd0",
            "40520d483c4b43dc95024a0dfdaf7ea1",
            "4a11a716d6c0462d9e6063dda32f87c0",
            "98ab0f7400a844af801510ec897d5235",
            "250775d074d5494da4c77d4a82161d35",
            "d19294373aff405b99a05eae98521876",
            "0e548f32ba6c415288aa9bebff0ae245",
            "c1d917fc041b46d3bf817fe4ed5e5a3d",
            "b15dd901738c413da7440a8302cd4f41",
            "e0f9b487247243789a398024cf85004a",
            "5e7d7d4206a94e39aade93fffb0616e4",
            "c6c9b22e8bbe47e683b01e027bde1def",
            "3f9fab749d18418c9883bf4838e6596c",
            "a85a0fb11f54403cb01dffbb34a3792a",
            "fc5a4d4bbfce4f64b9d229c9183b6255",
            "3db9e85432f64b868ca05013f9b81fe6",
            "e768b99bb28c49cfb5fae317c7f40f83",
            "176cdc0e877a46429e5021768096a051",
            "6a7d5317a6af4701a829421b947341fe",
            "b89cfc8fe1c745988b4417b7244f088d",
            "0b5193fc3458488b8c24a778587daffb",
            "fb45a934616e44868cbb1f6e69d273df",
            "02266ff10d434e83a7015eafa7ee451e",
            "5fcd4a832b1a40d7a15436e4251b89d6",
            "6f824d7cf5ea4e1cb20cc5ca2711212c",
            "d363cc42eb2542989520dd4673eb2fc2",
            "88927fc7f8834ca6b735ed677bb8c7d6",
            "5f4e34d01cd34ee29eac2c001a5436ce",
            "901f0db5ea9b446ca050e96d99280536",
            "f419142360a64a08971592daafa80b96",
            "396bd7e4a44847fabb4da955f4c571c9",
            "7fb5995817544251bfe12399e4baedc5",
            "c570b38ed1314529a133c9176621b4e2",
            "9791fc08122942f78d833351bd249ace",
            "b49a1f29cab341d3b04a24adabcbf220",
            "822a9b9ebc5646cfabcc71b6f48a6c27",
            "a3ec1984b7684d09a2848ce51aacf90b",
            "603c758a09ec42a8afc45b4768c9e96a",
            "8eabb580617e44c4ab84d7d12830a861",
            "72bb90a88e9846cfa365afc8ec406033",
            "f8451ef1a1a34eb188326450521f7a2b",
            "7c43daabb91c4aaa990b9efb656e1d1a",
            "51b0844d5102475aac66fe1457654cac"
          ]
        },
        "id": "vgAoPNKrEvEu",
        "outputId": "922074e0-685a-4a05-eddc-64def9667758"
      },
      "execution_count": 4,
      "outputs": [
        {
          "output_type": "display_data",
          "data": {
            "text/plain": [
              "Downloading (…)lve/main/config.json:   0%|          | 0.00/1.15k [00:00<?, ?B/s]"
            ],
            "application/vnd.jupyter.widget-view+json": {
              "version_major": 2,
              "version_minor": 0,
              "model_id": "2ed3b52ebc89457b8c9059c367dc2d34"
            }
          },
          "metadata": {}
        },
        {
          "output_type": "display_data",
          "data": {
            "text/plain": [
              "Downloading (…)\"pytorch_model.bin\";:   0%|          | 0.00/496M [00:00<?, ?B/s]"
            ],
            "application/vnd.jupyter.widget-view+json": {
              "version_major": 2,
              "version_minor": 0,
              "model_id": "cad39a260923480c9ffac6283ccae81b"
            }
          },
          "metadata": {}
        },
        {
          "output_type": "display_data",
          "data": {
            "text/plain": [
              "Downloading (…)okenizer_config.json:   0%|          | 0.00/367 [00:00<?, ?B/s]"
            ],
            "application/vnd.jupyter.widget-view+json": {
              "version_major": 2,
              "version_minor": 0,
              "model_id": "4d276c30e6664015bfc6a990ad42c044"
            }
          },
          "metadata": {}
        },
        {
          "output_type": "display_data",
          "data": {
            "text/plain": [
              "Downloading (…)solve/main/vocab.txt:   0%|          | 0.00/424k [00:00<?, ?B/s]"
            ],
            "application/vnd.jupyter.widget-view+json": {
              "version_major": 2,
              "version_minor": 0,
              "model_id": "5e7d7d4206a94e39aade93fffb0616e4"
            }
          },
          "metadata": {}
        },
        {
          "output_type": "display_data",
          "data": {
            "text/plain": [
              "Downloading (…)/main/tokenizer.json:   0%|          | 0.00/1.22M [00:00<?, ?B/s]"
            ],
            "application/vnd.jupyter.widget-view+json": {
              "version_major": 2,
              "version_minor": 0,
              "model_id": "fb45a934616e44868cbb1f6e69d273df"
            }
          },
          "metadata": {}
        },
        {
          "output_type": "display_data",
          "data": {
            "text/plain": [
              "Downloading (…)cial_tokens_map.json:   0%|          | 0.00/125 [00:00<?, ?B/s]"
            ],
            "application/vnd.jupyter.widget-view+json": {
              "version_major": 2,
              "version_minor": 0,
              "model_id": "c570b38ed1314529a133c9176621b4e2"
            }
          },
          "metadata": {}
        }
      ]
    },
    {
      "cell_type": "markdown",
      "source": [
        "Simple wrapper function for convenience"
      ],
      "metadata": {
        "id": "toG7rGU7E104"
      }
    },
    {
      "cell_type": "code",
      "source": [
        "from collections import namedtuple\n",
        "\n",
        "Mention = namedtuple('Mention', 'text type start end')\n",
        "\n",
        "def tag(text):\n",
        "    output = pipe(text)\n",
        "    return [Mention(o['word'], o['entity_group'], o['start'], o['end']) for o in output]"
      ],
      "metadata": {
        "id": "4HWAAIsqE6UA"
      },
      "execution_count": 5,
      "outputs": []
    },
    {
      "cell_type": "markdown",
      "metadata": {
        "id": "9uhhWQxJpd3Z"
      },
      "source": [
        "---\n",
        "\n",
        "# Co-occurrence-based relation extraction\n",
        "\n",
        "Relation extraction based primarily on the assumption that when entity mentions **occur together** in some context (e.g. sentence, paragraph, document), some relation is likely to hold between them.\n",
        "\n",
        "The simplest form of co-occurrence based relation extraction would be to always return a relation for all pairs of co-occurring entities. Let's illustrate this for a very simple sentence:"
      ]
    },
    {
      "cell_type": "code",
      "source": [
        "def cooccurrence_relations(mentions):\n",
        "    relations = []\n",
        "    for i, mention1 in enumerate(mentions):\n",
        "        for j, mention2 in enumerate(mentions[i+1:]):\n",
        "            relations.append((mention1, mention2))\n",
        "    return relations\n",
        "\n",
        "mentions = tag('Paavo Nurmi syntyi Turussa vuonna 1897.')\n",
        "\n",
        "for m1, m2 in cooccurrence_relations(mentions):\n",
        "  print((m1.text, m2.text))"
      ],
      "metadata": {
        "colab": {
          "base_uri": "https://localhost:8080/"
        },
        "id": "7d7YciobFp6k",
        "outputId": "a816dc1c-d75e-4630-b991-548bf86fcd1d"
      },
      "execution_count": 7,
      "outputs": [
        {
          "output_type": "stream",
          "name": "stdout",
          "text": [
            "('Paavo Nurmi', 'Turussa')\n",
            "('Paavo Nurmi', 'vuonna 1897')\n",
            "('Turussa', 'vuonna 1897')\n"
          ]
        }
      ]
    },
    {
      "cell_type": "markdown",
      "metadata": {
        "id": "oxhFOV1Px6X9"
      },
      "source": [
        "For this simple example, we get two valid relations:\n",
        "\n",
        "* (Paavo Nurmi, Turussa)\n",
        "* (Paavo Nurmi, vuonna 1897)\n",
        "\n",
        "and one erroneous (or meaningless) relation:\n",
        "\n",
        "* (Turussa, vuonna 1897)\n",
        "\n",
        "In general, the naive co-occurrence based approach has _perfect recall_ (all relevant relations are included) but typically very _poor precision_: most of the returned relations are wrong. This is evident already with slightly longer text:"
      ]
    },
    {
      "cell_type": "code",
      "metadata": {
        "id": "02k6_sU_xXJg",
        "colab": {
          "base_uri": "https://localhost:8080/"
        },
        "outputId": "fac5e445-c9a1-41cf-dd5b-ca3370d521e4"
      },
      "source": [
        "text = (\n",
        "    'Nurmi juoksi kesällä 1920 Suomen olympiakarsinnoissa suomenennätyksiä, '\n",
        "    'ja hänet valittiin Suomen joukkueeseen vuoden 1920 olympialaisiin. '\n",
        "    'Nurmen ensimmäinen olympiajuoksu oli 17. elokuuta käyty 5 000 metrin '\n",
        "    'kilpailu, jossa hän voitti hopeaa.'\n",
        ")\n",
        "\n",
        "mentions = tag(text)\n",
        "\n",
        "for m1, m2 in cooccurrence_relations(mentions):\n",
        "    print((m1.text, m2.text))"
      ],
      "execution_count": 14,
      "outputs": [
        {
          "output_type": "stream",
          "name": "stdout",
          "text": [
            "('Nurmi', '1920')\n",
            "('Nurmi', 'Suomen')\n",
            "('Nurmi', 'Suomen')\n",
            "('Nurmi', 'vuoden 1920')\n",
            "('Nurmi', 'Nurmen')\n",
            "('Nurmi', '17')\n",
            "('Nurmi', '. elokuuta')\n",
            "('1920', 'Suomen')\n",
            "('1920', 'Suomen')\n",
            "('1920', 'vuoden 1920')\n",
            "('1920', 'Nurmen')\n",
            "('1920', '17')\n",
            "('1920', '. elokuuta')\n",
            "('Suomen', 'Suomen')\n",
            "('Suomen', 'vuoden 1920')\n",
            "('Suomen', 'Nurmen')\n",
            "('Suomen', '17')\n",
            "('Suomen', '. elokuuta')\n",
            "('Suomen', 'vuoden 1920')\n",
            "('Suomen', 'Nurmen')\n",
            "('Suomen', '17')\n",
            "('Suomen', '. elokuuta')\n",
            "('vuoden 1920', 'Nurmen')\n",
            "('vuoden 1920', '17')\n",
            "('vuoden 1920', '. elokuuta')\n",
            "('Nurmen', '17')\n",
            "('Nurmen', '. elokuuta')\n",
            "('17', '. elokuuta')\n"
          ]
        }
      ]
    },
    {
      "cell_type": "markdown",
      "metadata": {
        "id": "LEnXoQNfyaQ3"
      },
      "source": [
        "The combinatorial explosion of wrong or irrelevant pairs arising from naive co-occurrence based relation extraction can be alleviated by restricting the scope of considered co-occurrences to e.g. sentences, but this does compromise on the perfect recall of the approach: relations can involve entities mentioned in different sentences.\n",
        "\n",
        "Note additionally that this approach does not provide any information about the _types_ of the relations."
      ]
    },
    {
      "cell_type": "markdown",
      "metadata": {
        "id": "fXB8X0hnDUjQ"
      },
      "source": [
        "---\n",
        "\n",
        "## Metrics\n",
        "\n",
        "As most combinations of entity pairs in a document do not represent meaningful relations, a trivial \"method\" that never returns any relations could have deceptively high _accuracy_: for example, if there are 100 possible pairs in a document and a relation holds for 5, returning an empty set of relations would give 95% accuracy.\n",
        "\n",
        "For this reason, accuracy is rarely used to evaluate relation extraction; instead, the standard information retrieval metrics are used:\n",
        "\n",
        "* **Precision**: the ratio of extracted relations that are correct\n",
        "* **Recall**: the ratio of correct relations that are extracted\n",
        "* **$F_1$-score**: the balanced harmonic mean of precision and recall"
      ]
    },
    {
      "cell_type": "markdown",
      "metadata": {
        "id": "FJVoVUH8Z3rJ"
      },
      "source": [
        "---\n",
        "\n",
        "## Statistical approaches\n",
        "\n",
        "Co-occurrence provides only weak evidence that the co-mentioned entities are associated. However, by accumulating such evidence over a large corpus, it is possible to identify associations with higher confidence than a single co-occurrence can give.\n",
        "\n",
        "Let's illustrate this by looking at mentions tagged in a sample of English Wikipedia articles."
      ]
    },
    {
      "cell_type": "code",
      "metadata": {
        "id": "y0iEcknrFG-Y",
        "colab": {
          "base_uri": "https://localhost:8080/"
        },
        "outputId": "68e6ba2d-425a-4771-c4f3-b736fb37cc35"
      },
      "source": [
        "!wget -nc https://a3s.fi/TKO_8964_2021/en-wiki-sample-ontonotes.conll.gz"
      ],
      "execution_count": 15,
      "outputs": [
        {
          "output_type": "stream",
          "name": "stdout",
          "text": [
            "--2023-02-19 19:25:24--  https://a3s.fi/TKO_8964_2021/en-wiki-sample-ontonotes.conll.gz\n",
            "Resolving a3s.fi (a3s.fi)... 86.50.254.18\n",
            "Connecting to a3s.fi (a3s.fi)|86.50.254.18|:443... connected.\n",
            "HTTP request sent, awaiting response... 200 OK\n",
            "Length: 79442456 (76M) [application/gzip]\n",
            "Saving to: ‘en-wiki-sample-ontonotes.conll.gz’\n",
            "\n",
            "en-wiki-sample-onto 100%[===================>]  75.76M  14.8MB/s    in 5.1s    \n",
            "\n",
            "2023-02-19 19:25:30 (14.8 MB/s) - ‘en-wiki-sample-ontonotes.conll.gz’ saved [79442456/79442456]\n",
            "\n"
          ]
        }
      ]
    },
    {
      "cell_type": "markdown",
      "metadata": {
        "id": "Yvl9NquVbFaV"
      },
      "source": [
        "We'll use a reader function for the two-column (text, tag) CoNLL format. You should already be familiar with this representation from previous material."
      ]
    },
    {
      "cell_type": "code",
      "metadata": {
        "id": "dEBkb8FqF4S0"
      },
      "source": [
        "import gzip\n",
        "\n",
        "\n",
        "def read_conll_entities(stream):\n",
        "  words, tags = [], []\n",
        "  for ln, line in enumerate(stream, start=1):\n",
        "    if line.startswith('#'):\n",
        "      continue    # skip comments\n",
        "    elif line.isspace():\n",
        "      if words and tags:\n",
        "        yield words, tags\n",
        "      words, tags = [], []\n",
        "    else:\n",
        "      word, tag = line.rstrip('\\n').split('\\t')\n",
        "      words.append(word)\n",
        "      tags.append(tag)\n",
        "  if words and tags:\n",
        "    yield words, tags\n",
        "\n",
        "\n",
        "conll_sentences = []\n",
        "with gzip.open('en-wiki-sample-ontonotes.conll.gz', 'rt', encoding='utf-8') as f:\n",
        "  for words, tags in read_conll_entities(f):\n",
        "    conll_sentences.append((words, tags))"
      ],
      "execution_count": 16,
      "outputs": []
    },
    {
      "cell_type": "markdown",
      "metadata": {
        "id": "9j04RJh0boVo"
      },
      "source": [
        "This NER annotation is represented in the familiar IOB (in-out-begin) format:"
      ]
    },
    {
      "cell_type": "code",
      "metadata": {
        "id": "7PgOLkutbR21",
        "colab": {
          "base_uri": "https://localhost:8080/"
        },
        "outputId": "e08d08a6-ece7-4988-a401-dbb2c7c13378"
      },
      "source": [
        "for word, tag in zip(*conll_sentences[1]):\n",
        "  print(f'{word}\\t{tag}')"
      ],
      "execution_count": 18,
      "outputs": [
        {
          "output_type": "stream",
          "name": "stdout",
          "text": [
            "Ayn\tB-PERSON\n",
            "Rand\tI-PERSON\n",
            "(\tO\n",
            ";\tO\n",
            "born\tO\n",
            "Alisa\tB-PERSON\n",
            "Zinovyevna\tI-PERSON\n",
            "Rosenbaum\tI-PERSON\n",
            ";\tO\n",
            "–\tO\n",
            "March\tB-DATE\n",
            "6\tI-DATE\n",
            ",\tI-DATE\n",
            "1982\tI-DATE\n",
            ")\tO\n",
            "was\tO\n",
            "a\tO\n",
            "Russian\tB-NORP\n",
            "-\tI-NORP\n",
            "American\tI-NORP\n",
            "writer\tO\n",
            "and\tO\n",
            "philosopher\tO\n",
            ".\tO\n"
          ]
        }
      ]
    },
    {
      "cell_type": "markdown",
      "metadata": {
        "id": "DjeDy3yNb4hL"
      },
      "source": [
        "Let's next convert these IOB-tagged sentences into the mention format defined above, where each mention is defined by its start and end offsets, type, and text. (You don't need to understand the conversion steps in detail.)"
      ]
    },
    {
      "cell_type": "code",
      "metadata": {
        "id": "heqajmewMUCR"
      },
      "source": [
        "def conll_to_mentions(words, tags):\n",
        "  mentions, offset, start, label = [], 0, None, None\n",
        "  sentence = ' '.join(words)\n",
        "  for word, tag in zip(words, tags):\n",
        "    if tag[0] in 'OB' and start is not None:    # current ends\n",
        "      end = offset-1\n",
        "      mentions.append(Mention(sentence[start:end], label, start, end))\n",
        "      start, label = None, None\n",
        "    if tag[0] == 'B':\n",
        "      start, label = offset, tag[2:]\n",
        "    elif tag[0] == 'I':\n",
        "      if start is None:    # I without B, but nevermind\n",
        "        start, label = offset, tag[2:]\n",
        "    else:\n",
        "      assert tag == 'O', 'unexpected tag {}'.format(tag)\n",
        "    offset += len(word) + 1    # +1 for space\n",
        "  if start is not None:    # span open at sentence end\n",
        "    end = offset-1\n",
        "    mentions.append(Mention(sentence[start:end], label, start, end))\n",
        "  return mentions\n",
        "\n",
        "\n",
        "sentences = []\n",
        "mentions_by_sentence = []\n",
        "for words, tags in conll_sentences:\n",
        "  sentences.append(' '.join(words))\n",
        "  mentions_by_sentence.append(conll_to_mentions(words, tags))"
      ],
      "execution_count": 22,
      "outputs": []
    },
    {
      "cell_type": "markdown",
      "metadata": {
        "id": "ZGfdb3uqcGQ0"
      },
      "source": [
        "Now we have for the above example sentence"
      ]
    },
    {
      "cell_type": "code",
      "metadata": {
        "id": "JlDcRZ69cKWp",
        "colab": {
          "base_uri": "https://localhost:8080/"
        },
        "outputId": "ad1f5c36-bfd1-48cc-cc58-9155d761de19"
      },
      "source": [
        "for mention in mentions_by_sentence[1]:\n",
        "  print(mention)"
      ],
      "execution_count": 23,
      "outputs": [
        {
          "output_type": "stream",
          "name": "stdout",
          "text": [
            "Mention(text='Ayn Rand', type='PERSON', start=0, end=8)\n",
            "Mention(text='Alisa Zinovyevna Rosenbaum', type='PERSON', start=18, end=44)\n",
            "Mention(text='March 6 , 1982', type='DATE', start=49, end=63)\n",
            "Mention(text='Russian - American', type='NORP', start=72, end=90)\n"
          ]
        }
      ]
    },
    {
      "cell_type": "markdown",
      "metadata": {
        "id": "AIDLJz30cZCt"
      },
      "source": [
        "This is the representation that we want for relation extraction.\n",
        "\n",
        "Let's next see if we can find anything of interest just by looking at the most common co-occurrences."
      ]
    },
    {
      "cell_type": "code",
      "metadata": {
        "id": "dDnhJIbTUXd2",
        "colab": {
          "base_uri": "https://localhost:8080/"
        },
        "outputId": "48ef29a9-804e-4dff-b406-772b1fcb7b26"
      },
      "source": [
        "from collections import Counter\n",
        "\n",
        "\n",
        "relation_counts = Counter()\n",
        "for mentions in mentions_by_sentence:\n",
        "  for relation in cooccurrence_relations(mentions):\n",
        "    relation_counts[relation] += 1\n",
        "\n",
        "for relation, count in relation_counts.most_common(10):\n",
        "  m1, m2 = relation[0], relation[1]\n",
        "  print(f'{count}\\t({m1.text}/{m1.type}, {m2.text}/{m2.type})')"
      ],
      "execution_count": 24,
      "outputs": [
        {
          "output_type": "stream",
          "name": "stdout",
          "text": [
            "3939\t(every 100/CARDINAL, age 18/DATE)\n",
            "3738\t(Hispanic/NORP, Latino/NORP)\n",
            "1177\t(25 to 44/DATE, 45 to 64/DATE)\n",
            "1095\t(the age of 18/DATE, 45 to 64/DATE)\n",
            "1087\t(the age of 18/DATE, 25 to 44/DATE)\n",
            "1020\t(the age of 18/DATE, 65 years of age or older/DATE)\n",
            "999\t(45 to 64/DATE, 65 years of age or older/DATE)\n",
            "986\t(25 to 44/DATE, 65 years of age or older/DATE)\n",
            "816\t(18/CARDINAL, 24/CARDINAL)\n",
            "807\t(24/CARDINAL, 45 to 64/DATE)\n"
          ]
        }
      ]
    },
    {
      "cell_type": "markdown",
      "metadata": {
        "id": "a8gtB7bbdUjb"
      },
      "source": [
        "These aren't really interesting; most of the pairs involve a pair of numeric mention types. On reflection, it seems reasonable to assume that at least one of each pair of potentially related entities should have something other than a numeric type. We might also get more relevant associations by focusing further on specific types. Let's try this out.\n",
        "\n",
        "This data uses [OntoNotes types](https://catalog.ldc.upenn.edu/docs/LDC2013T19/OntoNotes-Release-5.0.pdf#page=21):"
      ]
    },
    {
      "cell_type": "code",
      "metadata": {
        "id": "txO_aVSEeviA",
        "colab": {
          "base_uri": "https://localhost:8080/"
        },
        "outputId": "1a1475c3-d67f-46e6-ed94-02566c6b25a1"
      },
      "source": [
        "ALL_TYPES = set(m.type for mentions in mentions_by_sentence for m in mentions)\n",
        "\n",
        "ALL_TYPES"
      ],
      "execution_count": 25,
      "outputs": [
        {
          "output_type": "execute_result",
          "data": {
            "text/plain": [
              "{'CARDINAL',\n",
              " 'DATE',\n",
              " 'EVENT',\n",
              " 'FAC',\n",
              " 'GPE',\n",
              " 'LANGUAGE',\n",
              " 'LAW',\n",
              " 'LOC',\n",
              " 'MONEY',\n",
              " 'NORP',\n",
              " 'ORDINAL',\n",
              " 'ORG',\n",
              " 'PERCENT',\n",
              " 'PERSON',\n",
              " 'PRODUCT',\n",
              " 'QUANTITY',\n",
              " 'TIME',\n",
              " 'WORK_OF_ART'}"
            ]
          },
          "metadata": {},
          "execution_count": 25
        }
      ]
    },
    {
      "cell_type": "markdown",
      "metadata": {
        "id": "eOU4tAkefry0"
      },
      "source": [
        "Let's see if we get more interesting pairings by filtering by type:"
      ]
    },
    {
      "cell_type": "code",
      "metadata": {
        "id": "XIG8YmYkYcy-",
        "colab": {
          "base_uri": "https://localhost:8080/"
        },
        "outputId": "da1cc5cf-198f-4aa0-cc69-e3b0d0e47b20"
      },
      "source": [
        "def filtered_cooccurrence_relations(mentions, types1, types2):\n",
        "  relations = []\n",
        "  for i, mention1 in enumerate(mentions):\n",
        "    for mention2 in mentions[i+1:]:\n",
        "      if (mention1.type in types1 and mention2.type in types2 and\n",
        "          mention1.type != mention2.type):\n",
        "        relations.append((mention1, mention2))\n",
        "  return relations\n",
        "\n",
        "\n",
        "# Try changing the following to other types! (see above for list)\n",
        "TYPES1 = { 'PERSON' }\n",
        "TYPES2 = { 'ORG' }\n",
        "\n",
        "relation_counts = Counter()\n",
        "for mentions in mentions_by_sentence:\n",
        "  for relation in filtered_cooccurrence_relations(mentions, TYPES1, TYPES2):\n",
        "    relation_counts[relation] += 1\n",
        "\n",
        "for relation, count in relation_counts.most_common(20):\n",
        "  m1, m2 = relation[0], relation[1]\n",
        "  print(f'{count}\\t({m1.text}/{m1.type}, {m2.text}/{m2.type})')"
      ],
      "execution_count": 26,
      "outputs": [
        {
          "output_type": "stream",
          "name": "stdout",
          "text": [
            "9\t(Bosley Crowther/PERSON, `` The New York Times/ORG)\n",
            "8\t(Vincent Canby/PERSON, The New York Times/ORG)\n",
            "8\t(Janet Maslin/PERSON, The New York Times/ORG)\n",
            "7\t(Gene Siskel/PERSON, the `` Chicago Tribune/ORG)\n",
            "6\t(Charles Champlin/PERSON, the `` Los Angeles Times/ORG)\n",
            "4\t(Roger Ebert/PERSON, Chicago Sun-Times/ORG)\n",
            "3\t(Gary Arnold/PERSON, The Washington Post/ORG)\n",
            "3\t(A. O. Scott/PERSON, The New York Times/ORG)\n",
            "3\t(St John 's/PERSON, College/ORG)\n",
            "3\t(A. H. Weiler/PERSON, The New York Times/ORG)\n",
            "3\t(Häkkinen/PERSON, McLaren/ORG)\n",
            "3\t(Tuoba Xianbei/PERSON, the Northern Wei/ORG)\n",
            "2\t(Stephen Thomas Erlewine/PERSON, AllMusic/ORG)\n",
            "2\t(Martin Richards/PERSON, the University of Cambridge/ORG)\n",
            "2\t(Charles II/PERSON, the Hudson 's Bay Company/ORG)\n",
            "2\t(Charles II/PERSON, HBC/ORG)\n",
            "2\t(Cranmer/PERSON, Church/ORG)\n",
            "2\t(Cranmer/PERSON, Prayer Books/ORG)\n",
            "2\t(Roosevelt/PERSON, Congress/ORG)\n",
            "2\t(Mick LaSalle/PERSON, the `` San Francisco Chronicle/ORG)\n"
          ]
        }
      ]
    },
    {
      "cell_type": "markdown",
      "metadata": {
        "id": "bgladGZniG3d"
      },
      "source": [
        "That's better, there are definitely valid relations there that could potentially serve as entries in a knowledge base given normalization (and a relation type!)\n",
        "\n",
        "In this simple statistical approach, we have ranked the relations by their total count in the corpus. While this simple ranking approach can work, it should be noted that it fails to account for the probability of chance co-occurrence.\n",
        "\n",
        "An improved statistical approach would be to use the overall frequency of occurrence in the data to get an estimate of the expected number of co-occurrences for each pair, and divide the counts of actual co-occurrences by this number to determine which pairs co-occur more frequently than expected by chance."
      ]
    },
    {
      "cell_type": "markdown",
      "metadata": {
        "id": "nbCGhWmH-7WY"
      },
      "source": [
        "---\n",
        "\n",
        "# Rule-based relation extraction\n",
        "\n",
        "Broadly, any method involving explicitly written instructions for how to extract relations. (Contrast with machine learning approaches, where the \"rules\" are learned from examples.)\n",
        "\n",
        "Let's first consider a simple extension of naive co-occurrence based relation extraction to assign candidate types to co-occurring mentions by looking for keywords in their context -- here, the words in between the mentions.\n",
        "\n"
      ]
    },
    {
      "cell_type": "code",
      "metadata": {
        "colab": {
          "base_uri": "https://localhost:8080/"
        },
        "id": "JkGDC8qVQS3x",
        "outputId": "8ead613a-6507-445f-a959-724e6d494c3d"
      },
      "source": [
        "relation_keywords = {\n",
        "    'date_of_birth': ['born', 'birth'],\n",
        "    'date_of_death': ['died', 'dead', 'killed'],\n",
        "}\n",
        "\n",
        "relation_counts = Counter()\n",
        "for sentence, mentions in zip(sentences, mentions_by_sentence):\n",
        "  for i, mention1 in enumerate(mentions):\n",
        "    for mention2 in mentions[i+1:]:\n",
        "      if mention1.type == 'PERSON' and mention2.type == 'DATE':\n",
        "        between_words = sentence[mention1.end:mention2.start].split()\n",
        "        for rel, keywords in relation_keywords.items():\n",
        "          if any(k in between_words for k in keywords):\n",
        "            relation_counts[(rel, mention1.text, mention2.text)] += 1\n",
        "\n",
        "for relation, count in relation_counts.most_common(20):\n",
        "  rel, m1, m2 = relation[0], relation[1], relation[2]\n",
        "  print(f'{count}\\t{rel}({m1}, {m2})')"
      ],
      "execution_count": 27,
      "outputs": [
        {
          "output_type": "stream",
          "name": "stdout",
          "text": [
            "4\tdate_of_death(Richard Montgomery, 1775)\n",
            "3\tdate_of_birth(Afonso, 1109)\n",
            "3\tdate_of_death(Queen Victoria, 22 January 1901)\n",
            "3\tdate_of_death(Garret Hobart, 1899)\n",
            "2\tdate_of_death(Afonso, 1185)\n",
            "2\tdate_of_death(Isabella, 1103)\n",
            "2\tdate_of_death(Peter, 1103)\n",
            "2\tdate_of_birth(Mozart, about four months)\n",
            "2\tdate_of_death(Gur, October 1967)\n",
            "2\tdate_of_death(Gur, 11)\n",
            "2\tdate_of_birth(Britney Jean Spears, December 2 , 1981)\n",
            "2\tdate_of_birth(Billy Bob Thornton, August 4 , 1955)\n",
            "2\tdate_of_death(DeMille, November 1959)\n",
            "2\tdate_of_birth(David Andrew, August 28 , 1962)\n",
            "2\tdate_of_birth(Leo Fincher, August 28 , 1962)\n",
            "2\tdate_of_birth(Denis Colin Leary, 18 August 1957)\n",
            "2\tdate_of_birth(Eve Arden, April 30 , 1908)\n",
            "2\tdate_of_death(Franco, 1975)\n",
            "2\tdate_of_death(Louis XVIII, September 1824)\n",
            "2\tdate_of_death(Charles II, 1700)\n"
          ]
        }
      ]
    },
    {
      "cell_type": "markdown",
      "metadata": {
        "id": "H1hwqpOLS_S0"
      },
      "source": [
        "There's a lot of noise here, but at least the following relation extracted for [Queen Victoria](https://en.wikipedia.org/wiki/Queen_Victoria) appears to hold:\n",
        "\n",
        "```\n",
        "date_of_death(Queen Victoria, 22 January 1901)\n",
        "```\n",
        "\n",
        "Like co-occurrence based extraction, this simple approach suffers from low precision. To improve on this, let's look at an important subclass of rule-based relation extraction methods, ones that involve explicit **patterns** for relation extraction.\n",
        "\n",
        "Extraction patterns can be expressed over the linear sequence of words (\"flat\" patterns) or over some representation of syntactic structure (e.g. dependency patterns). We'll look into both in the following.\n"
      ]
    },
    {
      "cell_type": "markdown",
      "metadata": {
        "id": "_ToxdR0rBr82"
      },
      "source": [
        "## Flat pattern matching\n",
        "\n",
        "Flat pattern matching can be implemented using standard tools such as [regular expressions](https://en.wikipedia.org/wiki/Regular_expression). (If you're not familiar with regular expression syntax or need a refresher, you may want to have a look at e.g. the detailed [regular expression HOWTO](https://docs.python.org/3/howto/regex.html) included in Python documentation.)\n",
        "\n",
        "Let's first briefly revisit the extraction of is-a relations using [Hearst patterns](https://people.ischool.berkeley.edu/~hearst/papers/coling92.pdf). The basic idea is that we can infer _is-a_ (or _type-of_, or [_hyponym_](https://en.wikipedia.org/wiki/Hyponymy_and_hypernymy)) relations by looking for patterns such as the following:\n",
        "\n",
        "```\n",
        "authors such as Shakespeare    →  is-a(author, Shakespeare)\n",
        "libraries and other buildings  →  is-a(building, library)\n",
        "countries, including Finland   →  is-a(country, Finland)\n",
        "```\n",
        "\n",
        "Let's try a \"such as\" pattern on our example Wikipedia data. We're here fixing one participant in the relation to be an entity mention, and simply matching the other as a string using a regular expression."
      ]
    },
    {
      "cell_type": "code",
      "metadata": {
        "colab": {
          "base_uri": "https://localhost:8080/"
        },
        "id": "amoAlalIy2kx",
        "outputId": "0fdd9ad8-2fcb-412a-93a3-719e3d95b842"
      },
      "source": [
        "import re\n",
        "\n",
        "\n",
        "# Explanation for regular expression:\n",
        "# \\b         matches word boundary\n",
        "# [a-z]+s    matches any sequence of \"a\" to \"z\" characters, ending with \"s\"\n",
        "# ( ,)?      matches optional comma\n",
        "# such as $  matches the text \"such as\" at the end of the string\n",
        "SUCH_AS_RE = re.compile(r'\\b([a-z]+s)( ,)? such as $')\n",
        "\n",
        "\n",
        "relation_counts = Counter()\n",
        "for sentence, mentions in zip(sentences, mentions_by_sentence):\n",
        "  for mention2 in mentions:\n",
        "    before = sentence[:mention2.start]\n",
        "    m = SUCH_AS_RE.search(before) \n",
        "    if m:\n",
        "      mention1 = m.group(1)\n",
        "      relation = ('is-a', mention1, mention2.text)\n",
        "      relation_counts[relation] += 1\n",
        "\n",
        "\n",
        "for relation, count in relation_counts.most_common(10):\n",
        "  type_, m1, m2 = relation[0], relation[1], relation[2]\n",
        "  print(f'{count}:\\t{type_}({m1}, {m2})')"
      ],
      "execution_count": 28,
      "outputs": [
        {
          "output_type": "stream",
          "name": "stdout",
          "text": [
            "8:\tis-a(countries, the United States)\n",
            "8:\tis-a(countries, China)\n",
            "5:\tis-a(languages, Hindi)\n",
            "5:\tis-a(countries, India)\n",
            "5:\tis-a(countries, Japan)\n",
            "5:\tis-a(countries, France)\n",
            "4:\tis-a(languages, French)\n",
            "4:\tis-a(languages, English)\n",
            "4:\tis-a(countries, the United Kingdom)\n",
            "4:\tis-a(countries, Germany)\n"
          ]
        }
      ]
    },
    {
      "cell_type": "markdown",
      "metadata": {
        "id": "Chf0tAU-1igq"
      },
      "source": [
        "Not bad, but those plural forms really don't work here. Let's add a quick fix to lemmatize these:"
      ]
    },
    {
      "cell_type": "code",
      "metadata": {
        "colab": {
          "base_uri": "https://localhost:8080/"
        },
        "id": "awLhC2do2AHc",
        "outputId": "d7116653-adf0-4350-cdb7-6e377e331bb9"
      },
      "source": [
        "import nltk\n",
        "from nltk.stem import WordNetLemmatizer \n",
        "\n",
        "nltk.download('omw-1.4')\n",
        "nltk.download('wordnet')"
      ],
      "execution_count": 31,
      "outputs": [
        {
          "output_type": "stream",
          "name": "stderr",
          "text": [
            "[nltk_data] Downloading package omw-1.4 to /root/nltk_data...\n",
            "[nltk_data] Downloading package wordnet to /root/nltk_data...\n",
            "[nltk_data]   Package wordnet is already up-to-date!\n"
          ]
        },
        {
          "output_type": "execute_result",
          "data": {
            "text/plain": [
              "True"
            ]
          },
          "metadata": {},
          "execution_count": 31
        }
      ]
    },
    {
      "cell_type": "code",
      "metadata": {
        "colab": {
          "base_uri": "https://localhost:8080/"
        },
        "id": "Hpw1uOIL1qOY",
        "outputId": "e8cd4ec6-5349-4245-fbb1-da0388906f97"
      },
      "source": [
        "lemmatizer = WordNetLemmatizer()\n",
        "\n",
        "for relation, count in relation_counts.most_common(20):\n",
        "  type_, m1, m2 = relation[0], relation[1], relation[2]\n",
        "  m1 = lemmatizer.lemmatize(m1)\n",
        "  print(f'{count}:\\t{type_}({m1}, {m2})')"
      ],
      "execution_count": 32,
      "outputs": [
        {
          "output_type": "stream",
          "name": "stdout",
          "text": [
            "8:\tis-a(country, the United States)\n",
            "8:\tis-a(country, China)\n",
            "5:\tis-a(language, Hindi)\n",
            "5:\tis-a(country, India)\n",
            "5:\tis-a(country, Japan)\n",
            "5:\tis-a(country, France)\n",
            "4:\tis-a(language, French)\n",
            "4:\tis-a(language, English)\n",
            "4:\tis-a(country, the United Kingdom)\n",
            "4:\tis-a(country, Germany)\n",
            "3:\tis-a(power, France)\n",
            "3:\tis-a(country, Australia)\n",
            "3:\tis-a(city, London)\n",
            "3:\tis-a(country, Egypt)\n",
            "3:\tis-a(country, Saudi Arabia)\n",
            "3:\tis-a(band, Korn)\n",
            "3:\tis-a(language, Haskell)\n",
            "3:\tis-a(city, Bukhara)\n",
            "3:\tis-a(language, Sanskrit)\n",
            "2:\tis-a(city, Athens)\n"
          ]
        }
      ]
    },
    {
      "cell_type": "markdown",
      "metadata": {
        "id": "-KkEci4vjJjx"
      },
      "source": [
        "Or, alternatively, we can group these by hypernym:"
      ]
    },
    {
      "cell_type": "code",
      "metadata": {
        "colab": {
          "base_uri": "https://localhost:8080/"
        },
        "id": "3sBj1JdT6JRJ",
        "outputId": "f264e027-f668-497a-aee5-bd36cf008057"
      },
      "source": [
        "from collections import defaultdict\n",
        "\n",
        "\n",
        "names_by_hypernym = defaultdict(list)\n",
        "for relation in relation_counts:\n",
        "  type_, m1, m2 = relation[0], relation[1], relation[2]\n",
        "  names_by_hypernym[m1].append(m2)\n",
        "\n",
        "# only print longer lists to avoid excessive output\n",
        "for m1, m2_list in names_by_hypernym.items():\n",
        "  if len(m2_list) > 25:\n",
        "    print(f'{m1:14s}:', ', '.join(m2_list))"
      ],
      "execution_count": 33,
      "outputs": [
        {
          "output_type": "stream",
          "name": "stdout",
          "text": [
            "writers       : Erika Holzer, Hesiod, Francis Bacon 's, Richard Hakluyt, Edward A. Pollard, Lactantius, Frank Báez, Virgil, Gail Simone, Hippolytus, Ursula K. Le Guin, James Fordyce, the 17th - century, Allen Ginsberg, Constance Cumbey, H. G. Wells, Goldstücker, Alexander Pope, Ahmad Shamlou, Giovanni Villani, Machiavelli, William S. Burroughs, Clark Ashton Smith, Saint Jerome, Michael Field, Elizabeth Harrower, Beaumont, Glenn Reynolds, Stephen Crane, Paul Huson, Alejo Carpentier, Salman Rushdie, Albert Camus, Moritz August von Thümmel, Lao She, Plutarch, Remarque, Helen Stevenson, Robert E. Howard, Emile Danoën, Stephen White, Alan Watts, Kerouac, Miguel de Cervantes, Samuel Presbiter, Mathew, Kristine Kathryn Rusch, Isaac Asimov, Richard Dawkins, Anna Seward, Olive Schreiner, John McGahern, Humfrey Barwick\n",
            "languages     : Hindi, Eiffel, Python, Jalapa Mazatec, French, English, Catalan, JavaScript, CSS, Spanish, Hausa, Sindhi, Banda, Serui, Nicaraguan Sign Language, Korean, Latin, Arabic, Mehri, Hindi , Gujarati, Pascal, Greek, Czech, Swedish, German, Italian, Serbian, Fortran, Chinese, Java, Haskell, Perl, Gelao, Cheyenne, Word 's WordBASIC, Sanskrit, Marathi, Dutch, Urdu, Mandarin Chinese, Japanese, Taiwanese, Afrikaans, Gujarati, Algerian Sign Language, Lisp, ECMAScript, Ruby, Xiongu, Albanian, Kashmiri, Hittite, Fijian, Gondi, Akkadian, Georgian, Picard\n",
            "cities        : Athens, Valdivia, Ciudad Real, London, Ghent, Tarragona, Apollonia, Manado, Chicago, Lahore, Delhi, New Orleans, Caracas, Albany, Pattaya, Moscow, Riyadh, Washington D.C., Bukhara, Rio de Janeiro, Armavir, Artaxata, Strasbourg, Sarajevo, Bilaspur, Durg, North Las Vegas, Amsterdam, Jaén, Myrhorod, San Antonio, Little Rock, Fustat, Mons, Delft, Montreal, Lyon, Algiers, Marseilles, San Francisco, Los Angeles, Nice, Thousand, Rochester, Buffalo, Pomerode, Harrisonburg, Indian Lake, Raleigh, Tongeren, Vernon, South Gate, Irvine, San Luis Obispo, Indianapolis, Nashua, Worcester, The Hague, Petrini 's Markets, Pittsburgh, New York, Norwalk, Washington\n",
            "figures       : Socrates, 99, Cunedda, Rob Roy, Caserini, Hermann Hesse, Voltaire, Mohamed Nasheed ( Anni, Liu Shaoqi, Johann Herder, Hermann Göring, Alastair Campbell, Scelba, Ahmed Yassin, M. P. Shiel, Sarutobi Sasuke, Chelsea Clinton, Mussolini, Pierre Guillaume, Mordechai Vanunu, Andrean, Walther von der Vogelweide, Gianlorenzo Bernini, Subramanian Swamy, Louis -Joseph Papineau, Swede Hanson\n",
            "companies     : Viz, the Diamond Jubilee Investment Trust, Spinnaker Software, Dassault Aviation, Starbucks, Epyx, Ocean Software, MIBA, Metro Servicios Turísticos, Verizon Communications, the J. C. Williamson Gilbert, English National Opera, NYGASP, Netscape, Toyota, the Maribor Automobile Factory, USPCC, United States, Herr 's Snacks, Bykea, MMG Mobile Marketing Group, NCR Corporation, SpaceX, the Vandalia Company, Boise Cascade LLC, Wevorce, the Company of Merchant Adventurers, HP, Seadog Ventures, Roland Corporation, Amazon, the National Commercial Bank ( NCB, British, the D'Oyly Carte Opera Company, Apple, Statoil, Goodwin & amp ; Co., Crosfield Electronics, INAX, Google, Panasonic, Optware, Kodak, the Chamber Ballet of Jalisco, Frog, Anigrand, Evojet, General Electric, the Milford Center Lumber and Supply Company, American Tobacco Company, Georgia Pacific, Columbia, Hoseasons, Ryanair, EPB, Vulcan Materials, Alliant Techsystems, Intel, Navient, Pepsi, CEJN AB, Autoliv, COWI, FedEx Express, AT & amp, Nakamichi, Mobile Fidelity\n",
            "countries     : India, the United States, Syria, Jamaica, Trinidad, China, the American Contract Bridge League, Japan, Greece, Australia, Chad, the United Kingdom, West Germany, France, Lebanon, Romania, Cuba, Liberia, French, Turkey, Egypt, Saudi Arabia, Poland, the Czech Republic, South Africa, Canada, Liechtenstein, the Dominican Republic, Afghanistan, Sweden, Ethiopia, Germany, Nigeria, Algeria, Burkina Faso, Croatia, Austria, Ghana, Jordan, Israel, Libya, Kuwait, Belgium, Malta, Ireland, Ukraine, Pakistan, Hamas, Venezuela, Zimbabwe, Russia, Finland, Argentina, Ecuador, Senegal, Barbados, South Korea, Burma, Bahrain, Nepal\n",
            "works         : Robert A. Heinlein 's, Schubert, Moreno Torroba, Brian Ferneyhough 's, Sheer Pluck, Nicholas Nickleby, the Endless Column, the CRC Handbook of Chemistry and Physics, Roberto Rossellini 's, Elizabeth Burgoyne Corbett 's, the `` Psalm of the Cannons `` by Arvi Järventaus, Gilbert and Sullivan for All, the `` Mona Lisa, Newton, Ravel, Masses, Boccaccio, Caroline Norton 's, the Bibliotheca Fratrum Polonorum, Milton, `` The Garden Party, Meno, Rabelais, Hayao Miyazaki 's, the `` Historia Britonum, Death of a Salesman and Grease\n",
            "scholars      : Aurel Stein, Christopher I. Beckwith, Erich Frauwallner, Richard Gombrich, Albrecht Alt, Bender, Marija Gimbutas, Greenwell, Henricus Sedulius, Andrew Lang, Scholem, Howard Hibbard, Gerbert, Hermann of Reichenau, Max Müller, Robert, Hasan, Hasan of Basra, Alfred L. Kroeber, Mobo Gao, Lee Feigon, Claudia Johnson, Julius Wellhausen, Mario Aguilar, Masood Ashraf Raja, Arden L. Bement Jr., German, Sten Konow, George Abraham Grierson, Hermann Jacobi, Ashley Montagu, Brugger, Braulio of Zaragoza, United States, Sandra Harding, Guido Bruck, Gari Ledyard, Sanping Chen, Jin Qiu, Marcuse, Mariano Veytia, David Carrasco, Beattie, Jan Assmann, Isaiah Berlin, Amartya Sen, Abu Bakr ibn al - ‘ Arabi, Jay Tolson, Anne Berthoff, Ekki Lu, Basque, Everett Ferguson, Leland S. Person, García Fernández, Syed Farid Alatas, George Makdisi, J. M. Peñuela, Schuyler V. Cammann, James Romano, Eileen Jensen Krige, Anthony Smith, Douglas North, Anwar Qureshi, Sedulius Scottus, Paul Pelliot, Ho\n",
            "others        : Ananda W. P. Guruge, Cave 16, the University of California , Berkeley, Hammerbrook, Walcher of Malvern, Gordon Baker, Picard, the United Kingdom, Frank Herbert, Julian Barbour, J. Robert Oppenheimer, Sijilmasa, the Bite of Oregon, Donner, London Underground, Gustav Seyffarth, Font Sellabona, Rex Stout, Yoshikazu Kawaguchi, Michael Ghiselin, Nancy Wingate, James Stuart Blackton, Roger Kimball, Charles Holcombe, Godolphin, Frederick Delius, Tom Waits, Angelo Mosca, Iowa, Central Parkway\n",
            "acts          : Mariah Carey, Stevie Wonder, Fünf Sterne, Robert Plant, Asia, Michael Stanley Band , Shoes , Blotto, R.E.M, Pantera , Death, Weezer, Aaliyah, Limp Bizkit and Kid Rock, Lady Gaga, Dream Syndicate, the Dave Clark Five , the Animals, Isaac Hayes, Led Zeppelin, the Gakondo Group, Southside Johnny, Depeche Mode , Queen , King Crimson, Joy Division , New Order, The Frustrators, The Last Poets, The Cure , KISS , The Rolling Stones , The Beatles, Minutemen, Madonna, British, Bruce Springsteen, The Smashing Pumpkins, Missile Girl Scout, Sugar Soul, Dalida\n",
            "artists       : Willie Nelson, James Brown, Jay - Z, Selena Gomez, Nicole Scherzinger, Nick Lowe, André Mare, Ian Hamilton Finlay, François - Bernard Lépicié, Public Enemy, André Breton, Tzara , Picabia , Schwitters , Arp, Kid Rock, Britney Spears, Wayne Thiebaud, John Romita Sr., Jay-Z, The Notorious B.I.G, Baba Saad, Giggs, 150, Dirk Bouts, Al Jourgensen, Timbaland, the Grateful Dead , Incredible String Band , the Rolling Stones , the Move and Traffic, Dickie Valentine, Robert Buelteman, Keith Haring, Bad Company, Muddy Waters, Donatello, Delacroix, Odilon Redon, the Sala Leandre Cristòfol, Joan Manuel Serrat, Thierry Noir, Janet Jackson, Leonardo, Agnolo Bronzino, Korn, Bhuri Bai, Sinn Sisamouth, Cem Karaca, Howie B, Pete Loeffler, Chet Zar, Buzz Osborne, William Blake, Jamini Roy, The Beatles, Ai Weiwei, Jeff Koons, Andy Warhol, Albrecht Dürer, Augustus John, Frans Hals, Metsu, Feng Zikai, U2, Linkin Park, William Turner, Youp, The Prodigy , Cut La Roc, Jacek Malczewski, Jimmy Barnes, Peter Murphy, Gu Kaizhi, Mario Schifano, Carl Perkins, Gene Bilbrew, Cornershop, Army of Freshmen, LeRoy Neiman, Belinda Carlisle, K Koke, Sixpence None the Richer , Chevelle, John Crome, Alexandre Cabanel, Frank Sinatra, Jimi Hendrix, Robert Cray, Marinus Gidding, Little Boots, Mobb Deep, Rihanna, Ryan Adams, Yoann, Paul Klee, Donald Judd, Marcel Duchamp, Bruce Springsteen, Edwin Starr, Johnny Cash, Bill Tytla, Millard Lee, Pearl Buck, Noir\n",
            "organizations : Aide, International Council of Air Shows and European Airshow Council, the Anita Borg Institute, Save the Children, the American Association of Cheerleading Coaches and Advisors, the Ontario Cheerleading Federation ( Ontario, Paul Newman 's, Ecclesia Gnostica Catholica, the Conference of the High Contracting Parties, the Rashtriya Swayamsevak Sangh, The `` Association of Help of Poles in the East Kresy, O.R.A, NATO, UFC, Armies, SIL International, the Commemorative Air Force, the Communist Party, the National Council of Negro Women ( NCNW, Dell, the American Urological Association, the Intersex Society of North America, the Imperial Order of the Daughters of Empire, the Jewish National Fund, the International Colored Gemstone Association ( ICGA, the Appalachian Center for Wilderness Medicine, the American Nurses Credentialing Center, ANSI, UNICEF, the Humane Society of the United States and World Animal Protection, Valencia Nova, the Leipzig Musicians Pension Fund, the Intercollegiate Tennis Association and World TeamTennis, the Ethiopian Lawyers ' Association, the Ku Klux Klan, Lions Clubs International, La Ola, ItalianAware, the National Italian American Foundation, the Mum Festival Committee, Pride FC, Amnesty International, the Federalist Society, the National Health Service, Taproot Foundation\n",
            "leaders       : Gul Agha Sherzai, Walter Reuther, Ali Pasha, Liu Shaoqi, North Korea 's, B. P. Koirala, Elders, Talgat Tadzhuddin, Alvan E. Bovay, Abdurrauf Fitrat, Faizulla Khojayev, Giuseppe Dossetti, Missouri, Gary Hart, Patrick Henry, Peng Zhen, Yalta, Pedro de Alvarado, George T. Ruby, François Guizot, Vicent Doménech el Palleter, Sukarno, William McIntosh, Benson, Ben Bella, Norton P. Chipman, Bill Gothard, Nikolai Bukharin, Osama bin Ladin, Waban, Google, Attacullaculla, Kwame Nkrumah, Atal Bihari Vajpayee, Cungšan\n",
            "states        : Troy, the United Kingdom, Silla, Tyre, France, Burundi, Athens, Indian State of Haryana, Bolivia, Bryan, Tasmania, Florida, South Carolina, Colorado, the Kingdom of Westphalia, Madhya Pradesh, California, Tamil Nadu, Germany, Arizona, New York, Aptera, Georgia, the Dutch Republic, Croatia, Virginia, Alabama, Maryland, Michigan, Ghana, Nigeria, Illinois\n",
            "musicians     : Ry Cooder, Alan Stivell, George Clinton, Coleman Hawkins, Ravi Shankar, John Coltrane, Amorphis, Adam Ant, Elvis Presley, Bob Dylan, Evan Parker, César Isella, Patricio Manns, Aretha Franklin, Kate Bush, Neil Young, Moura Lympany, Louis Armstrong, Richard Wright, Jean Michel Jarre, Juan Atkins, Terri Alard, Elvis Presley , The Beatles, Rosolino, R.E.M, Balin\n",
            "events        : the Walk -A - Thon, the Indianapolis 500, the Cocoanut Grove, Wikimania, the Indo-Pakistani War of 1971, the British - Irish Council, the Great Plague of London, Baronial Arts and Sciences, Shakespeare, the Boston Marathon, the Annual Ball, Jazz, Fiesta San Antonio, the Adelaide 500, the Bathurst 1000, the Paris Commune, New Year 's Eve, the USENIX Annual Technical Conference, the Big Day Out, New Wine Christian festival, the Congreso de Artistas y Trabajadores ( Conference of Artists and Workers, Western, the Greater Manchester Youth Games, the Gaspee Affair, the World Series, Riverbend, Frontier Days, the Union City Arts and Crafts Festival, Broadway, Sweden, the Wadsworth Running Club 's, Chili Cook - off &, Jugaremos en Familia, Santa Paddle, the Ice Breaker Festival\n",
            "bands         : the Backstreet Boys and the Spice Girls, Deep Purple, Mötley Crüe, the Backstreet Boys, Papa Roach, Limp Bizkit, Godsmack, Motograter, Coal Chamber, Korn, Korn and Deftones, Drowning Pool , Coal Chamber, Linkin Park, Jet and The Darkness, Disturbed and Drowning Pool, the Grateful Dead, Pink Floyd, Soft Machine, Hawkwind, Kilburn, Orange Juice, The Jesus & amp, Kleenex / Liliput, The Cranberries, Gregg Allman, Alternative TV, Gone, Bad Brains , Minutemen , Descendents , Meat Puppets, Duran Duran, Orchestral Manoeuvres in the Dark\n",
            "names         : Balcia, San Juan Chamula, Farid Bang, Trowlesworthy Warren, Shoshone, Nike, Leandro Fernández de Moratín, Baulkham Hills, Heliax, Fitzgerald, Wurzbach, the Miami Marlins, the Boston Red Sox, Thomondgate, Eugen, Yunggai, Mexican, Tyzack, Kellond, Pottery Lane, Norman Foster, George Clinton, Fortin, S. Center St., Benny Goodman, Robin Redbreast, Fritz Von Goering, Greg Valentine\n",
            "towns         : Mutare, Devol, Dagnum, Jayapura, Spanish, Tunica Resorts, Cluj -Napoca, Innamincka, Racine, Grays, Wendover, Stralsund, Manchester, South Pass City, Dunkirk, New Braunfels, Towcester, Bexhill - on - Sea, Hailsham, Ashland, Wigan, Pelham, Jumbo , Moyers , Clayton and Albion, Khotan, Hartlepool, Danville, Paisley, Camden, Wellesley, Cut Bank, West New York, Roseto, Watson, Silver City, Salt Lake City, Cantalejo, Arad, Gourock\n",
            "authors       : Peter Ladefoged, Laver, Hesiod, Hervé, Marion Zimmer Bradley, Huber, Sextus Empiricus, J. R. R. Tolkien, Willem Elsschot, Joanna Russ, Orbilius Pupillus, Knud Jeppesen, Thomas Mann, Gemetchu Megerssa, Ernest Renan, Neal Stephenson, Halldorsson et al, R. A. Salvatore, Geoffrey Chaucer, Galen, G. S. Godkin, Octavia Butler, William Hope Hodgson, Lawrence, Lucien Febvre, Bligger von Steinach, Andrew Flood, Johann Geiler, Michael Moorcock, Don DeLillo, Giorgio Bassani, Erwin Schrödinger, John of Ephesus, Geoffrey, J. K. Rowling\n",
            "composers     : Weber, Louis Spohr, Raúl de Ramón, John Dowland, Johann Kaspar Mertz, Federico Moreno Torroba, Manuel Ponce, Hans Werner Henze, Erwin Schulhoff, Nigel Osborne, Claude Debussy, Puccini, Claudio Monteverdi, Giacomo Meyerbeer, Ivan Caryll, Christoph Willibald Gluck, Giovanni Paisiello, Berlioz, Beethoven, Scott Joplin, Isaac Albéniz, Fall, Edward German, Offenbach, Antonio Vivaldi, Debussy, Maxwell Davies, Mozart, Henri Woollett, Edgard Varèse 's, Steve Reich, Fernando Sor, Gonzalo Curiel, Giuseppe Verdi 's, Béla Bartók, Erik Satie, Modest Mussorgsky, J.S, Gustav Mahler, Antonio Bertali\n",
            "areas         : Zakouma National Park, Ocosingo, San Juan Chamula, Santo Domingo, Dalry, Dumbiedykes, Los Angeles, Fredericton, Castile, Jayapura, South Asia, the Nile Delta, Makoshika State Park, Niamey, Toluca, Kandahar, the Taiwan Strait, Australia, Limerick, Human Resource Development, Al -Akhdam, the Central Rim, Glasgow, Papua New Guinea, the Solana Valley, Luanda Kongo, Victor, Bengal, Japan, the North Caucasus, Ghana, the Modoc National Wildlife Refuge, the Iberian System, the Kings Road, Orkney, Cleveland, Boston, Winsford, American Samoa, Iraq, the Board of Health , Board of Social Services, Notting Hill, Garden State Plaza, Santa Maria, Birmingham, Riverside Park, Diamond Valley, the Natural Park\n",
            "groups        : African, Tibesti, Los de Ramón, Jews, PDC, the Jubilee Debt Campaign, the Trilateral Commission, the Provisional IRA, the Blue Lodges, Thespianz Theater, Siger / Sengwer, the Boys ' Brigade and Scouts, Militant, the Spice Girls, the Parents Music Resource Center, Kazakhs, SierraRios, My Ticket Home , Stray from the Path, Abu Sayyaf, the Ifugaos of the Cordillera, the Jimi Hendrix Experience and Cream, Qibla, Gun Control Australia, the Communist Party of Nepal ( Maoist Centre, the Society of St. Pius X, the Neue Forum, Janet Jackson, Al - Anon, the Ellen MacArthur Foundation, the British Royal Society, the World Bank, Sotho, the Opera Quotannis, Helmet , Rollins Band, the Socialist Turner Societies, Armenians, Human Rights Watch, Reclaim, the Swan Theatre Company, the Humane Society, People for the Ethical Treatment of Animals, Hound , Terrier , Working , Herding , Sporting , Non-Sporting, the Red Cross, Human Rights Watch , Landmine Action, the Palestine Liberation Organization, the Victorian Society, UDTJ, the Revolutionary Armed Forces of Colombia, The Dubliners , The Chieftains\n",
            "philosophers  : Shao Yong, Valluvar, Plato, John Rawls, Irving Babbitt, Descartes, John Locke, John Stuart Mill, Wittgenstein, Gorgias, Kant, Alfred Tarski, J.L, Darwin, Jean - Jacques Rousseau, David Lewis, Daniel Dennett, Tibor Machan, Murray Rothbard, Newton da Costa, Voltaire, Rousseau, Ibn Arabi, Thomas Kuhn, Arthur Schopenhauer, Gottlob Frege, Peter Carruthers, Friedrich Nietzsche, Henri Bergson, Immanuel Kant 's\n"
          ]
        }
      ]
    },
    {
      "cell_type": "markdown",
      "metadata": {
        "id": "BUipwu-Y8Ga7"
      },
      "source": [
        "Note that the relations above are still expressed in terms of strings, not IDs representing the relevant entities in a knowledgebase. \n",
        "\n",
        "To have fully structured relations, we would need to associate the strings such as \"author\" with knowledge base IDs such as Wikidata [Q482980](https://www.wikidata.org/wiki/Q482980) and make use of normalization information for the named entity mention."
      ]
    },
    {
      "cell_type": "markdown",
      "metadata": {
        "id": "hU7AMoLj9RZf"
      },
      "source": [
        "## Dependency pattern matching\n",
        "\n",
        "The \"flat\" Hearst patterns succeed in part because the expressions that they match have limited syntactic variability. Let's look at a relation that is commonly expressed in more varied ways, finding strings containing \"married\" between two `PERSON` mentions:"
      ]
    },
    {
      "cell_type": "code",
      "metadata": {
        "colab": {
          "base_uri": "https://localhost:8080/"
        },
        "id": "SppBI_JR9Qys",
        "outputId": "f1840104-60ce-4a85-c08b-66f801275ff8"
      },
      "source": [
        "between_counts = Counter()\n",
        "for sentence, mentions in zip(sentences, mentions_by_sentence):\n",
        "  for i, mention1 in enumerate(mentions):\n",
        "    for j, mention2 in enumerate(mentions[i+1:]):\n",
        "      if mention1.type == 'PERSON' and mention2.type == 'PERSON':\n",
        "        between = sentence[mention1.end:mention2.start]\n",
        "        if 'married' in between:\n",
        "          between_counts[between] += 1\n",
        "\n",
        "\n",
        "for between, count in between_counts.most_common(10):\n",
        "  print(f'{count}\\tPERSON1{between}PERSON2')"
      ],
      "execution_count": 34,
      "outputs": [
        {
          "output_type": "stream",
          "name": "stdout",
          "text": [
            "214\tPERSON1 married PERSON2\n",
            "19\tPERSON1 , married PERSON2\n",
            "16\tPERSON1 was married to PERSON2\n",
            "7\tPERSON1 married his first wife , PERSON2\n",
            "6\tPERSON1 had married PERSON2\n",
            "6\tPERSON1 , who married PERSON2\n",
            "5\tPERSON1 is married to PERSON2\n",
            "5\tPERSON1 married his second wife , PERSON2\n",
            "5\tPERSON1 , married to PERSON2\n",
            "4\tPERSON1 married actress PERSON2\n"
          ]
        }
      ]
    },
    {
      "cell_type": "markdown",
      "metadata": {
        "id": "6mweQDAcAWnL"
      },
      "source": [
        "Here we see much more variability in the linear word sequence. However, if we instead look at dependency analyses for these sentences: (try the [parser demo](http://bionlp-www.utu.fi/parser_demo/) live!):\n",
        "\n",
        "<img width=\"65%\" src=\"https://github.com/TurkuNLP/Text_Mining_Course/raw/master/figs/john-married-jane.png\">\n",
        "\n",
        "We see that the _dependency paths_ connecting the two named entities are much more regular:\n",
        "\n",
        "```\n",
        "John  ←      nsubj ← married → obj → Jane\n",
        "John  ← nsubj:pass ← married → obj → Jane\n",
        "John  ← nsubj:pass ← married → obj → Jane\n",
        "John  ←      nsubj ← married → obj → wife → appos → Jane\n",
        "```\n",
        "\n",
        "(The definitions for the dependency types can be found in the [Universal Dependencies](https://universaldependencies.org/) documentation: [nsubj](https://universaldependencies.org/u/dep/nsubj.html), [nsubj:pass](https://universaldependencies.org/u/dep/nsubj-pass.html), [obj](https://universaldependencies.org/u/dep/obj.html), [appos](https://universaldependencies.org/u/dep/appos.html))"
      ]
    },
    {
      "cell_type": "markdown",
      "metadata": {
        "id": "BsbDcIVrLJ-o"
      },
      "source": [
        "The observation that the _shortest dependency path_ connecting two entity mentions contains most of the information regarding their relation (if any) has inspired [many relation extraction methods](https://scholar.google.com/scholar?q=\"shortest+dependency+path\"+\"relation+extraction\").\n",
        "\n",
        "We won't go into full code here, but we can sketch a dependency pattern-based relation extraction approach as follows:\n",
        "\n",
        "---\n",
        "\n",
        "* Write extraction patterns over dependency paths\n",
        "* For each sentence $s$:\n",
        "    * Parse sentence $s$, producing dependency graph $d$\n",
        "    * For each pair of entity mentions in the sentence $(m_1, m_2)$:\n",
        "        * Find the shortest path in $d$ connecting $m_1$ to $m_2$\n",
        "        * Linearize the shortest path (e.g. to `ENTITY1 ← nsubj ← married → obj → ENTITY2`)\n",
        "        * Match each pattern against the dependency path representation and return a relation for each pattern that matches\n",
        "\n",
        "---\n",
        "\n",
        "Note that because dependency paths can be linearized to strings, we can use standard methods such as regular expressions to match patterns also against dependency paths. Alternatively, we could use dedicated tools such as [Tregex](https://nlp.stanford.edu/software/tregex.shtml)."
      ]
    },
    {
      "cell_type": "markdown",
      "metadata": {
        "id": "HDplWzPpeWDZ"
      },
      "source": [
        "## Open Information Extraction\n",
        "\n",
        "The rule-based approaches considered above have required us to specify the relation types in advance, e.g. through keywords or patters for each type. By contrast, Open Information Extraction (Open IE) methods aim to identify _any_ relation stated in text, extracting the relation type along with the participating entities.\n",
        "\n",
        "Open IE methods can operate over the linear sequence of words (making use of e.g. part-of-speech patterns) or over syntactic structures, such as in the following example from the [Stanford Open IE system](https://nlp.stanford.edu/software/openie.html):\n",
        "\n",
        "<img width=\"90%\" src=\"https://nlp.stanford.edu/static/img/openie.png\">\n",
        "\n",
        "(Figure from https://nlp.stanford.edu/software/openie.html)\n"
      ]
    },
    {
      "cell_type": "markdown",
      "metadata": {
        "id": "3z7KXDGeiYsg"
      },
      "source": [
        "Open IE is at its best when applied to very large corpora. Instead of trying to run a large-scale implementation in this notebook, let's have a look at the results of the [ReVerb](http://reverb.cs.washington.edu/) Open IE system applied to 500 million web pages on this demo site: https://openie.allenai.org/"
      ]
    },
    {
      "cell_type": "markdown",
      "metadata": {
        "id": "2zxUh9VWzOeE"
      },
      "source": [
        "---\n",
        "\n",
        "# Relation extraction using machine learning\n",
        "\n",
        "The most accurate relation extraction methods are based on supervised machine learning, i.e. models trained on examples of which relations to extract from documents.\n",
        "\n",
        "We'll here first look at two options for annotating data for relation extraction, and then sketch a machine learning approach for learning to extract relations.\n"
      ]
    },
    {
      "cell_type": "markdown",
      "metadata": {
        "id": "Pf3Ky7SgzQ_M"
      },
      "source": [
        "## Relation annotation\n",
        "\n",
        "Like all supervised machine learning approaches, ML-based relation extraction methods must be trained on examples of inputs with correct outputs. Recall that in our task setting, the input includes document texts $d$ and entity mentions $M_d = \\{m_1, m_2, \\ldots, m_n \\}$ in each document.\n",
        "\n",
        "We will then assume that the output consists of typed binary relations $R_d \\subset T \\times M_d \\times M_d$ where $T$ is the set of types. We could for example have $T = \\{$ `employee`, `owner`, `founder` $\\}$ for person-organization relations.\n",
        "\n",
        "Using a **document-oriented** annotation approach (here the open-source tool [brat](https://brat.nlplab.org)), our starting point could then look like the following:"
      ]
    },
    {
      "cell_type": "markdown",
      "metadata": {
        "id": "FV_dXrPF5tGi"
      },
      "source": [
        "<img width=\"65%\" src=\"https://github.com/TurkuNLP/Text_Mining_Course/raw/master/figs/relation-annotation-empty.png\">"
      ]
    },
    {
      "cell_type": "markdown",
      "metadata": {
        "id": "kwlPczXY6hmb"
      },
      "source": [
        "We would then read the text of the documents (here, sentences) and mark all applicable relations:\n",
        "\n",
        "<img width=\"65%\" src=\"https://github.com/TurkuNLP/Text_Mining_Course/raw/master/figs/relation-annotation-complete.png\">"
      ]
    },
    {
      "cell_type": "markdown",
      "metadata": {
        "id": "pUtlHlV663Ce"
      },
      "source": [
        "The annotated relations are then positive examples for machine learning:\n",
        "\n",
        "```\n",
        "founder(Bill Gates, Microsoft)\n",
        "founder(Paul Allen, Microsoft)\n",
        "employee(Steve Ballmer, Microsoft)\n",
        "```\n",
        "\n",
        "Here, we have not explicitly marked any _negative_ examples. For training machine learning methods, negatives are instead generated using the _closed world assumption_: any relation that is not explicitly present is assumed to be negative, including e.g.\n",
        "\n",
        "```\n",
        "founder(Allen, IBM)\n",
        "employee(Allen, IBM)\n",
        "owner(Allen, IBM)\n",
        "...\n",
        "founder(Steve Ballmer, Microsoft)\n",
        "owner(Steve Ballmer, Microsoft)\n",
        "```"
      ]
    },
    {
      "cell_type": "markdown",
      "metadata": {
        "id": "946fBx5s9Dp2"
      },
      "source": [
        "Alternatively, we can take a **relation-oriented** annotation approach (here using [Prodigy](https://prodi.gy/)), where the tool prompts the annotator to identify the type of relation (if any) that holds between two entities:"
      ]
    },
    {
      "cell_type": "markdown",
      "metadata": {
        "id": "WMM71dtnVJh0"
      },
      "source": [
        "<img width=\"65%\" src=\"https://github.com/TurkuNLP/Text_Mining_Course/raw/master/figs/prodigy-typed-relation-annotation.png\">"
      ]
    },
    {
      "cell_type": "markdown",
      "metadata": {
        "id": "i5JQIL0_VTlw"
      },
      "source": [
        "Here negative examples are explicitly marked by the annotator (label `NONE`). While this approach thus requires the annotator to enter a larger number of labels, individual decisions can be faster to enter, and the explicitness can help reduce errors of omission.\n",
        "\n",
        "This approach can be carried further by incorporating the type of the relation into the prompt, only asking the annotator whether a `(relation, mention-1, mention-2)` triple holds or not. In this case, the decision can be a simple binary yes/no, further accelerating the annotation process."
      ]
    },
    {
      "cell_type": "markdown",
      "metadata": {
        "id": "PKjG5UlObCZs"
      },
      "source": [
        "## Machine learning task formulation\n",
        "\n",
        "Given manually annotated examples where each consists of\n",
        "\n",
        "* Document text $d$\n",
        "* Two entity mentions in that document, $m_1$ and $m_2$\n",
        "* Relation type (e.g. `employee`) or `NONE` to signify no relation\n",
        "\n",
        "relation extraction can be formulated as a classification task by creating an representation of the mentions $m_1$ and $m_2$ in their context ($d$) as input and the relation type (or `NONE`) as output. (Note that this assumes at most one relation type holds per entity pair.)\n",
        "\n",
        "In previous state-of-the-art approaches, considerable effort was invested into creating representations of the mentions in context for ML methods, frequently involving e.g. carefully engineered representations of dependency paths.\n",
        "\n",
        "Fortunately for us, with recent Transformer-based approaches such as BERT, these representations can be simplified into marking the entities in the original text in some way, and providing the text with marked entities to the model as input.\n",
        "\n",
        "For example, given\n",
        "\n",
        "* Document text $d$ = `Bill Gates and Paul Allen founded Microsoft`\n",
        "* Mentions $m_1$ = `(0, 10, PERSON, Bill Gates)` and $m_2$ = `(34, 43, ORG, Microsoft)`\n",
        "* Relation type `founder`\n",
        "\n",
        "We could formulate the classification example e.g. as\n",
        "\n",
        "* input: `PERSON and Paul Allen founded ORGANIZATION`\n",
        "* output: `founder`\n",
        "\n",
        "Here using the literal type strings `PERSON` and `ORGANIZATION` to mark the two mentions under consideration. (Note that other mentions in context are not marked.)"
      ]
    }
  ]
}