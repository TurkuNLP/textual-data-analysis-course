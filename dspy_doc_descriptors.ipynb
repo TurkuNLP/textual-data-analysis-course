{
  "cells": [
    {
      "cell_type": "markdown",
      "metadata": {
        "id": "view-in-github",
        "colab_type": "text"
      },
      "source": [
        "<a href=\"https://colab.research.google.com/github/TurkuNLP/textual-data-analysis-course/blob/main/dspy_doc_descriptors.ipynb\" target=\"_parent\"><img src=\"https://colab.research.google.com/assets/colab-badge.svg\" alt=\"Open In Colab\"/></a>"
      ]
    },
    {
      "cell_type": "code",
      "execution_count": null,
      "id": "4d065549-a2e6-4ee5-81f9-7ced8ef7628c",
      "metadata": {
        "id": "4d065549-a2e6-4ee5-81f9-7ced8ef7628c"
      },
      "outputs": [],
      "source": [
        "import dspy\n",
        "import unicodedata\n",
        "import re\n",
        "import json\n",
        "import random\n",
        "\n",
        "#api_keys.py has a GPT4o_API_KEY variable\n",
        "from api_keys import *\n",
        "\n",
        "lm = dspy.LM('openai/gpt-4o-mini', api_key=GPT4o_API_KEY)\n",
        "dspy.configure(lm=lm)"
      ]
    },
    {
      "cell_type": "code",
      "execution_count": null,
      "id": "53f23dd4-5fa0-4f99-8f8f-8a9ee03e98b1",
      "metadata": {
        "id": "53f23dd4-5fa0-4f99-8f8f-8a9ee03e98b1",
        "outputId": "610d75fb-5425-4a31-e8bf-8b750b4af827"
      },
      "outputs": [
        {
          "name": "stdout",
          "output_type": "stream",
          "text": [
            "--2025-02-23 19:14:11--  http://dl.turkunlp.org/TKO_8964_2023/news-en-2021.jsonl\n",
            "195.148.30.23turkunlp.org (dl.turkunlp.org)... \n",
            "connected. to dl.turkunlp.org (dl.turkunlp.org)|195.148.30.23|:80... \n",
            "200 OKequest sent, awaiting response... \n",
            "Length: 3385882 (3,2M) [application/octet-stream]\n",
            "Saving to: ‘news-en-2021.jsonl.1’\n",
            "\n",
            "news-en-2021.jsonl. 100%[===================>]   3,23M  3,45MB/s    in 0,9s    \n",
            "\n",
            "2025-02-23 19:14:12 (3,45 MB/s) - ‘news-en-2021.jsonl.1’ saved [3385882/3385882]\n",
            "\n"
          ]
        }
      ],
      "source": [
        "!wget http://dl.turkunlp.org/TKO_8964_2023/news-en-2021.jsonl"
      ]
    },
    {
      "cell_type": "code",
      "execution_count": null,
      "id": "8b8ab65b-b8d4-4f0f-96ba-97e9811036a2",
      "metadata": {
        "id": "8b8ab65b-b8d4-4f0f-96ba-97e9811036a2",
        "outputId": "053300d2-0fd4-4bf2-ac5b-9783d9ef49b1"
      },
      "outputs": [
        {
          "name": "stdout",
          "output_type": "stream",
          "text": [
            "Example({'document': 'Finland\\'s government is pushing ahead with plans to introduce a Covid pass, following a meeting of ministers at the House of the Estates in Helsinki on Thursday afternoon. \\n \"There are still many open questions that need to be answered. At this point, it is impossible to promise that the pass will come or when it will come,\" Prime Minister  Sanna Marin  (SDP) told the media following the conclusion of the meeting. \\n \"The government has given the green light to the Covid pass and preparations will continue,\" Marin added. \\n Minister of Economic Affairs  Mika Lintilä  (Cen) told reporters immediately after the meeting that there was broad agreement between the coalition parties over the need for the certificate. \\n \"It [the pass] is an important tool so that we will not need restrictions any more,\" Lintilä said. \\n The government also decided at Thursday afternoon\\'s meeting to offer coronavirus vaccines to all 12- to 15-year-olds, starting as early as next week. \\n \"Fortunately, we have received an extra batch of approximately 200,000 doses of vaccine in Finland, from which these vaccinations [for 12- to 15-year-olds] can be started without interfering with other vaccination programmes,\" Marin told Yle\\'s A-studio on Wednesday evening. \\n Restrictions for bars, restaurants in spreading regions \\n Furthermore, the government will reintroduce restrictions on the opening hours and operations of bars and restaurants due to the deteriorating coronavirus situation in regions considered to be in the spreading — or most serious — phase of the epidemic. \\n This means that bars and restaurants in the regions of Southwest Finland, Pirkanmaa and Kymenlaakso, as well as the Helsinki metropolitan area, will have to adapt to new regulations that are due to take effect from Sunday. \\n The measures include the opening hours of bars being limited to between 7am and 10pm, while restaurants can stay open one hour later. A ban on karaoke and dancing indoors has also been reintroduced. \\n There will be no changes to the opening hours of bars or restaurants in regions considered to be in the acceleration phase of the pandemic. \\n Changes to external border traffic \\n The government has also decided to make changes to the restrictions on Finland\\'s external border traffic, according to the Ministry of the Interior. External border traffic refers to traffic between Finland and countries not belonging to the Schengen area. \\n The regulations currently in effect will be amended, beginning from 9 August, so that entry restrictions are removed for Ukrainian residents traveling to Finland from Ukraine. \\n Restrictions on entry will be restored for residents of Azerbaijan, South Korea, Japan, Moldova, Serbia and Singapore travelling from these countries to Finland. \\n If a person arriving from the above-mentioned countries has not received a full series of vaccinations, the permitted entry criteria are a resident returning to Finland or other EU or Schengen countries, transit of regular scheduled flight traffic at the airport, or other essential reasons. \\n A person can travel to Finland from any country by presenting an acceptable certificate of the full vaccination series. \\n These new regulations aside, the restrictions that entered into force on 19 July still apply. \\n The latest restrictions are in effect until 22 August. \\n Protesters demand \"same rules for all\" \\n A small but vocal group of protestors, representing cultural sector workers, gathered near the House of the Estates while the government meeting was ongoing to demonstrate against coronavirus restrictions, demanding a fairer distribution of measures. \\n Restrictions have hit especially hard on the cultural and event industry, with many workers in the sector unable to work for the past year and a half. At the same time, the protestors pointed out, shopping malls have been allowed to operate as normal. \\n \"Same rules for all,\" the protesters chanted.'}) (input_keys={'document'})\n"
          ]
        }
      ],
      "source": [
        "news=[]\n",
        "with open(\"news-en-2021.jsonl\") as f:\n",
        "    for line in f:\n",
        "        d=json.loads(line)\n",
        "        news.append(d)\n",
        "news_dspy=[dspy.Example(document=s[\"text\"]).with_inputs(\"document\") for s in news]\n",
        "print(news_dspy[0])\n",
        ""
      ]
    },
    {
      "cell_type": "code",
      "execution_count": null,
      "id": "c6a9d277-ff73-4d2a-a0fd-1380fbd95ccb",
      "metadata": {
        "id": "c6a9d277-ff73-4d2a-a0fd-1380fbd95ccb"
      },
      "outputs": [],
      "source": [
        "import typing\n",
        "\n",
        "class Descriptor(dspy.Signature):\n",
        "    \"\"\"Describes a document with descriptors at two levels of generality\"\"\"\n",
        "\n",
        "    document: str = dspy.InputField(desc=\"Input document\")\n",
        "    general_descriptors: list[str] = dspy.OutputField(desc=\"General-level descriptors including type and style of the document. Max 5, in order of importance.\")\n",
        "    document_specific_descriptors: list[str] = dspy.OutputField(desc=\"Document-specific descriptors. Max 10, in order of importance.\")\n",
        "\n",
        "class Reconstruct(dspy.Signature):\n",
        "    \"\"\"Reconstructs a document from the two sets of general and document-specific descriptors\"\"\"\n",
        "    general_descriptors: list[str] = dspy.InputField(desc=\"General-level descriptors\")\n",
        "    document_specific_descriptors: list[str] = dspy.InputField(desc=\"Document-specific descriptors\")\n",
        "    document: str = dspy.OutputField(desc=\"Reconstructed document\")\n",
        "\n",
        "class Compare(dspy.Signature):\n",
        "    \"\"\"Compares the semantic match between predicted and reference documents with respect to general flow, information content, etc. Gives a score from 1 (worst) to 5 (best)\"\"\"\n",
        "\n",
        "    reference_document: str = dspy.InputField(desc=\"Reference document\")\n",
        "    predicted_document: str = dspy.InputField(desc=\"Predicted document\")\n",
        "    degree_of_match: int = dspy.OutputField(desc=\"Degree of match: 1: no information preserved, useless;\\\n",
        "    2: some information preserved, not very useful; 3: substantial amount of information preserved, useful;\\\n",
        "    4: almost all critical information preserved, very useful; 5: perfect, preserving restoration.\")\n",
        "\n",
        "compare_prog=dspy.Predict(signature=Compare)\n",
        "def eval_lm(reference,system_out,trace=None):\n",
        "    p=compare_prog(reference_document=reference.document,predicted_document=system_out.reconstructed)\n",
        "    if trace is None:\n",
        "        return p.degree_of_match/5.0\n",
        "    else:\n",
        "        return p.degree_of_match>3"
      ]
    },
    {
      "cell_type": "code",
      "execution_count": null,
      "id": "081094e2-ec7d-4e0e-be28-7e80f397dd20",
      "metadata": {
        "id": "081094e2-ec7d-4e0e-be28-7e80f397dd20"
      },
      "outputs": [],
      "source": [
        "class DescribeReconstruct(dspy.Module):\n",
        "\n",
        "    def __init__(self):\n",
        "        super().__init__()\n",
        "        self.describe=dspy.ChainOfThought(signature=Descriptor)\n",
        "        self.reconstruct=dspy.ChainOfThought(signature=Reconstruct)\n",
        "\n",
        "    def forward(self, document):\n",
        "        desc_prediction=self.describe(document=document)\n",
        "        gen_d=desc_prediction.general_descriptors[:5]\n",
        "        spec_d=desc_prediction.document_specific_descriptors[:10]\n",
        "        reconstructed=self.reconstruct(general_descriptors=gen_d,\n",
        "                document_specific_descriptors=spec_d)\n",
        "        return dspy.Prediction(general_descriptors=gen_d,specific_descriptors=spec_d,reconstructed=reconstructed.document)"
      ]
    },
    {
      "cell_type": "code",
      "execution_count": null,
      "id": "95e5c8ba-74f7-4340-8a28-b458c581d575",
      "metadata": {
        "id": "95e5c8ba-74f7-4340-8a28-b458c581d575",
        "outputId": "5c1a4d6d-c419-4c1f-d218-2f47cd171bdd"
      },
      "outputs": [
        {
          "name": "stdout",
          "output_type": "stream",
          "text": [
            "Prediction(\n",
            "    general_descriptors=['news article', 'informative', 'government policy', 'public health', 'current events'],\n",
            "    specific_descriptors=['Finland', 'Covid pass', 'vaccination for adolescents', 'government meeting', 'coronavirus restrictions', 'public protests', 'cultural sector impact', 'entry restrictions', 'Helsinki', 'Sanna Marin'],\n",
            "    reconstructed='In Finland, the government is currently facing significant public scrutiny regarding its Covid pass policy and vaccination efforts for adolescents. A recent government meeting, chaired by Prime Minister Sanna Marin, addressed the ongoing coronavirus restrictions and the necessity of implementing new entry restrictions to curb the spread of the virus. \\n\\nThe meeting comes amid rising public protests against these measures, with many citizens expressing their concerns about the implications for personal freedoms and the cultural sector. The impact of these restrictions is particularly felt in Helsinki, where many cultural events have been affected. \\n\\nAs the government navigates these challenges, the balance between public health and individual rights remains a contentious issue, reflecting the broader current events surrounding the pandemic response in Finland.'\n",
            ")\n"
          ]
        }
      ],
      "source": [
        "program=DescribeReconstruct()\n",
        "prediction=program(news_dspy[0])\n",
        "print(prediction)"
      ]
    },
    {
      "cell_type": "code",
      "execution_count": null,
      "id": "8756b71e-5d19-4df2-9cc6-10f0437c9f2c",
      "metadata": {
        "id": "8756b71e-5d19-4df2-9cc6-10f0437c9f2c",
        "outputId": "addc95ac-3f8c-431f-fa62-5bc6218e7ea5"
      },
      "outputs": [
        {
          "data": {
            "text/plain": [
              "0.4"
            ]
          },
          "execution_count": 77,
          "metadata": {},
          "output_type": "execute_result"
        }
      ],
      "source": [
        "eval_lm(news_dspy[0],prediction)"
      ]
    },
    {
      "cell_type": "code",
      "execution_count": null,
      "id": "91e47bc6-8b91-4866-8e52-9b8c542001a6",
      "metadata": {
        "scrolled": true,
        "collapsed": true,
        "id": "91e47bc6-8b91-4866-8e52-9b8c542001a6",
        "outputId": "036a1479-0ccf-4e24-a1c5-418133069ed9"
      },
      "outputs": [
        {
          "name": "stderr",
          "output_type": "stream",
          "text": [
            "2025/02/23 22:04:58 INFO dspy.teleprompt.mipro_optimizer_v2: \n",
            "RUNNING WITH THE FOLLOWING MEDIUM AUTO RUN SETTINGS:\n",
            "num_trials: 25\n",
            "minibatch: False\n",
            "num_candidates: 9\n",
            "valset size: 40\n",
            "\n"
          ]
        },
        {
          "name": "stdin",
          "output_type": "stream",
          "text": [
            "\u001b[93m\u001b[1mProjected Language Model (LM) Calls\u001b[0m\n",
            "\n",
            "Based on the parameters you have set, the maximum number of LM calls is projected as follows:\n",
            "\n",
            "\u001b[93m- Prompt Generation: \u001b[94m\u001b[1m10\u001b[0m\u001b[93m data summarizer calls + \u001b[94m\u001b[1m9\u001b[0m\u001b[93m * \u001b[94m\u001b[1m2\u001b[0m\u001b[93m lm calls in program + (\u001b[94m\u001b[1m3\u001b[0m\u001b[93m) lm calls in program-aware proposer = \u001b[94m\u001b[1m31\u001b[0m\u001b[93m prompt model calls\u001b[0m\n",
            "\u001b[93m- Program Evaluation: \u001b[94m\u001b[1m40\u001b[0m\u001b[93m examples in val set * \u001b[94m\u001b[1m25\u001b[0m\u001b[93m batches = \u001b[94m\u001b[1m1000\u001b[0m\u001b[93m LM program calls\u001b[0m\n",
            "\n",
            "\u001b[93m\u001b[1mEstimated Cost Calculation:\u001b[0m\n",
            "\n",
            "\u001b[93mTotal Cost = (Number of calls to task model * (Avg Input Token Length per Call * Task Model Price per Input Token + Avg Output Token Length per Call * Task Model Price per Output Token) \n",
            "            + (Number of program calls * (Avg Input Token Length per Call * Task Prompt Price per Input Token + Avg Output Token Length per Call * Prompt Model Price per Output Token).\u001b[0m\n",
            "\n",
            "For a preliminary estimate of potential costs, we recommend you perform your own calculations based on the task\n",
            "and prompt models you intend to use. If the projected costs exceed your budget or expectations, you may consider:\n",
            "\n",
            "\u001b[93m- Reducing the number of trials (`num_trials`), the size of the valset, or the number of LM calls in your program.\u001b[0m\n",
            "\u001b[93m- Using a cheaper task model to optimize the prompt.\u001b[0m\n",
            "\u001b[93m- Setting `minibatch=True` if you haven't already.\u001b[0m\n",
            "\n",
            "To proceed with the execution of this program, please confirm by typing \u001b[94m'y'\u001b[0m for yes or \u001b[94m'n'\u001b[0m for no.\n",
            "\n",
            "If you would like to bypass this confirmation step in future executions, set the \u001b[93m`requires_permission_to_run`\u001b[0m flag to \u001b[93m`False`\u001b[0m when calling compile.\n",
            "\n",
            "\u001b[93mAwaiting your input...\u001b[0m\n",
            "\n",
            "Do you wish to continue? (y/n):  y\n"
          ]
        },
        {
          "name": "stderr",
          "output_type": "stream",
          "text": [
            "2025/02/23 22:05:03 INFO dspy.teleprompt.mipro_optimizer_v2: \n",
            "==> STEP 1: BOOTSTRAP FEWSHOT EXAMPLES <==\n",
            "2025/02/23 22:05:03 INFO dspy.teleprompt.mipro_optimizer_v2: These will be used as few-shot example candidates for our program and for creating instructions.\n",
            "\n",
            "2025/02/23 22:05:03 INFO dspy.teleprompt.mipro_optimizer_v2: Bootstrapping N=9 sets of demonstrations...\n"
          ]
        },
        {
          "name": "stdout",
          "output_type": "stream",
          "text": [
            "Bootstrapping set 1/9\n",
            "Bootstrapping set 2/9\n",
            "Bootstrapping set 3/9\n"
          ]
        },
        {
          "name": "stderr",
          "output_type": "stream",
          "text": [
            "100%|████████████████████████████████████████████████████████████████████████████████████████████████████████████████████████████████████████████████████████████████████████████████████████████████████████| 10/10 [00:09<00:00,  1.02it/s]\n"
          ]
        },
        {
          "name": "stdout",
          "output_type": "stream",
          "text": [
            "Bootstrapped 0 full traces after 9 examples for up to 1 rounds, amounting to 10 attempts.\n",
            "Bootstrapping set 4/9\n"
          ]
        },
        {
          "name": "stderr",
          "output_type": "stream",
          "text": [
            "100%|███████████████████████████████████████████████████████████████████████████████████████████████████████████████████████████████████████████████████████████████████████████████████████████████████████| 10/10 [00:00<00:00, 132.47it/s]\n"
          ]
        },
        {
          "name": "stdout",
          "output_type": "stream",
          "text": [
            "Bootstrapped 0 full traces after 9 examples for up to 1 rounds, amounting to 10 attempts.\n",
            "Bootstrapping set 5/9\n"
          ]
        },
        {
          "name": "stderr",
          "output_type": "stream",
          "text": [
            "100%|███████████████████████████████████████████████████████████████████████████████████████████████████████████████████████████████████████████████████████████████████████████████████████████████████████| 10/10 [00:00<00:00, 224.39it/s]\n"
          ]
        },
        {
          "name": "stdout",
          "output_type": "stream",
          "text": [
            "Bootstrapped 0 full traces after 9 examples for up to 1 rounds, amounting to 10 attempts.\n",
            "Bootstrapping set 6/9\n"
          ]
        },
        {
          "name": "stderr",
          "output_type": "stream",
          "text": [
            "100%|███████████████████████████████████████████████████████████████████████████████████████████████████████████████████████████████████████████████████████████████████████████████████████████████████████| 10/10 [00:00<00:00, 236.45it/s]\n"
          ]
        },
        {
          "name": "stdout",
          "output_type": "stream",
          "text": [
            "Bootstrapped 0 full traces after 9 examples for up to 1 rounds, amounting to 10 attempts.\n",
            "Bootstrapping set 7/9\n"
          ]
        },
        {
          "name": "stderr",
          "output_type": "stream",
          "text": [
            "100%|███████████████████████████████████████████████████████████████████████████████████████████████████████████████████████████████████████████████████████████████████████████████████████████████████████| 10/10 [00:00<00:00, 357.32it/s]\n"
          ]
        },
        {
          "name": "stdout",
          "output_type": "stream",
          "text": [
            "Bootstrapped 0 full traces after 9 examples for up to 1 rounds, amounting to 10 attempts.\n",
            "Bootstrapping set 8/9\n"
          ]
        },
        {
          "name": "stderr",
          "output_type": "stream",
          "text": [
            "100%|███████████████████████████████████████████████████████████████████████████████████████████████████████████████████████████████████████████████████████████████████████████████████████████████████████| 10/10 [00:00<00:00, 390.07it/s]\n"
          ]
        },
        {
          "name": "stdout",
          "output_type": "stream",
          "text": [
            "Bootstrapped 0 full traces after 9 examples for up to 1 rounds, amounting to 10 attempts.\n",
            "Bootstrapping set 9/9\n"
          ]
        },
        {
          "name": "stderr",
          "output_type": "stream",
          "text": [
            "100%|███████████████████████████████████████████████████████████████████████████████████████████████████████████████████████████████████████████████████████████████████████████████████████████████████████| 10/10 [00:00<00:00, 445.34it/s]\n",
            "2025/02/23 22:05:13 INFO dspy.teleprompt.mipro_optimizer_v2: \n",
            "==> STEP 2: PROPOSE INSTRUCTION CANDIDATES <==\n",
            "2025/02/23 22:05:13 INFO dspy.teleprompt.mipro_optimizer_v2: We will use the few-shot examples from the previous step, a generated dataset summary, a summary of the program code, and a randomly selected prompting tip to propose instructions.\n",
            "2025/02/23 22:05:13 INFO dspy.teleprompt.mipro_optimizer_v2: \n",
            "Proposing instructions...\n",
            "\n"
          ]
        },
        {
          "name": "stdout",
          "output_type": "stream",
          "text": [
            "Bootstrapped 0 full traces after 9 examples for up to 1 rounds, amounting to 10 attempts.\n"
          ]
        },
        {
          "name": "stderr",
          "output_type": "stream",
          "text": [
            "2025/02/23 22:05:13 INFO dspy.teleprompt.mipro_optimizer_v2: Proposed Instructions for Predictor 0:\n",
            "\n",
            "2025/02/23 22:05:13 INFO dspy.teleprompt.mipro_optimizer_v2: 0: Describes a document with descriptors at two levels of generality\n",
            "\n",
            "2025/02/23 22:05:13 INFO dspy.teleprompt.mipro_optimizer_v2: 1: Analyze the provided document to generate a comprehensive set of descriptors that capture both its general characteristics and specific details. Use these descriptors to reconstruct the document, ensuring that the essence and key themes are accurately reflected in the output.\n",
            "\n",
            "2025/02/23 22:05:13 INFO dspy.teleprompt.mipro_optimizer_v2: 2: Imagine you are an analyst tasked with evaluating the impact of the Covid-19 pandemic on Finnish society. You have a document that outlines various social and public health issues arising from the pandemic, including government measures, economic challenges, and community responses. Your goal is to thoroughly analyze this document and provide a detailed description using two levels of descriptors: general descriptors that summarize the overall type and style of the document, and specific descriptors that capture unique characteristics. Use your reasoning skills to articulate the insights derived from the document and ensure that your descriptors are comprehensive and accurate. This analysis will be crucial for informing policy decisions and community support strategies.\n",
            "\n",
            "2025/02/23 22:05:13 INFO dspy.teleprompt.mipro_optimizer_v2: 3: Analyze the provided document by generating a comprehensive set of descriptors. First, create a list of up to five general descriptors that categorize the document at a high level, focusing on its type and style. Next, develop a list of up to ten document-specific descriptors that detail the unique characteristics of the document. Finally, provide a reasoning statement that reflects the thought process behind your analysis, ensuring that the descriptors accurately represent the content of the document.\n",
            "\n",
            "2025/02/23 22:05:13 INFO dspy.teleprompt.mipro_optimizer_v2: 4: Analyze the provided document to generate general descriptors that categorize its type and style, as well as document-specific descriptors that highlight its unique characteristics. Provide a reasoning output that explains the analysis process step by step.\n",
            "\n",
            "2025/02/23 22:05:13 INFO dspy.teleprompt.mipro_optimizer_v2: 5: Analyze the provided document by generating a structured description that includes reasoning, along with two sets of descriptors: general descriptors summarizing the document's type and style, and document-specific descriptors detailing its characteristics.\n",
            "\n",
            "2025/02/23 22:05:13 INFO dspy.teleprompt.mipro_optimizer_v2: 6: Analyze the provided document by generating a comprehensive set of descriptors. First, categorize the document at a general level, focusing on its type and style, and create up to five general descriptors that encapsulate its essence. Next, delve into the specifics of the document's content to produce up to ten document-specific descriptors that highlight key themes and details. Finally, articulate your reasoning throughout this process to ensure clarity and coherence in both the descriptors and the understanding of the document's content.\n",
            "\n",
            "2025/02/23 22:05:13 INFO dspy.teleprompt.mipro_optimizer_v2: 7: Analyze the given document to generate both general descriptors that characterize its type and style, and specific descriptors that highlight its unique features. Then, reconstruct a coherent version of the document based on these descriptors, providing reasoning for the choices made during the analysis and reconstruction process.\n",
            "\n",
            "2025/02/23 22:05:13 INFO dspy.teleprompt.mipro_optimizer_v2: 8: Analyze the given document to extract and generate both general and document-specific descriptors, providing reasoning for the descriptors and reconstructing the document based on these insights.\n",
            "\n",
            "2025/02/23 22:05:13 INFO dspy.teleprompt.mipro_optimizer_v2: \n",
            "\n",
            "2025/02/23 22:05:13 INFO dspy.teleprompt.mipro_optimizer_v2: Proposed Instructions for Predictor 1:\n",
            "\n",
            "2025/02/23 22:05:13 INFO dspy.teleprompt.mipro_optimizer_v2: 0: Reconstructs a document from the two sets of general and document-specific descriptors\n",
            "\n",
            "2025/02/23 22:05:13 INFO dspy.teleprompt.mipro_optimizer_v2: 1: Imagine you are tasked with reconstructing a crucial government report on the social impacts of the Covid-19 pandemic in Finland. This report is vital for policymakers and public health officials to understand community responses and economic challenges. You have been provided with two sets of descriptors: general descriptors that outline the type and style of the document, and specific descriptors that detail its key content aspects. Your goal is to synthesize these descriptors into a coherent and comprehensive document that accurately reflects the original report. Please follow the reasoning process step by step to ensure that the reconstruction is precise and informative.\n",
            "\n",
            "2025/02/23 22:05:13 INFO dspy.teleprompt.mipro_optimizer_v2: 2: Using the provided general descriptors and document-specific descriptors, reconstruct a coherent and relevant version of the original document. Ensure that the output reflects the key characteristics highlighted by the descriptors, and articulate the reasoning behind your reconstruction process step by step.\n",
            "\n",
            "2025/02/23 22:05:13 INFO dspy.teleprompt.mipro_optimizer_v2: 3: Using the provided general descriptors and document-specific descriptors, reconstruct the original document while explaining your reasoning step by step. Ensure that the reconstructed document accurately reflects the insights derived from the descriptors, highlighting the key themes and details that define the content.\n",
            "\n",
            "2025/02/23 22:05:13 INFO dspy.teleprompt.mipro_optimizer_v2: 4: Using the provided general descriptors and document-specific descriptors, reconstruct a coherent document that accurately reflects the content and characteristics of the original input. Ensure to include reasoning for your reconstruction process.\n",
            "\n",
            "2025/02/23 22:05:13 INFO dspy.teleprompt.mipro_optimizer_v2: 5: Utilize the provided general and document-specific descriptors to creatively reconstruct the original document, ensuring that the reasoning behind your reconstruction is clearly articulated and that the final output accurately reflects the essence of the input descriptors.\n",
            "\n",
            "2025/02/23 22:05:13 INFO dspy.teleprompt.mipro_optimizer_v2: 6: Using the general descriptors and document-specific descriptors provided, reconstruct a coherent document that accurately reflects the content and intent of the descriptors. Please include detailed reasoning that explains how each descriptor contributes to the overall understanding of the document. Ensure that the reconstructed document maintains a logical flow and captures the essence of the original content.\n",
            "\n",
            "2025/02/23 22:05:13 INFO dspy.teleprompt.mipro_optimizer_v2: 7: In a high-stakes scenario where accurate communication is critical, you are tasked with reconstructing a document that addresses the complex social and public health issues arising from the Covid-19 pandemic in Finland. Using the provided general descriptors that categorize the document by type and style, along with the document-specific descriptors that highlight unique aspects, reconstruct the original document. Ensure to articulate your reasoning step-by-step as you explain how the descriptors informed your reconstruction. This task is essential for facilitating informed discussions on health equity and community resilience in Finnish society.\n",
            "\n",
            "2025/02/23 22:05:13 INFO dspy.teleprompt.mipro_optimizer_v2: 8: You are a document analyst tasked with reconstructing a coherent document based on the provided general descriptors and document-specific descriptors. Utilize these descriptors to synthesize a text that accurately reflects the essence of the original document, and provide reasoning that explains your thought process in the reconstruction.\n",
            "\n",
            "2025/02/23 22:05:13 INFO dspy.teleprompt.mipro_optimizer_v2: \n",
            "\n",
            "2025/02/23 22:05:13 INFO dspy.teleprompt.mipro_optimizer_v2: ==> STEP 3: FINDING OPTIMAL PROMPT PARAMETERS <==\n",
            "2025/02/23 22:05:13 INFO dspy.teleprompt.mipro_optimizer_v2: We will evaluate the program over a series of trials with different combinations of instructions and few-shot examples to find the optimal combination using Bayesian Optimization.\n",
            "\n",
            "2025/02/23 22:05:13 INFO dspy.teleprompt.mipro_optimizer_v2: == Trial 1 / 25 - Full Evaluation of Default Program ==\n"
          ]
        },
        {
          "name": "stdout",
          "output_type": "stream",
          "text": [
            "Average Metric: 18.00 / 40 (45.0%): 100%|████████████████████████████████████████████████████████████████████████████████████████████████████████████████████████████████████████████████████████████████████| 40/40 [00:06<00:00,  6.27it/s]"
          ]
        },
        {
          "name": "stderr",
          "output_type": "stream",
          "text": [
            "2025/02/23 22:05:19 INFO dspy.evaluate.evaluate: Average Metric: 18.0 / 40 (45.0%)\n",
            "2025/02/23 22:05:19 INFO dspy.teleprompt.mipro_optimizer_v2: Default program score: 45.0\n",
            "\n",
            "2025/02/23 22:05:19 INFO dspy.teleprompt.mipro_optimizer_v2: ===== Trial 2 / 25 =====\n"
          ]
        },
        {
          "name": "stdout",
          "output_type": "stream",
          "text": [
            "\n",
            "Average Metric: 18.80 / 40 (47.0%): 100%|████████████████████████████████████████████████████████████████████████████████████████████████████████████████████████████████████████████████████████████████████| 40/40 [00:05<00:00,  6.96it/s]"
          ]
        },
        {
          "name": "stderr",
          "output_type": "stream",
          "text": [
            "2025/02/23 22:05:25 INFO dspy.evaluate.evaluate: Average Metric: 18.8 / 40 (47.0%)\n",
            "2025/02/23 22:05:25 INFO dspy.teleprompt.mipro_optimizer_v2: \u001b[92mBest full score so far!\u001b[0m Score: 47.0\n",
            "2025/02/23 22:05:25 INFO dspy.teleprompt.mipro_optimizer_v2: Score: 47.0 with parameters ['Predictor 0: Instruction 1', 'Predictor 0: Few-Shot Set 3', 'Predictor 1: Instruction 8', 'Predictor 1: Few-Shot Set 5'].\n",
            "2025/02/23 22:05:25 INFO dspy.teleprompt.mipro_optimizer_v2: Scores so far: [45.0, 47.0]\n",
            "2025/02/23 22:05:25 INFO dspy.teleprompt.mipro_optimizer_v2: Best score so far: 47.0\n",
            "2025/02/23 22:05:25 INFO dspy.teleprompt.mipro_optimizer_v2: ========================\n",
            "\n",
            "\n",
            "2025/02/23 22:05:25 INFO dspy.teleprompt.mipro_optimizer_v2: ===== Trial 3 / 25 =====\n"
          ]
        },
        {
          "name": "stdout",
          "output_type": "stream",
          "text": [
            "\n",
            "Average Metric: 17.60 / 40 (44.0%): 100%|████████████████████████████████████████████████████████████████████████████████████████████████████████████████████████████████████████████████████████████████████| 40/40 [00:06<00:00,  6.25it/s]"
          ]
        },
        {
          "name": "stderr",
          "output_type": "stream",
          "text": [
            "2025/02/23 22:05:32 INFO dspy.evaluate.evaluate: Average Metric: 17.6 / 40 (44.0%)\n",
            "2025/02/23 22:05:32 INFO dspy.teleprompt.mipro_optimizer_v2: Score: 44.0 with parameters ['Predictor 0: Instruction 0', 'Predictor 0: Few-Shot Set 3', 'Predictor 1: Instruction 8', 'Predictor 1: Few-Shot Set 1'].\n",
            "2025/02/23 22:05:32 INFO dspy.teleprompt.mipro_optimizer_v2: Scores so far: [45.0, 47.0, 44.0]\n",
            "2025/02/23 22:05:32 INFO dspy.teleprompt.mipro_optimizer_v2: Best score so far: 47.0\n",
            "2025/02/23 22:05:32 INFO dspy.teleprompt.mipro_optimizer_v2: ========================\n",
            "\n",
            "\n",
            "2025/02/23 22:05:32 INFO dspy.teleprompt.mipro_optimizer_v2: ===== Trial 4 / 25 =====\n"
          ]
        },
        {
          "name": "stdout",
          "output_type": "stream",
          "text": [
            "\n",
            "Average Metric: 18.20 / 40 (45.5%): 100%|████████████████████████████████████████████████████████████████████████████████████████████████████████████████████████████████████████████████████████████████████| 40/40 [00:05<00:00,  7.70it/s]"
          ]
        },
        {
          "name": "stderr",
          "output_type": "stream",
          "text": [
            "2025/02/23 22:05:37 INFO dspy.evaluate.evaluate: Average Metric: 18.2 / 40 (45.5%)\n",
            "2025/02/23 22:05:37 INFO dspy.teleprompt.mipro_optimizer_v2: Score: 45.5 with parameters ['Predictor 0: Instruction 8', 'Predictor 0: Few-Shot Set 2', 'Predictor 1: Instruction 8', 'Predictor 1: Few-Shot Set 3'].\n",
            "2025/02/23 22:05:37 INFO dspy.teleprompt.mipro_optimizer_v2: Scores so far: [45.0, 47.0, 44.0, 45.5]\n",
            "2025/02/23 22:05:37 INFO dspy.teleprompt.mipro_optimizer_v2: Best score so far: 47.0\n",
            "2025/02/23 22:05:37 INFO dspy.teleprompt.mipro_optimizer_v2: ========================\n",
            "\n",
            "\n",
            "2025/02/23 22:05:37 INFO dspy.teleprompt.mipro_optimizer_v2: ===== Trial 5 / 25 =====\n"
          ]
        },
        {
          "name": "stdout",
          "output_type": "stream",
          "text": [
            "\n",
            "Average Metric: 19.40 / 40 (48.5%): 100%|████████████████████████████████████████████████████████████████████████████████████████████████████████████████████████████████████████████████████████████████████| 40/40 [00:05<00:00,  6.72it/s]"
          ]
        },
        {
          "name": "stderr",
          "output_type": "stream",
          "text": [
            "2025/02/23 22:05:43 INFO dspy.evaluate.evaluate: Average Metric: 19.4 / 40 (48.5%)\n",
            "2025/02/23 22:05:43 INFO dspy.teleprompt.mipro_optimizer_v2: \u001b[92mBest full score so far!\u001b[0m Score: 48.5\n",
            "2025/02/23 22:05:43 INFO dspy.teleprompt.mipro_optimizer_v2: Score: 48.5 with parameters ['Predictor 0: Instruction 5', 'Predictor 0: Few-Shot Set 4', 'Predictor 1: Instruction 3', 'Predictor 1: Few-Shot Set 0'].\n",
            "2025/02/23 22:05:43 INFO dspy.teleprompt.mipro_optimizer_v2: Scores so far: [45.0, 47.0, 44.0, 45.5, 48.5]\n",
            "2025/02/23 22:05:43 INFO dspy.teleprompt.mipro_optimizer_v2: Best score so far: 48.5\n",
            "2025/02/23 22:05:43 INFO dspy.teleprompt.mipro_optimizer_v2: ========================\n",
            "\n",
            "\n",
            "2025/02/23 22:05:43 INFO dspy.teleprompt.mipro_optimizer_v2: ===== Trial 6 / 25 =====\n"
          ]
        },
        {
          "name": "stdout",
          "output_type": "stream",
          "text": [
            "\n",
            "Average Metric: 18.40 / 40 (46.0%): 100%|████████████████████████████████████████████████████████████████████████████████████████████████████████████████████████████████████████████████████████████████████| 40/40 [00:11<00:00,  3.51it/s]"
          ]
        },
        {
          "name": "stderr",
          "output_type": "stream",
          "text": [
            "2025/02/23 22:05:54 INFO dspy.evaluate.evaluate: Average Metric: 18.400000000000002 / 40 (46.0%)\n",
            "2025/02/23 22:05:54 INFO dspy.teleprompt.mipro_optimizer_v2: Score: 46.0 with parameters ['Predictor 0: Instruction 3', 'Predictor 0: Few-Shot Set 7', 'Predictor 1: Instruction 0', 'Predictor 1: Few-Shot Set 6'].\n",
            "2025/02/23 22:05:54 INFO dspy.teleprompt.mipro_optimizer_v2: Scores so far: [45.0, 47.0, 44.0, 45.5, 48.5, 46.0]\n",
            "2025/02/23 22:05:54 INFO dspy.teleprompt.mipro_optimizer_v2: Best score so far: 48.5\n",
            "2025/02/23 22:05:54 INFO dspy.teleprompt.mipro_optimizer_v2: ========================\n",
            "\n",
            "\n",
            "2025/02/23 22:05:54 INFO dspy.teleprompt.mipro_optimizer_v2: ===== Trial 7 / 25 =====\n"
          ]
        },
        {
          "name": "stdout",
          "output_type": "stream",
          "text": [
            "\n",
            "Average Metric: 19.00 / 40 (47.5%): 100%|████████████████████████████████████████████████████████████████████████████████████████████████████████████████████████████████████████████████████████████████████| 40/40 [00:05<00:00,  7.37it/s]"
          ]
        },
        {
          "name": "stderr",
          "output_type": "stream",
          "text": [
            "2025/02/23 22:06:00 INFO dspy.evaluate.evaluate: Average Metric: 19.0 / 40 (47.5%)\n",
            "2025/02/23 22:06:00 INFO dspy.teleprompt.mipro_optimizer_v2: Score: 47.5 with parameters ['Predictor 0: Instruction 4', 'Predictor 0: Few-Shot Set 0', 'Predictor 1: Instruction 7', 'Predictor 1: Few-Shot Set 3'].\n",
            "2025/02/23 22:06:00 INFO dspy.teleprompt.mipro_optimizer_v2: Scores so far: [45.0, 47.0, 44.0, 45.5, 48.5, 46.0, 47.5]\n",
            "2025/02/23 22:06:00 INFO dspy.teleprompt.mipro_optimizer_v2: Best score so far: 48.5\n",
            "2025/02/23 22:06:00 INFO dspy.teleprompt.mipro_optimizer_v2: ========================\n",
            "\n",
            "\n",
            "2025/02/23 22:06:00 INFO dspy.teleprompt.mipro_optimizer_v2: ===== Trial 8 / 25 =====\n"
          ]
        },
        {
          "name": "stdout",
          "output_type": "stream",
          "text": [
            "\n",
            "Average Metric: 18.80 / 40 (47.0%): 100%|████████████████████████████████████████████████████████████████████████████████████████████████████████████████████████████████████████████████████████████████████| 40/40 [00:06<00:00,  6.49it/s]"
          ]
        },
        {
          "name": "stderr",
          "output_type": "stream",
          "text": [
            "2025/02/23 22:06:06 INFO dspy.evaluate.evaluate: Average Metric: 18.8 / 40 (47.0%)\n",
            "2025/02/23 22:06:06 INFO dspy.teleprompt.mipro_optimizer_v2: Score: 47.0 with parameters ['Predictor 0: Instruction 8', 'Predictor 0: Few-Shot Set 7', 'Predictor 1: Instruction 1', 'Predictor 1: Few-Shot Set 3'].\n",
            "2025/02/23 22:06:06 INFO dspy.teleprompt.mipro_optimizer_v2: Scores so far: [45.0, 47.0, 44.0, 45.5, 48.5, 46.0, 47.5, 47.0]\n",
            "2025/02/23 22:06:06 INFO dspy.teleprompt.mipro_optimizer_v2: Best score so far: 48.5\n",
            "2025/02/23 22:06:06 INFO dspy.teleprompt.mipro_optimizer_v2: ========================\n",
            "\n",
            "\n",
            "2025/02/23 22:06:06 INFO dspy.teleprompt.mipro_optimizer_v2: ===== Trial 9 / 25 =====\n"
          ]
        },
        {
          "name": "stdout",
          "output_type": "stream",
          "text": [
            "\n",
            "Average Metric: 18.80 / 40 (47.0%): 100%|████████████████████████████████████████████████████████████████████████████████████████████████████████████████████████████████████████████████████████████████████| 40/40 [00:05<00:00,  7.96it/s]"
          ]
        },
        {
          "name": "stderr",
          "output_type": "stream",
          "text": [
            "2025/02/23 22:06:11 INFO dspy.evaluate.evaluate: Average Metric: 18.8 / 40 (47.0%)\n",
            "2025/02/23 22:06:11 INFO dspy.teleprompt.mipro_optimizer_v2: Score: 47.0 with parameters ['Predictor 0: Instruction 7', 'Predictor 0: Few-Shot Set 3', 'Predictor 1: Instruction 7', 'Predictor 1: Few-Shot Set 0'].\n",
            "2025/02/23 22:06:11 INFO dspy.teleprompt.mipro_optimizer_v2: Scores so far: [45.0, 47.0, 44.0, 45.5, 48.5, 46.0, 47.5, 47.0, 47.0]\n",
            "2025/02/23 22:06:11 INFO dspy.teleprompt.mipro_optimizer_v2: Best score so far: 48.5\n",
            "2025/02/23 22:06:11 INFO dspy.teleprompt.mipro_optimizer_v2: ========================\n",
            "\n",
            "\n",
            "2025/02/23 22:06:11 INFO dspy.teleprompt.mipro_optimizer_v2: ===== Trial 10 / 25 =====\n"
          ]
        },
        {
          "name": "stdout",
          "output_type": "stream",
          "text": [
            "\n",
            "Average Metric: 19.60 / 40 (49.0%): 100%|████████████████████████████████████████████████████████████████████████████████████████████████████████████████████████████████████████████████████████████████████| 40/40 [00:07<00:00,  5.55it/s]"
          ]
        },
        {
          "name": "stderr",
          "output_type": "stream",
          "text": [
            "2025/02/23 22:06:19 INFO dspy.evaluate.evaluate: Average Metric: 19.6 / 40 (49.0%)\n",
            "2025/02/23 22:06:19 INFO dspy.teleprompt.mipro_optimizer_v2: \u001b[92mBest full score so far!\u001b[0m Score: 49.0\n",
            "2025/02/23 22:06:19 INFO dspy.teleprompt.mipro_optimizer_v2: Score: 49.0 with parameters ['Predictor 0: Instruction 2', 'Predictor 0: Few-Shot Set 1', 'Predictor 1: Instruction 3', 'Predictor 1: Few-Shot Set 7'].\n",
            "2025/02/23 22:06:19 INFO dspy.teleprompt.mipro_optimizer_v2: Scores so far: [45.0, 47.0, 44.0, 45.5, 48.5, 46.0, 47.5, 47.0, 47.0, 49.0]\n",
            "2025/02/23 22:06:19 INFO dspy.teleprompt.mipro_optimizer_v2: Best score so far: 49.0\n",
            "2025/02/23 22:06:19 INFO dspy.teleprompt.mipro_optimizer_v2: =========================\n",
            "\n",
            "\n",
            "2025/02/23 22:06:19 INFO dspy.teleprompt.mipro_optimizer_v2: ===== Trial 11 / 25 =====\n"
          ]
        },
        {
          "name": "stdout",
          "output_type": "stream",
          "text": [
            "\n",
            "Average Metric: 20.00 / 40 (50.0%): 100%|████████████████████████████████████████████████████████████████████████████████████████████████████████████████████████████████████████████████████████████████████| 40/40 [01:08<00:00,  1.71s/it]"
          ]
        },
        {
          "name": "stderr",
          "output_type": "stream",
          "text": [
            "2025/02/23 22:07:27 INFO dspy.evaluate.evaluate: Average Metric: 20.0 / 40 (50.0%)\n",
            "2025/02/23 22:07:27 INFO dspy.teleprompt.mipro_optimizer_v2: \u001b[92mBest full score so far!\u001b[0m Score: 50.0\n",
            "2025/02/23 22:07:27 INFO dspy.teleprompt.mipro_optimizer_v2: Score: 50.0 with parameters ['Predictor 0: Instruction 5', 'Predictor 0: Few-Shot Set 1', 'Predictor 1: Instruction 6', 'Predictor 1: Few-Shot Set 7'].\n",
            "2025/02/23 22:07:27 INFO dspy.teleprompt.mipro_optimizer_v2: Scores so far: [45.0, 47.0, 44.0, 45.5, 48.5, 46.0, 47.5, 47.0, 47.0, 49.0, 50.0]\n",
            "2025/02/23 22:07:27 INFO dspy.teleprompt.mipro_optimizer_v2: Best score so far: 50.0\n",
            "2025/02/23 22:07:27 INFO dspy.teleprompt.mipro_optimizer_v2: =========================\n",
            "\n",
            "\n",
            "2025/02/23 22:07:27 INFO dspy.teleprompt.mipro_optimizer_v2: ===== Trial 12 / 25 =====\n"
          ]
        },
        {
          "name": "stdout",
          "output_type": "stream",
          "text": [
            "\n",
            "Average Metric: 18.20 / 40 (45.5%): 100%|████████████████████████████████████████████████████████████████████████████████████████████████████████████████████████████████████████████████████████████████████| 40/40 [01:15<00:00,  1.88s/it]"
          ]
        },
        {
          "name": "stderr",
          "output_type": "stream",
          "text": [
            "2025/02/23 22:08:42 INFO dspy.evaluate.evaluate: Average Metric: 18.2 / 40 (45.5%)\n",
            "2025/02/23 22:08:42 INFO dspy.teleprompt.mipro_optimizer_v2: Score: 45.5 with parameters ['Predictor 0: Instruction 2', 'Predictor 0: Few-Shot Set 1', 'Predictor 1: Instruction 1', 'Predictor 1: Few-Shot Set 7'].\n",
            "2025/02/23 22:08:42 INFO dspy.teleprompt.mipro_optimizer_v2: Scores so far: [45.0, 47.0, 44.0, 45.5, 48.5, 46.0, 47.5, 47.0, 47.0, 49.0, 50.0, 45.5]\n",
            "2025/02/23 22:08:42 INFO dspy.teleprompt.mipro_optimizer_v2: Best score so far: 50.0\n",
            "2025/02/23 22:08:42 INFO dspy.teleprompt.mipro_optimizer_v2: =========================\n",
            "\n",
            "\n",
            "2025/02/23 22:08:42 INFO dspy.teleprompt.mipro_optimizer_v2: ===== Trial 13 / 25 =====\n"
          ]
        },
        {
          "name": "stdout",
          "output_type": "stream",
          "text": [
            "\n",
            "Average Metric: 21.40 / 40 (53.5%): 100%|████████████████████████████████████████████████████████████████████████████████████████████████████████████████████████████████████████████████████████████████████| 40/40 [01:32<00:00,  2.32s/it]"
          ]
        },
        {
          "name": "stderr",
          "output_type": "stream",
          "text": [
            "2025/02/23 22:10:15 INFO dspy.evaluate.evaluate: Average Metric: 21.4 / 40 (53.5%)\n",
            "2025/02/23 22:10:15 INFO dspy.teleprompt.mipro_optimizer_v2: \u001b[92mBest full score so far!\u001b[0m Score: 53.5\n",
            "2025/02/23 22:10:15 INFO dspy.teleprompt.mipro_optimizer_v2: Score: 53.5 with parameters ['Predictor 0: Instruction 6', 'Predictor 0: Few-Shot Set 8', 'Predictor 1: Instruction 6', 'Predictor 1: Few-Shot Set 7'].\n",
            "2025/02/23 22:10:15 INFO dspy.teleprompt.mipro_optimizer_v2: Scores so far: [45.0, 47.0, 44.0, 45.5, 48.5, 46.0, 47.5, 47.0, 47.0, 49.0, 50.0, 45.5, 53.5]\n",
            "2025/02/23 22:10:15 INFO dspy.teleprompt.mipro_optimizer_v2: Best score so far: 53.5\n",
            "2025/02/23 22:10:15 INFO dspy.teleprompt.mipro_optimizer_v2: =========================\n",
            "\n",
            "\n",
            "2025/02/23 22:10:15 INFO dspy.teleprompt.mipro_optimizer_v2: ===== Trial 14 / 25 =====\n"
          ]
        },
        {
          "name": "stdout",
          "output_type": "stream",
          "text": [
            "\n",
            "Average Metric: 20.00 / 40 (50.0%): 100%|██████████████████████████████████████████████████████████████████████████████████████████████████████████████████████████████████████████████████████████████████| 40/40 [00:00<00:00, 1828.22it/s]"
          ]
        },
        {
          "name": "stderr",
          "output_type": "stream",
          "text": [
            "2025/02/23 22:10:15 INFO dspy.evaluate.evaluate: Average Metric: 20.0 / 40 (50.0%)\n",
            "2025/02/23 22:10:15 INFO dspy.teleprompt.mipro_optimizer_v2: Score: 50.0 with parameters ['Predictor 0: Instruction 5', 'Predictor 0: Few-Shot Set 2', 'Predictor 1: Instruction 6', 'Predictor 1: Few-Shot Set 7'].\n",
            "2025/02/23 22:10:15 INFO dspy.teleprompt.mipro_optimizer_v2: Scores so far: [45.0, 47.0, 44.0, 45.5, 48.5, 46.0, 47.5, 47.0, 47.0, 49.0, 50.0, 45.5, 53.5, 50.0]\n",
            "2025/02/23 22:10:15 INFO dspy.teleprompt.mipro_optimizer_v2: Best score so far: 53.5\n",
            "2025/02/23 22:10:15 INFO dspy.teleprompt.mipro_optimizer_v2: =========================\n",
            "\n",
            "\n",
            "2025/02/23 22:10:15 INFO dspy.teleprompt.mipro_optimizer_v2: ===== Trial 15 / 25 =====\n"
          ]
        },
        {
          "name": "stdout",
          "output_type": "stream",
          "text": [
            "\n",
            "Average Metric: 19.60 / 40 (49.0%): 100%|████████████████████████████████████████████████████████████████████████████████████████████████████████████████████████████████████████████████████████████████████| 40/40 [00:46<00:00,  1.17s/it]"
          ]
        },
        {
          "name": "stderr",
          "output_type": "stream",
          "text": [
            "2025/02/23 22:11:02 INFO dspy.evaluate.evaluate: Average Metric: 19.6 / 40 (49.0%)\n",
            "2025/02/23 22:11:02 INFO dspy.teleprompt.mipro_optimizer_v2: Score: 49.0 with parameters ['Predictor 0: Instruction 6', 'Predictor 0: Few-Shot Set 8', 'Predictor 1: Instruction 0', 'Predictor 1: Few-Shot Set 4'].\n",
            "2025/02/23 22:11:02 INFO dspy.teleprompt.mipro_optimizer_v2: Scores so far: [45.0, 47.0, 44.0, 45.5, 48.5, 46.0, 47.5, 47.0, 47.0, 49.0, 50.0, 45.5, 53.5, 50.0, 49.0]\n",
            "2025/02/23 22:11:02 INFO dspy.teleprompt.mipro_optimizer_v2: Best score so far: 53.5\n",
            "2025/02/23 22:11:02 INFO dspy.teleprompt.mipro_optimizer_v2: =========================\n",
            "\n",
            "\n",
            "2025/02/23 22:11:02 INFO dspy.teleprompt.mipro_optimizer_v2: ===== Trial 16 / 25 =====\n"
          ]
        },
        {
          "name": "stdout",
          "output_type": "stream",
          "text": [
            "\n",
            "Average Metric: 21.40 / 40 (53.5%): 100%|██████████████████████████████████████████████████████████████████████████████████████████████████████████████████████████████████████████████████████████████████| 40/40 [00:00<00:00, 2817.29it/s]"
          ]
        },
        {
          "name": "stderr",
          "output_type": "stream",
          "text": [
            "2025/02/23 22:11:03 INFO dspy.evaluate.evaluate: Average Metric: 21.4 / 40 (53.5%)\n"
          ]
        },
        {
          "name": "stdout",
          "output_type": "stream",
          "text": [
            "\n"
          ]
        },
        {
          "name": "stderr",
          "output_type": "stream",
          "text": [
            "2025/02/23 22:11:03 INFO dspy.teleprompt.mipro_optimizer_v2: Score: 53.5 with parameters ['Predictor 0: Instruction 6', 'Predictor 0: Few-Shot Set 6', 'Predictor 1: Instruction 6', 'Predictor 1: Few-Shot Set 2'].\n",
            "2025/02/23 22:11:03 INFO dspy.teleprompt.mipro_optimizer_v2: Scores so far: [45.0, 47.0, 44.0, 45.5, 48.5, 46.0, 47.5, 47.0, 47.0, 49.0, 50.0, 45.5, 53.5, 50.0, 49.0, 53.5]\n",
            "2025/02/23 22:11:03 INFO dspy.teleprompt.mipro_optimizer_v2: Best score so far: 53.5\n",
            "2025/02/23 22:11:03 INFO dspy.teleprompt.mipro_optimizer_v2: =========================\n",
            "\n",
            "\n",
            "2025/02/23 22:11:03 INFO dspy.teleprompt.mipro_optimizer_v2: ===== Trial 17 / 25 =====\n"
          ]
        },
        {
          "name": "stdout",
          "output_type": "stream",
          "text": [
            "Average Metric: 21.20 / 40 (53.0%): 100%|████████████████████████████████████████████████████████████████████████████████████████████████████████████████████████████████████████████████████████████████████| 40/40 [00:59<00:00,  1.49s/it]"
          ]
        },
        {
          "name": "stderr",
          "output_type": "stream",
          "text": [
            "2025/02/23 22:12:02 INFO dspy.evaluate.evaluate: Average Metric: 21.2 / 40 (53.0%)\n",
            "2025/02/23 22:12:02 INFO dspy.teleprompt.mipro_optimizer_v2: Score: 53.0 with parameters ['Predictor 0: Instruction 6', 'Predictor 0: Few-Shot Set 6', 'Predictor 1: Instruction 4', 'Predictor 1: Few-Shot Set 2'].\n",
            "2025/02/23 22:12:02 INFO dspy.teleprompt.mipro_optimizer_v2: Scores so far: [45.0, 47.0, 44.0, 45.5, 48.5, 46.0, 47.5, 47.0, 47.0, 49.0, 50.0, 45.5, 53.5, 50.0, 49.0, 53.5, 53.0]\n",
            "2025/02/23 22:12:02 INFO dspy.teleprompt.mipro_optimizer_v2: Best score so far: 53.5\n",
            "2025/02/23 22:12:02 INFO dspy.teleprompt.mipro_optimizer_v2: =========================\n",
            "\n",
            "\n",
            "2025/02/23 22:12:02 INFO dspy.teleprompt.mipro_optimizer_v2: ===== Trial 18 / 25 =====\n"
          ]
        },
        {
          "name": "stdout",
          "output_type": "stream",
          "text": [
            "\n",
            "Average Metric: 21.40 / 40 (53.5%): 100%|██████████████████████████████████████████████████████████████████████████████████████████████████████████████████████████████████████████████████████████████████| 40/40 [00:00<00:00, 3343.21it/s]"
          ]
        },
        {
          "name": "stderr",
          "output_type": "stream",
          "text": [
            "2025/02/23 22:12:03 INFO dspy.evaluate.evaluate: Average Metric: 21.4 / 40 (53.5%)\n",
            "2025/02/23 22:12:03 INFO dspy.teleprompt.mipro_optimizer_v2: Score: 53.5 with parameters ['Predictor 0: Instruction 6', 'Predictor 0: Few-Shot Set 4', 'Predictor 1: Instruction 6', 'Predictor 1: Few-Shot Set 8'].\n",
            "2025/02/23 22:12:03 INFO dspy.teleprompt.mipro_optimizer_v2: Scores so far: [45.0, 47.0, 44.0, 45.5, 48.5, 46.0, 47.5, 47.0, 47.0, 49.0, 50.0, 45.5, 53.5, 50.0, 49.0, 53.5, 53.0, 53.5]\n",
            "2025/02/23 22:12:03 INFO dspy.teleprompt.mipro_optimizer_v2: Best score so far: 53.5\n",
            "2025/02/23 22:12:03 INFO dspy.teleprompt.mipro_optimizer_v2: =========================\n",
            "\n",
            "\n",
            "2025/02/23 22:12:03 INFO dspy.teleprompt.mipro_optimizer_v2: ===== Trial 19 / 25 =====\n"
          ]
        },
        {
          "name": "stdout",
          "output_type": "stream",
          "text": [
            "\n",
            "Average Metric: 18.60 / 40 (46.5%): 100%|████████████████████████████████████████████████████████████████████████████████████████████████████████████████████████████████████████████████████████████████████| 40/40 [00:05<00:00,  7.20it/s]"
          ]
        },
        {
          "name": "stderr",
          "output_type": "stream",
          "text": [
            "2025/02/23 22:12:08 INFO dspy.evaluate.evaluate: Average Metric: 18.6 / 40 (46.5%)\n",
            "2025/02/23 22:12:08 INFO dspy.teleprompt.mipro_optimizer_v2: Score: 46.5 with parameters ['Predictor 0: Instruction 2', 'Predictor 0: Few-Shot Set 6', 'Predictor 1: Instruction 5', 'Predictor 1: Few-Shot Set 5'].\n",
            "2025/02/23 22:12:08 INFO dspy.teleprompt.mipro_optimizer_v2: Scores so far: [45.0, 47.0, 44.0, 45.5, 48.5, 46.0, 47.5, 47.0, 47.0, 49.0, 50.0, 45.5, 53.5, 50.0, 49.0, 53.5, 53.0, 53.5, 46.5]\n",
            "2025/02/23 22:12:08 INFO dspy.teleprompt.mipro_optimizer_v2: Best score so far: 53.5\n",
            "2025/02/23 22:12:08 INFO dspy.teleprompt.mipro_optimizer_v2: =========================\n",
            "\n",
            "\n",
            "2025/02/23 22:12:08 INFO dspy.teleprompt.mipro_optimizer_v2: ===== Trial 20 / 25 =====\n"
          ]
        },
        {
          "name": "stdout",
          "output_type": "stream",
          "text": [
            "\n",
            "Average Metric: 20.40 / 40 (51.0%): 100%|████████████████████████████████████████████████████████████████████████████████████████████████████████████████████████████████████████████████████████████████████| 40/40 [01:23<00:00,  2.09s/it]"
          ]
        },
        {
          "name": "stderr",
          "output_type": "stream",
          "text": [
            "2025/02/23 22:13:32 INFO dspy.evaluate.evaluate: Average Metric: 20.4 / 40 (51.0%)\n",
            "2025/02/23 22:13:32 INFO dspy.teleprompt.mipro_optimizer_v2: Score: 51.0 with parameters ['Predictor 0: Instruction 7', 'Predictor 0: Few-Shot Set 8', 'Predictor 1: Instruction 6', 'Predictor 1: Few-Shot Set 6'].\n",
            "2025/02/23 22:13:32 INFO dspy.teleprompt.mipro_optimizer_v2: Scores so far: [45.0, 47.0, 44.0, 45.5, 48.5, 46.0, 47.5, 47.0, 47.0, 49.0, 50.0, 45.5, 53.5, 50.0, 49.0, 53.5, 53.0, 53.5, 46.5, 51.0]\n",
            "2025/02/23 22:13:32 INFO dspy.teleprompt.mipro_optimizer_v2: Best score so far: 53.5\n",
            "2025/02/23 22:13:32 INFO dspy.teleprompt.mipro_optimizer_v2: =========================\n",
            "\n",
            "\n",
            "2025/02/23 22:13:32 INFO dspy.teleprompt.mipro_optimizer_v2: ===== Trial 21 / 25 =====\n"
          ]
        },
        {
          "name": "stdout",
          "output_type": "stream",
          "text": [
            "\n",
            "Average Metric: 21.40 / 40 (53.5%): 100%|██████████████████████████████████████████████████████████████████████████████████████████████████████████████████████████████████████████████████████████████████| 40/40 [00:00<00:00, 2441.60it/s]"
          ]
        },
        {
          "name": "stderr",
          "output_type": "stream",
          "text": [
            "2025/02/23 22:13:32 INFO dspy.evaluate.evaluate: Average Metric: 21.4 / 40 (53.5%)\n",
            "2025/02/23 22:13:32 INFO dspy.teleprompt.mipro_optimizer_v2: Score: 53.5 with parameters ['Predictor 0: Instruction 6', 'Predictor 0: Few-Shot Set 6', 'Predictor 1: Instruction 6', 'Predictor 1: Few-Shot Set 7'].\n",
            "2025/02/23 22:13:32 INFO dspy.teleprompt.mipro_optimizer_v2: Scores so far: [45.0, 47.0, 44.0, 45.5, 48.5, 46.0, 47.5, 47.0, 47.0, 49.0, 50.0, 45.5, 53.5, 50.0, 49.0, 53.5, 53.0, 53.5, 46.5, 51.0, 53.5]\n",
            "2025/02/23 22:13:32 INFO dspy.teleprompt.mipro_optimizer_v2: Best score so far: 53.5\n",
            "2025/02/23 22:13:32 INFO dspy.teleprompt.mipro_optimizer_v2: =========================\n",
            "\n",
            "\n",
            "2025/02/23 22:13:32 INFO dspy.teleprompt.mipro_optimizer_v2: ===== Trial 22 / 25 =====\n"
          ]
        },
        {
          "name": "stdout",
          "output_type": "stream",
          "text": [
            "\n",
            "Average Metric: 21.40 / 40 (53.5%): 100%|██████████████████████████████████████████████████████████████████████████████████████████████████████████████████████████████████████████████████████████████████| 40/40 [00:00<00:00, 2183.74it/s]"
          ]
        },
        {
          "name": "stderr",
          "output_type": "stream",
          "text": [
            "2025/02/23 22:13:32 INFO dspy.evaluate.evaluate: Average Metric: 21.4 / 40 (53.5%)\n",
            "2025/02/23 22:13:32 INFO dspy.teleprompt.mipro_optimizer_v2: Score: 53.5 with parameters ['Predictor 0: Instruction 6', 'Predictor 0: Few-Shot Set 1', 'Predictor 1: Instruction 6', 'Predictor 1: Few-Shot Set 8'].\n",
            "2025/02/23 22:13:32 INFO dspy.teleprompt.mipro_optimizer_v2: Scores so far: [45.0, 47.0, 44.0, 45.5, 48.5, 46.0, 47.5, 47.0, 47.0, 49.0, 50.0, 45.5, 53.5, 50.0, 49.0, 53.5, 53.0, 53.5, 46.5, 51.0, 53.5, 53.5]\n",
            "2025/02/23 22:13:32 INFO dspy.teleprompt.mipro_optimizer_v2: Best score so far: 53.5\n",
            "2025/02/23 22:13:32 INFO dspy.teleprompt.mipro_optimizer_v2: =========================\n",
            "\n",
            "\n",
            "2025/02/23 22:13:32 INFO dspy.teleprompt.mipro_optimizer_v2: ===== Trial 23 / 25 =====\n"
          ]
        },
        {
          "name": "stdout",
          "output_type": "stream",
          "text": [
            "\n",
            "Average Metric: 20.20 / 40 (50.5%): 100%|████████████████████████████████████████████████████████████████████████████████████████████████████████████████████████████████████████████████████████████████████| 40/40 [01:06<00:00,  1.66s/it]"
          ]
        },
        {
          "name": "stderr",
          "output_type": "stream",
          "text": [
            "2025/02/23 22:14:39 INFO dspy.evaluate.evaluate: Average Metric: 20.2 / 40 (50.5%)\n",
            "2025/02/23 22:14:39 INFO dspy.teleprompt.mipro_optimizer_v2: Score: 50.5 with parameters ['Predictor 0: Instruction 6', 'Predictor 0: Few-Shot Set 4', 'Predictor 1: Instruction 7', 'Predictor 1: Few-Shot Set 8'].\n",
            "2025/02/23 22:14:39 INFO dspy.teleprompt.mipro_optimizer_v2: Scores so far: [45.0, 47.0, 44.0, 45.5, 48.5, 46.0, 47.5, 47.0, 47.0, 49.0, 50.0, 45.5, 53.5, 50.0, 49.0, 53.5, 53.0, 53.5, 46.5, 51.0, 53.5, 53.5, 50.5]\n",
            "2025/02/23 22:14:39 INFO dspy.teleprompt.mipro_optimizer_v2: Best score so far: 53.5\n",
            "2025/02/23 22:14:39 INFO dspy.teleprompt.mipro_optimizer_v2: =========================\n",
            "\n",
            "\n",
            "2025/02/23 22:14:39 INFO dspy.teleprompt.mipro_optimizer_v2: ===== Trial 24 / 25 =====\n"
          ]
        },
        {
          "name": "stdout",
          "output_type": "stream",
          "text": [
            "\n",
            "Average Metric: 20.00 / 40 (50.0%): 100%|████████████████████████████████████████████████████████████████████████████████████████████████████████████████████████████████████████████████████████████████████| 40/40 [00:55<00:00,  1.38s/it]"
          ]
        },
        {
          "name": "stderr",
          "output_type": "stream",
          "text": [
            "2025/02/23 22:15:34 INFO dspy.evaluate.evaluate: Average Metric: 20.0 / 40 (50.0%)\n",
            "2025/02/23 22:15:34 INFO dspy.teleprompt.mipro_optimizer_v2: Score: 50.0 with parameters ['Predictor 0: Instruction 8', 'Predictor 0: Few-Shot Set 4', 'Predictor 1: Instruction 6', 'Predictor 1: Few-Shot Set 1'].\n",
            "2025/02/23 22:15:34 INFO dspy.teleprompt.mipro_optimizer_v2: Scores so far: [45.0, 47.0, 44.0, 45.5, 48.5, 46.0, 47.5, 47.0, 47.0, 49.0, 50.0, 45.5, 53.5, 50.0, 49.0, 53.5, 53.0, 53.5, 46.5, 51.0, 53.5, 53.5, 50.5, 50.0]\n",
            "2025/02/23 22:15:34 INFO dspy.teleprompt.mipro_optimizer_v2: Best score so far: 53.5\n",
            "2025/02/23 22:15:34 INFO dspy.teleprompt.mipro_optimizer_v2: =========================\n",
            "\n",
            "\n",
            "2025/02/23 22:15:34 INFO dspy.teleprompt.mipro_optimizer_v2: ===== Trial 25 / 25 =====\n"
          ]
        },
        {
          "name": "stdout",
          "output_type": "stream",
          "text": [
            "\n",
            "Average Metric: 21.40 / 40 (53.5%): 100%|██████████████████████████████████████████████████████████████████████████████████████████████████████████████████████████████████████████████████████████████████| 40/40 [00:00<00:00, 2526.00it/s]"
          ]
        },
        {
          "name": "stderr",
          "output_type": "stream",
          "text": [
            "2025/02/23 22:15:34 INFO dspy.evaluate.evaluate: Average Metric: 21.4 / 40 (53.5%)\n",
            "2025/02/23 22:15:34 INFO dspy.teleprompt.mipro_optimizer_v2: Score: 53.5 with parameters ['Predictor 0: Instruction 6', 'Predictor 0: Few-Shot Set 4', 'Predictor 1: Instruction 6', 'Predictor 1: Few-Shot Set 3'].\n",
            "2025/02/23 22:15:34 INFO dspy.teleprompt.mipro_optimizer_v2: Scores so far: [45.0, 47.0, 44.0, 45.5, 48.5, 46.0, 47.5, 47.0, 47.0, 49.0, 50.0, 45.5, 53.5, 50.0, 49.0, 53.5, 53.0, 53.5, 46.5, 51.0, 53.5, 53.5, 50.5, 50.0, 53.5]\n",
            "2025/02/23 22:15:34 INFO dspy.teleprompt.mipro_optimizer_v2: Best score so far: 53.5\n",
            "2025/02/23 22:15:34 INFO dspy.teleprompt.mipro_optimizer_v2: =========================\n",
            "\n",
            "\n",
            "2025/02/23 22:15:34 INFO dspy.teleprompt.mipro_optimizer_v2: Returning best identified program with score 53.5!\n"
          ]
        },
        {
          "name": "stdout",
          "output_type": "stream",
          "text": [
            "\n"
          ]
        }
      ],
      "source": [
        "teleprompter = dspy.teleprompt.MIPROv2(metric=eval_lm,auto=\"medium\")\n",
        "optimized_program = teleprompter.compile(program.deepcopy(),trainset=news_dspy[:50],max_bootstrapped_demos=1,max_labeled_demos=1)\n",
        "optimized_program.save(\"./describe_reconstruct_optimized_v1/\", save_program=True)"
      ]
    },
    {
      "cell_type": "code",
      "execution_count": null,
      "id": "31200219-a9a5-458e-ac89-a8a870604e19",
      "metadata": {
        "id": "31200219-a9a5-458e-ac89-a8a870604e19",
        "outputId": "7ecb48f3-3d1f-4c49-ed45-7101b808be29"
      },
      "outputs": [
        {
          "name": "stdout",
          "output_type": "stream",
          "text": [
            "describe.predict = Predict(StringSignature(document -> reasoning, general_descriptors, document_specific_descriptors\n",
            "    instructions=\"Analyze the provided document by generating a comprehensive set of descriptors. First, categorize the document at a general level, focusing on its type and style, and create up to five general descriptors that encapsulate its essence. Next, delve into the specifics of the document's content to produce up to ten document-specific descriptors that highlight key themes and details. Finally, articulate your reasoning throughout this process to ensure clarity and coherence in both the descriptors and the understanding of the document's content.\"\n",
            "    document = Field(annotation=str required=True json_schema_extra={'desc': 'Input document', '__dspy_field_type': 'input', 'prefix': 'Document:'})\n",
            "    reasoning = Field(annotation=str required=True json_schema_extra={'prefix': \"Reasoning: Let's think step by step in order to\", 'desc': '${reasoning}', '__dspy_field_type': 'output'})\n",
            "    general_descriptors = Field(annotation=list[str] required=True json_schema_extra={'desc': 'General-level descriptors including type and style of the document. Max 5, in order of importance.', '__dspy_field_type': 'output', 'prefix': 'General Descriptors:'})\n",
            "    document_specific_descriptors = Field(annotation=list[str] required=True json_schema_extra={'desc': 'Document-specific descriptors. Max 10, in order of importance.', '__dspy_field_type': 'output', 'prefix': 'Document Specific Descriptors:'})\n",
            "))\n",
            "reconstruct.predict = Predict(StringSignature(general_descriptors, document_specific_descriptors -> reasoning, document\n",
            "    instructions='Using the general descriptors and document-specific descriptors provided, reconstruct a coherent document that accurately reflects the content and intent of the descriptors. Please include detailed reasoning that explains how each descriptor contributes to the overall understanding of the document. Ensure that the reconstructed document maintains a logical flow and captures the essence of the original content.'\n",
            "    general_descriptors = Field(annotation=list[str] required=True json_schema_extra={'desc': 'General-level descriptors', '__dspy_field_type': 'input', 'prefix': 'General Descriptors:'})\n",
            "    document_specific_descriptors = Field(annotation=list[str] required=True json_schema_extra={'desc': 'Document-specific descriptors', '__dspy_field_type': 'input', 'prefix': 'Document Specific Descriptors:'})\n",
            "    reasoning = Field(annotation=str required=True json_schema_extra={'prefix': \"Reasoning: Let's think step by step in order to\", 'desc': '${reasoning}', '__dspy_field_type': 'output'})\n",
            "    document = Field(annotation=str required=True json_schema_extra={'desc': 'Reconstructed document', '__dspy_field_type': 'output', 'prefix': 'Document:'})\n",
            "))\n"
          ]
        }
      ],
      "source": [
        "print(optimized_program)"
      ]
    }
  ],
  "metadata": {
    "kernelspec": {
      "display_name": "Python 3 (ipykernel)",
      "language": "python",
      "name": "python3"
    },
    "language_info": {
      "codemirror_mode": {
        "name": "ipython",
        "version": 3
      },
      "file_extension": ".py",
      "mimetype": "text/x-python",
      "name": "python",
      "nbconvert_exporter": "python",
      "pygments_lexer": "ipython3",
      "version": "3.12.7"
    },
    "colab": {
      "provenance": [],
      "include_colab_link": true
    }
  },
  "nbformat": 4,
  "nbformat_minor": 5
}