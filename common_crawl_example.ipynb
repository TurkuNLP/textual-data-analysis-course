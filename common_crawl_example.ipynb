{
  "nbformat": 4,
  "nbformat_minor": 0,
  "metadata": {
    "colab": {
      "provenance": [],
      "authorship_tag": "ABX9TyOjL48GyT1dHWAWkZclAWpg",
      "include_colab_link": true
    },
    "kernelspec": {
      "name": "python3",
      "display_name": "Python 3"
    },
    "language_info": {
      "name": "python"
    }
  },
  "cells": [
    {
      "cell_type": "markdown",
      "metadata": {
        "id": "view-in-github",
        "colab_type": "text"
      },
      "source": [
        "<a href=\"https://colab.research.google.com/github/TurkuNLP/textual-data-analysis-course/blob/main/common_crawl_example.ipynb\" target=\"_parent\"><img src=\"https://colab.research.google.com/assets/colab-badge.svg\" alt=\"Open In Colab\"/></a>"
      ]
    },
    {
      "cell_type": "markdown",
      "source": [
        "# Common Crawl data example\n",
        "\n",
        "Common Crawl provides instructions for getting started with their data at https://commoncrawl.org/get-started and an overview of crawls at https://commoncrawl.org/overview.\n",
        "\n",
        "Download package listing the URLs for web archive (WARC) files from a recent crawl."
      ],
      "metadata": {
        "id": "58SNMW6nudcA"
      }
    },
    {
      "cell_type": "code",
      "execution_count": 1,
      "metadata": {
        "colab": {
          "base_uri": "https://localhost:8080/"
        },
        "id": "g10eJ0lktxNU",
        "outputId": "667cc4da-684a-4075-e839-4ae2d4196c29"
      },
      "outputs": [
        {
          "output_type": "stream",
          "name": "stdout",
          "text": [
            "--2025-01-12 13:37:29--  https://data.commoncrawl.org/crawl-data/CC-MAIN-2024-51/warc.paths.gz\n",
            "Resolving data.commoncrawl.org (data.commoncrawl.org)... 18.172.170.85, 18.172.170.86, 18.172.170.105, ...\n",
            "Connecting to data.commoncrawl.org (data.commoncrawl.org)|18.172.170.85|:443... connected.\n",
            "HTTP request sent, awaiting response... 200 OK\n",
            "Length: 180795 (177K) [binary/octet-stream]\n",
            "Saving to: ‘warc.paths.gz’\n",
            "\n",
            "warc.paths.gz       100%[===================>] 176.56K  --.-KB/s    in 0.02s   \n",
            "\n",
            "2025-01-12 13:37:29 (7.93 MB/s) - ‘warc.paths.gz’ saved [180795/180795]\n",
            "\n"
          ]
        }
      ],
      "source": [
        "!wget https://data.commoncrawl.org/crawl-data/CC-MAIN-2024-51/warc.paths.gz"
      ]
    },
    {
      "cell_type": "markdown",
      "source": [
        "Check how many lines there are in that listing"
      ],
      "metadata": {
        "id": "G7KL0dNrvewr"
      }
    },
    {
      "cell_type": "code",
      "source": [
        "!zcat warc.paths.gz | wc -l"
      ],
      "metadata": {
        "colab": {
          "base_uri": "https://localhost:8080/"
        },
        "id": "E5CyizIcuSvY",
        "outputId": "75c35786-2268-4073-acb5-0ef92f5024e6"
      },
      "execution_count": 2,
      "outputs": [
        {
          "output_type": "stream",
          "name": "stdout",
          "text": [
            "90000\n"
          ]
        }
      ]
    },
    {
      "cell_type": "markdown",
      "source": [
        "Get the first listed path"
      ],
      "metadata": {
        "id": "d9VABr0pvkEh"
      }
    },
    {
      "cell_type": "code",
      "source": [
        "!zcat warc.paths.gz | head -n 1"
      ],
      "metadata": {
        "colab": {
          "base_uri": "https://localhost:8080/"
        },
        "id": "UjjU2u-vvdLm",
        "outputId": "fe539b80-d4d2-40e4-973d-ba30e3c44cb8"
      },
      "execution_count": 3,
      "outputs": [
        {
          "output_type": "stream",
          "name": "stdout",
          "text": [
            "crawl-data/CC-MAIN-2024-51/segments/1733066035857.0/warc/CC-MAIN-20241201162023-20241201192023-00000.warc.gz\n"
          ]
        }
      ]
    },
    {
      "cell_type": "markdown",
      "source": [
        "Download that WARC"
      ],
      "metadata": {
        "id": "RGu4DOwbvuaw"
      }
    },
    {
      "cell_type": "code",
      "source": [
        "!wget https://data.commoncrawl.org/crawl-data/CC-MAIN-2024-51/segments/1733066035857.0/warc/CC-MAIN-20241201162023-20241201192023-00000.warc.gz"
      ],
      "metadata": {
        "colab": {
          "base_uri": "https://localhost:8080/"
        },
        "id": "GrwLh68ivqRM",
        "outputId": "109a96e0-0703-4b5c-b6f4-a7d762c3aff0"
      },
      "execution_count": 4,
      "outputs": [
        {
          "output_type": "stream",
          "name": "stdout",
          "text": [
            "--2025-01-12 13:41:18--  https://data.commoncrawl.org/crawl-data/CC-MAIN-2024-51/segments/1733066035857.0/warc/CC-MAIN-20241201162023-20241201192023-00000.warc.gz\n",
            "Resolving data.commoncrawl.org (data.commoncrawl.org)... 18.161.6.27, 18.161.6.34, 18.161.6.121, ...\n",
            "Connecting to data.commoncrawl.org (data.commoncrawl.org)|18.161.6.27|:443... connected.\n",
            "HTTP request sent, awaiting response... 200 OK\n",
            "Length: 1013005626 (966M) [application/octet-stream]\n",
            "Saving to: ‘CC-MAIN-20241201162023-20241201192023-00000.warc.gz’\n",
            "\n",
            "CC-MAIN-20241201162 100%[===================>] 966.08M  59.6MB/s    in 16s     \n",
            "\n",
            "2025-01-12 13:41:35 (59.2 MB/s) - ‘CC-MAIN-20241201162023-20241201192023-00000.warc.gz’ saved [1013005626/1013005626]\n",
            "\n"
          ]
        }
      ]
    },
    {
      "cell_type": "markdown",
      "source": [
        "Unpack the [gzip](https://en.wikipedia.org/wiki/Gzip) package"
      ],
      "metadata": {
        "id": "oTrDVD9UwA0m"
      }
    },
    {
      "cell_type": "code",
      "source": [
        "!gunzip CC-MAIN-20241201162023-20241201192023-00000.warc.gz"
      ],
      "metadata": {
        "id": "5x961gDdv15U"
      },
      "execution_count": 5,
      "outputs": []
    },
    {
      "cell_type": "markdown",
      "source": [
        "Check the size of the unpacked data"
      ],
      "metadata": {
        "id": "Aby5sWCQxFRU"
      }
    },
    {
      "cell_type": "code",
      "source": [
        "!du -h CC-MAIN-20241201162023-20241201192023-00000.warc"
      ],
      "metadata": {
        "colab": {
          "base_uri": "https://localhost:8080/"
        },
        "id": "F4sR9P8mwI2C",
        "outputId": "e9762c82-62f8-498a-9e87-b42f0cedc493"
      },
      "execution_count": 8,
      "outputs": [
        {
          "output_type": "stream",
          "name": "stdout",
          "text": [
            "4.7G\tCC-MAIN-20241201162023-20241201192023-00000.warc\n"
          ]
        }
      ]
    },
    {
      "cell_type": "markdown",
      "source": [
        "Get the first 100 lines of the WARC file"
      ],
      "metadata": {
        "id": "rRgFHu3axafL"
      }
    },
    {
      "cell_type": "code",
      "source": [
        "!head -n 100 CC-MAIN-20241201162023-20241201192023-00000.warc"
      ],
      "metadata": {
        "colab": {
          "base_uri": "https://localhost:8080/"
        },
        "id": "Z-JdFP2CxJ4x",
        "outputId": "a860bd8a-a089-40ba-c387-cd67c74fab27"
      },
      "execution_count": 11,
      "outputs": [
        {
          "output_type": "stream",
          "name": "stdout",
          "text": [
            "WARC/1.0\r\n",
            "WARC-Type: warcinfo\r\n",
            "WARC-Date: 2024-12-01T16:20:23Z\r\n",
            "WARC-Record-ID: <urn:uuid:c5105f63-116c-4094-a0f0-f5beb32a3094>\r\n",
            "Content-Length: 490\r\n",
            "Content-Type: application/warc-fields\r\n",
            "WARC-Filename: CC-MAIN-20241201162023-20241201192023-00000.warc.gz\r\n",
            "\r\n",
            "isPartOf: CC-MAIN-2024-51\r\n",
            "publisher: Common Crawl\r\n",
            "description: Wide crawl of the web for December 2024\r\n",
            "operator: Common Crawl Admin (info@commoncrawl.org)\r\n",
            "hostname: ip-10-67-67-75\r\n",
            "software: Apache Nutch 1.20 (modified, https://github.com/commoncrawl/nutch/)\r\n",
            "robots: checked via crawler-commons 1.5-SNAPSHOT (https://github.com/crawler-commons/crawler-commons)\r\n",
            "format: WARC File Format 1.1\r\n",
            "conformsTo: https://iipc.github.io/warc-specifications/specifications/warc-format/warc-1.1/\r\n",
            "\r\n",
            "\r\n",
            "WARC/1.0\r\n",
            "WARC-Type: request\r\n",
            "WARC-Date: 2024-12-01T17:20:07Z\r\n",
            "WARC-Record-ID: <urn:uuid:e26f59d1-67ee-4db5-9346-5faad4b8b4b3>\r\n",
            "Content-Length: 272\r\n",
            "Content-Type: application/http; msgtype=request\r\n",
            "WARC-Warcinfo-ID: <urn:uuid:c5105f63-116c-4094-a0f0-f5beb32a3094>\r\n",
            "WARC-IP-Address: 89.161.255.69\r\n",
            "WARC-Target-URI: http://00-000.pl/podlaskie/bialystok/15-047/\r\n",
            "WARC-Protocol: http/1.1\r\n",
            "\r\n",
            "GET /podlaskie/bialystok/15-047/ HTTP/1.1\r\n",
            "User-Agent: CCBot/2.0 (https://commoncrawl.org/faq/)\r\n",
            "Accept: text/html,application/xhtml+xml,application/xml;q=0.9,*/*;q=0.8\r\n",
            "Accept-Language: en-US,en;q=0.5\r\n",
            "Accept-Encoding: br,gzip\r\n",
            "Host: 00-000.pl\r\n",
            "Connection: Keep-Alive\r\n",
            "\r\n",
            "\r\n",
            "\r\n",
            "WARC/1.0\r\n",
            "WARC-Type: response\r\n",
            "WARC-Date: 2024-12-01T17:20:07Z\r\n",
            "WARC-Record-ID: <urn:uuid:626cc152-3dd8-40c9-9c8b-bbf01d28bd52>\r\n",
            "Content-Length: 16467\r\n",
            "Content-Type: application/http; msgtype=response\r\n",
            "WARC-Warcinfo-ID: <urn:uuid:c5105f63-116c-4094-a0f0-f5beb32a3094>\r\n",
            "WARC-Concurrent-To: <urn:uuid:e26f59d1-67ee-4db5-9346-5faad4b8b4b3>\r\n",
            "WARC-IP-Address: 89.161.255.69\r\n",
            "WARC-Target-URI: http://00-000.pl/podlaskie/bialystok/15-047/\r\n",
            "WARC-Protocol: http/1.1\r\n",
            "WARC-Payload-Digest: sha1:CYZHKHOAZV3CHW7BF5VDVPKZ72JHCIM2\r\n",
            "WARC-Block-Digest: sha1:WDHQN52YZPQ5JIKTUH4N3ZLIPVHTYWVX\r\n",
            "WARC-Identified-Payload-Type: text/html\r\n",
            "\r\n",
            "HTTP/1.1 200 OK\r\n",
            "Date: Sun, 01 Dec 2024 17:20:07 GMT\r\n",
            "Content-Type: text/html\r\n",
            "X-Crawler-Transfer-Encoding: chunked\r\n",
            "Connection: keep-alive\r\n",
            "Cache-Control: no-store, no-cache, must-revalidate, post-check=0, pre-check=0\r\n",
            "X-Crawler-Content-Encoding: gzip\r\n",
            "Expires: Sun, 01 Dec 2024 17:20:07 GMT\r\n",
            "Last-Modified: Sun, 01 Dec 2024 17:20:07 GMT\r\n",
            "Pragma: no-cache\r\n",
            "Server: IdeaWebServer/6.2.1\r\n",
            "Vary: Accept-Encoding, Accept-Encoding\r\n",
            "Set-Cookie: PHPSESSID=38480c3726f786e828c1265681ccc5af; path=/\r\n",
            "Content-Length: 15951\r\n",
            "\r\n",
            " \n",
            "<!DOCTYPE HTML PUBLIC \"-//W3C//DTD HTML 4.01 Transitional//EN\"\n",
            "\"http://www.w3.org/TR/html4/loose.dtd\">\n",
            "<html>\n",
            "<head>\n",
            "<title>15-047 - Bia�ystok - Podlaskie - kod pocztowy</title>\n",
            "<META HTTP-EQUIV=\"Content-Type\" CONTENT=\"text/html; charset=iso-8859-2\">\n",
            "<META NAME=\"Keywords\" CONTENT=\"kody pocztowe, kod pocztowy, Poczta Polska, przesy�ki, listy\">\n",
            "<META NAME=\"Description\" CONTENT=\"Na tej stronie mo�esz wyszuka� kody pocztowe dowolnych miejscowo�ci w Polsce. Podaj miasto, ulic� i znajd� potrzebny Ci kod pocztowy. Jest on niezb�dny, je�li list lub inna przesy�ka ma dotrze� do adresata na terenie Polski.\">\n",
            "<META HTTP-EQUIV=\"Content-Language\" CONTENT=\"PL\">\n",
            "<META NAME=\"distribution\" CONTENT=\"Global\">\n",
            "<META NAME=\"revisit-after\" CONTENT=\"2 days\">\n",
            "<META NAME=\"robots\" CONTENT=\"INDEX,FOLLOW\">\n",
            "<style type=\"text/css\">body, td {\n",
            "font-family:arial;\n",
            "font-size:12px;\n",
            "margin:10px 0 10px 0;\n",
            "color:#000000;\n",
            "}\n",
            "\n",
            ".row { padding: 4px 10px 4px 0; text-align:left}\n",
            "input { }\n",
            "img { border:0;}\n",
            ".thead {\n",
            "color:#FFFFFF; font-size:10px;\n",
            "background-image:url(http://00-000.pl/gfx/lay/box_top_bg.gif);\n",
            "padding:0;\n",
            "}\n",
            ".pltd{\n",
            "padding-right:40px;\n"
          ]
        }
      ]
    },
    {
      "cell_type": "markdown",
      "source": [
        "Grab content of first HTLM page in UTF-8 encoding using [warcio](https://github.com/webrecorder/warcio) package"
      ],
      "metadata": {
        "id": "7Rg-hDa40-04"
      }
    },
    {
      "cell_type": "code",
      "source": [
        "!pip install warcio"
      ],
      "metadata": {
        "colab": {
          "base_uri": "https://localhost:8080/"
        },
        "id": "ivhuOIUMxRG8",
        "outputId": "e68bb0d8-b37d-4401-fff3-8ebe796649a9"
      },
      "execution_count": 12,
      "outputs": [
        {
          "output_type": "stream",
          "name": "stdout",
          "text": [
            "Collecting warcio\n",
            "  Downloading warcio-1.7.5-py2.py3-none-any.whl.metadata (16 kB)\n",
            "Requirement already satisfied: six in /usr/local/lib/python3.10/dist-packages (from warcio) (1.17.0)\n",
            "Downloading warcio-1.7.5-py2.py3-none-any.whl (40 kB)\n",
            "\u001b[?25l   \u001b[90m━━━━━━━━━━━━━━━━━━━━━━━━━━━━━━━━━━━━━━━━\u001b[0m \u001b[32m0.0/40.6 kB\u001b[0m \u001b[31m?\u001b[0m eta \u001b[36m-:--:--\u001b[0m\r\u001b[2K   \u001b[90m━━━━━━━━━━━━━━━━━━━━━━━━━━━━━━━━━━━━━━━━\u001b[0m \u001b[32m40.6/40.6 kB\u001b[0m \u001b[31m2.5 MB/s\u001b[0m eta \u001b[36m0:00:00\u001b[0m\n",
            "\u001b[?25hInstalling collected packages: warcio\n",
            "Successfully installed warcio-1.7.5\n"
          ]
        }
      ]
    },
    {
      "cell_type": "code",
      "source": [
        "from warcio.archiveiterator import ArchiveIterator\n",
        "\n",
        "with open('CC-MAIN-20241201162023-20241201192023-00000.warc', 'rb') as f:\n",
        "  for record in ArchiveIterator(f):\n",
        "    if record.rec_type != 'response':\n",
        "      continue\n",
        "    if record.http_headers.get_header('Content-Type') != 'text/html; charset=utf-8':\n",
        "      continue\n",
        "    if record.http_headers.get('Content-Language') != 'en':\n",
        "      continue\n",
        "    html = record.content_stream().read().decode('utf-8')\n",
        "    print(html[:1000])\n",
        "    break"
      ],
      "metadata": {
        "colab": {
          "base_uri": "https://localhost:8080/"
        },
        "id": "puJj6UsI1Rem",
        "outputId": "69ca8064-d7d0-4b2f-b763-493e0d332338"
      },
      "execution_count": 30,
      "outputs": [
        {
          "output_type": "stream",
          "name": "stdout",
          "text": [
            "<!DOCTYPE html PUBLIC \"-//W3C//DTD XHTML+RDFa 1.0//EN\"\n",
            "  \"http://www.w3.org/MarkUp/DTD/xhtml-rdfa-1.dtd\">\n",
            "<html xmlns=\"http://www.w3.org/1999/xhtml\" xml:lang=\"en\" version=\"XHTML+RDFa 1.0\" dir=\"ltr\"\n",
            "  xmlns:content=\"http://purl.org/rss/1.0/modules/content/\"\n",
            "  xmlns:dc=\"http://purl.org/dc/terms/\"\n",
            "  xmlns:foaf=\"http://xmlns.com/foaf/0.1/\"\n",
            "  xmlns:og=\"http://ogp.me/ns#\"\n",
            "  xmlns:rdfs=\"http://www.w3.org/2000/01/rdf-schema#\"\n",
            "  xmlns:sioc=\"http://rdfs.org/sioc/ns#\"\n",
            "  xmlns:sioct=\"http://rdfs.org/sioc/types#\"\n",
            "  xmlns:skos=\"http://www.w3.org/2004/02/skos/core#\"\n",
            "  xmlns:xsd=\"http://www.w3.org/2001/XMLSchema#\">\n",
            "\n",
            "<head profile=\"http://www.w3.org/1999/xhtml/vocab\">\n",
            "  <meta http-equiv=\"Content-Type\" content=\"text/html; charset=utf-8\" />\n",
            "<meta name=\"Generator\" content=\"Drupal 7 (http://drupal.org)\" />\n",
            "<link rel=\"shortcut icon\" href=\"http://dsg.ac.upc.edu/sites/default/files/dsg_icon_0.ico\" type=\"image/vnd.microsoft.icon\" />\n",
            "  <title>Biblio | Distributed Systems Group</title>\n",
            "  <style type=\"text/css\" m\n"
          ]
        }
      ]
    },
    {
      "cell_type": "markdown",
      "source": [
        "Extract text content from HTML using BeautifulSoup"
      ],
      "metadata": {
        "id": "AlC-2gd93_GH"
      }
    },
    {
      "cell_type": "code",
      "source": [
        "!pip install beautifulsoup4"
      ],
      "metadata": {
        "colab": {
          "base_uri": "https://localhost:8080/"
        },
        "id": "uJkcs28d2AEf",
        "outputId": "b03a0810-a38f-48b9-f2a3-9fec393aaf48"
      },
      "execution_count": 25,
      "outputs": [
        {
          "output_type": "stream",
          "name": "stdout",
          "text": [
            "Requirement already satisfied: beautifulsoup4 in /usr/local/lib/python3.10/dist-packages (4.12.3)\n",
            "Requirement already satisfied: soupsieve>1.2 in /usr/local/lib/python3.10/dist-packages (from beautifulsoup4) (2.6)\n"
          ]
        }
      ]
    },
    {
      "cell_type": "code",
      "source": [
        "from bs4 import BeautifulSoup\n",
        "\n",
        "soup = BeautifulSoup(html) #, 'html.parser')\n",
        "text = soup.get_text()\n",
        "print(text)"
      ],
      "metadata": {
        "colab": {
          "base_uri": "https://localhost:8080/"
        },
        "id": "mORCB7zr4Eqi",
        "outputId": "97fd6caa-1ddf-4725-db86-473347872fb7"
      },
      "execution_count": 32,
      "outputs": [
        {
          "output_type": "stream",
          "name": "stdout",
          "text": [
            "\n",
            "\n",
            "\n",
            "\n",
            "\n",
            "Biblio | Distributed Systems Group\n",
            "\n",
            "\n",
            "\n",
            "\n",
            "\n",
            "\n",
            "\n",
            "\n",
            "\n",
            "\n",
            "\n",
            "\n",
            "\n",
            "\n",
            "\n",
            "\n",
            "\n",
            "\n",
            "\n",
            "Skip to main content\n",
            "\n",
            "\n",
            "\n",
            "\n",
            "\n",
            "\n",
            "\n",
            "Distributed Systems Group \n",
            "\n",
            "Main menulogin\n",
            "  \n",
            "\n",
            "\n",
            "\n",
            "\n",
            "Home\n",
            "People\n",
            "Research\n",
            "PublicationsAuthors\n",
            "Keywords\n",
            "\n",
            "Projects\n",
            "Location\n",
            "Announcements\n",
            "Weekly Meetings\n",
            "Software\n",
            "Former Members\n",
            " \n",
            "\n",
            "\n",
            "\n",
            "\n",
            "You are hereHome \n",
            " Biblio\n",
            " \n",
            "\n",
            "\n",
            "\n",
            "Found 13 results Author Title  [ Type]  Year Filters: Author is René Brunner  [Clear All Filters]Conference PaperR.  Brunner, Chao, I., Chacin, P., Freitag, F., Navarro, L., Ardaiz, O., Joita, L., and Rana, O. F., “Assessing a Distributed Market Infrastructure for Economics-Based Service Selection”, in GADA’07 On the Move to Meaningful Internet Systems, Vilamoura, Portugal, 2007, Springer., vol. 4804, pp. 1403–1416.P.  Chacin, León, X., Brunner, R., Freitag, F., and Navarro, L., “Core Services for Grid Markets”, in The CoreGRID Symposium (CGSYMP 2008), Las Palmas de Gran Canaria, Spain, 2008.R.  Brunner and Freitag, F., “Elaborating a Decentralized Market Information System”, in On the Move to Meaningful Internet Systems 2007: OTM Academy Doctoral Consortium, Vilamoura, Portugal, 2007, vol. 4805, pp. 245–254.F.  Rodriguez-Haro, Freitag, F., Navarro, L., and Brunner, R., “Exploring the Behaviour of Fine-Grain Management for Virtual Resource Provisioning.”, in Lecture Notes in Computer Science, 2007, vol. 4967, pp. 961–970.N.  Borissov, Brunner, R., Neumann, D., Freitag, F., Navarro, L., and Weinhardt, C., “Fostering Efficiency of Computational Resource Allocation - Integrating Information Services into Markets”, in 17th European Conference on Information Systems (ECIS-2009), Verona, 2009.R.  Krishnaswamy, Navarro, L., Brunner, R., León, X., and Vilajosana, X., “Grid4All: Open Market Places for Democratic Grids.”, in Lecture Notes in Computer Science, The 5th International Workshop on Grid Economics and Business Models (GECON 2008), Las Palmas de Gran Canaria, Spain, 2008, vol. 5206, pp. 197–207.X.  León, Vilajosana, X., Brunner, R., Krishnaswamy, R., Navarro, L., Marquès, J. Manuel, and Freitag, F., “Information and Regulation in Decentralized Marketplaces for P2P-Grids”, in 16th IEEE International Workshops on Enabling Technologies: Infrastructures for Collaborative Enterprises (WETICE 2008), Rome, Italy, 2008.F.  Freitag, Chacin, P., Chao, I., Brunner, R., Navarro, L., Ardaiz, O., and Wolter, K., “Performance Measuring Framework for Grid Market Middleware.”, in Lecture Notes in Computer Science, 2007, vol. 4748, pp. 141–153.R.  Brunner, Freitag, F., and Navarro, L., “Towards the development of a decentralized market information system: Requirements and architecture.”, in PDCoF’08 The First Workshop on Parallel and Distributed Computing in Finance (Computational Finance), 2008, pp. 1–7.R.  Brunner, Freitag, F., and Navarro, L., “Uncertainty Management for the Retrieval of Economic Information from Distributed Markets.”, in Lecture Notes in Computer Science, 2008, vol. 5291, pp. 106–119.Conference ProceedingsR.  Brunner, Freitag, F., and Navarro, L., “Self-regulation of Timeliness, Messages and Accuracy in Large-scale Information Aggregation”, The 14th International Conference on Network-Based Information Systems (NBiS-2011). 2011.Journal ArticleI.  Chao, Brunner, R., Freitag, F., Navarro, L., Chacin, P., Ardaiz, O., Joita, L., and Rana, O. F., “A decentralized grid market infrastructure for service oriented grids”, Wirtschaftsinformatik, vol. 1, pp. 25-30, 2008.R.  Brunner, Caminero, A., Rana, O. F., Freitag, F., and Navarro, L., “Network-aware Summarisation for Resource Discovery in P2P-Content Networks”, Future Generation Computer Systems (FGCS), 2011. \n",
            "\n",
            "\n",
            "\n",
            "\n",
            "\n",
            "\n",
            "Powered by Drupal \n",
            "\n",
            "\n",
            " \n",
            " \n",
            " \n",
            "\n",
            "\n",
            "\n"
          ]
        }
      ]
    }
  ]
}