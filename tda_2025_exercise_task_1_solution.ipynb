{
  "nbformat": 4,
  "nbformat_minor": 0,
  "metadata": {
    "colab": {
      "provenance": [],
      "authorship_tag": "ABX9TyPI5h78niS808ZGy+Eppc+o",
      "include_colab_link": true
    },
    "kernelspec": {
      "name": "python3",
      "display_name": "Python 3"
    },
    "language_info": {
      "name": "python"
    }
  },
  "cells": [
    {
      "cell_type": "markdown",
      "metadata": {
        "id": "view-in-github",
        "colab_type": "text"
      },
      "source": [
        "<a href=\"https://colab.research.google.com/github/TurkuNLP/textual-data-analysis-course/blob/main/tda_2025_exercise_task_1_solution.ipynb\" target=\"_parent\"><img src=\"https://colab.research.google.com/assets/colab-badge.svg\" alt=\"Open In Colab\"/></a>"
      ]
    },
    {
      "cell_type": "markdown",
      "source": [
        "# Example solution for exercise task 1\n",
        "\n",
        "## Task 1 part 1 description\n",
        "\n",
        "Using the load_dataset function of the datasets library, load each of the following datasets in turn:\n",
        "\n",
        "* [stanfordnlp/imdb](https://huggingface.co/datasets/stanfordnlp/imdb)\n",
        "* [eriktks/conll2003](https://huggingface.co/datasets/eriktks/conll2003)\n",
        "* [openai/gsm8k](https://huggingface.co/datasets/openai/gsm8k)\n",
        "\n",
        "For each of the datasets, report the following information:\n",
        "\n",
        "* What NLP task is the dataset intended for (e.g. syntactic analysis, toxicity detection, etc.)? (You may need to refer to the documentation of the dataset for this.)\n",
        "* What parts is the dataset split into (e.g. train, test) and how many examples does each contain?\n",
        "* What features (e.g. text, label) does the dataset have? (Try to understand how these relate to the NLP task the dataset is intended for.)\n",
        "* What is the first item in the training set of the dataset?"
      ],
      "metadata": {
        "id": "MpmLVPhrnj0B"
      }
    },
    {
      "cell_type": "markdown",
      "source": [
        "## Task 1 part 1 example solution\n",
        "\n",
        "To answer the question \"What NLP task is the dataset intended for?\", we can refer to the linked descriptions:\n",
        "\n",
        "* [stanfordnlp/imdb](https://huggingface.co/datasets/stanfordnlp/imdb): \"*This is a dataset for binary sentiment classification*\". This is the IMDB dataset of positive and negative movie reviews that is hopefully already familiar to you from previous courses.\n",
        "* [eriktks/conll2003](https://huggingface.co/datasets/eriktks/conll2003): \"*The shared task of CoNLL-2003 concerns language-independent named entity recognition. We will concentrate on four types of named entities: persons, locations, organizations and names of miscellaneous entities*\". This is the well-known CoNLL'03 NER dataset that was discussed on the lecture.\n",
        "* [openai/gsm8k](https://huggingface.co/datasets/openai/gsm8k): \"*GSM8K (Grade School Math 8K) is a dataset of 8.5K high quality linguistically diverse grade school math word problems. [...] This dataset is generally used to test logic and math in language modelling. It has been used for many benchmarks, including the LLM Leaderboard.*\" This is a dataset of math problems that is commonly used to evaluate LLMs.\n",
        "\n",
        "The remaining three questions (split parts and their sizes, features, and first item of each) can be addressed e.g. as follows.\n",
        "\n",
        "First, install the datasets python package:"
      ],
      "metadata": {
        "id": "zTJic6ewoNBf"
      }
    },
    {
      "cell_type": "code",
      "source": [
        "!pip install --quiet datasets"
      ],
      "metadata": {
        "id": "t5l4YKPDqfab"
      },
      "execution_count": null,
      "outputs": []
    },
    {
      "cell_type": "markdown",
      "source": [
        "Then, load each of the three datasets. You'll notice minor differences in the arguments here, with `conll2003` requiring `trust_remote_code=True` to execute code in the loader (which you should generally only allow if you trust the source, which we do here) and `gsm8k` requiring the identification of a configuration, for which we'll just use `main`. (We're loading these into a dict for convenience, but this isn't a required part of the solution.)"
      ],
      "metadata": {
        "id": "ArNr1YMZrVSV"
      }
    },
    {
      "cell_type": "code",
      "execution_count": null,
      "metadata": {
        "id": "v8j1_BQXniQQ"
      },
      "outputs": [],
      "source": [
        "from datasets import load_dataset\n",
        "\n",
        "dataset_dict = {\n",
        "  'imdb': load_dataset('stanfordnlp/imdb'),\n",
        "  'conll2003': load_dataset('eriktks/conll2003', trust_remote_code=True),\n",
        "  'gsm8k': load_dataset('openai/gsm8k', 'main'),\n",
        "}"
      ]
    },
    {
      "cell_type": "markdown",
      "source": [
        "We can then write a simple function to print out the required information and invoke it with each of the datasets in turn. (You can find out how to get this information either by inspecting the dataset object or by referencing the documentation.)"
      ],
      "metadata": {
        "id": "iyi61vHosQAG"
      }
    },
    {
      "cell_type": "code",
      "source": [
        "def print_dataset_info(dataset):\n",
        "  parts = dataset.keys()\n",
        "  for part in parts:\n",
        "    print(f'part \"{part}\":')\n",
        "    print(f'\\tsize: {dataset[part].num_rows}')\n",
        "    print(f'\\tfeatures: {list(dataset[part].features.keys())}')\n",
        "  print(f'first item in training set:\\n{dataset[\"train\"][0]}')\n",
        "\n",
        "for n, d in dataset_dict.items():\n",
        "  print(f'{n}:')\n",
        "  print_dataset_info(d)\n",
        "  print('-'*78)"
      ],
      "metadata": {
        "colab": {
          "base_uri": "https://localhost:8080/"
        },
        "id": "gQn4xRGaqYdR",
        "outputId": "9a2361aa-eff6-4adf-8156-a33c6bd6cfa6"
      },
      "execution_count": null,
      "outputs": [
        {
          "output_type": "stream",
          "name": "stdout",
          "text": [
            "imdb:\n",
            "part \"train\":\n",
            "\tsize: 25000\n",
            "\tfeatures: ['text', 'label']\n",
            "part \"test\":\n",
            "\tsize: 25000\n",
            "\tfeatures: ['text', 'label']\n",
            "part \"unsupervised\":\n",
            "\tsize: 50000\n",
            "\tfeatures: ['text', 'label']\n",
            "first item in training set:\n",
            "{'text': 'I rented I AM CURIOUS-YELLOW from my video store because of all the controversy that surrounded it when it was first released in 1967. I also heard that at first it was seized by U.S. customs if it ever tried to enter this country, therefore being a fan of films considered \"controversial\" I really had to see this for myself.<br /><br />The plot is centered around a young Swedish drama student named Lena who wants to learn everything she can about life. In particular she wants to focus her attentions to making some sort of documentary on what the average Swede thought about certain political issues such as the Vietnam War and race issues in the United States. In between asking politicians and ordinary denizens of Stockholm about their opinions on politics, she has sex with her drama teacher, classmates, and married men.<br /><br />What kills me about I AM CURIOUS-YELLOW is that 40 years ago, this was considered pornographic. Really, the sex and nudity scenes are few and far between, even then it\\'s not shot like some cheaply made porno. While my countrymen mind find it shocking, in reality sex and nudity are a major staple in Swedish cinema. Even Ingmar Bergman, arguably their answer to good old boy John Ford, had sex scenes in his films.<br /><br />I do commend the filmmakers for the fact that any sex shown in the film is shown for artistic purposes rather than just to shock people and make money to be shown in pornographic theaters in America. I AM CURIOUS-YELLOW is a good film for anyone wanting to study the meat and potatoes (no pun intended) of Swedish cinema. But really, this film doesn\\'t have much of a plot.', 'label': 0}\n",
            "------------------------------------------------------------------------------\n",
            "conll2003:\n",
            "part \"train\":\n",
            "\tsize: 14041\n",
            "\tfeatures: ['id', 'tokens', 'pos_tags', 'chunk_tags', 'ner_tags']\n",
            "part \"validation\":\n",
            "\tsize: 3250\n",
            "\tfeatures: ['id', 'tokens', 'pos_tags', 'chunk_tags', 'ner_tags']\n",
            "part \"test\":\n",
            "\tsize: 3453\n",
            "\tfeatures: ['id', 'tokens', 'pos_tags', 'chunk_tags', 'ner_tags']\n",
            "first item in training set:\n",
            "{'id': '0', 'tokens': ['EU', 'rejects', 'German', 'call', 'to', 'boycott', 'British', 'lamb', '.'], 'pos_tags': [22, 42, 16, 21, 35, 37, 16, 21, 7], 'chunk_tags': [11, 21, 11, 12, 21, 22, 11, 12, 0], 'ner_tags': [3, 0, 7, 0, 0, 0, 7, 0, 0]}\n",
            "------------------------------------------------------------------------------\n",
            "gsm8k:\n",
            "part \"train\":\n",
            "\tsize: 7473\n",
            "\tfeatures: ['question', 'answer']\n",
            "part \"test\":\n",
            "\tsize: 1319\n",
            "\tfeatures: ['question', 'answer']\n",
            "first item in training set:\n",
            "{'question': 'Natalia sold clips to 48 of her friends in April, and then she sold half as many clips in May. How many clips did Natalia sell altogether in April and May?', 'answer': 'Natalia sold 48/2 = <<48/2=24>>24 clips in May.\\nNatalia sold 48+24 = <<48+24=72>>72 clips altogether in April and May.\\n#### 72'}\n",
            "------------------------------------------------------------------------------\n"
          ]
        }
      ]
    },
    {
      "cell_type": "markdown",
      "source": [
        "Some things you might note:\n",
        "* All three datasets have `train` and `test` parts, but CoNLL'03 also has `validation` (for e.g. hyperparameter optimization) and IMDB also has `unsupervised` (for e.g. semi-supervised learning)\n",
        "* IMDB and GSM8K contain plain text data (`text` and `question`/`answer`), but CoNLL'03 contains tokenized text (`tokens`) as it is a token-level labeling dataset.\n",
        "* The features for IMDB and GSM8K are simply the texts and their labels in the former and the questions and their answers in the latter. In CoNLL'03, the `ner_tags` are the named entity tags that are the target of the task, while `pos_tags` and `chunk_tags` are provided as potential supporting features for approaches using hand-engineered features."
      ],
      "metadata": {
        "id": "l8IHnbsPvCCs"
      }
    },
    {
      "cell_type": "markdown",
      "source": [
        "## Task 1 part 2 description\n",
        "\n",
        "You can find data collected from the Yle news RSS feed here: http://dl.turkunlp.org/TKO_8964_2023/\n",
        "\n",
        "Download either the Finnish or English data (`news-fi-2021.jsonl` or `news-en-2021.jsonl`) using `wget` and create a dataset from the JSONL data (see https://huggingface.co/docs/datasets/loading#json). Answer the following questions:\n",
        "\n",
        "* What NLP tasks could the dataset be used for?\n",
        "* What features does the dataset have?\n",
        "* How many space-separated words do the texts of the dataset contain in total?\n",
        "\n",
        "## Task 1 part 2 example solution\n",
        "\n",
        "We'll first download the Finnish data using `wget` as instructed"
      ],
      "metadata": {
        "id": "_R0pU_9EwzPW"
      }
    },
    {
      "cell_type": "code",
      "source": [
        "!wget http://dl.turkunlp.org/TKO_8964_2023/news-fi-2021.jsonl"
      ],
      "metadata": {
        "colab": {
          "base_uri": "https://localhost:8080/"
        },
        "id": "wCecAAEBxOCu",
        "outputId": "f7612687-f22c-4d0b-da61-51c7932b23e5"
      },
      "execution_count": null,
      "outputs": [
        {
          "output_type": "stream",
          "name": "stdout",
          "text": [
            "--2025-01-21 07:31:35--  http://dl.turkunlp.org/TKO_8964_2023/news-fi-2021.jsonl\n",
            "Resolving dl.turkunlp.org (dl.turkunlp.org)... 195.148.30.23\n",
            "Connecting to dl.turkunlp.org (dl.turkunlp.org)|195.148.30.23|:80... connected.\n",
            "HTTP request sent, awaiting response... 200 OK\n",
            "Length: 36139303 (34M) [application/octet-stream]\n",
            "Saving to: ‘news-fi-2021.jsonl’\n",
            "\n",
            "news-fi-2021.jsonl  100%[===================>]  34.46M  16.3MB/s    in 2.1s    \n",
            "\n",
            "2025-01-21 07:31:37 (16.3 MB/s) - ‘news-fi-2021.jsonl’ saved [36139303/36139303]\n",
            "\n"
          ]
        }
      ]
    },
    {
      "cell_type": "markdown",
      "source": [
        "Let's check the first line"
      ],
      "metadata": {
        "id": "PR6_Fk6wxpYI"
      }
    },
    {
      "cell_type": "code",
      "source": [
        "!head -n 1 news-fi-2021.jsonl"
      ],
      "metadata": {
        "colab": {
          "base_uri": "https://localhost:8080/"
        },
        "id": "sBqIAOlGxrrx",
        "outputId": "21b672e4-4887-417a-8106-9bb8b1c555f1"
      },
      "execution_count": null,
      "outputs": [
        {
          "output_type": "stream",
          "name": "stdout",
          "text": [
            "{\"summary\": \"Perussuomalaiset valitsee viikonloppuna uuden puheenjohtajan väistyvän Jussi Halla-ahon seuraajaksi. Vaaliin on ilmoittautunut kaikkiaan viisi ehdokasta. Ennakkosuosikkeja heistä ovat kansanedustajat Purra ja Puisto. Miten he eroavat toisistaan?\", \"tags\": [\"A-studio\", \"Euroskeptiset poliittiset puolueet\", \"Jussi Halla-aho\", \"Perussuomalaiset\", \"Populistiset puolueet\", \"Riikka Purra\", \"Sakari Puisto\", \"Suomen poliittiset puolueet\", \"Suomen politiikka\", \"politiikka\", \"puolueet\", \"puoluejohtajat\", \"suomalaiset poliitikot\"], \"text\": \"Perussuomalaisten puoluekokous kokoontuu viikonloppuna Seinäjoella. Suurin huomio keskittyy puheenjohtajan valintaan. \\n Nykyinen puheenjohtaja  Jussi Halla-aho  valittiin perussuomalaisten johtoon vuonna 2017. Kesäkuussa Halla-aho ilmoitti, ettei hae elokuun puoluekokouksessa jatkokautta. \\n Ehdolla uudeksi puheenjohtajaksi on viisi nimeä:  Kristiina Ilmarinen ,  Sakari Puisto ,  Riikka Purra ,  Ossi Tiihonen  ja  Urpo Vähäranta . \\n Näistä kansanedustajat Purra ja Puisto saivat Ylen heinäkuun kyselyssä selvästi suurimman kannatuksen: Purra 65 prosenttia, Puisto 14 prosenttia. \\n Lue lisää:   Ylen kysely perussuomalaisten vaikuttajille: Riikka Purra ylivoimainen suosikki uudeksi puheenjohtajaksi \\n Puheenjohtajakisan kahta ennakkosuosikkia on pidetty asiakysymyksissä samanlaisina ehdokkaina. Löytyykö Riikka Purran ja Sakari Puiston linjoista eroja? Mikä erottaa heidät Jussi Halla-ahosta, ja mihin suuntaan he lähtisivät puoluettaan viemään? \\n Perussuomalaisten puheenjohtajaehdokkaat Riikka Purra ja Sakari Puisto kohtaavat keskiviikkona A-studiossa TV1:ssä kello 21.05. Tentin juontaa toimittaja  Petri Raivio . \\n Lue lisää aiheesta: \\n Analyysi: Mitä tapahtui perussuomalaisten “ihmiskäsitykselle”? Puolue saa uuden puheenjohtajan ja kelpaakin ehkä taas kokoomukselle hallitukseen \\n Kuka on perussuomalaisten puheenjohtajaehdokas Riikka Purra? Aloitti työnsä puolueessa keskellä kaaosta, teini-iän kokemukset vaikuttivat ajatuksiin maahanmuutosta   \\n Perussuomalaisten johtoon pyrkivä Sakari Puisto kannattaa EU:n paluuta juurilleen – “Yhteisömme on Eurooppa, mutta sen kehitystä tulee tarkastella kriittisesti”\", \"timestamp\": \"2021-08-11T17:20:18\", \"title\": \"Perussuomalaisten puheenjohtajakisa loppusuoralla: ennakkosuosikit Sakari Puisto ja Riikka Purra kohtaavat illan A-studiossa kello 21.05\", \"url\": \"https://yle.fi/uutiset/3-12055369\"}\n"
          ]
        }
      ]
    },
    {
      "cell_type": "markdown",
      "source": [
        "Create a dataset from the JSONL following the `load_dataset` documentation"
      ],
      "metadata": {
        "id": "sLCO01Y3xkso"
      }
    },
    {
      "cell_type": "code",
      "source": [
        "d = load_dataset('json', data_files='news-fi-2021.jsonl')\n",
        "print(d)"
      ],
      "metadata": {
        "colab": {
          "base_uri": "https://localhost:8080/"
        },
        "id": "jGUGiPOBxhw3",
        "outputId": "31d07d0c-4640-428e-82f9-9305eab25874"
      },
      "execution_count": null,
      "outputs": [
        {
          "output_type": "stream",
          "name": "stdout",
          "text": [
            "DatasetDict({\n",
            "    train: Dataset({\n",
            "        features: ['summary', 'tags', 'text', 'timestamp', 'title', 'url'],\n",
            "        num_rows: 7482\n",
            "    })\n",
            "})\n"
          ]
        }
      ]
    },
    {
      "cell_type": "markdown",
      "source": [
        "`load_dataset` automatically created a \"train\" split containing all the data. Let's again look at the first example and the features"
      ],
      "metadata": {
        "id": "HEKS1VpMx_3b"
      }
    },
    {
      "cell_type": "code",
      "source": [
        "d['train'][0]"
      ],
      "metadata": {
        "colab": {
          "base_uri": "https://localhost:8080/"
        },
        "id": "N5udpscyyP38",
        "outputId": "9852a9f8-4c80-4c14-809d-3d5a1a5b846b"
      },
      "execution_count": null,
      "outputs": [
        {
          "output_type": "execute_result",
          "data": {
            "text/plain": [
              "{'summary': 'Perussuomalaiset valitsee viikonloppuna uuden puheenjohtajan väistyvän Jussi Halla-ahon seuraajaksi. Vaaliin on ilmoittautunut kaikkiaan viisi ehdokasta. Ennakkosuosikkeja heistä ovat kansanedustajat Purra ja Puisto. Miten he eroavat toisistaan?',\n",
              " 'tags': ['A-studio',\n",
              "  'Euroskeptiset poliittiset puolueet',\n",
              "  'Jussi Halla-aho',\n",
              "  'Perussuomalaiset',\n",
              "  'Populistiset puolueet',\n",
              "  'Riikka Purra',\n",
              "  'Sakari Puisto',\n",
              "  'Suomen poliittiset puolueet',\n",
              "  'Suomen politiikka',\n",
              "  'politiikka',\n",
              "  'puolueet',\n",
              "  'puoluejohtajat',\n",
              "  'suomalaiset poliitikot'],\n",
              " 'text': 'Perussuomalaisten puoluekokous kokoontuu viikonloppuna Seinäjoella. Suurin huomio keskittyy puheenjohtajan valintaan. \\n Nykyinen puheenjohtaja  Jussi Halla-aho  valittiin perussuomalaisten johtoon vuonna 2017. Kesäkuussa Halla-aho ilmoitti, ettei hae elokuun puoluekokouksessa jatkokautta. \\n Ehdolla uudeksi puheenjohtajaksi on viisi nimeä:  Kristiina Ilmarinen ,  Sakari Puisto ,  Riikka Purra ,  Ossi Tiihonen  ja  Urpo Vähäranta . \\n Näistä kansanedustajat Purra ja Puisto saivat Ylen heinäkuun kyselyssä selvästi suurimman kannatuksen: Purra 65 prosenttia, Puisto 14 prosenttia. \\n Lue lisää:   Ylen kysely perussuomalaisten vaikuttajille: Riikka Purra ylivoimainen suosikki uudeksi puheenjohtajaksi \\n Puheenjohtajakisan kahta ennakkosuosikkia on pidetty asiakysymyksissä samanlaisina ehdokkaina. Löytyykö Riikka Purran ja Sakari Puiston linjoista eroja? Mikä erottaa heidät Jussi Halla-ahosta, ja mihin suuntaan he lähtisivät puoluettaan viemään? \\n Perussuomalaisten puheenjohtajaehdokkaat Riikka Purra ja Sakari Puisto kohtaavat keskiviikkona A-studiossa TV1:ssä kello 21.05. Tentin juontaa toimittaja  Petri Raivio . \\n Lue lisää aiheesta: \\n Analyysi: Mitä tapahtui perussuomalaisten “ihmiskäsitykselle”? Puolue saa uuden puheenjohtajan ja kelpaakin ehkä taas kokoomukselle hallitukseen \\n Kuka on perussuomalaisten puheenjohtajaehdokas Riikka Purra? Aloitti työnsä puolueessa keskellä kaaosta, teini-iän kokemukset vaikuttivat ajatuksiin maahanmuutosta   \\n Perussuomalaisten johtoon pyrkivä Sakari Puisto kannattaa EU:n paluuta juurilleen – “Yhteisömme on Eurooppa, mutta sen kehitystä tulee tarkastella kriittisesti”',\n",
              " 'timestamp': datetime.datetime(2021, 8, 11, 17, 20, 18),\n",
              " 'title': 'Perussuomalaisten puheenjohtajakisa loppusuoralla: ennakkosuosikit Sakari Puisto ja Riikka Purra kohtaavat illan A-studiossa kello 21.05',\n",
              " 'url': 'https://yle.fi/uutiset/3-12055369'}"
            ]
          },
          "metadata": {},
          "execution_count": 41
        }
      ]
    },
    {
      "cell_type": "code",
      "source": [
        "d['train'].features"
      ],
      "metadata": {
        "colab": {
          "base_uri": "https://localhost:8080/"
        },
        "id": "BBINdqKTx03d",
        "outputId": "495c5320-2c22-4e03-ecb7-0780f3d8aecf"
      },
      "execution_count": null,
      "outputs": [
        {
          "output_type": "execute_result",
          "data": {
            "text/plain": [
              "{'summary': Value(dtype='string', id=None),\n",
              " 'tags': Sequence(feature=Value(dtype='string', id=None), length=-1, id=None),\n",
              " 'text': Value(dtype='string', id=None),\n",
              " 'timestamp': Value(dtype='timestamp[s]', id=None),\n",
              " 'title': Value(dtype='string', id=None),\n",
              " 'url': Value(dtype='string', id=None)}"
            ]
          },
          "metadata": {},
          "execution_count": 42
        }
      ]
    },
    {
      "cell_type": "markdown",
      "source": [
        "The dataset consists of titles, summaries, and texts of news items, each associated with a timestamp, a URL, and a set of tags. This data could be used to support a variety of NLP tasks, for example summarization, tag generation, and language model training or evaluation."
      ],
      "metadata": {
        "id": "msCCQd--yZFt"
      }
    },
    {
      "cell_type": "markdown",
      "source": [
        "Finally, let's grab the total number of space-separated words (tokens) in the texts."
      ],
      "metadata": {
        "id": "SayTw0auy6SJ"
      }
    },
    {
      "cell_type": "code",
      "source": [
        "total = 0\n",
        "\n",
        "for item in d['train']:\n",
        "  text = item['text']\n",
        "  tokens = text.split()\n",
        "  total += len(tokens)\n",
        "\n",
        "print(total)"
      ],
      "metadata": {
        "colab": {
          "base_uri": "https://localhost:8080/"
        },
        "id": "dTtXPXJ1x6IH",
        "outputId": "9985568f-9d47-4328-8787-b3e36e172b50"
      },
      "execution_count": null,
      "outputs": [
        {
          "output_type": "stream",
          "name": "stdout",
          "text": [
            "3413542\n"
          ]
        }
      ]
    }
  ]
}