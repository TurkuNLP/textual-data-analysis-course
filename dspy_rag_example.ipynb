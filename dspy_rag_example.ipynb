{
  "nbformat": 4,
  "nbformat_minor": 0,
  "metadata": {
    "colab": {
      "provenance": [],
      "authorship_tag": "ABX9TyMnYjLYz/Q/LyBz7MlwMzWc",
      "include_colab_link": true
    },
    "kernelspec": {
      "name": "python3",
      "display_name": "Python 3"
    },
    "language_info": {
      "name": "python"
    }
  },
  "cells": [
    {
      "cell_type": "markdown",
      "metadata": {
        "id": "view-in-github",
        "colab_type": "text"
      },
      "source": [
        "<a href=\"https://colab.research.google.com/github/TurkuNLP/textual-data-analysis-course/blob/main/dspy_rag_example.ipynb\" target=\"_parent\"><img src=\"https://colab.research.google.com/assets/colab-badge.svg\" alt=\"Open In Colab\"/></a>"
      ]
    },
    {
      "cell_type": "markdown",
      "source": [
        "# DSPy-based \"naive\" RAG\n",
        "\n",
        "* Directly follows the RAG tutorial in DSPy\n",
        "* Uses our news data as the document collection\n",
        "* OpenAI-based embeddings"
      ],
      "metadata": {
        "id": "SAJwleWShZH5"
      }
    },
    {
      "cell_type": "code",
      "source": [
        "!pip3 install dspy"
      ],
      "metadata": {
        "colab": {
          "base_uri": "https://localhost:8080/"
        },
        "collapsed": true,
        "id": "yCh-M2E_eIz4",
        "outputId": "031d9474-c934-4930-c50f-c3b502e8aee6"
      },
      "execution_count": 1,
      "outputs": [
        {
          "output_type": "stream",
          "name": "stdout",
          "text": [
            "Collecting dspy\n",
            "  Downloading dspy-2.6.8-py3-none-any.whl.metadata (7.3 kB)\n",
            "Collecting backoff (from dspy)\n",
            "  Downloading backoff-2.2.1-py3-none-any.whl.metadata (14 kB)\n",
            "Requirement already satisfied: joblib~=1.3 in /usr/local/lib/python3.11/dist-packages (from dspy) (1.4.2)\n",
            "Requirement already satisfied: openai in /usr/local/lib/python3.11/dist-packages (from dspy) (1.61.1)\n",
            "Requirement already satisfied: pandas in /usr/local/lib/python3.11/dist-packages (from dspy) (2.2.2)\n",
            "Requirement already satisfied: regex in /usr/local/lib/python3.11/dist-packages (from dspy) (2024.11.6)\n",
            "Collecting ujson (from dspy)\n",
            "  Downloading ujson-5.10.0-cp311-cp311-manylinux_2_17_x86_64.manylinux2014_x86_64.whl.metadata (9.3 kB)\n",
            "Requirement already satisfied: tqdm in /usr/local/lib/python3.11/dist-packages (from dspy) (4.67.1)\n",
            "Collecting datasets<3.0.0,>=2.14.6 (from dspy)\n",
            "  Downloading datasets-2.21.0-py3-none-any.whl.metadata (21 kB)\n",
            "Requirement already satisfied: requests in /usr/local/lib/python3.11/dist-packages (from dspy) (2.32.3)\n",
            "Collecting optuna (from dspy)\n",
            "  Downloading optuna-4.2.1-py3-none-any.whl.metadata (17 kB)\n",
            "Requirement already satisfied: pydantic~=2.0 in /usr/local/lib/python3.11/dist-packages (from dspy) (2.10.6)\n",
            "Requirement already satisfied: jinja2 in /usr/local/lib/python3.11/dist-packages (from dspy) (3.1.5)\n",
            "Collecting magicattr~=0.1.6 (from dspy)\n",
            "  Downloading magicattr-0.1.6-py2.py3-none-any.whl.metadata (3.2 kB)\n",
            "Collecting litellm<2.0.0,>=1.59.8 (from dspy)\n",
            "  Downloading litellm-1.61.20-py3-none-any.whl.metadata (37 kB)\n",
            "Collecting diskcache (from dspy)\n",
            "  Downloading diskcache-5.6.3-py3-none-any.whl.metadata (20 kB)\n",
            "Collecting json-repair (from dspy)\n",
            "  Downloading json_repair-0.39.1-py3-none-any.whl.metadata (11 kB)\n",
            "Requirement already satisfied: tenacity>=8.2.3 in /usr/local/lib/python3.11/dist-packages (from dspy) (9.0.0)\n",
            "Requirement already satisfied: anyio in /usr/local/lib/python3.11/dist-packages (from dspy) (3.7.1)\n",
            "Collecting asyncer==0.0.8 (from dspy)\n",
            "  Downloading asyncer-0.0.8-py3-none-any.whl.metadata (6.7 kB)\n",
            "Requirement already satisfied: cachetools in /usr/local/lib/python3.11/dist-packages (from dspy) (5.5.2)\n",
            "Requirement already satisfied: cloudpickle in /usr/local/lib/python3.11/dist-packages (from dspy) (3.1.1)\n",
            "Requirement already satisfied: idna>=2.8 in /usr/local/lib/python3.11/dist-packages (from anyio->dspy) (3.10)\n",
            "Requirement already satisfied: sniffio>=1.1 in /usr/local/lib/python3.11/dist-packages (from anyio->dspy) (1.3.1)\n",
            "Requirement already satisfied: filelock in /usr/local/lib/python3.11/dist-packages (from datasets<3.0.0,>=2.14.6->dspy) (3.17.0)\n",
            "Requirement already satisfied: numpy>=1.17 in /usr/local/lib/python3.11/dist-packages (from datasets<3.0.0,>=2.14.6->dspy) (1.26.4)\n",
            "Requirement already satisfied: pyarrow>=15.0.0 in /usr/local/lib/python3.11/dist-packages (from datasets<3.0.0,>=2.14.6->dspy) (18.1.0)\n",
            "Collecting dill<0.3.9,>=0.3.0 (from datasets<3.0.0,>=2.14.6->dspy)\n",
            "  Downloading dill-0.3.8-py3-none-any.whl.metadata (10 kB)\n",
            "Collecting xxhash (from datasets<3.0.0,>=2.14.6->dspy)\n",
            "  Downloading xxhash-3.5.0-cp311-cp311-manylinux_2_17_x86_64.manylinux2014_x86_64.whl.metadata (12 kB)\n",
            "Collecting multiprocess (from datasets<3.0.0,>=2.14.6->dspy)\n",
            "  Downloading multiprocess-0.70.17-py311-none-any.whl.metadata (7.2 kB)\n",
            "Collecting fsspec<=2024.6.1,>=2023.1.0 (from fsspec[http]<=2024.6.1,>=2023.1.0->datasets<3.0.0,>=2.14.6->dspy)\n",
            "  Downloading fsspec-2024.6.1-py3-none-any.whl.metadata (11 kB)\n",
            "Requirement already satisfied: aiohttp in /usr/local/lib/python3.11/dist-packages (from datasets<3.0.0,>=2.14.6->dspy) (3.11.13)\n",
            "Requirement already satisfied: huggingface-hub>=0.21.2 in /usr/local/lib/python3.11/dist-packages (from datasets<3.0.0,>=2.14.6->dspy) (0.28.1)\n",
            "Requirement already satisfied: packaging in /usr/local/lib/python3.11/dist-packages (from datasets<3.0.0,>=2.14.6->dspy) (24.2)\n",
            "Requirement already satisfied: pyyaml>=5.1 in /usr/local/lib/python3.11/dist-packages (from datasets<3.0.0,>=2.14.6->dspy) (6.0.2)\n",
            "Requirement already satisfied: click in /usr/local/lib/python3.11/dist-packages (from litellm<2.0.0,>=1.59.8->dspy) (8.1.8)\n",
            "Requirement already satisfied: httpx>=0.23.0 in /usr/local/lib/python3.11/dist-packages (from litellm<2.0.0,>=1.59.8->dspy) (0.28.1)\n",
            "Requirement already satisfied: importlib-metadata>=6.8.0 in /usr/local/lib/python3.11/dist-packages (from litellm<2.0.0,>=1.59.8->dspy) (8.6.1)\n",
            "Requirement already satisfied: jsonschema<5.0.0,>=4.22.0 in /usr/local/lib/python3.11/dist-packages (from litellm<2.0.0,>=1.59.8->dspy) (4.23.0)\n",
            "Collecting python-dotenv>=0.2.0 (from litellm<2.0.0,>=1.59.8->dspy)\n",
            "  Downloading python_dotenv-1.0.1-py3-none-any.whl.metadata (23 kB)\n",
            "Collecting tiktoken>=0.7.0 (from litellm<2.0.0,>=1.59.8->dspy)\n",
            "  Downloading tiktoken-0.9.0-cp311-cp311-manylinux_2_17_x86_64.manylinux2014_x86_64.whl.metadata (6.7 kB)\n",
            "Requirement already satisfied: tokenizers in /usr/local/lib/python3.11/dist-packages (from litellm<2.0.0,>=1.59.8->dspy) (0.21.0)\n",
            "Requirement already satisfied: MarkupSafe>=2.0 in /usr/local/lib/python3.11/dist-packages (from jinja2->dspy) (3.0.2)\n",
            "Requirement already satisfied: distro<2,>=1.7.0 in /usr/local/lib/python3.11/dist-packages (from openai->dspy) (1.9.0)\n",
            "Requirement already satisfied: jiter<1,>=0.4.0 in /usr/local/lib/python3.11/dist-packages (from openai->dspy) (0.8.2)\n",
            "Requirement already satisfied: typing-extensions<5,>=4.11 in /usr/local/lib/python3.11/dist-packages (from openai->dspy) (4.12.2)\n",
            "Requirement already satisfied: annotated-types>=0.6.0 in /usr/local/lib/python3.11/dist-packages (from pydantic~=2.0->dspy) (0.7.0)\n",
            "Requirement already satisfied: pydantic-core==2.27.2 in /usr/local/lib/python3.11/dist-packages (from pydantic~=2.0->dspy) (2.27.2)\n",
            "Requirement already satisfied: charset-normalizer<4,>=2 in /usr/local/lib/python3.11/dist-packages (from requests->dspy) (3.4.1)\n",
            "Requirement already satisfied: urllib3<3,>=1.21.1 in /usr/local/lib/python3.11/dist-packages (from requests->dspy) (2.3.0)\n",
            "Requirement already satisfied: certifi>=2017.4.17 in /usr/local/lib/python3.11/dist-packages (from requests->dspy) (2025.1.31)\n",
            "Collecting alembic>=1.5.0 (from optuna->dspy)\n",
            "  Downloading alembic-1.14.1-py3-none-any.whl.metadata (7.4 kB)\n",
            "Collecting colorlog (from optuna->dspy)\n",
            "  Downloading colorlog-6.9.0-py3-none-any.whl.metadata (10 kB)\n",
            "Requirement already satisfied: sqlalchemy>=1.4.2 in /usr/local/lib/python3.11/dist-packages (from optuna->dspy) (2.0.38)\n",
            "Requirement already satisfied: python-dateutil>=2.8.2 in /usr/local/lib/python3.11/dist-packages (from pandas->dspy) (2.8.2)\n",
            "Requirement already satisfied: pytz>=2020.1 in /usr/local/lib/python3.11/dist-packages (from pandas->dspy) (2025.1)\n",
            "Requirement already satisfied: tzdata>=2022.7 in /usr/local/lib/python3.11/dist-packages (from pandas->dspy) (2025.1)\n",
            "Collecting Mako (from alembic>=1.5.0->optuna->dspy)\n",
            "  Downloading Mako-1.3.9-py3-none-any.whl.metadata (2.9 kB)\n",
            "Requirement already satisfied: aiohappyeyeballs>=2.3.0 in /usr/local/lib/python3.11/dist-packages (from aiohttp->datasets<3.0.0,>=2.14.6->dspy) (2.4.6)\n",
            "Requirement already satisfied: aiosignal>=1.1.2 in /usr/local/lib/python3.11/dist-packages (from aiohttp->datasets<3.0.0,>=2.14.6->dspy) (1.3.2)\n",
            "Requirement already satisfied: attrs>=17.3.0 in /usr/local/lib/python3.11/dist-packages (from aiohttp->datasets<3.0.0,>=2.14.6->dspy) (25.1.0)\n",
            "Requirement already satisfied: frozenlist>=1.1.1 in /usr/local/lib/python3.11/dist-packages (from aiohttp->datasets<3.0.0,>=2.14.6->dspy) (1.5.0)\n",
            "Requirement already satisfied: multidict<7.0,>=4.5 in /usr/local/lib/python3.11/dist-packages (from aiohttp->datasets<3.0.0,>=2.14.6->dspy) (6.1.0)\n",
            "Requirement already satisfied: propcache>=0.2.0 in /usr/local/lib/python3.11/dist-packages (from aiohttp->datasets<3.0.0,>=2.14.6->dspy) (0.3.0)\n",
            "Requirement already satisfied: yarl<2.0,>=1.17.0 in /usr/local/lib/python3.11/dist-packages (from aiohttp->datasets<3.0.0,>=2.14.6->dspy) (1.18.3)\n",
            "Requirement already satisfied: httpcore==1.* in /usr/local/lib/python3.11/dist-packages (from httpx>=0.23.0->litellm<2.0.0,>=1.59.8->dspy) (1.0.7)\n",
            "Requirement already satisfied: h11<0.15,>=0.13 in /usr/local/lib/python3.11/dist-packages (from httpcore==1.*->httpx>=0.23.0->litellm<2.0.0,>=1.59.8->dspy) (0.14.0)\n",
            "Requirement already satisfied: zipp>=3.20 in /usr/local/lib/python3.11/dist-packages (from importlib-metadata>=6.8.0->litellm<2.0.0,>=1.59.8->dspy) (3.21.0)\n",
            "Requirement already satisfied: jsonschema-specifications>=2023.03.6 in /usr/local/lib/python3.11/dist-packages (from jsonschema<5.0.0,>=4.22.0->litellm<2.0.0,>=1.59.8->dspy) (2024.10.1)\n",
            "Requirement already satisfied: referencing>=0.28.4 in /usr/local/lib/python3.11/dist-packages (from jsonschema<5.0.0,>=4.22.0->litellm<2.0.0,>=1.59.8->dspy) (0.36.2)\n",
            "Requirement already satisfied: rpds-py>=0.7.1 in /usr/local/lib/python3.11/dist-packages (from jsonschema<5.0.0,>=4.22.0->litellm<2.0.0,>=1.59.8->dspy) (0.23.1)\n",
            "Requirement already satisfied: six>=1.5 in /usr/local/lib/python3.11/dist-packages (from python-dateutil>=2.8.2->pandas->dspy) (1.17.0)\n",
            "Requirement already satisfied: greenlet!=0.4.17 in /usr/local/lib/python3.11/dist-packages (from sqlalchemy>=1.4.2->optuna->dspy) (3.1.1)\n",
            "INFO: pip is looking at multiple versions of multiprocess to determine which version is compatible with other requirements. This could take a while.\n",
            "Collecting multiprocess (from datasets<3.0.0,>=2.14.6->dspy)\n",
            "  Downloading multiprocess-0.70.16-py311-none-any.whl.metadata (7.2 kB)\n",
            "Downloading dspy-2.6.8-py3-none-any.whl (254 kB)\n",
            "\u001b[2K   \u001b[90m━━━━━━━━━━━━━━━━━━━━━━━━━━━━━━━━━━━━━━━━\u001b[0m \u001b[32m255.0/255.0 kB\u001b[0m \u001b[31m11.0 MB/s\u001b[0m eta \u001b[36m0:00:00\u001b[0m\n",
            "\u001b[?25hDownloading asyncer-0.0.8-py3-none-any.whl (9.2 kB)\n",
            "Downloading datasets-2.21.0-py3-none-any.whl (527 kB)\n",
            "\u001b[2K   \u001b[90m━━━━━━━━━━━━━━━━━━━━━━━━━━━━━━━━━━━━━━━━\u001b[0m \u001b[32m527.3/527.3 kB\u001b[0m \u001b[31m25.4 MB/s\u001b[0m eta \u001b[36m0:00:00\u001b[0m\n",
            "\u001b[?25hDownloading litellm-1.61.20-py3-none-any.whl (6.9 MB)\n",
            "\u001b[2K   \u001b[90m━━━━━━━━━━━━━━━━━━━━━━━━━━━━━━━━━━━━━━━━\u001b[0m \u001b[32m6.9/6.9 MB\u001b[0m \u001b[31m71.1 MB/s\u001b[0m eta \u001b[36m0:00:00\u001b[0m\n",
            "\u001b[?25hDownloading magicattr-0.1.6-py2.py3-none-any.whl (4.7 kB)\n",
            "Downloading backoff-2.2.1-py3-none-any.whl (15 kB)\n",
            "Downloading diskcache-5.6.3-py3-none-any.whl (45 kB)\n",
            "\u001b[2K   \u001b[90m━━━━━━━━━━━━━━━━━━━━━━━━━━━━━━━━━━━━━━━━\u001b[0m \u001b[32m45.5/45.5 kB\u001b[0m \u001b[31m3.4 MB/s\u001b[0m eta \u001b[36m0:00:00\u001b[0m\n",
            "\u001b[?25hDownloading json_repair-0.39.1-py3-none-any.whl (20 kB)\n",
            "Downloading optuna-4.2.1-py3-none-any.whl (383 kB)\n",
            "\u001b[2K   \u001b[90m━━━━━━━━━━━━━━━━━━━━━━━━━━━━━━━━━━━━━━━━\u001b[0m \u001b[32m383.6/383.6 kB\u001b[0m \u001b[31m28.9 MB/s\u001b[0m eta \u001b[36m0:00:00\u001b[0m\n",
            "\u001b[?25hDownloading ujson-5.10.0-cp311-cp311-manylinux_2_17_x86_64.manylinux2014_x86_64.whl (53 kB)\n",
            "\u001b[2K   \u001b[90m━━━━━━━━━━━━━━━━━━━━━━━━━━━━━━━━━━━━━━━━\u001b[0m \u001b[32m53.6/53.6 kB\u001b[0m \u001b[31m3.4 MB/s\u001b[0m eta \u001b[36m0:00:00\u001b[0m\n",
            "\u001b[?25hDownloading alembic-1.14.1-py3-none-any.whl (233 kB)\n",
            "\u001b[2K   \u001b[90m━━━━━━━━━━━━━━━━━━━━━━━━━━━━━━━━━━━━━━━━\u001b[0m \u001b[32m233.6/233.6 kB\u001b[0m \u001b[31m18.7 MB/s\u001b[0m eta \u001b[36m0:00:00\u001b[0m\n",
            "\u001b[?25hDownloading dill-0.3.8-py3-none-any.whl (116 kB)\n",
            "\u001b[2K   \u001b[90m━━━━━━━━━━━━━━━━━━━━━━━━━━━━━━━━━━━━━━━━\u001b[0m \u001b[32m116.3/116.3 kB\u001b[0m \u001b[31m9.2 MB/s\u001b[0m eta \u001b[36m0:00:00\u001b[0m\n",
            "\u001b[?25hDownloading fsspec-2024.6.1-py3-none-any.whl (177 kB)\n",
            "\u001b[2K   \u001b[90m━━━━━━━━━━━━━━━━━━━━━━━━━━━━━━━━━━━━━━━━\u001b[0m \u001b[32m177.6/177.6 kB\u001b[0m \u001b[31m14.6 MB/s\u001b[0m eta \u001b[36m0:00:00\u001b[0m\n",
            "\u001b[?25hDownloading python_dotenv-1.0.1-py3-none-any.whl (19 kB)\n",
            "Downloading tiktoken-0.9.0-cp311-cp311-manylinux_2_17_x86_64.manylinux2014_x86_64.whl (1.2 MB)\n",
            "\u001b[2K   \u001b[90m━━━━━━━━━━━━━━━━━━━━━━━━━━━━━━━━━━━━━━━━\u001b[0m \u001b[32m1.2/1.2 MB\u001b[0m \u001b[31m47.1 MB/s\u001b[0m eta \u001b[36m0:00:00\u001b[0m\n",
            "\u001b[?25hDownloading colorlog-6.9.0-py3-none-any.whl (11 kB)\n",
            "Downloading multiprocess-0.70.16-py311-none-any.whl (143 kB)\n",
            "\u001b[2K   \u001b[90m━━━━━━━━━━━━━━━━━━━━━━━━━━━━━━━━━━━━━━━━\u001b[0m \u001b[32m143.5/143.5 kB\u001b[0m \u001b[31m10.1 MB/s\u001b[0m eta \u001b[36m0:00:00\u001b[0m\n",
            "\u001b[?25hDownloading xxhash-3.5.0-cp311-cp311-manylinux_2_17_x86_64.manylinux2014_x86_64.whl (194 kB)\n",
            "\u001b[2K   \u001b[90m━━━━━━━━━━━━━━━━━━━━━━━━━━━━━━━━━━━━━━━━\u001b[0m \u001b[32m194.8/194.8 kB\u001b[0m \u001b[31m13.1 MB/s\u001b[0m eta \u001b[36m0:00:00\u001b[0m\n",
            "\u001b[?25hDownloading Mako-1.3.9-py3-none-any.whl (78 kB)\n",
            "\u001b[2K   \u001b[90m━━━━━━━━━━━━━━━━━━━━━━━━━━━━━━━━━━━━━━━━\u001b[0m \u001b[32m78.5/78.5 kB\u001b[0m \u001b[31m5.3 MB/s\u001b[0m eta \u001b[36m0:00:00\u001b[0m\n",
            "\u001b[?25hInstalling collected packages: magicattr, xxhash, ujson, python-dotenv, Mako, json-repair, fsspec, diskcache, dill, colorlog, backoff, tiktoken, multiprocess, asyncer, alembic, optuna, litellm, datasets, dspy\n",
            "  Attempting uninstall: fsspec\n",
            "    Found existing installation: fsspec 2024.10.0\n",
            "    Uninstalling fsspec-2024.10.0:\n",
            "      Successfully uninstalled fsspec-2024.10.0\n",
            "\u001b[31mERROR: pip's dependency resolver does not currently take into account all the packages that are installed. This behaviour is the source of the following dependency conflicts.\n",
            "torch 2.5.1+cu124 requires nvidia-cublas-cu12==12.4.5.8; platform_system == \"Linux\" and platform_machine == \"x86_64\", but you have nvidia-cublas-cu12 12.5.3.2 which is incompatible.\n",
            "torch 2.5.1+cu124 requires nvidia-cuda-cupti-cu12==12.4.127; platform_system == \"Linux\" and platform_machine == \"x86_64\", but you have nvidia-cuda-cupti-cu12 12.5.82 which is incompatible.\n",
            "torch 2.5.1+cu124 requires nvidia-cuda-nvrtc-cu12==12.4.127; platform_system == \"Linux\" and platform_machine == \"x86_64\", but you have nvidia-cuda-nvrtc-cu12 12.5.82 which is incompatible.\n",
            "torch 2.5.1+cu124 requires nvidia-cuda-runtime-cu12==12.4.127; platform_system == \"Linux\" and platform_machine == \"x86_64\", but you have nvidia-cuda-runtime-cu12 12.5.82 which is incompatible.\n",
            "torch 2.5.1+cu124 requires nvidia-cudnn-cu12==9.1.0.70; platform_system == \"Linux\" and platform_machine == \"x86_64\", but you have nvidia-cudnn-cu12 9.3.0.75 which is incompatible.\n",
            "torch 2.5.1+cu124 requires nvidia-cufft-cu12==11.2.1.3; platform_system == \"Linux\" and platform_machine == \"x86_64\", but you have nvidia-cufft-cu12 11.2.3.61 which is incompatible.\n",
            "torch 2.5.1+cu124 requires nvidia-curand-cu12==10.3.5.147; platform_system == \"Linux\" and platform_machine == \"x86_64\", but you have nvidia-curand-cu12 10.3.6.82 which is incompatible.\n",
            "torch 2.5.1+cu124 requires nvidia-cusolver-cu12==11.6.1.9; platform_system == \"Linux\" and platform_machine == \"x86_64\", but you have nvidia-cusolver-cu12 11.6.3.83 which is incompatible.\n",
            "torch 2.5.1+cu124 requires nvidia-cusparse-cu12==12.3.1.170; platform_system == \"Linux\" and platform_machine == \"x86_64\", but you have nvidia-cusparse-cu12 12.5.1.3 which is incompatible.\n",
            "torch 2.5.1+cu124 requires nvidia-nvjitlink-cu12==12.4.127; platform_system == \"Linux\" and platform_machine == \"x86_64\", but you have nvidia-nvjitlink-cu12 12.5.82 which is incompatible.\n",
            "gcsfs 2024.10.0 requires fsspec==2024.10.0, but you have fsspec 2024.6.1 which is incompatible.\u001b[0m\u001b[31m\n",
            "\u001b[0mSuccessfully installed Mako-1.3.9 alembic-1.14.1 asyncer-0.0.8 backoff-2.2.1 colorlog-6.9.0 datasets-2.21.0 dill-0.3.8 diskcache-5.6.3 dspy-2.6.8 fsspec-2024.6.1 json-repair-0.39.1 litellm-1.61.20 magicattr-0.1.6 multiprocess-0.70.16 optuna-4.2.1 python-dotenv-1.0.1 tiktoken-0.9.0 ujson-5.10.0 xxhash-3.5.0\n"
          ]
        }
      ]
    },
    {
      "cell_type": "code",
      "execution_count": 3,
      "metadata": {
        "id": "VfH4qCuPd4f5"
      },
      "outputs": [],
      "source": [
        "import dspy\n",
        "import json\n",
        "\n",
        "\n",
        "#api_keys.py has a GPT4o_API_KEY variable\n",
        "from api_keys import *\n",
        "\n",
        "lm = dspy.LM('openai/gpt-4o-mini', api_key=GPT4o_API_KEY)\n",
        "dspy.configure(lm=lm)"
      ]
    },
    {
      "cell_type": "code",
      "source": [
        "!wget http://dl.turkunlp.org/TKO_8964_2023/news-en-2021.jsonl"
      ],
      "metadata": {
        "colab": {
          "base_uri": "https://localhost:8080/"
        },
        "id": "5Rs3pRAqeAsj",
        "outputId": "ccfb90d0-ba57-456e-b9fb-8cd55cf40327"
      },
      "execution_count": 4,
      "outputs": [
        {
          "output_type": "stream",
          "name": "stdout",
          "text": [
            "--2025-03-02 20:18:13--  http://dl.turkunlp.org/TKO_8964_2023/news-en-2021.jsonl\n",
            "Resolving dl.turkunlp.org (dl.turkunlp.org)... 195.148.30.23\n",
            "Connecting to dl.turkunlp.org (dl.turkunlp.org)|195.148.30.23|:80... connected.\n",
            "HTTP request sent, awaiting response... 200 OK\n",
            "Length: 3385882 (3.2M) [application/octet-stream]\n",
            "Saving to: ‘news-en-2021.jsonl’\n",
            "\n",
            "news-en-2021.jsonl  100%[===================>]   3.23M  11.0MB/s    in 0.3s    \n",
            "\n",
            "2025-03-02 20:18:14 (11.0 MB/s) - ‘news-en-2021.jsonl’ saved [3385882/3385882]\n",
            "\n"
          ]
        }
      ]
    },
    {
      "cell_type": "code",
      "source": [
        "news=[]\n",
        "with open(\"news-en-2021.jsonl\") as f:\n",
        "    for line in f:\n",
        "        d=json.loads(line)\n",
        "        news.append(d)\n",
        "news_dspy=[dspy.Example(document=s[\"text\"]).with_inputs(\"document\") for s in news]\n",
        "print(news_dspy[0])"
      ],
      "metadata": {
        "colab": {
          "base_uri": "https://localhost:8080/"
        },
        "id": "fYjFW_mnecKM",
        "outputId": "f6b61e6c-8123-40b0-dff1-22bde617833f"
      },
      "execution_count": 5,
      "outputs": [
        {
          "output_type": "stream",
          "name": "stdout",
          "text": [
            "Example({'document': 'Finland\\'s government is pushing ahead with plans to introduce a Covid pass, following a meeting of ministers at the House of the Estates in Helsinki on Thursday afternoon. \\n \"There are still many open questions that need to be answered. At this point, it is impossible to promise that the pass will come or when it will come,\" Prime Minister  Sanna Marin  (SDP) told the media following the conclusion of the meeting. \\n \"The government has given the green light to the Covid pass and preparations will continue,\" Marin added. \\n Minister of Economic Affairs  Mika Lintilä  (Cen) told reporters immediately after the meeting that there was broad agreement between the coalition parties over the need for the certificate. \\n \"It [the pass] is an important tool so that we will not need restrictions any more,\" Lintilä said. \\n The government also decided at Thursday afternoon\\'s meeting to offer coronavirus vaccines to all 12- to 15-year-olds, starting as early as next week. \\n \"Fortunately, we have received an extra batch of approximately 200,000 doses of vaccine in Finland, from which these vaccinations [for 12- to 15-year-olds] can be started without interfering with other vaccination programmes,\" Marin told Yle\\'s A-studio on Wednesday evening. \\n Restrictions for bars, restaurants in spreading regions \\n Furthermore, the government will reintroduce restrictions on the opening hours and operations of bars and restaurants due to the deteriorating coronavirus situation in regions considered to be in the spreading — or most serious — phase of the epidemic. \\n This means that bars and restaurants in the regions of Southwest Finland, Pirkanmaa and Kymenlaakso, as well as the Helsinki metropolitan area, will have to adapt to new regulations that are due to take effect from Sunday. \\n The measures include the opening hours of bars being limited to between 7am and 10pm, while restaurants can stay open one hour later. A ban on karaoke and dancing indoors has also been reintroduced. \\n There will be no changes to the opening hours of bars or restaurants in regions considered to be in the acceleration phase of the pandemic. \\n Changes to external border traffic \\n The government has also decided to make changes to the restrictions on Finland\\'s external border traffic, according to the Ministry of the Interior. External border traffic refers to traffic between Finland and countries not belonging to the Schengen area. \\n The regulations currently in effect will be amended, beginning from 9 August, so that entry restrictions are removed for Ukrainian residents traveling to Finland from Ukraine. \\n Restrictions on entry will be restored for residents of Azerbaijan, South Korea, Japan, Moldova, Serbia and Singapore travelling from these countries to Finland. \\n If a person arriving from the above-mentioned countries has not received a full series of vaccinations, the permitted entry criteria are a resident returning to Finland or other EU or Schengen countries, transit of regular scheduled flight traffic at the airport, or other essential reasons. \\n A person can travel to Finland from any country by presenting an acceptable certificate of the full vaccination series. \\n These new regulations aside, the restrictions that entered into force on 19 July still apply. \\n The latest restrictions are in effect until 22 August. \\n Protesters demand \"same rules for all\" \\n A small but vocal group of protestors, representing cultural sector workers, gathered near the House of the Estates while the government meeting was ongoing to demonstrate against coronavirus restrictions, demanding a fairer distribution of measures. \\n Restrictions have hit especially hard on the cultural and event industry, with many workers in the sector unable to work for the past year and a half. At the same time, the protestors pointed out, shopping malls have been allowed to operate as normal. \\n \"Same rules for all,\" the protesters chanted.'}) (input_keys={'document'})\n"
          ]
        }
      ]
    },
    {
      "cell_type": "markdown",
      "source": [
        "# Embed\n",
        "\n",
        "* This embeds the documents for later retrieval\n",
        "* To keep things lean and simple, we embed whole documents (no chunking, no sliding window, etc.)\n",
        "* First 4,000 chars of each document embedded, rest ignored"
      ],
      "metadata": {
        "id": "YQwY4gUHhuGt"
      }
    },
    {
      "cell_type": "code",
      "source": [
        "embedder = dspy.Embedder('openai/text-embedding-3-small', dimensions=512, api_key=GPT4o_API_KEY)\n",
        "search = dspy.retrievers.Embeddings(embedder=embedder, corpus=[d.document[:4000] for d in news_dspy], k=5)"
      ],
      "metadata": {
        "id": "M9X8D71wegMb"
      },
      "execution_count": 7,
      "outputs": []
    },
    {
      "cell_type": "code",
      "source": [
        "class RAG(dspy.Module):\n",
        "    def __init__(self):\n",
        "        self.respond = dspy.ChainOfThought('context, question -> response')\n",
        "\n",
        "    def forward(self, question):\n",
        "        context = search(question).passages\n",
        "        return self.respond(context=context, question=question)\n",
        "\n",
        "rag=RAG()"
      ],
      "metadata": {
        "id": "gyL98N56g96G"
      },
      "execution_count": 8,
      "outputs": []
    },
    {
      "cell_type": "code",
      "source": [
        "rag(question=\"What is the average rent in Helsinki?\")"
      ],
      "metadata": {
        "colab": {
          "base_uri": "https://localhost:8080/"
        },
        "id": "CDXepCOLhD2r",
        "outputId": "95ddfeee-1ae7-4324-e262-291c0354a5e3"
      },
      "execution_count": 9,
      "outputs": [
        {
          "output_type": "execute_result",
          "data": {
            "text/plain": [
              "Prediction(\n",
              "    reasoning='The context provides specific figures for rental prices in Helsinki. It states that the median rent for a studio apartment in central Helsinki is 809 euros per month. Additionally, it mentions that larger homes, such as three-room apartments, have a median rent of 1,634 euros in downtown Helsinki. Therefore, the average rent can be inferred from these figures, particularly focusing on the studio apartment as a common rental type.',\n",
              "    response='The average rent for a studio apartment in central Helsinki is 809 euros per month.'\n",
              ")"
            ]
          },
          "metadata": {},
          "execution_count": 9
        }
      ]
    },
    {
      "cell_type": "code",
      "source": [
        "lm.inspect_history(1)"
      ],
      "metadata": {
        "colab": {
          "base_uri": "https://localhost:8080/"
        },
        "id": "8bpuVoNShN1j",
        "outputId": "ac5488e9-91f7-4ede-c42d-cd629301a302"
      },
      "execution_count": 10,
      "outputs": [
        {
          "output_type": "stream",
          "name": "stdout",
          "text": [
            "\n",
            "\n",
            "\n",
            "\n",
            "\u001b[34m[2025-03-02T20:20:42.436532]\u001b[0m\n",
            "\n",
            "\u001b[31mSystem message:\u001b[0m\n",
            "\n",
            "Your input fields are:\n",
            "1. `context` (str)\n",
            "2. `question` (str)\n",
            "\n",
            "Your output fields are:\n",
            "1. `reasoning` (str)\n",
            "2. `response` (str)\n",
            "\n",
            "All interactions will be structured in the following way, with the appropriate values filled in.\n",
            "\n",
            "[[ ## context ## ]]\n",
            "{context}\n",
            "\n",
            "[[ ## question ## ]]\n",
            "{question}\n",
            "\n",
            "[[ ## reasoning ## ]]\n",
            "{reasoning}\n",
            "\n",
            "[[ ## response ## ]]\n",
            "{response}\n",
            "\n",
            "[[ ## completed ## ]]\n",
            "\n",
            "In adhering to this structure, your objective is: \n",
            "        Given the fields `context`, `question`, produce the fields `response`.\n",
            "\n",
            "\n",
            "\u001b[31mUser message:\u001b[0m\n",
            "\n",
            "[[ ## context ## ]]\n",
            "[1] «««\n",
            "    Rental fees for non-subsidised apartments rose across most of Finland during April to June, compared to the same period a year ago, according to data from Statistics Finland. \n",
            "     On average, rents rose by 0.9 percent during that period across the country. \n",
            "     Timo Metsola , board chair of rental agency Vuokraturva, attributed the increase to growing demand, saying that competition clearly intensified for the most desirable properties. \n",
            "     The sharpest rise in apartment rents during the April-June period was seen in the city of Turku, where costs rose by 1.6 percent, with the city of Tampere seeing an increase of 1.4 percent. \n",
            "     Meanwhile in the Greater Helsinki area, rents ticked up by 0.9 percent. \n",
            "     Among the country's municipal centres, the town of Mikkeli was the only area which saw rental fees decline. \n",
            "     Still priciest in Helsinki area \n",
            "     The number-crunching agency reported that the median rent for a studio apartment in central Helsinki was 809 euros per month, while they stood at 583 euros in downtown Tampere and 515 euros in the centre of Oulu. \n",
            "     Meanwhile, larger homes, for example three-room apartments cost a median of 1,634 in downtown Helsinki, 1,070 euros in Tampere and 940 euros in Oulu. \n",
            "     Metsola said that new students began searching for places to live towards the end of July, but noted that there were fewer young flat hunters this summer than in years before the coronavirus crisis. \n",
            "     \"The pandemic has increased distance learning, and only some educational institutions are planning to conduct in-person teaching when the academic year gets started this autumn,\" he said, explaining that fewer new students will start renting, compared to pre-crisis years.\n",
            "»»»\n",
            "[2] «««\n",
            "    There are more than twice as many flats available for rent in Helsinki now than there were before the Covid pandemic, though larger landlords are not yet slashing rents. \n",
            "     Tenants had been expected to return to the market as Finland puts Covid restrictions behind it, but at least in the capital city region it is taking longer and longer to find people to take rental properties. \n",
            "     \"Before, the marketing time in Helsinki was clearly shorter than in the rest of the country, but now it is longer,\" said  Juhana Brotherus  of housing lender Hypo. \"There has never been this range of properties available or this much power for those looking to rent.\" \n",
            "     The biggest increase in availability has occurred in Espoo, where Brotherus said there are three times more rental properties on the market as in autumn 2019. \n",
            "     In Helsinki there are twice as many flats available. \n",
            "     Story continues after graphic \n",
            "     Capital region market recovers more slowly \n",
            "     It's not that the flats aren't good enough for the tenants, according to  Henrik Laakkonen  from rental website Vuokraovi.com. \n",
            "     \"Demand has not dropped, but supply has risen faster,\" Laakkonen explained. \n",
            "     If you're looking for a flat, this is good news. There's lots of choice, and you may find there are better apartments within your budget than you'd expect. The most popular flats at the moment on Vuokraovi are one-bedroom apartments, and there are more of them on the service than other kinds of flat. \n",
            "     Landlords are having to compete for good tenants, according to The Finnish Landlord Association. \n",
            "     \"It is still difficult to find a tenant in the capital city region,\" said  Sakari Rokkanen  from the association. \"Elsewhere in Finland there have been positive signals during summer and autumn about demand returning to the market, but that progress has been slower in the capital city region.\" \n",
            "     Plenty to rent on the market \n",
            "     Supply has swelled during the pandemic as Airbnb and other short-term landlords have seen traveller numbers decimated, causing them to switch to the normal rental market instead. \n",
            "     According to Rokkanen, that accounts for an increase of around 1,000 properties on the market in Helsinki. \n",
            "     Story continues after graphic \n",
            "     Short-term rentals represent a bigger chunk of the market in Helsinki than elsewhere. Travellers have still not returned to pre-pandemic numbers. \n",
            "     \"The situation for the travel, restaurant and culture sectors has been weak and work has not attracted new residents to Helsinki or the Helsinki region in the same way as before,\" said Rokkanen. \n",
            "     But he said he does not believe this situation will last for long. \n",
            "     \"Property prices give some indication that there is belief in Helsinki, although at this point neither the employment situation nor the kind of day to day life that shows the city at its best are on offer,\" said Rokkanen. \n",
            "     Brotherus agrees. In the short term property prices may have risen too much, but in the long run they might not have risen enough. \n",
            "     \"Especially in Espoo and Vantaa there are now compact rental apartments under construction, for which there is definitely demand and a need in the long run,\" said Brotherus. \"They won't be filled quickly, however, especially in a situation where the service and travel sectors are still facing big difficulties.\" \n",
            "     Are rents set to fall? \n",
            "     When supply outstrips demand, prices can be expected to drop. That's not yet evident in the statistics on rent levels, although there are hints that the rise in rents has stopped. \n",
            "     Story continues after graphic \n",
            "     According to Statistics Finland rents rose 0.9 percent in the capital city region and around one percent in the rest of Finland, compared to a year earlier. The steepest rise was in Turku, where rents jumped 1.7 percent, and in Tampere, where they rose 1.5 percent. \n",
            "     Brotherus said this doesn't tell the whole truth, however. \n",
            "     Statistics Finland figures only include rents received by large institutional landlords, and those paid by housing benefit. Private individu\n",
            "»»»\n",
            "[3] «««\n",
            "    Mari Laaksonen 's driving style quickly reveals that she has driven in Helsinki city centre for more than 20 years. \n",
            "     In a blink of an eye she spots the first empty space after 10 minutes driving around, and smoothly parallel parks into it. \n",
            "     \"The latest joke is the cycle racks placed in parking spaces by the city! Then you lose two parking places per section of street,\" said Laaksonen. \n",
            "     Laaksonen owns a cleaning firm, CleanMarin, whose customers are mostly located in the city centre. \n",
            "     The firm's cars move from one location to the next, so finding a space is almost a second profession for her workers. \n",
            "     \"A company parking permit costs 740 euro per year,\" said Laaksonen. \"The permit means that you have the right to park on the street — it doesn't mean there will be a space for you to park in.\" \n",
            "     Laaksonen does not just speak for her own firm — she is also chair of the Helsinki chapter of the Federation of Finnish Enterprises. \n",
            "     The organisation conducted a members' survey this autumn, in which firms were found to be particularly concerned about the lack of on-street parking and the prices they pay to use it. \n",
            "     The survey asked around a hundred firms operating in the city centre for their opinions on parking. Some 80 percent said that there are not enough short-stay parking spaces above ground in the district. More than 70 percent of respondents said parking is too expensive on weekdays. \n",
            "     Hundreds of spaces disappear in the city centre \n",
            "     Dozens of spaces have disappeared from the city centre, especially around roadworks in the Kruununhaka district. \n",
            "     In addition, new tram lines in western Helsinki also require space currently taken up by parked cars. Some 180 spaces are set to disappear thanks to the tram works in the coming years. \n",
            "     Other spaces are to be removed on Fredrikinkatu, Runeberginkatu, Topeliuksenkatu and Nordenskiöldinkatu. \n",
            "     There is a shortage of space in the city, according to Helsinki's head of transport and street planning,  Reetta Putkonen . \n",
            "     \"If we were able to put cars underground, we could use the street space for city-dwellers' other needs,\" said Putkonen. \n",
            "     Parking prices set by supply and demand \n",
            "     The city of Helsinki has this autumn prepared a plan for parking charges, to be presented to political decision-makers in the spring. \n",
            "     The main principle behind the plan is the law of supply and demand, with the price determined by how many people want to use the space. \n",
            "     \"Through pricing we are better able to free up space for short-stay parking, which is important for those with business to conduct in the city,\" said Putkonen. \n",
            "     According to the plan, the price of a resident's parking permit could rise to 90 euros per month, and 93 euros per month for company parking. \n",
            "     That's three times more than the current 30 euros per month. \n",
            "     If the maximum annual increase in parking prices is implemented, the price of parking on the street will rise above seven euros per hour in the most desirable spots. \n",
            "     The new plan means that prices could change as often as once a month once the real-time pricing strategy kicks in.\n",
            "»»»\n",
            "[4] «««\n",
            "    Finland's GDP saw a 4.2 percent growth during July–September compared to the same period last year, according to the latest data from Statistics Finland. \n",
            "     GDP volume increased by 0.8 percent over the previous quarter. Foreign trade was especially strong, with exports growing by 9.4 percent in July–September compared to the same period last year. \n",
            "     Private consumption also drove economic growth, with a 1.3 percent increase from the previous quarter and a 3.1 percent increase over the past year. \n",
            "     However, investments fell by 3.1 percent from the previous quarter and by 0.3 per cent in the last twelve months. \n",
            "     According to recently revised data, Finland's GDP grew by 8.2 percent between April and June compared to the same quarter last year. \n",
            "     Property prices rose 3.6%  \n",
            "     Statistics Finland also found that the prices of old dwellings in housing companies saw a 3.6 percent increase this October compared to the previous year. \n",
            "     Old dwellings refer to properties that have been completed at least two years before the statistical reference year. \n",
            "     October saw a 1.1 percent increase in property prices across Finland compared to September. Prices increased in all major cities and regions except for Eastern Finland and smaller municipalities in the Helsinki metropolitan area. \n",
            "     Helsinki and Tampere recorded the highest jump in prices since last year. The cost of real estate increased by 6.9 percent in Helsinki and 4.9 percent in Tampere this October compared to the same time last year. \n",
            "     Espoo, Kauniainen, Turku and Oulu also saw a price rise of more than four percent this year. \n",
            "     Meanwhile, since 2015, property prices have risen by more than 28 percent in Helsinki and by nearly 19 percent in Tampere. \n",
            "     The cost of homes went up the most in southern and northern Finland—an increase of 4.2 percent each since last year. \n",
            "     In contrast, prices declined by 1.9 percent in Eastern Finland and 0.9 percent in satellite towns or smaller municipalities in the Helsinki metropolitan area. \n",
            "     While property prices have remained nearly unchanged in northern and western Finland since 2015, they increased by almost one-sixth in southern Finland. In Eastern Finland, on the other hand, prices have fallen by one-fifth. \n",
            "     Property sales increased  \n",
            "     Preliminary data from Statistics Finland indicate that property sales have picked up following a slump in the housing market caused by the Covid-19 shutdown in spring 2020. \n",
            "     Property purchases across the country grew by nearly 45 percent in the second quarter of this year compared to the same period last year. \n",
            "     Sales in key cities, including Helsinki, Espoo, Tampere, Vantaa, Oulu and Turku, rose by 41 percent in the second quarter of 2021, while smaller towns and municipalities saw a 49 percent increase. \n",
            "     The value of property sales during the first half of this year amounted to 10.5 billion euros, a 39 percent increase over the past year. \n",
            "     Additionally, the total value of home sales saw a 60 percent growth in the second quarter of 2021 compared to the previous year.\n",
            "»»»\n",
            "[5] «««\n",
            "    Some 100,000 people in the capital region are unvaccinated, according to  Helsingin Sanomat . Public health institute THL's figures show that people under 40 make up the majority of this group. \n",
            "     Residents with foreign backgrounds less likely to be vaccinated against Covid than native Finns,  Lasse Lehtonen , Director of Diagnostics at the Helsinki and Uusimaa hospital district (HUS), told the paper. \n",
            "     The most common foreign languages in the Helsinki region are Russian, Estonian, Somali and Arabic. \n",
            "     HS notes that among all population groups, lower levels of education correspond to vaccine hesitancy. Lehtonen noted that Russian-language propaganda criticises western Covid vaccines. \n",
            "     A recent survey by FARO, an organisation for Russian speakers in Finland, found that 70 percent of respondents were suspicious of Covid vaccines. \n",
            "     Cold and pricey winter \n",
            "     Winter is only beginning but business daily  Kauppalehti  says electricity prices will remain high for months to come—until spring. \n",
            "     Finland has been paying exceptionally high power prices for the past 23 days, with wholesale prices exceeding 100 euros per megawatt hour. That number is expected to come down to 60 euros next April or May. \n",
            "     The situation is squeezing small businesses. KL notes that an agricultural producer in North Savo already said it would stop its power-hungry endeavour of growing cucumbers this winter and was also laying off staff as it struggled to pay for electricity. \n",
            "     Mika Kuismanen , Chief Economist at the Federation of Finnish Enterprises, said the country's energy production capacity will improve next year when  Olkiluoto 3 , Finland's fifth commercial nuclear reactor, is expected to start up. \n",
            "     \"But that's in the future and it gives us some hope. Before that we have to get through this winter and the bills that come with it,\" Kuismanen told KL. \n",
            "     House hunting while foreign \n",
            "     Finland has approved all real estate purchase applications submitted by foreign residents in the past two years, reports  Hufvudstadsbladet . \n",
            "     Since the start of 2020, individuals who are not EU or EEA nationals have  needed to get a permit  from the government to buy property. \n",
            "     The Defence Ministry has so far approved 1,059 such real estate purchases. \n",
            "     Rules on foreign property ownership in Finland changed following  a major police operation near Turku  that focused on a Russian-owned firm suspected of money laundering. The government said it wanted to have the right to intervene in transactions that it believed could jeopardise national security.\n",
            "»»»\n",
            "\n",
            "[[ ## question ## ]]\n",
            "What is the average rent in Helsinki?\n",
            "\n",
            "Respond with the corresponding output fields, starting with the field `[[ ## reasoning ## ]]`, then `[[ ## response ## ]]`, and then ending with the marker for `[[ ## completed ## ]]`.\n",
            "\n",
            "\n",
            "\u001b[31mResponse:\u001b[0m\n",
            "\n",
            "\u001b[32m[[ ## reasoning ## ]]\n",
            "The context provides specific figures for rental prices in Helsinki. It states that the median rent for a studio apartment in central Helsinki is 809 euros per month. Additionally, it mentions that larger homes, such as three-room apartments, have a median rent of 1,634 euros in downtown Helsinki. Therefore, the average rent can be inferred from these figures, particularly focusing on the studio apartment as a common rental type.\n",
            "\n",
            "[[ ## response ## ]]\n",
            "The average rent for a studio apartment in central Helsinki is 809 euros per month.\n",
            "\n",
            "[[ ## completed ## ]]\u001b[0m\n",
            "\n",
            "\n",
            "\n",
            "\n",
            "\n"
          ]
        }
      ]
    }
  ]
}