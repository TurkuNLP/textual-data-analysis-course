{
  "nbformat": 4,
  "nbformat_minor": 0,
  "metadata": {
    "colab": {
      "provenance": [],
      "authorship_tag": "ABX9TyMQQZS26Ide7yi5n+p2NYa5",
      "include_colab_link": true
    },
    "kernelspec": {
      "name": "python3",
      "display_name": "Python 3"
    },
    "language_info": {
      "name": "python"
    },
    "accelerator": "GPU",
    "gpuClass": "standard"
  },
  "cells": [
    {
      "cell_type": "markdown",
      "metadata": {
        "id": "view-in-github",
        "colab_type": "text"
      },
      "source": [
        "<a href=\"https://colab.research.google.com/github/TurkuNLP/textual-data-analysis-course/blob/main/tda_2023_exercises_4_1_template.ipynb\" target=\"_parent\"><img src=\"https://colab.research.google.com/assets/colab-badge.svg\" alt=\"Open In Colab\"/></a>"
      ]
    },
    {
      "cell_type": "markdown",
      "source": [
        "# Template for task 1 of the 4th set of exercises\n",
        "\n",
        "## Setup"
      ],
      "metadata": {
        "id": "OHEESt-s0yAq"
      }
    },
    {
      "cell_type": "code",
      "execution_count": 1,
      "metadata": {
        "id": "86WPv6wgocPL"
      },
      "outputs": [],
      "source": [
        "!pip install --quiet transformers datasets evaluate seqeval"
      ]
    },
    {
      "cell_type": "code",
      "source": [
        "import transformers\n",
        "import datasets\n",
        "import evaluate"
      ],
      "metadata": {
        "id": "iWSOVq2000jj"
      },
      "execution_count": 2,
      "outputs": []
    },
    {
      "cell_type": "markdown",
      "source": [
        "---\n",
        "\n",
        "Load dataset"
      ],
      "metadata": {
        "id": "A9j7JqM607T2"
      }
    },
    {
      "cell_type": "code",
      "source": [
        "# TODO"
      ],
      "metadata": {
        "id": "EyKKG1_O1K16"
      },
      "execution_count": 3,
      "outputs": []
    },
    {
      "cell_type": "markdown",
      "source": [
        "For faster evaluation, optionally downsample to a random subset"
      ],
      "metadata": {
        "id": "UFTuGnt41T0h"
      }
    },
    {
      "cell_type": "code",
      "source": [
        "# TODO; use e.g. `shuffle(seed=42).select(range(500))`"
      ],
      "metadata": {
        "id": "_2lm2__o1YWo"
      },
      "execution_count": 4,
      "outputs": []
    },
    {
      "cell_type": "markdown",
      "source": [
        "---\n",
        "\n",
        "Instantiate pipeline with a fine-tuned NER model"
      ],
      "metadata": {
        "id": "dvlXd4Zw1My5"
      }
    },
    {
      "cell_type": "code",
      "source": [
        "# TODO: `pipeline = ...`"
      ],
      "metadata": {
        "id": "36j5LVYNorCO"
      },
      "execution_count": 5,
      "outputs": []
    },
    {
      "cell_type": "markdown",
      "source": [
        "---\n",
        "\n",
        "Instantiate NER evaluator"
      ],
      "metadata": {
        "id": "p6SNeJyj1pgr"
      }
    },
    {
      "cell_type": "code",
      "source": [
        "# TODO: `evaluator = ...`"
      ],
      "metadata": {
        "id": "VtFl8Zojove2"
      },
      "execution_count": 6,
      "outputs": []
    },
    {
      "cell_type": "markdown",
      "source": [
        "---\n",
        "\n",
        "Run evaluator using pipeline and data"
      ],
      "metadata": {
        "id": "tjAnaiJQ1tsQ"
      }
    },
    {
      "cell_type": "code",
      "source": [
        "# TODO:\n",
        "# ```\n",
        "# eval_results = evaluator.compute(\n",
        "#     model_or_pipeline=...,\n",
        "#     data=...,\n",
        "# )\n",
        "# ```"
      ],
      "metadata": {
        "id": "S5l89Hs2pe4T"
      },
      "execution_count": 7,
      "outputs": []
    },
    {
      "cell_type": "markdown",
      "source": [
        "---\n",
        "\n",
        "Print evaluation results"
      ],
      "metadata": {
        "id": "g5o7AxNr1z7Y"
      }
    },
    {
      "cell_type": "code",
      "source": [
        "# TODO"
      ],
      "metadata": {
        "id": "PcmYAGqUqbm8"
      },
      "execution_count": 8,
      "outputs": []
    }
  ]
}