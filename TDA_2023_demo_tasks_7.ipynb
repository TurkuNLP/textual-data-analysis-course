{
  "nbformat": 4,
  "nbformat_minor": 0,
  "metadata": {
    "colab": {
      "provenance": [],
      "authorship_tag": "ABX9TyPT1/aUsISBL1EB39Z/t7FI",
      "include_colab_link": true
    },
    "kernelspec": {
      "name": "python3",
      "display_name": "Python 3"
    },
    "language_info": {
      "name": "python"
    }
  },
  "cells": [
    {
      "cell_type": "markdown",
      "metadata": {
        "id": "view-in-github",
        "colab_type": "text"
      },
      "source": [
        "<a href=\"https://colab.research.google.com/github/TurkuNLP/textual-data-analysis-course/blob/main/TDA_2023_demo_tasks_7.ipynb\" target=\"_parent\"><img src=\"https://colab.research.google.com/assets/colab-badge.svg\" alt=\"Open In Colab\"/></a>"
      ]
    },
    {
      "cell_type": "markdown",
      "source": [
        "# Tasks for the 7th set of exercises\n",
        "\n",
        "This week we considered information extraction tasks, including relation extraction. In this exercise, we will explore a specific relation extraction task in practice.\n",
        "\n",
        "1. SemEval-2010 Task 8, _Multi-Way Classification of Semantic Relations Between Pairs of Nominals_, introduced a relation classification task and an associated manually annotated dataset. Briefly familiarize yourself with the [paper presenting the task](https://aclanthology.org/S10-1006.pdf) and a [JSONL version of the task training data](https://github.com/TurkuNLP/textual-data-analysis-course/blob/main/semeval_2010_task8_train.jsonl). How would you approach the task using one of the methods introduced on this course?\n",
        "\n",
        "2. Implement a supervised machine learning approach to address SemEval-2010 Task 8. If you like, you can build on the code introduced in the [text classification notebook](https://github.com/TurkuNLP/textual-data-analysis-course/blob/main/text_classification_basic_example.ipynb). You can evaluate classification performance using accuracy or micro-averaged $F_1$ score. What is the best performance you can achieve? How does this relate to results reported in the original shared task?\n",
        "\n",
        "Hint: You can make use of the [`Dataset.from_json`](https://huggingface.co/docs/datasets/package_reference/main_classes#datasets.Dataset.from_json) function in the `datasets` library to load JSONL-formatted data."
      ],
      "metadata": {
        "id": "6fbLXQmdO8I0"
      }
    }
  ]
}